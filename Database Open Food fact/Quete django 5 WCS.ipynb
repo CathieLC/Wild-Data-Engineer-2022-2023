{
 "cells": [
  {
   "cell_type": "code",
   "execution_count": 5,
   "metadata": {},
   "outputs": [
    {
     "name": "stdout",
     "output_type": "stream",
     "text": [
      "{'code': '3048431001910', 'product': {'_id': '3048431001910', '_keywords': ['eaux', 'ajoute', 'frankrijk', 'minerale', 'naturelle', 'nutriscore', 'vittel', 'source', 'boisson', 'san', 'de', 'eau', 'sucre'], 'added_countries_tags': [], 'additives_debug_tags': [], 'additives_n': 0, 'additives_old_n': 0, 'additives_old_tags': [], 'additives_original_tags': [], 'additives_prev_original_tags': [], 'additives_tags': [], 'allergens': '', 'allergens_from_ingredients': '', 'allergens_from_user': '(fr) ', 'allergens_hierarchy': [], 'allergens_lc': 'fr', 'allergens_tags': [], 'amino_acids_prev_tags': [], 'amino_acids_tags': [], 'brands': 'Vittel', 'brands_tags': ['vittel'], 'categories': 'Boissons, Eaux, Eaux de sources, Eaux minérales, Eaux minérales naturelles, Boissons sans sucre ajouté', 'categories_hierarchy': ['en:beverages', 'en:waters', 'en:spring-waters', 'en:mineral-waters', 'en:natural-mineral-waters', 'en:unsweetened-beverages'], 'categories_lc': 'fr', 'categories_old': 'Boissons, Eaux, Eaux de sources, Eaux minérales, Eaux minérales naturelles, Boissons sans sucre ajouté', 'categories_properties': {'agribalyse_food_code:en': '18430', 'agribalyse_proxy_food_code:en': '76000', 'ciqual_food_code:en': '18044'}, 'categories_properties_tags': ['all-products', 'categories-known', 'agribalyse-food-code-18430', 'agribalyse-food-code-known', 'agribalyse-proxy-food-code-76000', 'agribalyse-proxy-food-code-known', 'ciqual-food-code-18044', 'ciqual-food-code-known', 'agribalyse-known', 'agribalyse-18430'], 'categories_tags': ['en:beverages', 'en:waters', 'en:spring-waters', 'en:mineral-waters', 'en:natural-mineral-waters', 'en:unsweetened-beverages'], 'category_properties': {'ciqual_food_name:en': 'Water, mineral, bottled -average-', 'ciqual_food_name:fr': 'Eau minérale -aliment moyen-'}, 'checkers_tags': [], 'ciqual_food_name_tags': ['water-mineral-bottled-average'], 'cities_tags': [], 'code': '3048431001910', 'codes_tags': ['code-13', '3048431001xxx', '304843100xxxx', '30484310xxxxx', '3048431xxxxxx', '304843xxxxxxx', '30484xxxxxxxx', '3048xxxxxxxxx', '304xxxxxxxxxx', '30xxxxxxxxxxx', '3xxxxxxxxxxxx'], 'compared_to_category': 'en:unsweetened-beverages', 'complete': 0, 'completeness': 0.9875, 'correctors_tags': ['phoenix', 'yuka.UnZ3ZEhLSWNsc0V5cWRzVSswTHZ5STF3eUtYeWVVNnRHOGNKSWc9PQ', 'yuka.ZExoUUxKVVpxY01Yby9ZczRrdnovY3h4NnJMeVpYcXRMZTRjSVE9PQ', 'yuka.VDZBZkFaVXJ2LzhKa3ZZTzlSR0w4K3hIM1ovM2QxaVZML2d4SUE9PQ', 'yuka.YXE0ZUxQdFpndEkwbC9NdjdDM1E1T0o1M3NPc1JsS21FZmdSSVE9PQ', 'yuka.V2I0S01MWWxxZklzcDgwUTFTMzBwOHQvMTd6M0IxcVFCKzhRSWc9PQ', 'yuka.WjQ0S0Zwb0tnYWdnaFBGZy9CN284TXdxbk02UVJsMjBBdTg3SUE9PQ', 'date-limite-app', 'openfoodfacts-contributors', 'aleene', 'scanbot', 'packbot', 'kawikiwi', 'inf', 'annelotte'], 'countries': 'Belgique,France', 'countries_beforescanbot': 'France', 'countries_hierarchy': ['en:belgium', 'en:france'], 'countries_lc': 'fr', 'countries_tags': ['en:belgium', 'en:france'], 'created_t': 1376847434, 'creator': 'openfoodfacts-contributors', 'data_quality_bugs_tags': [], 'data_quality_errors_tags': [], 'data_quality_info_tags': ['en:packaging-data-incomplete', 'en:ingredients-percent-analysis-ok', 'en:all-but-one-ingredient-with-specified-percent', 'en:ecoscore-extended-data-not-computed', 'en:food-groups-1-known', 'en:food-groups-2-known', 'en:food-groups-3-unknown'], 'data_quality_tags': ['en:packaging-data-incomplete', 'en:ingredients-percent-analysis-ok', 'en:all-but-one-ingredient-with-specified-percent', 'en:ecoscore-extended-data-not-computed', 'en:food-groups-1-known', 'en:food-groups-2-known', 'en:food-groups-3-unknown', 'en:ingredients-fr-ending-comma', 'en:ingredients-en-ending-comma', 'en:nutrition-value-under-0-01-g-salt'], 'data_quality_warnings_tags': ['en:ingredients-fr-ending-comma', 'en:ingredients-en-ending-comma', 'en:nutrition-value-under-0-01-g-salt'], 'data_sources': 'App - yuka, Apps, App - InFood, App - smoothie-openfoodfacts', 'data_sources_tags': ['app-yuka', 'apps', 'app-infood', 'app-smoothie-openfoodfacts'], 'debug_param_sorted_langs': ['fr', 'en'], 'ecoscore_data': {'adjustments': {}, 'ecoscore_not_applicable_for_category': 'en:waters', 'scores': {}, 'status': 'unknown'}, 'ecoscore_grade': 'not-applicable', 'ecoscore_tags': ['not-applicable'], 'editors': ['', 'emmyjeannot', 'phoenix'], 'editors_tags': ['kawikiwi', 'yuka.V2I0S01MWWxxZklzcDgwUTFTMzBwOHQvMTd6M0IxcVFCKzhRSWc9PQ', 'yuka.UnZ3ZEhLSWNsc0V5cWRzVSswTHZ5STF3eUtYeWVVNnRHOGNKSWc9PQ', 'inf', 'openfoodfacts-contributors', 'yuka.YXE0ZUxQdFpndEkwbC9NdjdDM1E1T0o1M3NPc1JsS21FZmdSSVE9PQ', 'yuka.UmFjYkViNDZyT0lTeHNJZ3dEYnN4dHg0bjRhbWRqcUpjdllCSWc9PQ', 'phoenix', 'emmyjeannot', 'packbot', 'scanbot', 'annelotte', 'yuka.WHFsZE42dGZtL0FydnM4ZTFSM1IvdDVWd1orRWZFS01OODBmSWc9PQ', 'yuka.VDZBZkFaVXJ2LzhKa3ZZTzlSR0w4K3hIM1ovM2QxaVZML2d4SUE9PQ', 'date-limite-app', 'yuka.UVpBS0lxZy9sNkFYd2RnL29VakoxZHRSNEtLdWZGN3NKY3c4SVE9PQ', 'yuka.WjQ0S0Zwb0tnYWdnaFBGZy9CN284TXdxbk02UVJsMjBBdTg3SUE9PQ', 'yuka.YkljT0NLMFF1OXNidGNVMzV6bnk4OHhKeUxtbVVIS0pEOVFhSVE9PQ', 'yuka.ZExoUUxKVVpxY01Yby9ZczRrdnovY3h4NnJMeVpYcXRMZTRjSVE9PQ', 'aleene'], 'emb_codes': '', 'emb_codes_20141016': '', 'emb_codes_orig': '', 'emb_codes_tags': [], 'entry_dates_tags': ['2013-08-18', '2013-08', '2013'], 'expiration_date': '07/2017', 'food_groups': 'en:unsweetened-beverages', 'food_groups_tags': ['en:beverages', 'en:unsweetened-beverages'], 'generic_name': 'Eau minérale naturelle', 'generic_name_en': '', 'generic_name_fr': 'Eau minérale naturelle', 'id': '3048431001910', 'image_front_small_url': 'https://images.openfoodfacts.org/images/products/304/843/100/1910/front_fr.7.200.jpg', 'image_front_thumb_url': 'https://images.openfoodfacts.org/images/products/304/843/100/1910/front_fr.7.100.jpg', 'image_front_url': 'https://images.openfoodfacts.org/images/products/304/843/100/1910/front_fr.7.400.jpg', 'image_ingredients_small_url': 'https://images.openfoodfacts.org/images/products/304/843/100/1910/ingredients_fr.8.200.jpg', 'image_ingredients_thumb_url': 'https://images.openfoodfacts.org/images/products/304/843/100/1910/ingredients_fr.8.100.jpg', 'image_ingredients_url': 'https://images.openfoodfacts.org/images/products/304/843/100/1910/ingredients_fr.8.400.jpg', 'image_nutrition_small_url': 'https://images.openfoodfacts.org/images/products/304/843/100/1910/nutrition_fr.9.200.jpg', 'image_nutrition_thumb_url': 'https://images.openfoodfacts.org/images/products/304/843/100/1910/nutrition_fr.9.100.jpg', 'image_nutrition_url': 'https://images.openfoodfacts.org/images/products/304/843/100/1910/nutrition_fr.9.400.jpg', 'image_small_url': 'https://images.openfoodfacts.org/images/products/304/843/100/1910/front_fr.7.200.jpg', 'image_thumb_url': 'https://images.openfoodfacts.org/images/products/304/843/100/1910/front_fr.7.100.jpg', 'image_url': 'https://images.openfoodfacts.org/images/products/304/843/100/1910/front_fr.7.400.jpg', 'images': {'1': {'sizes': {'100': {'h': 100, 'w': 75}, '400': {'h': 400, 'w': 300}, 'full': {'h': 3264, 'w': 2448}}, 'uploaded_t': 1376847786, 'uploader': 'emmyjeannot'}, '2': {'sizes': {'100': {'h': 100, 'w': 75}, '400': {'h': 400, 'w': 300}, 'full': {'h': 2666, 'w': 2000}}, 'uploaded_t': '1448624039', 'uploader': 'phoenix'}, '3': {'sizes': {'100': {'h': 100, 'w': 75}, '400': {'h': 400, 'w': 300}, 'full': {'h': 2666, 'w': 2000}}, 'uploaded_t': '1448624064', 'uploader': 'phoenix'}, '5': {'sizes': {'100': {'h': 100, 'w': 75}, '400': {'h': 400, 'w': 300}, 'full': {'h': 4032, 'w': 3024}}, 'uploaded_t': 1549664004, 'uploader': 'openfoodfacts-contributors'}, 'front': {'geometry': '1007x2613-561-6', 'imgid': '2', 'normalize': 'false', 'rev': '7', 'sizes': {'100': {'h': 100, 'w': 39}, '200': {'h': 200, 'w': 77}, '400': {'h': 400, 'w': 154}, 'full': {'h': 2613, 'w': 1007}}, 'white_magic': 'false'}, 'front_fr': {'geometry': '1007x2613-561-6', 'imgid': '2', 'normalize': 'false', 'rev': '7', 'sizes': {'100': {'h': 100, 'w': 39}, '200': {'h': 200, 'w': 77}, '400': {'h': 400, 'w': 154}, 'full': {'h': 2613, 'w': 1007}}, 'white_magic': 'false'}, 'ingredients': {'geometry': '1547x633-348-685', 'imgid': '3', 'normalize': 'false', 'rev': '8', 'sizes': {'100': {'h': 41, 'w': 100}, '200': {'h': 82, 'w': 200}, '400': {'h': 164, 'w': 400}, 'full': {'h': 633, 'w': 1547}}, 'white_magic': 'false'}, 'ingredients_fr': {'geometry': '1547x633-348-685', 'imgid': '3', 'normalize': 'false', 'rev': '8', 'sizes': {'100': {'h': 41, 'w': 100}, '200': {'h': 82, 'w': 200}, '400': {'h': 164, 'w': 400}, 'full': {'h': 633, 'w': 1547}}, 'white_magic': 'false'}, 'nutrition': {'geometry': '1740x866-201-1278', 'imgid': '3', 'normalize': 'false', 'rev': '9', 'sizes': {'100': {'h': 50, 'w': 100}, '200': {'h': 100, 'w': 200}, '400': {'h': 199, 'w': 400}, 'full': {'h': 866, 'w': 1740}}, 'white_magic': 'false'}, 'nutrition_fr': {'geometry': '1740x866-201-1278', 'imgid': '3', 'normalize': 'false', 'rev': '9', 'sizes': {'100': {'h': 50, 'w': 100}, '200': {'h': 100, 'w': 200}, '400': {'h': 199, 'w': 400}, 'full': {'h': 866, 'w': 1740}}, 'white_magic': 'false'}}, 'informers_tags': ['emmyjeannot', 'phoenix', 'yuka.UnZ3ZEhLSWNsc0V5cWRzVSswTHZ5STF3eUtYeWVVNnRHOGNKSWc9PQ', 'yuka.WHFsZE42dGZtL0FydnM4ZTFSM1IvdDVWd1orRWZFS01OODBmSWc9PQ', 'openfoodfacts-contributors', 'inf', 'kawikiwi', 'annelotte'], 'ingredients': [{'id': 'en:natural-mineral-water', 'percent_estimate': 100, 'percent_max': 100, 'percent_min': 100, 'rank': 1, 'text': 'Eau minérale naturelle', 'vegan': 'yes', 'vegetarian': 'yes'}], 'ingredients_analysis': {}, 'ingredients_analysis_tags': ['en:palm-oil-free', 'en:vegan', 'en:vegetarian'], 'ingredients_debug': ['Eau minérale naturelle', '. ', None, None, None, 'Résidu sec à 180°C ', ':', ':', None, None, ' 1084 mg', '/', None, None, '/', 'L'], 'ingredients_from_or_that_may_be_from_palm_oil_n': 0, 'ingredients_from_palm_oil_n': 0, 'ingredients_from_palm_oil_tags': [], 'ingredients_hierarchy': ['en:natural-mineral-water', 'en:water', 'en:mineral-water'], 'ingredients_ids_debug': ['eau-minerale-naturelle', 'residu-sec-a-180-c', '1084-mg', 'l'], 'ingredients_n': 1, 'ingredients_n_tags': ['1', '1-10'], 'ingredients_original_tags': ['en:natural-mineral-water'], 'ingredients_percent_analysis': 1, 'ingredients_tags': ['en:natural-mineral-water', 'en:water', 'en:mineral-water'], 'ingredients_text': 'natural mineral water,', 'ingredients_text_debug': 'Eau minérale naturelle. Résidu sec à 180°C : 1084 mg/L', 'ingredients_text_en': 'natural mineral water,', 'ingredients_text_fr': 'Eau minérale naturelle,', 'ingredients_text_with_allergens': 'Eau minérale naturelle,', 'ingredients_text_with_allergens_en': 'natural mineral water,', 'ingredients_text_with_allergens_fr': 'Eau minérale naturelle,', 'ingredients_that_may_be_from_palm_oil_n': 0, 'ingredients_that_may_be_from_palm_oil_tags': [], 'ingredients_with_specified_percent_n': 0, 'ingredients_with_specified_percent_sum': 0, 'ingredients_with_unspecified_percent_n': 1, 'ingredients_with_unspecified_percent_sum': 100, 'interface_version_created': '20120622', 'interface_version_modified': '20150316.jqm2', 'known_ingredients_n': 3, 'labels': 'Nutriscore, Nutriscore A', 'labels_hierarchy': ['en:nutriscore', 'en:nutriscore-grade-a'], 'labels_lc': 'fr', 'labels_old': 'nl:Nutriscore,nl:Nutriscore A', 'labels_tags': ['en:nutriscore', 'en:nutriscore-grade-a'], 'lang': 'fr', 'languages': {'en:english': 1, 'en:french': 6}, 'languages_codes': {'en': 1, 'fr': 6}, 'languages_hierarchy': ['en:french', 'en:english'], 'languages_tags': ['en:french', 'en:english', 'en:2', 'en:multilingual'], 'last_edit_dates_tags': ['2022-10-23', '2022-10', '2022'], 'last_editor': 'annelotte', 'last_image_dates_tags': ['2019-02-08', '2019-02', '2019'], 'last_image_t': 1549664005, 'last_modified_by': 'annelotte', 'last_modified_t': 1666522758, 'lc': 'fr', 'link': '', 'main_countries_tags': [], 'manufacturing_places': '', 'manufacturing_places_tags': [], 'max_imgid': '5', 'minerals_prev_tags': [], 'minerals_tags': [], 'misc_tags': ['en:nutrition-fruits-vegetables-nuts-estimate-from-ingredients', 'en:nutrition-all-nutriscore-values-known', 'en:nutriscore-computed', 'en:ecoscore-not-computed', 'en:ecoscore-extended-data-not-computed', 'en:ecoscore-not-applicable'], 'new_additives_n': 0, 'no_nutrition_data': '', 'nova_group': 1, 'nova_group_debug': '', 'nova_groups': '1', 'nova_groups_markers': {}, 'nova_groups_tags': ['en:1-unprocessed-or-minimally-processed-foods'], 'nucleotides_prev_tags': [], 'nucleotides_tags': [], 'nutrient_levels': {'fat': 'low', 'salt': 'low', 'saturated-fat': 'low', 'sugars': 'low'}, 'nutrient_levels_tags': ['en:fat-in-low-quantity', 'en:saturated-fat-in-low-quantity', 'en:sugars-in-low-quantity', 'en:salt-in-low-quantity'], 'nutriments': {'bicarbonate': 0.0384, 'bicarbonate_100g': 0.0384, 'bicarbonate_label': 'Bicarbonate', 'bicarbonate_unit': 'mg', 'bicarbonate_value': 38.4, 'calcium': 0.024, 'calcium_100g': 0.024, 'calcium_label': 'Calcium', 'calcium_unit': 'mg', 'calcium_value': 24, 'carbohydrates': 0, 'carbohydrates_100g': 0, 'carbohydrates_unit': 'g', 'carbohydrates_value': 0, 'energy': 0, 'energy-kcal': 0, 'energy-kcal_100g': 0, 'energy-kcal_unit': 'kcal', 'energy-kcal_value': 0, 'energy-kcal_value_computed': 0, 'energy-kj': 0, 'energy-kj_100g': 0, 'energy-kj_unit': 'kj', 'energy-kj_value': 0, 'energy-kj_value_computed': 0, 'energy_100g': 0, 'energy_unit': 'kj', 'energy_value': 0, 'fat': 0, 'fat_100g': 0, 'fat_unit': 'g', 'fat_value': 0, 'fiber': 0, 'fiber_100g': 0, 'fiber_unit': 'g', 'fiber_value': 0, 'fr-nitrate': 0.00044, 'fr-nitrate_100g': 0.00044, 'fr-nitrate_label': 'Nitrate', 'fr-nitrate_unit': 'mg', 'fr-nitrate_value': 0.44, 'fr-sulfate': 0.04, 'fr-sulfate_100g': 0.04, 'fr-sulfate_label': 'Sulfate', 'fr-sulfate_unit': 'mg', 'fr-sulfate_value': 40, 'fruits-vegetables-nuts-estimate-from-ingredients_100g': 0, 'fruits-vegetables-nuts-estimate-from-ingredients_serving': 0, 'magnesium': 0.0042, 'magnesium_100g': 0.0042, 'magnesium_label': 'Magnesium', 'magnesium_unit': 'mg', 'magnesium_value': 4.2, 'nova-group': 1, 'nova-group_100g': 1, 'nova-group_serving': 1, 'nutrition-score-fr': 0, 'nutrition-score-fr_100g': 0, 'ph': 7.6, 'ph_100g': 7.6, 'ph_label': 'PH', 'ph_serving': 7.6, 'ph_unit': 'g', 'ph_value': 7.6, 'proteins': 0, 'proteins_100g': 0, 'proteins_unit': 'g', 'proteins_value': 0, 'salt': 0.0013, 'salt_100g': 0.0013, 'salt_unit': 'g', 'salt_value': 0.0013, 'saturated-fat': 0, 'saturated-fat_100g': 0, 'saturated-fat_unit': 'g', 'saturated-fat_value': 0, 'sodium': 0.00052, 'sodium_100g': 0.00052, 'sodium_unit': 'g', 'sodium_value': 0.00052, 'sugars': 0, 'sugars_100g': 0, 'sugars_unit': 'g', 'sugars_value': 0}, 'nutriscore_data': {'energy': 0, 'energy_points': 0, 'energy_value': 0, 'fiber': 0, 'fiber_points': 0, 'fiber_value': 0, 'fruits_vegetables_nuts_colza_walnut_olive_oils': 0, 'fruits_vegetables_nuts_colza_walnut_olive_oils_points': 0, 'fruits_vegetables_nuts_colza_walnut_olive_oils_value': 0, 'grade': 'a', 'is_beverage': 1, 'is_cheese': 0, 'is_fat': 0, 'is_water': '1', 'negative_points': 0, 'positive_points': 0, 'proteins': 0, 'proteins_points': 0, 'proteins_value': 0, 'saturated_fat': 0, 'saturated_fat_points': 0, 'saturated_fat_ratio': 0, 'saturated_fat_ratio_points': 0, 'saturated_fat_ratio_value': 0, 'saturated_fat_value': 0, 'score': 0, 'sodium': 0.52, 'sodium_points': 0, 'sodium_value': 0.5, 'sugars': 0, 'sugars_points': 0, 'sugars_value': 0}, 'nutriscore_grade': 'a', 'nutriscore_score': 0, 'nutriscore_score_opposite': 0, 'nutrition_data': 'on', 'nutrition_data_per': '100g', 'nutrition_data_prepared': '', 'nutrition_data_prepared_per': '100g', 'nutrition_grade_fr': 'a', 'nutrition_grades': 'a', 'nutrition_grades_tags': ['a'], 'nutrition_score_beverage': 1, 'nutrition_score_debug': '', 'nutrition_score_warning_fruits_vegetables_nuts_estimate_from_ingredients': 1, 'nutrition_score_warning_fruits_vegetables_nuts_estimate_from_ingredients_value': 0, 'origin_en': '', 'origin_fr': '', 'origins': 'Frankrijk', 'origins_hierarchy': ['en:france'], 'origins_lc': 'nl', 'origins_old': 'Vittel', 'origins_tags': ['en:france'], 'other_nutritional_substances_tags': [], 'packaging': 'rPET', 'packaging_hierarchy': ['en:plastic', 'en:recycled-material', 'en:pet-polyethylene-terephthalate', 'en:recycled-plastic', 'en:rpet-recycled-polyethylene-terephthalate'], 'packaging_lc': 'nl', 'packaging_old': 'Plastique, Bouteille', 'packaging_old_before_taxonomization': 'Bouteille,Plastique', 'packaging_tags': ['en:plastic', 'en:recycled-material', 'en:pet-polyethylene-terephthalate', 'en:recycled-plastic', 'en:rpet-recycled-polyethylene-terephthalate'], 'packaging_text_en': '', 'packaging_text_fr': '', 'packagings': [{'material': 'en:rpet-recycled-polyethylene-terephthalate'}], 'photographers_tags': ['emmyjeannot', 'phoenix', 'openfoodfacts-contributors'], 'pnns_groups_1': 'Beverages', 'pnns_groups_1_tags': ['beverages', 'known'], 'pnns_groups_2': 'Waters and flavored waters', 'pnns_groups_2_tags': ['waters-and-flavored-waters', 'known'], 'popularity_key': 20950000015, 'popularity_tags': ['top-10000-scans-2019', 'top-50000-scans-2019', 'top-100000-scans-2019', 'at-least-5-scans-2019', 'at-least-10-scans-2019', 'top-75-percent-scans-2019', 'top-80-percent-scans-2019', 'top-85-percent-scans-2019', 'top-90-percent-scans-2019', 'top-10000-fr-scans-2019', 'top-50000-fr-scans-2019', 'top-100000-fr-scans-2019', 'top-country-fr-scans-2019', 'at-least-5-fr-scans-2019', 'at-least-10-fr-scans-2019', 'top-5000-be-scans-2019', 'top-10000-be-scans-2019', 'top-50000-be-scans-2019', 'top-100000-be-scans-2019', 'at-least-5-be-scans-2019', 'top-5000-lu-scans-2019', 'top-10000-lu-scans-2019', 'top-50000-lu-scans-2019', 'top-100000-lu-scans-2019', 'top-50000-ch-scans-2019', 'top-100000-ch-scans-2019', 'top-10000-re-scans-2019', 'top-50000-re-scans-2019', 'top-100000-re-scans-2019', 'top-50000-scans-2020', 'top-100000-scans-2020', 'at-least-5-scans-2020', 'at-least-10-scans-2020', 'top-75-percent-scans-2020', 'top-80-percent-scans-2020', 'top-85-percent-scans-2020', 'top-90-percent-scans-2020', 'top-50000-fr-scans-2020', 'top-100000-fr-scans-2020', 'top-country-fr-scans-2020', 'at-least-5-fr-scans-2020', 'at-least-10-fr-scans-2020', 'top-10000-be-scans-2020', 'top-50000-be-scans-2020', 'top-100000-be-scans-2020', 'top-50000-scans-2021', 'top-100000-scans-2021', 'at-least-5-scans-2021', 'at-least-10-scans-2021', 'top-75-percent-scans-2021', 'top-80-percent-scans-2021', 'top-85-percent-scans-2021', 'top-90-percent-scans-2021', 'top-50000-fr-scans-2021', 'top-100000-fr-scans-2021', 'top-country-fr-scans-2021', 'at-least-5-fr-scans-2021', 'at-least-10-fr-scans-2021', 'top-1000-ru-scans-2021', 'top-5000-ru-scans-2021', 'top-10000-ru-scans-2021', 'top-50000-ru-scans-2021', 'top-100000-ru-scans-2021', 'top-10000-scans-2022', 'top-50000-scans-2022', 'top-100000-scans-2022', 'at-least-5-scans-2022', 'at-least-10-scans-2022', 'top-75-percent-scans-2022', 'top-80-percent-scans-2022', 'top-85-percent-scans-2022', 'top-90-percent-scans-2022', 'top-10000-fr-scans-2022', 'top-50000-fr-scans-2022', 'top-100000-fr-scans-2022', 'top-country-fr-scans-2022', 'at-least-5-fr-scans-2022', 'at-least-10-fr-scans-2022', 'top-5000-be-scans-2022', 'top-10000-be-scans-2022', 'top-50000-be-scans-2022', 'top-100000-be-scans-2022', 'top-50000-de-scans-2022', 'top-100000-de-scans-2022', 'top-50000-es-scans-2022', 'top-100000-es-scans-2022'], 'product_name': 'Vittel', 'product_name_en': '', 'product_name_fr': 'Vittel', 'product_quantity': '330', 'purchase_places': 'Cesson Sévigné,France', 'purchase_places_tags': ['cesson-sevigne', 'france'], 'quantity': '33 cl', 'removed_countries_tags': [], 'rev': 40, 'scans_n': 32, 'selected_images': {'front': {'display': {'fr': 'https://images.openfoodfacts.org/images/products/304/843/100/1910/front_fr.7.400.jpg'}, 'small': {'fr': 'https://images.openfoodfacts.org/images/products/304/843/100/1910/front_fr.7.200.jpg'}, 'thumb': {'fr': 'https://images.openfoodfacts.org/images/products/304/843/100/1910/front_fr.7.100.jpg'}}, 'ingredients': {'display': {'fr': 'https://images.openfoodfacts.org/images/products/304/843/100/1910/ingredients_fr.8.400.jpg'}, 'small': {'fr': 'https://images.openfoodfacts.org/images/products/304/843/100/1910/ingredients_fr.8.200.jpg'}, 'thumb': {'fr': 'https://images.openfoodfacts.org/images/products/304/843/100/1910/ingredients_fr.8.100.jpg'}}, 'nutrition': {'display': {'fr': 'https://images.openfoodfacts.org/images/products/304/843/100/1910/nutrition_fr.9.400.jpg'}, 'small': {'fr': 'https://images.openfoodfacts.org/images/products/304/843/100/1910/nutrition_fr.9.200.jpg'}, 'thumb': {'fr': 'https://images.openfoodfacts.org/images/products/304/843/100/1910/nutrition_fr.9.100.jpg'}}}, 'serving_size': '1 Litre', 'sortkey': 1595612318, 'states': 'en:to-be-completed, en:nutrition-facts-completed, en:ingredients-completed, en:expiration-date-completed, en:packaging-code-to-be-completed, en:characteristics-completed, en:origins-completed, en:categories-completed, en:brands-completed, en:packaging-completed, en:quantity-completed, en:product-name-completed, en:photos-to-be-validated, en:packaging-photo-to-be-selected, en:nutrition-photo-selected, en:ingredients-photo-selected, en:front-photo-selected, en:photos-uploaded', 'states_hierarchy': ['en:to-be-completed', 'en:nutrition-facts-completed', 'en:ingredients-completed', 'en:expiration-date-completed', 'en:packaging-code-to-be-completed', 'en:characteristics-completed', 'en:origins-completed', 'en:categories-completed', 'en:brands-completed', 'en:packaging-completed', 'en:quantity-completed', 'en:product-name-completed', 'en:photos-to-be-validated', 'en:packaging-photo-to-be-selected', 'en:nutrition-photo-selected', 'en:ingredients-photo-selected', 'en:front-photo-selected', 'en:photos-uploaded'], 'states_tags': ['en:to-be-completed', 'en:nutrition-facts-completed', 'en:ingredients-completed', 'en:expiration-date-completed', 'en:packaging-code-to-be-completed', 'en:characteristics-completed', 'en:origins-completed', 'en:categories-completed', 'en:brands-completed', 'en:packaging-completed', 'en:quantity-completed', 'en:product-name-completed', 'en:photos-to-be-validated', 'en:packaging-photo-to-be-selected', 'en:nutrition-photo-selected', 'en:ingredients-photo-selected', 'en:front-photo-selected', 'en:photos-uploaded'], 'stores': 'Quick', 'stores_tags': ['quick'], 'traces': '', 'traces_from_ingredients': '', 'traces_from_user': '(fr) ', 'traces_hierarchy': [], 'traces_lc': 'fr', 'traces_tags': [], 'unique_scans_n': 22, 'unknown_ingredients_n': 0, 'unknown_nutrients_tags': ['fr-nitrate', 'fr-sulfate'], 'update_key': 'cat20230124', 'vitamins_prev_tags': [], 'vitamins_tags': []}, 'status': 1, 'status_verbose': 'product found'}\n"
     ]
    }
   ],
   "source": [
    "'''import requests\n",
    "\n",
    "code_barres = '3048431001910' # Remplacez par le code-barres de votre produit\n",
    "url = f'https://world.openfoodfacts.org/api/v0/product/{code_barres}.json'\n",
    "reponse = requests.get(url)\n",
    "\n",
    "if reponse.ok:\n",
    "    produit = reponse.json()\n",
    "    print(produit)# Utilisez les informations du produit ici\n",
    "else:\n",
    "    print(\"rien trouvé\")# Gérez l'erreur ici'''"
   ]
  },
  {
   "cell_type": "code",
   "execution_count": 6,
   "metadata": {},
   "outputs": [
    {
     "name": "stdout",
     "output_type": "stream",
     "text": [
      "{'code': '0737628064502', 'product': {'_id': '0737628064502', '_keywords': ['and', 'beverage', 'cereal', 'food', 'include', 'kit', 'noodle', 'pasta', 'peanut', 'plant-based', 'potatoe', 'product', 'rice', 'seasoning', 'stir-fry', 'test', 'thai', 'thailand', 'their'], 'added_countries_tags': [], 'additives_debug_tags': [], 'additives_n': 1, 'additives_old_n': 2, 'additives_old_tags': ['en:e330', 'en:e551'], 'additives_original_tags': ['en:e330'], 'additives_prev_original_tags': ['en:e330'], 'additives_tags': ['en:e330'], 'allergens': '', 'allergens_from_ingredients': 'en:peanuts', 'allergens_from_user': '(en) ', 'allergens_hierarchy': ['en:peanuts'], 'allergens_tags': ['en:peanuts'], 'amino_acids_prev_tags': [], 'amino_acids_tags': [], 'brand_owner': 'Simply Asia Foods, Inc.', 'brand_owner_imported': 'Simply Asia Foods, Inc.', 'brands': 'Test', 'brands_tags': ['test'], 'categories': 'Plant-based foods and beverages, Plant-based foods, Cereals and potatoes, Cereals and their products, Pastas, Noodles, Rice Noodles', 'categories_hierarchy': ['en:plant-based-foods-and-beverages', 'en:plant-based-foods', 'en:cereals-and-potatoes', 'en:cereals-and-their-products', 'en:pastas', 'en:noodles', 'en:Rice Noodles'], 'categories_imported': 'Plant-based foods and beverages, Plant-based foods, Cereals and potatoes, Cereals and their products, Noodles', 'categories_lc': 'en', 'categories_old': 'Plant-based foods and beverages, Plant-based foods, Cereals and potatoes, Cereals and their products, Noodles, Rice Noodles', 'categories_properties': {}, 'categories_properties_tags': ['all-products', 'categories-known', 'agribalyse-food-code-unknown', 'agribalyse-proxy-food-code-unknown', 'ciqual-food-code-unknown', 'agribalyse-unknown'], 'categories_tags': ['en:plant-based-foods-and-beverages', 'en:plant-based-foods', 'en:cereals-and-potatoes', 'en:cereals-and-their-products', 'en:pastas', 'en:noodles', 'en:rice-noodles'], 'category_properties': {}, 'checkers': [], 'checkers_tags': [], 'ciqual_food_name_tags': ['unknown'], 'cities_tags': [], 'code': '0737628064502', 'codes_tags': ['code-13', '0737628064xxx', '073762806xxxx', '07376280xxxxx', '0737628xxxxxx', '073762xxxxxxx', '07376xxxxxxxx', '0737xxxxxxxxx', '073xxxxxxxxxx', '07xxxxxxxxxxx', '0xxxxxxxxxxxx'], 'compared_to_category': 'en:rice-noodles', 'complete': 0, 'completeness': 0.8875, 'correctors': ['andre', 'thierrym'], 'correctors_tags': ['andre', 'thierrym', 'usda-ndb-import', 'smartchef', 'org-database-usda', 'packbot', 'openfoodfacts-contributors'], 'countries': 'France, United States', 'countries_debug_tags': [], 'countries_hierarchy': ['en:france', 'en:united-states'], 'countries_imported': 'United States', 'countries_lc': 'en', 'countries_tags': ['en:france', 'en:united-states'], 'created_t': 1345799269, 'creator': 'openfoodfacts-contributors', 'data_quality_bugs_tags': [], 'data_quality_errors_tags': [], 'data_quality_info_tags': ['en:packaging-data-incomplete', 'en:ingredients-percent-analysis-ok', 'en:ecoscore-extended-data-not-computed', 'en:food-groups-1-known', 'en:food-groups-2-known', 'en:food-groups-3-unknown'], 'data_quality_tags': ['en:packaging-data-incomplete', 'en:ingredients-percent-analysis-ok', 'en:ecoscore-extended-data-not-computed', 'en:food-groups-1-known', 'en:food-groups-2-known', 'en:food-groups-3-unknown', 'en:nutrition-value-very-high-for-category-sugars', 'en:ecoscore-packaging-unscored-shape', 'en:ecoscore-production-system-no-label'], 'data_quality_warnings_tags': ['en:nutrition-value-very-high-for-category-sugars', 'en:ecoscore-packaging-unscored-shape', 'en:ecoscore-production-system-no-label'], 'data_sources': 'Databases, database-usda, Database - USDA NDB', 'data_sources_imported': 'Databases, database-usda', 'data_sources_tags': ['databases', 'database-usda', 'database-usda-ndb'], 'debug_param_sorted_langs': ['en'], 'ecoscore_data': {'adjustments': {'origins_of_ingredients': {'aggregated_origins': [{'epi_score': '0', 'origin': 'en:thailand', 'percent': 100, 'transportation_score': None}], 'epi_score': 0, 'epi_value': -5, 'origins_from_origins_field': ['en:thailand'], 'transportation_score': 0, 'transportation_scores': {'ad': 19, 'al': 33, 'at': 8, 'ax': 4, 'ba': 11, 'be': 12, 'bg': 13, 'ch': 9, 'cy': 37, 'cz': 0, 'de': 12, 'dk': 0, 'dz': 9, 'ee': 7, 'eg': 33, 'es': 25, 'fi': 7, 'fo': 3, 'fr': 0, 'gg': 0, 'gi': 27, 'gr': 37, 'hr': 24, 'hu': 4, 'ie': 17, 'il': 33, 'im': 0, 'is': 0, 'it': 16, 'je': 0, 'lb': 37, 'li': 11, 'lt': 0, 'lu': 3, 'lv': 8, 'ly': 34, 'ma': 3, 'mc': 31, 'md': 22, 'me': 29, 'mk': 20, 'mt': 34, 'nl': 12, 'no': 12, 'pl': 0, 'ps': 41, 'pt': 16, 'ro': 23, 'rs': 10, 'se': 0, 'si': 27, 'sj': 0, 'sk': 0, 'sm': 10, 'sy': 24, 'tn': 33, 'tr': 0, 'ua': 33, 'uk': 7, 'us': 0, 'va': 1, 'world': 0, 'xk': 19}, 'transportation_value': 0, 'transportation_values': {'ad': 3, 'al': 5, 'at': 1, 'ax': 1, 'ba': 2, 'be': 2, 'bg': 2, 'ch': 1, 'cy': 6, 'cz': 0, 'de': 2, 'dk': 0, 'dz': 1, 'ee': 1, 'eg': 5, 'es': 4, 'fi': 1, 'fo': 0, 'fr': 0, 'gg': 0, 'gi': 4, 'gr': 6, 'hr': 4, 'hu': 1, 'ie': 3, 'il': 5, 'im': 0, 'is': 0, 'it': 2, 'je': 0, 'lb': 6, 'li': 2, 'lt': 0, 'lu': 0, 'lv': 1, 'ly': 5, 'ma': 0, 'mc': 5, 'md': 3, 'me': 4, 'mk': 3, 'mt': 5, 'nl': 2, 'no': 2, 'pl': 0, 'ps': 6, 'pt': 2, 'ro': 3, 'rs': 2, 'se': 0, 'si': 4, 'sj': 0, 'sk': 0, 'sm': 2, 'sy': 4, 'tn': 5, 'tr': 0, 'ua': 5, 'uk': 1, 'us': 0, 'va': 0, 'world': 0, 'xk': 3}, 'value': -5, 'values': {'ad': -2, 'al': 0, 'at': -4, 'ax': -4, 'ba': -3, 'be': -3, 'bg': -3, 'ch': -4, 'cy': 1, 'cz': -5, 'de': -3, 'dk': -5, 'dz': -4, 'ee': -4, 'eg': 0, 'es': -1, 'fi': -4, 'fo': -5, 'fr': -5, 'gg': -5, 'gi': -1, 'gr': 1, 'hr': -1, 'hu': -4, 'ie': -2, 'il': 0, 'im': -5, 'is': -5, 'it': -3, 'je': -5, 'lb': 1, 'li': -3, 'lt': -5, 'lu': -5, 'lv': -4, 'ly': 0, 'ma': -5, 'mc': 0, 'md': -2, 'me': -1, 'mk': -2, 'mt': 0, 'nl': -3, 'no': -3, 'pl': -5, 'ps': 1, 'pt': -3, 'ro': -2, 'rs': -3, 'se': -5, 'si': -1, 'sj': -5, 'sk': -5, 'sm': -3, 'sy': -1, 'tn': 0, 'tr': -5, 'ua': 0, 'uk': -4, 'us': -5, 'va': -5, 'world': -5, 'xk': -2}}, 'packaging': {'non_recyclable_and_non_biodegradable_materials': 0, 'packagings': [{'ecoscore_material_score': 0, 'ecoscore_shape_ratio': 1, 'material': 'en:unknown', 'shape': 'xx:cellophane'}, {'ecoscore_material_score': 0, 'ecoscore_shape_ratio': 1, 'material': 'en:unknown', 'shape': 'en:container'}], 'score': -100, 'value': -15, 'warning': 'unscored_shape'}, 'production_system': {'labels': [], 'value': 0, 'warning': 'no_label'}, 'threatened_species': {}}, 'agribalyse': {'warning': 'missing_agribalyse_match'}, 'missing': {'agb_category': 1, 'labels': 1, 'packagings': 1}, 'missing_agribalyse_match_warning': 1, 'scores': {}, 'status': 'unknown'}, 'ecoscore_grade': 'unknown', 'ecoscore_tags': ['unknown'], 'editors': ['', 'thierrym', 'manu1400', 'andre', 'upcbot'], 'editors_tags': ['org-database-usda', 'usda-ndb-import', 'thierrym', 'smartchef', 'andre', 'openfoodfacts-contributors', 'packbot', 'manu1400', 'upcbot'], 'emb_codes': '', 'emb_codes_20141016': '', 'emb_codes_debug_tags': [], 'emb_codes_orig': '', 'emb_codes_tags': [], 'entry_dates_tags': ['2012-08-24', '2012-08', '2012'], 'expiration_date': '', 'expiration_date_debug_tags': [], 'food_groups': 'en:cereals', 'food_groups_tags': ['en:cereals-and-potatoes', 'en:cereals'], 'fruits-vegetables-nuts_100g_estimate': 0, 'generic_name': 'Rice Noodles', 'generic_name_en': 'Rice Noodles', 'generic_name_en_debug_tags': [], 'id': '737628064502', 'image_front_small_url': 'https://images.openfoodfacts.org/images/products/073/762/806/4502/front_en.6.200.jpg', 'image_front_thumb_url': 'https://images.openfoodfacts.org/images/products/073/762/806/4502/front_en.6.100.jpg', 'image_front_url': 'https://images.openfoodfacts.org/images/products/073/762/806/4502/front_en.6.400.jpg', 'image_ingredients_small_url': 'https://images.openfoodfacts.org/images/products/073/762/806/4502/ingredients_en.10.200.jpg', 'image_ingredients_thumb_url': 'https://images.openfoodfacts.org/images/products/073/762/806/4502/ingredients_en.10.100.jpg', 'image_ingredients_url': 'https://images.openfoodfacts.org/images/products/073/762/806/4502/ingredients_en.10.400.jpg', 'image_nutrition_small_url': 'https://images.openfoodfacts.org/images/products/073/762/806/4502/nutrition_en.12.200.jpg', 'image_nutrition_thumb_url': 'https://images.openfoodfacts.org/images/products/073/762/806/4502/nutrition_en.12.100.jpg', 'image_nutrition_url': 'https://images.openfoodfacts.org/images/products/073/762/806/4502/nutrition_en.12.400.jpg', 'image_small_url': 'https://images.openfoodfacts.org/images/products/073/762/806/4502/front_en.6.200.jpg', 'image_thumb_url': 'https://images.openfoodfacts.org/images/products/073/762/806/4502/front_en.6.100.jpg', 'image_url': 'https://images.openfoodfacts.org/images/products/073/762/806/4502/front_en.6.400.jpg', 'images': {'1': {'sizes': {'100': {'h': 71, 'w': 100}, '400': {'h': 284, 'w': 400}, 'full': {'h': 1089, 'w': 1536}}, 'uploaded_t': 1345799270, 'uploader': 'openfoodfacts-contributors'}, '2': {'sizes': {'100': {'h': 100, 'w': 72}, '400': {'h': 400, 'w': 289}, 'full': {'h': 1812, 'w': 1311}}, 'uploaded_t': 1345799309, 'uploader': 'andre'}, '3': {'sizes': {'100': {'h': 72, 'w': 100}, '400': {'h': 289, 'w': 400}, 'full': {'h': 927, 'w': 1281}}, 'uploaded_t': 1345799558, 'uploader': 'andre'}, '4': {'sizes': {'100': {'h': 72, 'w': 100}, '400': {'h': 289, 'w': 400}, 'full': {'h': 927, 'w': 1281}}, 'uploaded_t': 1345799666, 'uploader': 'andre'}, '5': {'sizes': {'100': {'h': 100, 'w': 54}, '400': {'h': 400, 'w': 216}, 'full': {'h': 1611, 'w': 870}}, 'uploaded_t': 1345799925, 'uploader': 'andre'}, 'front': {'geometry': '0x0--4--4', 'imgid': '2', 'normalize': None, 'rev': '6', 'sizes': {'100': {'h': 100, 'w': 72}, '200': {'h': 200, 'w': 145}, '400': {'h': 400, 'w': 289}, 'full': {'h': 1812, 'w': 1311}}, 'white_magic': None}, 'front_en': {'geometry': '0x0--4--4', 'imgid': '2', 'normalize': None, 'rev': '6', 'sizes': {'100': {'h': 100, 'w': 72}, '200': {'h': 200, 'w': 145}, '400': {'h': 400, 'w': 289}, 'full': {'h': 1812, 'w': 1311}}, 'white_magic': None}, 'ingredients': {'geometry': '0x0--3--3', 'imgid': '4', 'normalize': 'checked', 'rev': '10', 'sizes': {'100': {'h': 72, 'w': 100}, '200': {'h': 145, 'w': 200}, '400': {'h': 289, 'w': 400}, 'full': {'h': 927, 'w': 1281}}, 'white_magic': None}, 'ingredients_en': {'geometry': '0x0--3--3', 'imgid': '4', 'normalize': 'checked', 'rev': '10', 'sizes': {'100': {'h': 72, 'w': 100}, '200': {'h': 145, 'w': 200}, '400': {'h': 289, 'w': 400}, 'full': {'h': 927, 'w': 1281}}, 'white_magic': None}, 'nutrition': {'geometry': '0x0--4--4', 'imgid': '5', 'normalize': 'checked', 'rev': '12', 'sizes': {'100': {'h': 100, 'w': 54}, '200': {'h': 200, 'w': 108}, '400': {'h': 400, 'w': 216}, 'full': {'h': 1611, 'w': 870}}, 'white_magic': None}, 'nutrition_en': {'geometry': '0x0--4--4', 'imgid': '5', 'normalize': 'checked', 'rev': '12', 'sizes': {'100': {'h': 100, 'w': 54}, '200': {'h': 200, 'w': 108}, '400': {'h': 400, 'w': 216}, 'full': {'h': 1611, 'w': 870}}, 'white_magic': None}}, 'informers': ['andre', 'manu1400', 'thierrym'], 'informers_tags': ['andre', 'manu1400', 'thierrym', 'upcbot', 'smartchef', 'org-database-usda'], 'ingredients': [{'has_sub_ingredients': 'yes', 'id': 'en:noodle', 'percent_estimate': 53.8461538461538, 'percent_max': 100, 'percent_min': 7.69230769230769, 'rank': 1, 'text': 'Noodle'}, {'id': 'en:water', 'percent_estimate': 23.0769230769231, 'percent_max': 50, 'percent_min': 0, 'rank': 2, 'text': 'water', 'vegan': 'yes', 'vegetarian': 'yes'}, {'has_sub_ingredients': 'yes', 'id': 'en:seasoning-packet', 'percent_estimate': 11.5384615384615, 'percent_max': 33.3333333333333, 'percent_min': 0, 'rank': 3, 'text': 'seasoning packet'}, {'id': 'en:sugar', 'percent_estimate': 5.76923076923077, 'percent_max': 25, 'percent_min': 0, 'rank': 4, 'text': 'sugar', 'vegan': 'yes', 'vegetarian': 'yes'}, {'id': 'en:hydrolysed-soy-protein', 'percent_estimate': 2.88461538461539, 'percent_max': 20, 'percent_min': 0, 'rank': 5, 'text': 'hydrolyzed soy protein', 'vegan': 'yes', 'vegetarian': 'yes'}, {'id': 'en:spring-onion', 'percent_estimate': 1.44230769230769, 'percent_max': 16.6666666666667, 'percent_min': 0, 'rank': 6, 'text': 'green onion', 'vegan': 'yes', 'vegetarian': 'yes'}, {'id': 'en:corn-maltodextrin', 'percent_estimate': 0.721153846153847, 'percent_max': 14.2857142857143, 'percent_min': 0, 'rank': 7, 'text': 'corn maltodextrin', 'vegan': 'yes', 'vegetarian': 'yes'}, {'has_sub_ingredients': 'yes', 'id': 'en:spice', 'percent_estimate': 0.36057692307692, 'percent_max': 12.5, 'percent_min': 0, 'rank': 8, 'text': 'spice', 'vegan': 'yes', 'vegetarian': 'yes'}, {'id': 'en:e330', 'percent_estimate': 0.18028846153846, 'percent_max': 11.1111111111111, 'percent_min': 0, 'rank': 9, 'text': 'citric acid', 'vegan': 'yes', 'vegetarian': 'yes'}, {'id': 'en:sea-salt', 'percent_estimate': 0.0901442307692264, 'percent_max': 10, 'percent_min': 0, 'rank': 10, 'text': 'sea salt', 'vegan': 'yes', 'vegetarian': 'yes'}, {'has_sub_ingredients': 'yes', 'id': 'en:paprika', 'percent_estimate': 0.0450721153846132, 'percent_max': 9.09090909090909, 'percent_min': 0, 'processing': 'en:extract', 'rank': 11, 'text': 'paprika', 'vegan': 'yes', 'vegetarian': 'yes'}, {'has_sub_ingredients': 'yes', 'id': 'en:e551', 'percent_estimate': 0.0225360576923066, 'percent_max': 8.33333333333333, 'percent_min': 0, 'rank': 12, 'text': 'silicon dioxide', 'vegan': 'yes', 'vegetarian': 'yes'}, {'id': 'en:yeast-extract', 'percent_estimate': 0.0225360576923066, 'percent_max': 7.69230769230769, 'percent_min': 0, 'rank': 13, 'text': 'yeast extract', 'vegan': 'yes', 'vegetarian': 'yes'}, {'id': 'en:rice', 'percent_estimate': 53.8461538461538, 'percent_max': 100, 'percent_min': 7.69230769230769, 'text': 'rice', 'vegan': 'yes', 'vegetarian': 'yes'}, {'id': 'en:peanut', 'percent_estimate': 11.5384615384615, 'percent_max': 33.3333333333333, 'percent_min': 0, 'text': 'peanut', 'vegan': 'yes', 'vegetarian': 'yes'}, {'id': 'en:paprika', 'percent_estimate': 0.36057692307692, 'percent_max': 12.5, 'percent_min': 0, 'text': 'including paprika', 'vegan': 'yes', 'vegetarian': 'yes'}, {'id': 'en:colour', 'percent_estimate': 0.0450721153846132, 'percent_max': 9.09090909090909, 'percent_min': 0, 'text': 'color'}, {'id': 'en:added-to-make-free-flowing', 'percent_estimate': 0.0225360576923066, 'percent_max': 8.33333333333333, 'percent_min': 0, 'text': 'added to make free flowing'}], 'ingredients_analysis': {'en:palm-oil-content-unknown': ['en:seasoning-packet', 'en:added-to-make-free-flowing'], 'en:vegan-status-unknown': ['en:noodle', 'en:seasoning-packet', 'en:added-to-make-free-flowing'], 'en:vegetarian-status-unknown': ['en:noodle', 'en:seasoning-packet', 'en:added-to-make-free-flowing']}, 'ingredients_analysis_tags': ['en:palm-oil-free', 'en:vegan-status-unknown', 'en:vegetarian-status-unknown'], 'ingredients_debug': ['RICE NOODLES ', '(', '(', None, None, 'RICE', ',', None, None, None, ' WATER)', ',', None, None, None, ' SEASONING PACKET ', '(', '(', None, None, 'PEANUT', ',', None, None, None, ' SUGAR', ',', None, None, None, ' SALT', ',', None, None, None, ' CORN STARCH', ',', None, None, None, ' SPICES ', '[', '[', None, None, 'CHILI', ',', None, None, None, ' CINNAMON', ',', None, None, None, ' PEPPER', ',', None, None, None, ' CUMIN', ',', None, None, None, ' CLOVE]', ',', None, None, None, ' HYDRDLYZED SOY PROTEIN', ',', None, None, None, ' GREEN ONIONS', ',', None, None, None, ' CITRIC ACID', ',', None, None, None, ' PEANUT OIL', ',', None, None, None, ' SESAME OIL', ',', None, None, None, ' ', ':', ':', None, None, ' NATURAL FLAVOR ', ':', ':', None, None, ' ).'], 'ingredients_from_or_that_may_be_from_palm_oil_n': 0, 'ingredients_from_palm_oil_n': 0, 'ingredients_from_palm_oil_tags': [], 'ingredients_hierarchy': ['en:noodle', 'en:dough', 'en:water', 'en:seasoning-packet', 'en:sugar', 'en:added-sugar', 'en:disaccharide', 'en:hydrolysed-soy-protein', 'en:protein', 'en:plant-protein', 'en:hydrolysed-vegetable-protein', 'en:soy-protein', 'en:spring-onion', 'en:vegetable', 'en:root-vegetable', 'en:onion', 'en:corn-maltodextrin', 'en:maltodextrind', 'en:spice', 'en:condiment', 'en:e330', 'en:sea-salt', 'en:salt', 'en:paprika', 'en:e551', 'en:yeast-extract', 'en:yeast', 'en:rice', 'en:peanut', 'en:nut', 'en:colour', 'en:added-to-make-free-flowing'], 'ingredients_ids_debug': ['rice-noodles', 'rice', 'water', 'seasoning-packet', 'peanut', 'sugar', 'salt', 'corn-starch', 'spices', 'chili', 'cinnamon', 'pepper', 'cumin', 'clove', 'hydrdlyzed-soy-protein', 'green-onions', 'citric-acid', 'peanut-oil', 'sesame-oil', 'natural-flavor'], 'ingredients_n': 18, 'ingredients_n_tags': ['18', '11-20'], 'ingredients_original_tags': ['en:noodle', 'en:water', 'en:seasoning-packet', 'en:sugar', 'en:hydrolysed-soy-protein', 'en:spring-onion', 'en:corn-maltodextrin', 'en:spice', 'en:e330', 'en:sea-salt', 'en:paprika', 'en:e551', 'en:yeast-extract', 'en:rice', 'en:peanut', 'en:paprika', 'en:colour', 'en:added-to-make-free-flowing'], 'ingredients_percent_analysis': 1, 'ingredients_tags': ['en:noodle', 'en:dough', 'en:water', 'en:seasoning-packet', 'en:sugar', 'en:added-sugar', 'en:disaccharide', 'en:hydrolysed-soy-protein', 'en:protein', 'en:plant-protein', 'en:hydrolysed-vegetable-protein', 'en:soy-protein', 'en:spring-onion', 'en:vegetable', 'en:root-vegetable', 'en:onion', 'en:corn-maltodextrin', 'en:maltodextrind', 'en:spice', 'en:condiment', 'en:e330', 'en:sea-salt', 'en:salt', 'en:paprika', 'en:e551', 'en:yeast-extract', 'en:yeast', 'en:rice', 'en:peanut', 'en:nut', 'en:colour', 'en:added-to-make-free-flowing'], 'ingredients_text': 'Noodle: rice, water. seasoning packet: peanut, sugar, hydrolyzed soy protein, green onion, corn maltodextrin, spice (including paprika), citric acid, sea salt, extractives of paprika (color), silicon dioxide (added to make free flowing), yeast extract.', 'ingredients_text_debug': 'RICE NOODLES (RICE, WATER), SEASONING PACKET (PEANUT, SUGAR, SALT, CORN STARCH, SPICES [CHILI, CINNAMON, PEPPER, CUMIN, CLOVE], HYDRDLYZED SOY PROTEIN, GREEN ONIONS, CITRIC ACID, PEANUT OIL, SESAME OIL, : NATURAL FLAVOR : ).', 'ingredients_text_en': 'Noodle: rice, water. seasoning packet: peanut, sugar, hydrolyzed soy protein, green onion, corn maltodextrin, spice (including paprika), citric acid, sea salt, extractives of paprika (color), silicon dioxide (added to make free flowing), yeast extract.', 'ingredients_text_en_debug_tags': [], 'ingredients_text_en_imported': 'Noodle: rice, water. seasoning packet: peanut, sugar, hydrolyzed soy protein, green onion, corn maltodextrin, spice (including paprika), citric acid, sea salt, extractives of paprika (color), silicon dioxide (added to make free flowing), yeast extract.', 'ingredients_text_with_allergens': 'Noodle: rice, water. seasoning packet: peanut, sugar, hydrolyzed soy protein, green onion, corn maltodextrin, spice (including paprika), citric acid, sea salt, extractives of paprika (color), silicon dioxide (added to make free flowing), yeast extract.', 'ingredients_text_with_allergens_en': 'Noodle: rice, water. seasoning packet: peanut, sugar, hydrolyzed soy protein, green onion, corn maltodextrin, spice (including paprika), citric acid, sea salt, extractives of paprika (color), silicon dioxide (added to make free flowing), yeast extract.', 'ingredients_that_may_be_from_palm_oil_n': 0, 'ingredients_that_may_be_from_palm_oil_tags': [], 'ingredients_with_specified_percent_n': 0, 'ingredients_with_specified_percent_sum': 0, 'ingredients_with_unspecified_percent_n': 13, 'ingredients_with_unspecified_percent_sum': 100, 'interface_version_created': '20120622', 'interface_version_modified': '20150316.jqm2', 'known_ingredients_n': 30, 'labels': 'Test', 'labels_hierarchy': ['en:Test'], 'labels_lc': 'en', 'labels_old': 'Gluten-free', 'labels_tags': ['en:test'], 'lang': 'en', 'lang_debug_tags': [], 'languages': {'en:english': 6}, 'languages_codes': {'en': 6}, 'languages_hierarchy': ['en:english'], 'languages_tags': ['en:english', 'en:1'], 'last_edit_dates_tags': ['2023-02-18', '2023-02', '2023'], 'last_image_dates_tags': ['2012-08-24', '2012-08', '2012'], 'last_image_t': 1345799925, 'last_modified_t': 1676677284, 'lc': 'en', 'lc_imported': 'en', 'link': '', 'link_debug_tags': [], 'main_countries_tags': [], 'manufacturing_places': '', 'manufacturing_places_debug_tags': [], 'manufacturing_places_tags': [], 'max_imgid': '5', 'minerals_prev_tags': [], 'minerals_tags': [], 'misc_tags': ['en:nutrition-fruits-vegetables-nuts-estimate-from-ingredients', 'en:nutrition-all-nutriscore-values-known', 'en:nutriscore-computed', 'en:packagings-not-complete', 'en:packagings-not-empty-but-not-complete', 'en:packagings-not-empty', 'en:ecoscore-extended-data-not-computed', 'en:ecoscore-not-computed', 'en:main-countries-fr-product-name-not-in-country-language', 'en:main-countries-fr-ingredients-not-in-country-language', 'en:main-countries-fr-no-data-in-country-language'], 'new_additives_n': 1, 'no_nutrition_data': '', 'nova_group': 4, 'nova_group_debug': '', 'nova_groups': '4', 'nova_groups_markers': {'3': [['ingredients', 'en:salt'], ['ingredients', 'en:sugar']], '4': [['ingredients', 'en:colour']]}, 'nova_groups_tags': ['en:4-ultra-processed-food-and-drink-products'], 'nucleotides_prev_tags': [], 'nucleotides_tags': [], 'nutrient_levels': {'fat': 'moderate', 'salt': 'moderate', 'saturated-fat': 'moderate', 'sugars': 'high'}, 'nutrient_levels_tags': ['en:fat-in-moderate-quantity', 'en:saturated-fat-in-moderate-quantity', 'en:sugars-in-high-quantity', 'en:salt-in-moderate-quantity'], 'nutriments': {'calcium': 0.038, 'calcium_100g': 0.038, 'calcium_serving': 0.0198, 'calcium_unit': 'mg', 'calcium_value': 38, 'carbohydrates': 71.15, 'carbohydrates_100g': 71.15, 'carbohydrates_serving': 37, 'carbohydrates_unit': 'g', 'carbohydrates_value': 71.15, 'cholesterol': 0, 'cholesterol_100g': 0, 'cholesterol_serving': 0, 'cholesterol_unit': 'mg', 'cholesterol_value': 0, 'energy': 1611, 'energy-kcal': 385, 'energy-kcal_100g': 385, 'energy-kcal_serving': 200, 'energy-kcal_unit': 'kcal', 'energy-kcal_value': 385, 'energy-kcal_value_computed': 396.09, 'energy_100g': 1611, 'energy_serving': 838, 'energy_unit': 'kcal', 'energy_value': 385, 'fat': 7.69, 'fat_100g': 7.69, 'fat_serving': 4, 'fat_unit': 'g', 'fat_value': 7.69, 'fiber': 1.9, 'fiber_100g': 1.9, 'fiber_serving': 0.988, 'fiber_unit': 'g', 'fiber_value': 1.9, 'fruits-vegetables-nuts-estimate-from-ingredients_100g': 0, 'fruits-vegetables-nuts-estimate-from-ingredients_serving': 0, 'iron': 0.00069, 'iron_100g': 0.00069, 'iron_serving': 0.000359, 'iron_unit': 'mg', 'iron_value': 0.69, 'nova-group': 4, 'nova-group_100g': 4, 'nova-group_serving': 4, 'nutrition-score-fr': 4, 'nutrition-score-fr_100g': 4, 'proteins': 9.62, 'proteins_100g': 9.62, 'proteins_serving': 5, 'proteins_unit': 'g', 'proteins_value': 9.62, 'salt': 0.72, 'salt_100g': 0.72, 'salt_serving': 0.374, 'salt_unit': 'mg', 'salt_value': 720, 'saturated-fat': 1.92, 'saturated-fat_100g': 1.92, 'saturated-fat_serving': 0.998, 'saturated-fat_unit': 'g', 'saturated-fat_value': 1.92, 'sodium': 0.288, 'sodium_100g': 0.288, 'sodium_serving': 0.15, 'sodium_unit': 'mg', 'sodium_value': 288, 'sugars': 13.46, 'sugars_100g': 13.46, 'sugars_serving': 7, 'sugars_unit': 'g', 'sugars_value': 13.46, 'trans-fat': 0, 'trans-fat_100g': 0, 'trans-fat_serving': 0, 'trans-fat_unit': 'g', 'trans-fat_value': 0, 'vitamin-a': 0.0001155, 'vitamin-a_100g': 0.0001155, 'vitamin-a_serving': 6.01e-05, 'vitamin-a_unit': 'IU', 'vitamin-a_value': 385, 'vitamin-c': 0, 'vitamin-c_100g': 0, 'vitamin-c_serving': 0, 'vitamin-c_unit': 'mg', 'vitamin-c_value': 0}, 'nutriscore_data': {'energy': 1611, 'energy_points': 4, 'energy_value': 1611, 'fiber': 1.9, 'fiber_points': 1, 'fiber_value': 1.9, 'fruits_vegetables_nuts_colza_walnut_olive_oils': 0, 'fruits_vegetables_nuts_colza_walnut_olive_oils_points': 0, 'fruits_vegetables_nuts_colza_walnut_olive_oils_value': 0, 'grade': 'c', 'is_beverage': 0, 'is_cheese': 0, 'is_fat': 0, 'is_water': 0, 'negative_points': 10, 'positive_points': 6, 'proteins': 9.62, 'proteins_points': 5, 'proteins_value': 9.62, 'saturated_fat': 1.92, 'saturated_fat_points': 1, 'saturated_fat_ratio': 24.9674902470741, 'saturated_fat_ratio_points': 3, 'saturated_fat_ratio_value': 25, 'saturated_fat_value': 1.9, 'score': 4, 'sodium': 288, 'sodium_points': 3, 'sodium_value': 288, 'sugars': 13.46, 'sugars_points': 2, 'sugars_value': 13.46}, 'nutriscore_grade': 'c', 'nutriscore_score': 4, 'nutriscore_score_opposite': -4, 'nutrition_data': 'on', 'nutrition_data_per': '100g', 'nutrition_data_per_debug_tags': [], 'nutrition_data_per_imported': '100g', 'nutrition_data_prepared': '', 'nutrition_data_prepared_per': '100g', 'nutrition_data_prepared_per_debug_tags': [], 'nutrition_data_prepared_per_imported': '100g', 'nutrition_grade_fr': 'c', 'nutrition_grades': 'c', 'nutrition_grades_tags': ['c'], 'nutrition_score_beverage': 0, 'nutrition_score_debug': '', 'nutrition_score_warning_fruits_vegetables_nuts_estimate_from_ingredients': 1, 'nutrition_score_warning_fruits_vegetables_nuts_estimate_from_ingredients_value': 0, 'origins': 'Thailand', 'origins_hierarchy': ['en:thailand'], 'origins_lc': 'en', 'origins_old': 'Thailand', 'origins_tags': ['en:thailand'], 'other_nutritional_substances_tags': [], 'packaging': 'Container, Cellophane', 'packaging_hierarchy': ['en:container', 'xx:cellophane'], 'packaging_lc': 'en', 'packaging_old': 'Container, Cellophane', 'packaging_old_before_taxonomization': 'Cellophane,Carton', 'packaging_tags': ['en:container', 'xx:cellophane'], 'packagings': [{'shape': 'xx:cellophane'}, {'shape': 'en:container'}], 'photographers': ['andre'], 'photographers_tags': ['openfoodfacts-contributors', 'andre'], 'pnns_groups_1': 'Cereals and potatoes', 'pnns_groups_1_tags': ['cereals-and-potatoes', 'known'], 'pnns_groups_2': 'Cereals', 'pnns_groups_2_tags': ['cereals', 'known'], 'popularity_key': 21900000004, 'popularity_tags': ['bottom-25-percent-scans-2019', 'bottom-20-percent-scans-2019', 'top-85-percent-scans-2019', 'top-90-percent-scans-2019', 'top-50000-it-scans-2019', 'top-100000-it-scans-2019', 'top-country-it-scans-2019', 'top-100000-scans-2020', 'at-least-5-scans-2020', 'top-75-percent-scans-2020', 'top-80-percent-scans-2020', 'top-85-percent-scans-2020', 'top-90-percent-scans-2020', 'top-10-by-scans-2020', 'top-50-by-scans-2020', 'top-100-by-scans-2020', 'top-500-by-scans-2020', 'top-1000-by-scans-2020', 'top-5000-by-scans-2020', 'top-10000-by-scans-2020', 'top-50000-by-scans-2020', 'top-100000-by-scans-2020', 'top-country-by-scans-2020', 'top-5000-ca-scans-2020', 'top-10000-ca-scans-2020', 'top-50000-ca-scans-2020', 'top-100000-ca-scans-2020', 'top-50000-be-scans-2020', 'top-100000-be-scans-2020', 'top-100000-scans-2021', 'at-least-5-scans-2021', 'top-75-percent-scans-2021', 'top-80-percent-scans-2021', 'top-85-percent-scans-2021', 'top-90-percent-scans-2021', 'top-5000-it-scans-2021', 'top-10000-it-scans-2021', 'top-50000-it-scans-2021', 'top-100000-it-scans-2021', 'top-country-it-scans-2021', 'top-500-ae-scans-2021', 'top-1000-ae-scans-2021', 'top-5000-ae-scans-2021', 'top-10000-ae-scans-2021', 'top-50000-ae-scans-2021', 'top-100000-ae-scans-2021', 'top-5000-us-scans-2021', 'top-10000-us-scans-2021', 'top-50000-us-scans-2021', 'top-100000-us-scans-2021', 'top-500-in-scans-2021', 'top-1000-in-scans-2021', 'top-5000-in-scans-2021', 'top-10000-in-scans-2021', 'top-50000-in-scans-2021', 'top-100000-in-scans-2021', 'top-100000-scans-2022', 'top-75-percent-scans-2022', 'top-80-percent-scans-2022', 'top-85-percent-scans-2022', 'top-90-percent-scans-2022', 'top-500-ca-scans-2022', 'top-1000-ca-scans-2022', 'top-5000-ca-scans-2022', 'top-10000-ca-scans-2022', 'top-50000-ca-scans-2022', 'top-100000-ca-scans-2022', 'top-country-ca-scans-2022', 'top-50-by-scans-2022', 'top-100-by-scans-2022', 'top-500-by-scans-2022', 'top-1000-by-scans-2022', 'top-5000-by-scans-2022', 'top-10000-by-scans-2022', 'top-50000-by-scans-2022', 'top-100000-by-scans-2022'], 'product_name': 'Thai peanut noodle kit includes stir-fry rice noodles & thai peanut seasoning', 'product_name_en': 'Thai peanut noodle kit includes stir-fry rice noodles & thai peanut seasoning', 'product_name_en_debug_tags': [], 'product_name_en_imported': 'Thai peanut noodle kit includes stir-fry rice noodles & thai peanut seasoning', 'product_quantity': '155', 'purchase_places': '', 'purchase_places_debug_tags': [], 'purchase_places_tags': [], 'quantity': '155 g', 'quantity_debug_tags': [], 'removed_countries_tags': [], 'rev': 22, 'scans_n': 10, 'selected_images': {'front': {'display': {'en': 'https://images.openfoodfacts.org/images/products/073/762/806/4502/front_en.6.400.jpg'}, 'small': {'en': 'https://images.openfoodfacts.org/images/products/073/762/806/4502/front_en.6.200.jpg'}, 'thumb': {'en': 'https://images.openfoodfacts.org/images/products/073/762/806/4502/front_en.6.100.jpg'}}, 'ingredients': {'display': {'en': 'https://images.openfoodfacts.org/images/products/073/762/806/4502/ingredients_en.10.400.jpg'}, 'small': {'en': 'https://images.openfoodfacts.org/images/products/073/762/806/4502/ingredients_en.10.200.jpg'}, 'thumb': {'en': 'https://images.openfoodfacts.org/images/products/073/762/806/4502/ingredients_en.10.100.jpg'}}, 'nutrition': {'display': {'en': 'https://images.openfoodfacts.org/images/products/073/762/806/4502/nutrition_en.12.400.jpg'}, 'small': {'en': 'https://images.openfoodfacts.org/images/products/073/762/806/4502/nutrition_en.12.200.jpg'}, 'thumb': {'en': 'https://images.openfoodfacts.org/images/products/073/762/806/4502/nutrition_en.12.100.jpg'}}}, 'serving_quantity': '52', 'serving_size': '0.333 PACKAGE (52 g)', 'serving_size_debug_tags': [], 'serving_size_imported': '0.333 PACKAGE (52 g)', 'sortkey': 1587581231, 'sources': [{'fields': ['brands', 'countries'], 'id': 'usda-ndb', 'images': [], 'import_t': 1489067409, 'url': 'https://api.nal.usda.gov/ndb/reports/?ndbno=45108002&type=f&format=json&api_key=DEMO_KEY'}, {'fields': ['product_name_en', 'categories', 'brand_owner', 'data_sources', 'nutrition_data_per', 'serving_size', 'ingredients_text_en', 'nutrients.calcium_unit', 'nutrients.calcium_value', 'nutrients.carbohydrates_value', 'nutrients.cholesterol_unit', 'nutrients.cholesterol_value', 'nutrients.energy_value', 'nutrients.energy-kcal_value', 'nutrients.fat_value', 'nutrients.fiber_value', 'nutrients.iron_unit', 'nutrients.iron_value', 'nutrients.proteins_value', 'nutrients.salt_unit', 'nutrients.salt_value', 'nutrients.saturated-fat_value', 'nutrients.sugars_value', 'nutrients.trans-fat_unit', 'nutrients.trans-fat_value', 'nutrients.vitamin-a_unit', 'nutrients.vitamin-a_value', 'nutrients.vitamin-c_unit', 'nutrients.vitamin-c_value'], 'id': 'database-usda', 'images': [], 'import_t': 1587581231, 'manufacturer': None, 'name': 'database-usda', 'url': None}], 'sources_fields': {'org-database-usda': {'available_date': '2019-09-25T00:00:00Z', 'fdc_category': 'All Noodles', 'fdc_data_source': 'LI', 'fdc_id': '628190', 'modified_date': '2019-09-25T00:00:00Z', 'publication_date': '2019-12-06T00:00:00Z'}}, 'states': 'en:to-be-completed, en:nutrition-facts-completed, en:ingredients-completed, en:expiration-date-to-be-completed, en:packaging-code-to-be-completed, en:characteristics-completed, en:origins-completed, en:categories-completed, en:brands-completed, en:packaging-completed, en:quantity-completed, en:product-name-completed, en:photos-to-be-validated, en:packaging-photo-to-be-selected, en:nutrition-photo-selected, en:ingredients-photo-selected, en:front-photo-selected, en:photos-uploaded', 'states_hierarchy': ['en:to-be-completed', 'en:nutrition-facts-completed', 'en:ingredients-completed', 'en:expiration-date-to-be-completed', 'en:packaging-code-to-be-completed', 'en:characteristics-completed', 'en:origins-completed', 'en:categories-completed', 'en:brands-completed', 'en:packaging-completed', 'en:quantity-completed', 'en:product-name-completed', 'en:photos-to-be-validated', 'en:packaging-photo-to-be-selected', 'en:nutrition-photo-selected', 'en:ingredients-photo-selected', 'en:front-photo-selected', 'en:photos-uploaded'], 'states_tags': ['en:to-be-completed', 'en:nutrition-facts-completed', 'en:ingredients-completed', 'en:expiration-date-to-be-completed', 'en:packaging-code-to-be-completed', 'en:characteristics-completed', 'en:origins-completed', 'en:categories-completed', 'en:brands-completed', 'en:packaging-completed', 'en:quantity-completed', 'en:product-name-completed', 'en:photos-to-be-validated', 'en:packaging-photo-to-be-selected', 'en:nutrition-photo-selected', 'en:ingredients-photo-selected', 'en:front-photo-selected', 'en:photos-uploaded'], 'stores': '', 'stores_debug_tags': [], 'stores_tags': [], 'traces': 'en:peanuts', 'traces_debug_tags': [], 'traces_from_ingredients': '', 'traces_from_user': '(en) en:peanuts', 'traces_hierarchy': ['en:peanuts'], 'traces_tags': ['en:peanuts'], 'unique_scans_n': 4, 'unknown_ingredients_n': 2, 'unknown_nutrients_tags': [], 'update_key': 'cat20230124', 'vitamins_prev_tags': [], 'vitamins_tags': [], 'weighers_tags': []}, 'status': 1, 'status_verbose': 'product found'}\n"
     ]
    }
   ],
   "source": [
    "'''import requests\n",
    "import json\n",
    "\n",
    "#url produit\n",
    "code_barres = '737628064502' # Remplacez par le code-barres de votre produit\n",
    "url1 = f'https://world.openfoodfacts.org/api/v0/product/{code_barres}.json'\n",
    "\n",
    "#info produit\n",
    "infos_produit=requests.get(url1)\n",
    "data = json.loads(infos_produit.text) # analyse au format json\n",
    "\n",
    "print(data)'''"
   ]
  },
  {
   "cell_type": "code",
   "execution_count": 7,
   "metadata": {},
   "outputs": [
    {
     "name": "stdout",
     "output_type": "stream",
     "text": [
      "737628064502\n"
     ]
    }
   ],
   "source": [
    "'''code_barre = data['code']\n",
    "print(code_barres)'''"
   ]
  },
  {
   "cell_type": "code",
   "execution_count": 8,
   "metadata": {},
   "outputs": [
    {
     "name": "stdout",
     "output_type": "stream",
     "text": [
      "c\n"
     ]
    }
   ],
   "source": [
    "'''nutriscore = data['product']['nutriscore_grade']\n",
    "print(nutriscore)'''"
   ]
  },
  {
   "cell_type": "code",
   "execution_count": 9,
   "metadata": {},
   "outputs": [
    {
     "name": "stdout",
     "output_type": "stream",
     "text": [
      "https://images.openfoodfacts.org/images/products/073/762/806/4502/front_en.6.400.jpg\n"
     ]
    }
   ],
   "source": [
    "'''url_image=data['product']['image_front_url']\n",
    "print(url_image)'''"
   ]
  },
  {
   "cell_type": "code",
   "execution_count": 10,
   "metadata": {},
   "outputs": [
    {
     "name": "stdout",
     "output_type": "stream",
     "text": [
      "['rice-noodles', 'rice', 'water', 'seasoning-packet', 'peanut', 'sugar', 'salt', 'corn-starch', 'spices', 'chili', 'cinnamon', 'pepper', 'cumin', 'clove', 'hydrdlyzed-soy-protein', 'green-onions', 'citric-acid', 'peanut-oil', 'sesame-oil', 'natural-flavor']\n"
     ]
    }
   ],
   "source": [
    "'''ingredients = data['product']['ingredients_ids_debug']\n",
    "print(ingredients)'''"
   ]
  },
  {
   "cell_type": "code",
   "execution_count": 11,
   "metadata": {},
   "outputs": [],
   "source": [
    "# Requête pour récupérer les produits triés par Nutri-Score, limités à 100\n",
    "#url = \"https://fr.openfoodfacts.org/cgi/search.pl?sort_by=nutriscore_grade&json=1&page_size=100\""
   ]
  },
  {
   "cell_type": "code",
   "execution_count": 15,
   "metadata": {},
   "outputs": [],
   "source": [
    "import requests\n",
    "import json\n",
    "import pandas as pd"
   ]
  },
  {
   "cell_type": "code",
   "execution_count": 37,
   "metadata": {},
   "outputs": [
    {
     "ename": "KeyError",
     "evalue": "'product_name'",
     "output_type": "error",
     "traceback": [
      "\u001b[1;31m---------------------------------------------------------------------------\u001b[0m",
      "\u001b[1;31mKeyError\u001b[0m                                  Traceback (most recent call last)",
      "\u001b[1;32m~\\AppData\\Local\\Temp\\ipykernel_15908\\3618222282.py\u001b[0m in \u001b[0;36m<module>\u001b[1;34m\u001b[0m\n\u001b[0;32m     35\u001b[0m \u001b[1;33m\u001b[0m\u001b[0m\n\u001b[0;32m     36\u001b[0m \u001b[1;33m\u001b[0m\u001b[0m\n\u001b[1;32m---> 37\u001b[1;33m             \u001b[0mlist_products\u001b[0m\u001b[1;33m.\u001b[0m\u001b[0mappend\u001b[0m\u001b[1;33m(\u001b[0m\u001b[0mproduct\u001b[0m\u001b[1;33m[\u001b[0m\u001b[1;34m\"product_name\"\u001b[0m\u001b[1;33m]\u001b[0m\u001b[1;33m)\u001b[0m\u001b[1;33m\u001b[0m\u001b[1;33m\u001b[0m\u001b[0m\n\u001b[0m\u001b[0;32m     38\u001b[0m             \u001b[0mlist_image_url\u001b[0m\u001b[1;33m.\u001b[0m\u001b[0mappend\u001b[0m\u001b[1;33m(\u001b[0m\u001b[0mproduct\u001b[0m\u001b[1;33m[\u001b[0m\u001b[1;34m\"image_front_url\"\u001b[0m\u001b[1;33m]\u001b[0m\u001b[1;33m)\u001b[0m\u001b[1;33m\u001b[0m\u001b[1;33m\u001b[0m\u001b[0m\n\u001b[0;32m     39\u001b[0m             \u001b[0mlist_nutri_scores\u001b[0m\u001b[1;33m.\u001b[0m\u001b[0mappend\u001b[0m\u001b[1;33m(\u001b[0m\u001b[0mproduct\u001b[0m\u001b[1;33m[\u001b[0m\u001b[1;34m\"nutrition_grades\"\u001b[0m\u001b[1;33m]\u001b[0m\u001b[1;33m)\u001b[0m\u001b[1;33m\u001b[0m\u001b[1;33m\u001b[0m\u001b[0m\n",
      "\u001b[1;31mKeyError\u001b[0m: 'product_name'"
     ]
    }
   ],
   "source": [
    "\n",
    "# Paramètres de la requête\n",
    "url = \"https://fr.openfoodfacts.org/cgi/search.pl\"\n",
    "params = {\n",
    "    \"action\": \"process\",\n",
    "    \"sort_by\": \"nutrition_grades\",\n",
    "    \"json\": 1,\n",
    "    \"page_size\": 20\n",
    "}\n",
    "\n",
    "# Liste des catégories à traiter\n",
    "categories = [\"Boissons\", \"Produits laitiers\", \"Viandes\", \"Poissons\"]\n",
    "\n",
    "#dossiers pour le df\n",
    "list_products = []\n",
    "list_nutri_scores = []\n",
    "list_image_url=[]\n",
    "\n",
    "# Parcours de chaque catégorie et récupération des produits\n",
    "for category in categories:\n",
    "    #print(\"Top 10 des produits avec le meilleur nutriscore pour la catégorie\", category)\n",
    "    params[\"tagtype_0\"] = \"categories\"\n",
    "    params[\"tag_contains_0\"] = \"contains\"\n",
    "    params[\"tag_0\"] = category\n",
    "\n",
    "    # Envoi de la requête GET à l'API\n",
    "    response = requests.get(url, params=params)\n",
    "\n",
    "    # Traitement de la réponse JSON renvoyée par l'API\n",
    "\n",
    "\n",
    "    if response.status_code == 200:\n",
    "        data = json.loads(response.text)\n",
    "        products = data[\"products\"]\n",
    "        for product in products:\n",
    "                            \n",
    "\n",
    "            list_products.append(product[\"product_name\"])\n",
    "            list_image_url.append(product[\"image_front_url\"])    \n",
    "            list_nutri_scores.append(product[\"nutrition_grades\"])        \n",
    "\n",
    "\n",
    "            #print(product[\"product_name\"], \"-\", product[\"nutrition_grades\"])\n",
    "            #list_nutri_scores.append(product[\"nutrition_grades\"])\n",
    "\n",
    "    else:\n",
    "        print(\"Erreur lors de la requête : code HTTP\", response.status_code)\n",
    "    \n",
    "\n"
   ]
  },
  {
   "cell_type": "code",
   "execution_count": 30,
   "metadata": {},
   "outputs": [],
   "source": [
    "data = {'produit': list_products,\n",
    "         'nutriscore': list_nutri_scores,\n",
    "         'image_url': list_image_url}"
   ]
  },
  {
   "cell_type": "code",
   "execution_count": null,
   "metadata": {},
   "outputs": [],
   "source": [
    "df = pd.DataFrame(data=data)"
   ]
  },
  {
   "cell_type": "code",
   "execution_count": 32,
   "metadata": {},
   "outputs": [],
   "source": [
    "try :\n",
    "    df = pd.DataFrame(data=data)\n",
    "\n",
    "except ValueError :\n",
    "   pass"
   ]
  },
  {
   "cell_type": "code",
   "execution_count": null,
   "metadata": {},
   "outputs": [],
   "source": [
    "df.head()"
   ]
  },
  {
   "cell_type": "code",
   "execution_count": null,
   "metadata": {},
   "outputs": [],
   "source": [
    "#transfer pandas to json\n",
    "#df.to_json('OpenFoodFact_100BestScores.json', orient=\"records\")"
   ]
  },
  {
   "cell_type": "code",
   "execution_count": null,
   "metadata": {},
   "outputs": [
    {
     "name": "stdout",
     "output_type": "stream",
     "text": [
      "['GARDEN GOURMET Carré gourmand Tomates et mozzarella 160g', 'Courgettes cuisinées à la provençale', 'Lentilles préparées', 'Nouille instantanées goût poulet', 'Lentilles cuisinées, riz & soja', 'Pizza Végétale', 'Mon Taboulé Oriental', 'Suédois - Duo de saumon', '28 bâtonnets de surimi', 'Couscous Oriental légumes cuisinés et poulet émincé']\n"
     ]
    }
   ],
   "source": [
    "'''import json\n",
    "import requests\n",
    "\n",
    "#url2 = f\"https://world.openfoodfacts.org/{category}/%7B{category}%7D/%7Bself.{max_products_per_category}%7D.json\"\n",
    "\n",
    "# Paramètres de la requête\n",
    "url = \"https://fr.openfoodfacts.org/cgi/search.pl\"\n",
    "params = {\n",
    "    \"action\": \"process\",\n",
    "    \"sort_by\": \"nutrition_grades\",\n",
    "    \"json\": 1,\n",
    "    \"page_size\": 10\n",
    "}\n",
    "\n",
    "categories = [\"Boissons\", \"Produits laitiers\", \"Viandes\", \"Poissons\", \"Plats préparés\"]\n",
    "\n",
    "for category in categories:\n",
    "    # Ajout du filtre par catégorie à la requête\n",
    "    params[\"tagtype_0\"] = \"categories\"\n",
    "    params[\"tag_contains_0\"] = \"contains\"\n",
    "    params[\"tag_0\"] = category\n",
    "\n",
    "# Envoi de la requête GET à l'API\n",
    "response = requests.get(url, params=params)\n",
    "\n",
    "list_products = []\n",
    "list_nutri_scores = []\n",
    "list_image_url=[]\n",
    "\n",
    "# Traitement de la réponse JSON renvoyée par l'API\n",
    "if response.status_code == 200:\n",
    "    data = json.loads(response.text)\n",
    "    products = data[\"products\"]\n",
    "    for product in products:\n",
    "        list_products.append(product[\"product_name\"])\n",
    "        #list_nutri_scores.append(product[\"nutrition_grades\"])\n",
    "        list_image_url.append(product[\"image_front_url\"])\n",
    "else:\n",
    "    print(\"Erreur lors de la requête : code HTTP\", response.status_code)\n",
    "\n",
    "print(list_products)'''"
   ]
  },
  {
   "cell_type": "code",
   "execution_count": null,
   "metadata": {},
   "outputs": [],
   "source": [
    "# class de Ju_lien\n",
    "\n",
    "\n",
    "# class GetCategoryProduct:\n",
    "    def init(self, categories, max_products_per_category):\n",
    "        self.categories = categories\n",
    "        self.max_products_per_category = max_products_per_category\n",
    "\n",
    "    async def get_products(self):\n",
    "        async with aiohttp.ClientSession() as session:\n",
    "            tasks = []\n",
    "            for category in self.categories:\n",
    "                url = f\"https://world.openfoodfacts.org/{category}/%7B{category}%7D/%7Bself.{max_products_per_category}%7D.json\"\n",
    "                tasks.append(self.fetch(session, url))\n",
    "            responses = await asyncio.gather(*tasks)\n",
    "            data = [json.loads(response) for response in responses]\n",
    "            products_by_category = [category_data[\"products\"] for category_data in data]\n",
    "            return products_by_category\n",
    "\n",
    "    async def fetch(self, session, url):\n",
    "        async with session.get(url) as response:\n",
    "            return await response.text()\n",
    "\n",
    "categories = [\"pizzas\", \"sandwiches\", \"pates-a-tartiner\"]\n",
    "max_products_per_category = 50\n",
    "getCategoryProduct = GetCategoryProduct(categories, max_products_per_category)\n",
    "\n",
    "# On teste la classe\n",
    "# products_by_category = asyncio.run(getCategoryProduct.get_products())\n",
    "\n",
    "# Sur un notebook, il faut utiliser la boucle d'événements\n",
    "#products_by_category = await getCategoryProduct.get_products()"
   ]
  },
  {
   "cell_type": "code",
   "execution_count": 38,
   "metadata": {},
   "outputs": [],
   "source": [
    "import pandas as pd"
   ]
  },
  {
   "cell_type": "code",
   "execution_count": 44,
   "metadata": {},
   "outputs": [
    {
     "ename": "ParserError",
     "evalue": "Error tokenizing data. C error: Expected 37 fields in line 3, saw 52\n",
     "output_type": "error",
     "traceback": [
      "\u001b[1;31m---------------------------------------------------------------------------\u001b[0m",
      "\u001b[1;31mParserError\u001b[0m                               Traceback (most recent call last)",
      "\u001b[1;32m~\\AppData\\Local\\Temp\\ipykernel_15908\\4183552692.py\u001b[0m in \u001b[0;36m<module>\u001b[1;34m\u001b[0m\n\u001b[0;32m      1\u001b[0m \u001b[0murl\u001b[0m \u001b[1;33m=\u001b[0m \u001b[1;34m\"https://fr.openfoodfacts.org/data/fr.openfoodfacts.org.products.csv\"\u001b[0m\u001b[1;33m\u001b[0m\u001b[1;33m\u001b[0m\u001b[0m\n\u001b[0;32m      2\u001b[0m \u001b[1;33m\u001b[0m\u001b[0m\n\u001b[1;32m----> 3\u001b[1;33m \u001b[0mdf\u001b[0m \u001b[1;33m=\u001b[0m \u001b[0mpd\u001b[0m\u001b[1;33m.\u001b[0m\u001b[0mread_csv\u001b[0m\u001b[1;33m(\u001b[0m\u001b[0murl\u001b[0m\u001b[1;33m,\u001b[0m \u001b[0mnrows\u001b[0m\u001b[1;33m=\u001b[0m\u001b[1;36m100\u001b[0m\u001b[1;33m)\u001b[0m\u001b[1;33m\u001b[0m\u001b[1;33m\u001b[0m\u001b[0m\n\u001b[0m",
      "\u001b[1;32mc:\\Users\\cathe\\anaconda3\\lib\\site-packages\\pandas\\util\\_decorators.py\u001b[0m in \u001b[0;36mwrapper\u001b[1;34m(*args, **kwargs)\u001b[0m\n\u001b[0;32m    209\u001b[0m                 \u001b[1;32melse\u001b[0m\u001b[1;33m:\u001b[0m\u001b[1;33m\u001b[0m\u001b[1;33m\u001b[0m\u001b[0m\n\u001b[0;32m    210\u001b[0m                     \u001b[0mkwargs\u001b[0m\u001b[1;33m[\u001b[0m\u001b[0mnew_arg_name\u001b[0m\u001b[1;33m]\u001b[0m \u001b[1;33m=\u001b[0m \u001b[0mnew_arg_value\u001b[0m\u001b[1;33m\u001b[0m\u001b[1;33m\u001b[0m\u001b[0m\n\u001b[1;32m--> 211\u001b[1;33m             \u001b[1;32mreturn\u001b[0m \u001b[0mfunc\u001b[0m\u001b[1;33m(\u001b[0m\u001b[1;33m*\u001b[0m\u001b[0margs\u001b[0m\u001b[1;33m,\u001b[0m \u001b[1;33m**\u001b[0m\u001b[0mkwargs\u001b[0m\u001b[1;33m)\u001b[0m\u001b[1;33m\u001b[0m\u001b[1;33m\u001b[0m\u001b[0m\n\u001b[0m\u001b[0;32m    212\u001b[0m \u001b[1;33m\u001b[0m\u001b[0m\n\u001b[0;32m    213\u001b[0m         \u001b[1;32mreturn\u001b[0m \u001b[0mcast\u001b[0m\u001b[1;33m(\u001b[0m\u001b[0mF\u001b[0m\u001b[1;33m,\u001b[0m \u001b[0mwrapper\u001b[0m\u001b[1;33m)\u001b[0m\u001b[1;33m\u001b[0m\u001b[1;33m\u001b[0m\u001b[0m\n",
      "\u001b[1;32mc:\\Users\\cathe\\anaconda3\\lib\\site-packages\\pandas\\util\\_decorators.py\u001b[0m in \u001b[0;36mwrapper\u001b[1;34m(*args, **kwargs)\u001b[0m\n\u001b[0;32m    329\u001b[0m                     \u001b[0mstacklevel\u001b[0m\u001b[1;33m=\u001b[0m\u001b[0mfind_stack_level\u001b[0m\u001b[1;33m(\u001b[0m\u001b[1;33m)\u001b[0m\u001b[1;33m,\u001b[0m\u001b[1;33m\u001b[0m\u001b[1;33m\u001b[0m\u001b[0m\n\u001b[0;32m    330\u001b[0m                 )\n\u001b[1;32m--> 331\u001b[1;33m             \u001b[1;32mreturn\u001b[0m \u001b[0mfunc\u001b[0m\u001b[1;33m(\u001b[0m\u001b[1;33m*\u001b[0m\u001b[0margs\u001b[0m\u001b[1;33m,\u001b[0m \u001b[1;33m**\u001b[0m\u001b[0mkwargs\u001b[0m\u001b[1;33m)\u001b[0m\u001b[1;33m\u001b[0m\u001b[1;33m\u001b[0m\u001b[0m\n\u001b[0m\u001b[0;32m    332\u001b[0m \u001b[1;33m\u001b[0m\u001b[0m\n\u001b[0;32m    333\u001b[0m         \u001b[1;31m# error: \"Callable[[VarArg(Any), KwArg(Any)], Any]\" has no\u001b[0m\u001b[1;33m\u001b[0m\u001b[1;33m\u001b[0m\u001b[0m\n",
      "\u001b[1;32mc:\\Users\\cathe\\anaconda3\\lib\\site-packages\\pandas\\io\\parsers\\readers.py\u001b[0m in \u001b[0;36mread_csv\u001b[1;34m(filepath_or_buffer, sep, delimiter, header, names, index_col, usecols, squeeze, prefix, mangle_dupe_cols, dtype, engine, converters, true_values, false_values, skipinitialspace, skiprows, skipfooter, nrows, na_values, keep_default_na, na_filter, verbose, skip_blank_lines, parse_dates, infer_datetime_format, keep_date_col, date_parser, dayfirst, cache_dates, iterator, chunksize, compression, thousands, decimal, lineterminator, quotechar, quoting, doublequote, escapechar, comment, encoding, encoding_errors, dialect, error_bad_lines, warn_bad_lines, on_bad_lines, delim_whitespace, low_memory, memory_map, float_precision, storage_options)\u001b[0m\n\u001b[0;32m    948\u001b[0m     \u001b[0mkwds\u001b[0m\u001b[1;33m.\u001b[0m\u001b[0mupdate\u001b[0m\u001b[1;33m(\u001b[0m\u001b[0mkwds_defaults\u001b[0m\u001b[1;33m)\u001b[0m\u001b[1;33m\u001b[0m\u001b[1;33m\u001b[0m\u001b[0m\n\u001b[0;32m    949\u001b[0m \u001b[1;33m\u001b[0m\u001b[0m\n\u001b[1;32m--> 950\u001b[1;33m     \u001b[1;32mreturn\u001b[0m \u001b[0m_read\u001b[0m\u001b[1;33m(\u001b[0m\u001b[0mfilepath_or_buffer\u001b[0m\u001b[1;33m,\u001b[0m \u001b[0mkwds\u001b[0m\u001b[1;33m)\u001b[0m\u001b[1;33m\u001b[0m\u001b[1;33m\u001b[0m\u001b[0m\n\u001b[0m\u001b[0;32m    951\u001b[0m \u001b[1;33m\u001b[0m\u001b[0m\n\u001b[0;32m    952\u001b[0m \u001b[1;33m\u001b[0m\u001b[0m\n",
      "\u001b[1;32mc:\\Users\\cathe\\anaconda3\\lib\\site-packages\\pandas\\io\\parsers\\readers.py\u001b[0m in \u001b[0;36m_read\u001b[1;34m(filepath_or_buffer, kwds)\u001b[0m\n\u001b[0;32m    609\u001b[0m \u001b[1;33m\u001b[0m\u001b[0m\n\u001b[0;32m    610\u001b[0m     \u001b[1;32mwith\u001b[0m \u001b[0mparser\u001b[0m\u001b[1;33m:\u001b[0m\u001b[1;33m\u001b[0m\u001b[1;33m\u001b[0m\u001b[0m\n\u001b[1;32m--> 611\u001b[1;33m         \u001b[1;32mreturn\u001b[0m \u001b[0mparser\u001b[0m\u001b[1;33m.\u001b[0m\u001b[0mread\u001b[0m\u001b[1;33m(\u001b[0m\u001b[0mnrows\u001b[0m\u001b[1;33m)\u001b[0m\u001b[1;33m\u001b[0m\u001b[1;33m\u001b[0m\u001b[0m\n\u001b[0m\u001b[0;32m    612\u001b[0m \u001b[1;33m\u001b[0m\u001b[0m\n\u001b[0;32m    613\u001b[0m \u001b[1;33m\u001b[0m\u001b[0m\n",
      "\u001b[1;32mc:\\Users\\cathe\\anaconda3\\lib\\site-packages\\pandas\\io\\parsers\\readers.py\u001b[0m in \u001b[0;36mread\u001b[1;34m(self, nrows)\u001b[0m\n\u001b[0;32m   1776\u001b[0m                     \u001b[0mcolumns\u001b[0m\u001b[1;33m,\u001b[0m\u001b[1;33m\u001b[0m\u001b[1;33m\u001b[0m\u001b[0m\n\u001b[0;32m   1777\u001b[0m                     \u001b[0mcol_dict\u001b[0m\u001b[1;33m,\u001b[0m\u001b[1;33m\u001b[0m\u001b[1;33m\u001b[0m\u001b[0m\n\u001b[1;32m-> 1778\u001b[1;33m                 \u001b[1;33m)\u001b[0m \u001b[1;33m=\u001b[0m \u001b[0mself\u001b[0m\u001b[1;33m.\u001b[0m\u001b[0m_engine\u001b[0m\u001b[1;33m.\u001b[0m\u001b[0mread\u001b[0m\u001b[1;33m(\u001b[0m  \u001b[1;31m# type: ignore[attr-defined]\u001b[0m\u001b[1;33m\u001b[0m\u001b[1;33m\u001b[0m\u001b[0m\n\u001b[0m\u001b[0;32m   1779\u001b[0m                     \u001b[0mnrows\u001b[0m\u001b[1;33m\u001b[0m\u001b[1;33m\u001b[0m\u001b[0m\n\u001b[0;32m   1780\u001b[0m                 )\n",
      "\u001b[1;32mc:\\Users\\cathe\\anaconda3\\lib\\site-packages\\pandas\\io\\parsers\\c_parser_wrapper.py\u001b[0m in \u001b[0;36mread\u001b[1;34m(self, nrows)\u001b[0m\n\u001b[0;32m    228\u001b[0m         \u001b[1;32mtry\u001b[0m\u001b[1;33m:\u001b[0m\u001b[1;33m\u001b[0m\u001b[1;33m\u001b[0m\u001b[0m\n\u001b[0;32m    229\u001b[0m             \u001b[1;32mif\u001b[0m \u001b[0mself\u001b[0m\u001b[1;33m.\u001b[0m\u001b[0mlow_memory\u001b[0m\u001b[1;33m:\u001b[0m\u001b[1;33m\u001b[0m\u001b[1;33m\u001b[0m\u001b[0m\n\u001b[1;32m--> 230\u001b[1;33m                 \u001b[0mchunks\u001b[0m \u001b[1;33m=\u001b[0m \u001b[0mself\u001b[0m\u001b[1;33m.\u001b[0m\u001b[0m_reader\u001b[0m\u001b[1;33m.\u001b[0m\u001b[0mread_low_memory\u001b[0m\u001b[1;33m(\u001b[0m\u001b[0mnrows\u001b[0m\u001b[1;33m)\u001b[0m\u001b[1;33m\u001b[0m\u001b[1;33m\u001b[0m\u001b[0m\n\u001b[0m\u001b[0;32m    231\u001b[0m                 \u001b[1;31m# destructive to chunks\u001b[0m\u001b[1;33m\u001b[0m\u001b[1;33m\u001b[0m\u001b[0m\n\u001b[0;32m    232\u001b[0m                 \u001b[0mdata\u001b[0m \u001b[1;33m=\u001b[0m \u001b[0m_concatenate_chunks\u001b[0m\u001b[1;33m(\u001b[0m\u001b[0mchunks\u001b[0m\u001b[1;33m)\u001b[0m\u001b[1;33m\u001b[0m\u001b[1;33m\u001b[0m\u001b[0m\n",
      "\u001b[1;32mc:\\Users\\cathe\\anaconda3\\lib\\site-packages\\pandas\\_libs\\parsers.pyx\u001b[0m in \u001b[0;36mpandas._libs.parsers.TextReader.read_low_memory\u001b[1;34m()\u001b[0m\n",
      "\u001b[1;32mc:\\Users\\cathe\\anaconda3\\lib\\site-packages\\pandas\\_libs\\parsers.pyx\u001b[0m in \u001b[0;36mpandas._libs.parsers.TextReader._read_rows\u001b[1;34m()\u001b[0m\n",
      "\u001b[1;32mc:\\Users\\cathe\\anaconda3\\lib\\site-packages\\pandas\\_libs\\parsers.pyx\u001b[0m in \u001b[0;36mpandas._libs.parsers.TextReader._tokenize_rows\u001b[1;34m()\u001b[0m\n",
      "\u001b[1;32mc:\\Users\\cathe\\anaconda3\\lib\\site-packages\\pandas\\_libs\\parsers.pyx\u001b[0m in \u001b[0;36mpandas._libs.parsers.raise_parser_error\u001b[1;34m()\u001b[0m\n",
      "\u001b[1;31mParserError\u001b[0m: Error tokenizing data. C error: Expected 37 fields in line 3, saw 52\n"
     ]
    }
   ],
   "source": [
    "url = \"https://fr.openfoodfacts.org/data/fr.openfoodfacts.org.products.csv\"\n",
    "\n",
    "df = pd.read_csv(url, nrows=100)"
   ]
  },
  {
   "cell_type": "code",
   "execution_count": null,
   "metadata": {},
   "outputs": [],
   "source": [
    "df.head(50)"
   ]
  }
 ],
 "metadata": {
  "kernelspec": {
   "display_name": "base",
   "language": "python",
   "name": "python3"
  },
  "language_info": {
   "codemirror_mode": {
    "name": "ipython",
    "version": 3
   },
   "file_extension": ".py",
   "mimetype": "text/x-python",
   "name": "python",
   "nbconvert_exporter": "python",
   "pygments_lexer": "ipython3",
   "version": "3.9.16"
  },
  "orig_nbformat": 4
 },
 "nbformat": 4,
 "nbformat_minor": 2
}
