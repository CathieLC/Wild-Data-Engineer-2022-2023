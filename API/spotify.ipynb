{
 "cells": [
  {
   "cell_type": "code",
   "execution_count": 7,
   "metadata": {},
   "outputs": [],
   "source": [
    "import requests\n",
    "import datetime\n",
    "import base64"
   ]
  },
  {
   "cell_type": "code",
   "execution_count": 2,
   "metadata": {},
   "outputs": [],
   "source": [
    "Client_ID = '7e98bd7043404013b81a1d56b37fccd6'\n",
    "Client_Secret = '40663c0d513646f6b268f5d33b308ec9'\n",
    "\n",
    "headers = {}"
   ]
  },
  {
   "cell_type": "code",
   "execution_count": 6,
   "metadata": {},
   "outputs": [
    {
     "name": "stdout",
     "output_type": "stream",
     "text": [
      "Playlist : {'error': {'status': 400, 'message': 'Only valid bearer authentication supported'}}\n"
     ]
    }
   ],
   "source": [
    "#autorisation\n",
    "\n",
    "\n",
    "SPOTIFY_CREATE_PLAYLIST_URL = 'https://api.spotify.com/v1/users/S6X_fKy(qMcmA7U/playlists'\n",
    "access_token = 'BQBxRnAD-wDGKLsm6mubet4ETXvtTWo6uh25Ipn01bYby89EvQpx1uuTRDUp_qJdFsRAqHynLWWpEjzJLiQNn9z5SKjWux8uU4r-QR_-9mOk5i_EuuG_c6HJo3FanxlU0aHQ5-KlhLVPcLHkfaMNaLvr1I0uvo5kt-KhN35_DCoVwCegflOO6eYSGvyjn2MlC8qLySuL_5dQMhFudfm6zE_013Zp24F6ra3avYKdFdLQNYDulwPX-qKJj24fUIGA'\n",
    "\n",
    "\n",
    "def create_playlist_on_spotify(name,public):\n",
    "    response = requests.post(\n",
    "        SPOTIFY_CREATE_PLAYLIST_URL,\n",
    "        headers = {'Authorization' : f'Bearer{access_token}'},\n",
    "        json = {'name' : name,\n",
    "                'public' : public})\n",
    "    \n",
    "    json_resp = response.json()\n",
    "\n",
    "    return json_resp\n",
    "\n",
    "def main():\n",
    "    playlist = create_playlist_on_spotify(\n",
    "        name='My private playlist',\n",
    "        public=False)\n",
    "\n",
    "    print(f'Playlist : {playlist}')\n",
    "\n",
    "if __name__ == '__main__':\n",
    "    main()\n"
   ]
  },
  {
   "cell_type": "code",
   "execution_count": 18,
   "metadata": {},
   "outputs": [
    {
     "name": "stdout",
     "output_type": "stream",
     "text": [
      "<class 'str'>\n",
      "<class 'requests.models.Response'>\n"
     ]
    },
    {
     "ename": "JSONDecodeError",
     "evalue": "Expecting value: line 2 column 1 (char 1)",
     "output_type": "error",
     "traceback": [
      "\u001b[1;31m---------------------------------------------------------------------------\u001b[0m",
      "\u001b[1;31mJSONDecodeError\u001b[0m                           Traceback (most recent call last)",
      "\u001b[1;32mc:\\Users\\cathe\\Documents\\Data_Engineer_2022_2023_WCS\\VS_code\\Wild-Data-Engineer-2022-2023\\API\\spotify.ipynb Cellule 4\u001b[0m in \u001b[0;36m<cell line: 17>\u001b[1;34m()\u001b[0m\n\u001b[0;32m     <a href='vscode-notebook-cell:/c%3A/Users/cathe/Documents/Data_Engineer_2022_2023_WCS/VS_code/Wild-Data-Engineer-2022-2023/API/spotify.ipynb#W5sZmlsZQ%3D%3D?line=14'>15</a>\u001b[0m r \u001b[39m=\u001b[39m requests\u001b[39m.\u001b[39mpost(token_url, data\u001b[39m=\u001b[39mtoken_data, headers\u001b[39m=\u001b[39mtoken_headers)\n\u001b[0;32m     <a href='vscode-notebook-cell:/c%3A/Users/cathe/Documents/Data_Engineer_2022_2023_WCS/VS_code/Wild-Data-Engineer-2022-2023/API/spotify.ipynb#W5sZmlsZQ%3D%3D?line=15'>16</a>\u001b[0m \u001b[39mprint\u001b[39m(\u001b[39mtype\u001b[39m(r))\n\u001b[1;32m---> <a href='vscode-notebook-cell:/c%3A/Users/cathe/Documents/Data_Engineer_2022_2023_WCS/VS_code/Wild-Data-Engineer-2022-2023/API/spotify.ipynb#W5sZmlsZQ%3D%3D?line=16'>17</a>\u001b[0m \u001b[39mprint\u001b[39m(r\u001b[39m.\u001b[39;49mjson())\n\u001b[0;32m     <a href='vscode-notebook-cell:/c%3A/Users/cathe/Documents/Data_Engineer_2022_2023_WCS/VS_code/Wild-Data-Engineer-2022-2023/API/spotify.ipynb#W5sZmlsZQ%3D%3D?line=17'>18</a>\u001b[0m valid_request \u001b[39m=\u001b[39m r\u001b[39m.\u001b[39mstatus_code \u001b[39min\u001b[39;00m \u001b[39mrange\u001b[39m(\u001b[39m200\u001b[39m, \u001b[39m299\u001b[39m)\n\u001b[0;32m     <a href='vscode-notebook-cell:/c%3A/Users/cathe/Documents/Data_Engineer_2022_2023_WCS/VS_code/Wild-Data-Engineer-2022-2023/API/spotify.ipynb#W5sZmlsZQ%3D%3D?line=19'>20</a>\u001b[0m \u001b[39mif\u001b[39;00m valid_request:\n",
      "File \u001b[1;32m~\\AppData\\Roaming\\Python\\Python38\\site-packages\\requests\\models.py:910\u001b[0m, in \u001b[0;36mResponse.json\u001b[1;34m(self, **kwargs)\u001b[0m\n\u001b[0;32m    904\u001b[0m         \u001b[39mexcept\u001b[39;00m \u001b[39mUnicodeDecodeError\u001b[39;00m:\n\u001b[0;32m    905\u001b[0m             \u001b[39m# Wrong UTF codec detected; usually because it's not UTF-8\u001b[39;00m\n\u001b[0;32m    906\u001b[0m             \u001b[39m# but some other 8-bit codec.  This is an RFC violation,\u001b[39;00m\n\u001b[0;32m    907\u001b[0m             \u001b[39m# and the server didn't bother to tell us what codec *was*\u001b[39;00m\n\u001b[0;32m    908\u001b[0m             \u001b[39m# used.\u001b[39;00m\n\u001b[0;32m    909\u001b[0m             \u001b[39mpass\u001b[39;00m\n\u001b[1;32m--> 910\u001b[0m \u001b[39mreturn\u001b[39;00m complexjson\u001b[39m.\u001b[39;49mloads(\u001b[39mself\u001b[39;49m\u001b[39m.\u001b[39;49mtext, \u001b[39m*\u001b[39;49m\u001b[39m*\u001b[39;49mkwargs)\n",
      "File \u001b[1;32mc:\\Users\\cathe\\anaconda3\\lib\\json\\__init__.py:357\u001b[0m, in \u001b[0;36mloads\u001b[1;34m(s, cls, object_hook, parse_float, parse_int, parse_constant, object_pairs_hook, **kw)\u001b[0m\n\u001b[0;32m    352\u001b[0m     \u001b[39mdel\u001b[39;00m kw[\u001b[39m'\u001b[39m\u001b[39mencoding\u001b[39m\u001b[39m'\u001b[39m]\n\u001b[0;32m    354\u001b[0m \u001b[39mif\u001b[39;00m (\u001b[39mcls\u001b[39m \u001b[39mis\u001b[39;00m \u001b[39mNone\u001b[39;00m \u001b[39mand\u001b[39;00m object_hook \u001b[39mis\u001b[39;00m \u001b[39mNone\u001b[39;00m \u001b[39mand\u001b[39;00m\n\u001b[0;32m    355\u001b[0m         parse_int \u001b[39mis\u001b[39;00m \u001b[39mNone\u001b[39;00m \u001b[39mand\u001b[39;00m parse_float \u001b[39mis\u001b[39;00m \u001b[39mNone\u001b[39;00m \u001b[39mand\u001b[39;00m\n\u001b[0;32m    356\u001b[0m         parse_constant \u001b[39mis\u001b[39;00m \u001b[39mNone\u001b[39;00m \u001b[39mand\u001b[39;00m object_pairs_hook \u001b[39mis\u001b[39;00m \u001b[39mNone\u001b[39;00m \u001b[39mand\u001b[39;00m \u001b[39mnot\u001b[39;00m kw):\n\u001b[1;32m--> 357\u001b[0m     \u001b[39mreturn\u001b[39;00m _default_decoder\u001b[39m.\u001b[39;49mdecode(s)\n\u001b[0;32m    358\u001b[0m \u001b[39mif\u001b[39;00m \u001b[39mcls\u001b[39m \u001b[39mis\u001b[39;00m \u001b[39mNone\u001b[39;00m:\n\u001b[0;32m    359\u001b[0m     \u001b[39mcls\u001b[39m \u001b[39m=\u001b[39m JSONDecoder\n",
      "File \u001b[1;32mc:\\Users\\cathe\\anaconda3\\lib\\json\\decoder.py:337\u001b[0m, in \u001b[0;36mJSONDecoder.decode\u001b[1;34m(self, s, _w)\u001b[0m\n\u001b[0;32m    332\u001b[0m \u001b[39mdef\u001b[39;00m \u001b[39mdecode\u001b[39m(\u001b[39mself\u001b[39m, s, _w\u001b[39m=\u001b[39mWHITESPACE\u001b[39m.\u001b[39mmatch):\n\u001b[0;32m    333\u001b[0m     \u001b[39m\"\"\"Return the Python representation of ``s`` (a ``str`` instance\u001b[39;00m\n\u001b[0;32m    334\u001b[0m \u001b[39m    containing a JSON document).\u001b[39;00m\n\u001b[0;32m    335\u001b[0m \n\u001b[0;32m    336\u001b[0m \u001b[39m    \"\"\"\u001b[39;00m\n\u001b[1;32m--> 337\u001b[0m     obj, end \u001b[39m=\u001b[39m \u001b[39mself\u001b[39;49m\u001b[39m.\u001b[39;49mraw_decode(s, idx\u001b[39m=\u001b[39;49m_w(s, \u001b[39m0\u001b[39;49m)\u001b[39m.\u001b[39;49mend())\n\u001b[0;32m    338\u001b[0m     end \u001b[39m=\u001b[39m _w(s, end)\u001b[39m.\u001b[39mend()\n\u001b[0;32m    339\u001b[0m     \u001b[39mif\u001b[39;00m end \u001b[39m!=\u001b[39m \u001b[39mlen\u001b[39m(s):\n",
      "File \u001b[1;32mc:\\Users\\cathe\\anaconda3\\lib\\json\\decoder.py:355\u001b[0m, in \u001b[0;36mJSONDecoder.raw_decode\u001b[1;34m(self, s, idx)\u001b[0m\n\u001b[0;32m    353\u001b[0m     obj, end \u001b[39m=\u001b[39m \u001b[39mself\u001b[39m\u001b[39m.\u001b[39mscan_once(s, idx)\n\u001b[0;32m    354\u001b[0m \u001b[39mexcept\u001b[39;00m \u001b[39mStopIteration\u001b[39;00m \u001b[39mas\u001b[39;00m err:\n\u001b[1;32m--> 355\u001b[0m     \u001b[39mraise\u001b[39;00m JSONDecodeError(\u001b[39m\"\u001b[39m\u001b[39mExpecting value\u001b[39m\u001b[39m\"\u001b[39m, s, err\u001b[39m.\u001b[39mvalue) \u001b[39mfrom\u001b[39;00m \u001b[39mNone\u001b[39m\n\u001b[0;32m    356\u001b[0m \u001b[39mreturn\u001b[39;00m obj, end\n",
      "\u001b[1;31mJSONDecodeError\u001b[0m: Expecting value: line 2 column 1 (char 1)"
     ]
    }
   ],
   "source": [
    "Client_ID = '7e98bd7043404013b81a1d56b37fccd6'\n",
    "Client_Secret = '40663c0d513646f6b268f5d33b308ec9'\n",
    "\n",
    "client_creds = f\"{Client_ID}:{Client_Secret}\"\n",
    "print(type(client_creds))\n",
    "client_creds_b64 = base64.b64encode(client_creds.encode())\n",
    "#print(type(client_creds_b64))\n",
    "\n",
    "\n",
    "method = \"POST\"\n",
    "token_data = {\"grant_type\": \"client_credentials\"}\n",
    "token_headers = {\"Authorization\": f\"Basic {client_creds_b64.decode()}\"}\n",
    "token_url = \"https://accounts.spotify.com/{access_token}\"\n",
    "\n",
    "r = requests.post(token_url, data=token_data, headers=token_headers)\n",
    "print(type(r))\n",
    "print(r.json())\n",
    "valid_request = r.status_code in range(200, 299)\n",
    "\n",
    "if valid_request:\n",
    "    token_response_data = r.json()\n",
    "    now = datetime.datetime.now()\n",
    "    access_token = token_response_data['access_token']\n",
    "    expires_in = token_response_data['expires_in'] # seconds\n",
    "    expires = now + datetime.timedelta(seconds=expires_in)\n",
    "    did_expire = expires < now"
   ]
  }
 ],
 "metadata": {
  "kernelspec": {
   "display_name": "Python 3.8.13 ('base')",
   "language": "python",
   "name": "python3"
  },
  "language_info": {
   "codemirror_mode": {
    "name": "ipython",
    "version": 3
   },
   "file_extension": ".py",
   "mimetype": "text/x-python",
   "name": "python",
   "nbconvert_exporter": "python",
   "pygments_lexer": "ipython3",
   "version": "3.8.13"
  },
  "orig_nbformat": 4,
  "vscode": {
   "interpreter": {
    "hash": "d3755b735588d4303beb95518f2ab4e1c49ea1461d509c805a65d62cd2a8f700"
   }
  }
 },
 "nbformat": 4,
 "nbformat_minor": 2
}
