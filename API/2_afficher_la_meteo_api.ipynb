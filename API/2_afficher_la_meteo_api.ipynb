{
 "cells": [
  {
   "cell_type": "markdown",
   "metadata": {},
   "source": [
    "1 - Se créer un compte  \n",
    "2 - Allez sur API => Current Weather Data => API doc  \n",
    "3 - installer le module \"requests\" si ce n'est pas déjà fait (pour vérifier \"pip list\" dans le cmd)  "
   ]
  },
  {
   "cell_type": "code",
   "execution_count": 1,
   "metadata": {},
   "outputs": [],
   "source": [
    "import requests"
   ]
  },
  {
   "cell_type": "code",
   "execution_count": 2,
   "metadata": {},
   "outputs": [],
   "source": [
    "site = 'https://openweathermap.org/'"
   ]
  },
  {
   "cell_type": "code",
   "execution_count": 13,
   "metadata": {},
   "outputs": [],
   "source": [
    "#Multilingual support\n",
    "\n",
    "langage = 'fr' # aller au pied de la page de l'api pour voir toutes les langues proposées\n",
    "clef = '59134f53726fda3f3b3a622e33acd63d'\n",
    "api_lien = f\"https://api.openweathermap.org/data/2.5/weather?q={cityname}&appid={clef}&lang={langage}\" #copier le API call de Multilingual support\n"
   ]
  },
  {
   "cell_type": "markdown",
   "metadata": {},
   "source": [
    "1 - langage = Aller au pied de la page de l'api pour voir toutes les langues proposées\n",
    "\n",
    "2 - clef = Ce sera le API key du lien API à remplacer : \n",
    "    \n",
    "\n",
    "3 - api_lien à modifier\n",
    "A la place de **API key** on va mettre notre **clef** et à la place de **lang** on va mettre notre **langage** \n",
    "    lien d'origine : https://api.openweathermap.org/data/2.5/weather?lat={lat}&lon={lon}&appid={API key}&lang={lang}\n",
    "    lien corrigé avec mes informations : https://api.openweathermap.org/data/2.5/weather?lat={lat}&lon={lon}&appid={clef}&lang={langage}\n",
    "\n",
    "A la place de **lat={lat}&lon={lon}** on va mettre notre **q={cityname}**\n",
    "    lien avant modifs : https://api.openweathermap.org/data/2.5/weather?lat={lat}&lon={lon}&appid={clef}&lang={langage}\n",
    "    lien modifié : https://api.openweathermap.org/data/2.5/weather?q={cityname}&appid={clef}&lang={langage}\n",
    "\n",
    "4 - Récupérer la clé API en cliquant sur API Key depuis le site, dans le lien API call : (si vous n'avez pas créé de compte c'est maintenant qu'il faut le faire)\n",
    "Donc cela me génère une clé : 59134f53726fda3f3b3a622e33acd63d que je place dans clef = ''\n",
    "\n",
    "\n",
    "5- On va utiliser le module requests et lorsque l'on va appeler la variable \"api_lien\", celui ci qui nous renverra un json"
   ]
  },
  {
   "cell_type": "code",
   "execution_count": 36,
   "metadata": {},
   "outputs": [
    {
     "name": "stdout",
     "output_type": "stream",
     "text": [
      "{'coord': {'lon': -0.1257, 'lat': 51.5085}, 'weather': [{'id': 802, 'main': 'Clouds', 'description': 'partiellement nuageux', 'icon': '03d'}], 'base': 'stations', 'main': {'temp': 286.22, 'feels_like': 285.59, 'temp_min': 284.33, 'temp_max': 287.74, 'pressure': 1016, 'humidity': 77}, 'visibility': 10000, 'wind': {'speed': 5.66, 'deg': 210}, 'clouds': {'all': 25}, 'dt': 1667383567, 'sys': {'type': 2, 'id': 2075535, 'country': 'GB', 'sunrise': 1667372124, 'sunset': 1667406757}, 'timezone': 0, 'id': 2643743, 'name': 'Londres', 'cod': 200}\n"
     ]
    }
   ],
   "source": [
    "cityname = 'Londres'\n",
    "\n",
    "langage = 'fr' # aller au pied de la page de l'api pour voir toutes les langues proposées\n",
    "clef = '59134f53726fda3f3b3a622e33acd63d'\n",
    "api_lien = f\"https://api.openweathermap.org/data/2.5/weather?q={cityname}&appid={clef}&lang={langage}\" #copier le API call de Multilingual support\n",
    "\n",
    "json = requests.get(api_lien).json()\n",
    "print(json)\n"
   ]
  },
  {
   "cell_type": "code",
   "execution_count": 37,
   "metadata": {},
   "outputs": [
    {
     "name": "stdout",
     "output_type": "stream",
     "text": [
      "partiellement nuageux\n"
     ]
    }
   ],
   "source": [
    "ciel = json['weather'][0]['description'] #index 0 car il s'agit d'une liste qui contient un dictionnaire\n",
    "print(ciel)"
   ]
  },
  {
   "cell_type": "code",
   "execution_count": 38,
   "metadata": {},
   "outputs": [
    {
     "name": "stdout",
     "output_type": "stream",
     "text": [
      "77 %\n"
     ]
    }
   ],
   "source": [
    "humidite = json['main']['humidity'] # pas besoin d'index car il s'agit juste d'un dictionnair, il faut donc simplement demander la clé (humidity)\n",
    "print(f'{humidite} %')"
   ]
  },
  {
   "cell_type": "code",
   "execution_count": 48,
   "metadata": {},
   "outputs": [
    {
     "name": "stdout",
     "output_type": "stream",
     "text": [
      "285.59\n",
      "140.88333333333333 °C\n"
     ]
    }
   ],
   "source": [
    "ressenti = json['main']['feels_like']\n",
    "print(ressenti)\n",
    "ressenti_degrés = (ressenti -32)/1.8\n",
    "print(f'{ressenti_degrés} °C')\n",
    "\n",
    "\n",
    "# j'ai un soucis avec la température mais j'ai bien collecté ma donnée grâce à l'api ! "
   ]
  }
 ],
 "metadata": {
  "kernelspec": {
   "display_name": "Python 3.8.13 ('base')",
   "language": "python",
   "name": "python3"
  },
  "language_info": {
   "codemirror_mode": {
    "name": "ipython",
    "version": 3
   },
   "file_extension": ".py",
   "mimetype": "text/x-python",
   "name": "python",
   "nbconvert_exporter": "python",
   "pygments_lexer": "ipython3",
   "version": "3.8.13"
  },
  "orig_nbformat": 4,
  "vscode": {
   "interpreter": {
    "hash": "d3755b735588d4303beb95518f2ab4e1c49ea1461d509c805a65d62cd2a8f700"
   }
  }
 },
 "nbformat": 4,
 "nbformat_minor": 2
}
