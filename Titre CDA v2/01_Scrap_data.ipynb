{
 "cells": [
  {
   "cell_type": "code",
   "execution_count": 1,
   "metadata": {},
   "outputs": [],
   "source": [
    "import requests\n",
    "from bs4 import BeautifulSoup"
   ]
  },
  {
   "cell_type": "code",
   "execution_count": 2,
   "metadata": {},
   "outputs": [],
   "source": [
    "response = requests.get('https://fr.trustpilot.com/review/data-bird.co')"
   ]
  },
  {
   "cell_type": "code",
   "execution_count": 3,
   "metadata": {},
   "outputs": [
    {
     "data": {
      "text/plain": [
       "<Response [200]>"
      ]
     },
     "execution_count": 3,
     "metadata": {},
     "output_type": "execute_result"
    }
   ],
   "source": [
    "response"
   ]
  },
  {
   "cell_type": "code",
   "execution_count": 4,
   "metadata": {},
   "outputs": [],
   "source": [
    "soup = BeautifulSoup ( response.content , \"html.parser\" )"
   ]
  },
  {
   "cell_type": "code",
   "execution_count": null,
   "metadata": {},
   "outputs": [],
   "source": [
    "soup.prettify()"
   ]
  },
  {
   "cell_type": "code",
   "execution_count": 8,
   "metadata": {},
   "outputs": [],
   "source": [
    "avis_Databird = soup.find('article', attrs={'class' :\"paper_paper__1PY90 paper_outline__lwsUX card_card__lQWDv styles_reviewCard__hcAvl\"})"
   ]
  },
  {
   "cell_type": "code",
   "execution_count": 12,
   "metadata": {},
   "outputs": [],
   "source": [
    "titre = avis_Databird.aside.div.a.text\n",
    "contenu = avis_Databird.text\n"
   ]
  },
  {
   "cell_type": "code",
   "execution_count": 10,
   "metadata": {},
   "outputs": [
    {
     "data": {
      "text/plain": [
       "'Hugo Renaudin1 avisFR'"
      ]
     },
     "execution_count": 10,
     "metadata": {},
     "output_type": "execute_result"
    }
   ],
   "source": [
    "titre"
   ]
  },
  {
   "cell_type": "code",
   "execution_count": 13,
   "metadata": {},
   "outputs": [
    {
     "data": {
      "text/plain": [
       "\"HRHugo Renaudin1 avisFRll y a 2 joursSuper formation !Super formation !Si vous cherchez à monter en compétences sur les skills techniques du data analyst ou bien commencer à les développer, n'hésitez pas.Le programme suit une logique d'utilisation des compétences du DA, de l'extraction à la data-viz, en passant par la manipulation et la transformation des données, le tout sur des problématiques business.Si le temps l'avait permis (2 mois c'est cours), une initiation à la partie data engineering (archi, techno...) aurait été un vrai plus !L'immersion au sein de l'équipe DataBird, vous permettra de vous acculturer à l'univers des start-up, bon tips pour vous projeter dans votre futur emploi dans la data.Bref, commencez data-🐥, finissez data-🦅 !Date de l'expérience: 31 octobre 2022\""
      ]
     },
     "execution_count": 13,
     "metadata": {},
     "output_type": "execute_result"
    }
   ],
   "source": [
    "contenu"
   ]
  },
  {
   "cell_type": "code",
   "execution_count": 14,
   "metadata": {},
   "outputs": [
    {
     "data": {
      "text/plain": [
       "<Response [200]>"
      ]
     },
     "execution_count": 14,
     "metadata": {},
     "output_type": "execute_result"
    }
   ],
   "source": [
    "response = requests.get('https://www.fmd-sa.com/catalogue/1/cartons-demenagement#44')\n",
    "response"
   ]
  },
  {
   "cell_type": "code",
   "execution_count": 19,
   "metadata": {},
   "outputs": [
    {
     "data": {
      "text/plain": [
       "'<!DOCTYPE html>\\n<html lang=\"fr\">\\n <head>\\n  <meta charset=\"utf-8\"/>\\n  <meta content=\"IE=edge\" http-equiv=\"X-UA-Compatible\"/>\\n  <meta content=\"width=device-width, initial-scale=1\" name=\"viewport\"/>\\n  <title>\\n   Cartons déménagement - FMD\\n  </title>\\n  <link href=\"/apple-touch-icon.png\" rel=\"icon\" sizes=\"192x192\"/>\\n  <link href=\"/css/bootstrap.min.css\" rel=\"stylesheet\">\\n   <link href=\"/css/font-awesome.min.css\" rel=\"stylesheet\"/>\\n   <link href=\"/css/imageflow.css\" rel=\"stylesheet\" type=\"text/css\"/>\\n   <link href=\"/css/featherlight.min.css\" rel=\"stylesheet\" type=\"text/css\"/>\\n   <link href=\"/css/flag-icon.min.css\" rel=\"stylesheet\"/>\\n   <link href=\"/css/bootstrap-select.min.css\" rel=\"stylesheet\"/>\\n   <link href=\"/css/fmd.css\" media=\"all\" rel=\"stylesheet\" type=\"text/css\"/>\\n   <link href=\"https://www.fmd-sa.com/catalogue/1/cartons-demenagement\" rel=\"canonical\"/>\\n   <!-- HTML5 shim and Respond.js for IE8 support of HTML5 elements and media queries -->\\n   <!--[if lt IE 9]>\\n\\t  <script src=\"https://oss.maxcdn.com/html5shiv/3.7.2/html5shiv.min.js\"></script>\\n\\t  <script src=\"/js/respond.min.js\"></script>\\n\\t<![endif]-->\\n   <script>\\n    (function(i,s,o,g,r,a,m){i[\\'GoogleAnalyticsObject\\']=r;i[r]=i[r]||function(){\\n\\t  (i[r].q=i[r].q||[]).push(arguments)},i[r].l=1*new Date();a=s.createElement(o),\\n\\t  m=s.getElementsByTagName(o)[0];a.async=1;a.src=g;m.parentNode.insertBefore(a,m)\\n\\t  })(window,document,\\'script\\',\\'//www.google-analytics.com/analytics.js\\',\\'ga\\');\\n\\t\\n\\t  ga(\\'create\\', \\'UA-211761-60\\', \\'auto\\');\\n\\t  ga(\\'send\\', \\'pageview\\');\\n   </script>\\n  </link>\\n </head>\\n <body>\\n  <div class=\"container\">\\n   <header class=\"row\">\\n    <div class=\"col-sm-4 col-xs-8\">\\n     <div class=\"h1\">\\n      <a href=\"https://www.fmd-sa.com\">\\n       FMD - Cartons, Fournitures et Matériels de Déménagement\\n      </a>\\n     </div>\\n     <a href=\"https://www.fmd-sa.com\" title=\"FMD - Cartons, Fournitures et Matériels de Déménagement\">\\n      <img alt=\"FMD - Cartons, Fournitures et Matériels de Déménagement\" class=\"img-responsive\" id=\"logo\" src=\"/img/2014/logo-fmd.png\"/>\\n     </a>\\n    </div>\\n    <div class=\"col-sm-8 col-xs-4 text-right\" id=\"frise\">\\n    </div>\\n   </header>\\n   <div class=\"row\">\\n    <div class=\"col-sm-3 hidden-xs hidden-print\" id=\"cat-nav\">\\n     <h3 id=\"cat-title\">\\n      NOTRE CATALOGUE\\n     </h3>\\n     <ul class=\"cat-nav\" id=\"catalogue\">\\n      <li>\\n       <a href=\"/catalogue/1/cartons-demenagement\">\\n        <span class=\"puceCouleur\" style=\"background: #575e62\">\\n        </span>\\n        Cartons déménagement\\n       </a>\\n      </li>\\n      <li>\\n       <a href=\"/catalogue/2/adhesif-devidoirs-films-etirables\">\\n        <span class=\"puceCouleur\" style=\"background: #88cde6\">\\n        </span>\\n        Adhésif, dévidoirs, films étirables\\n       </a>\\n      </li>\\n      <li>\\n       <a href=\"/catalogue/3/bulles-polyethylene-bulkraft-ecokraft\">\\n        <span class=\"puceCouleur\" style=\"background: #e79538\">\\n        </span>\\n        Bulles polyéthylène, bulkraft, écokraft\\n       </a>\\n      </li>\\n      <li>\\n       <a href=\"/catalogue/4/housses-pochettes-sacs-polyethylene\">\\n        <span class=\"puceCouleur\" style=\"background: #d400e7\">\\n        </span>\\n        Housses pochettes, sacs polyéthylène\\n       </a>\\n      </li>\\n      <li>\\n       <a href=\"/catalogue/5/housses-de-protection\">\\n        <span class=\"puceCouleur\" style=\"background: #d30930\">\\n        </span>\\n        Housses de protection\\n       </a>\\n      </li>\\n      <li>\\n       <a href=\"/catalogue/6/couvertures-bracelets-caoutchouc\">\\n        <span class=\"puceCouleur\" style=\"background: #77be48\">\\n        </span>\\n        Couvertures, bracelets caoutchouc\\n       </a>\\n      </li>\\n      <li>\\n       <a href=\"/catalogue/7/emballage-papier-sangles-bricoles-ficelles\">\\n        <span class=\"puceCouleur\" style=\"background: #00a3d8\">\\n        </span>\\n        Emballage papier, sangles, bricoles, ficelles\\n       </a>\\n      </li>\\n      <li>\\n       <a href=\"/catalogue/9/bacs-valises-demecrin-penderies-plastique\">\\n        <span class=\"puceCouleur\" style=\"background: #39789e\">\\n        </span>\\n        Bacs, valises démécrin, penderies plastique\\n       </a>\\n      </li>\\n      <li>\\n       <a href=\"/catalogue/10/manutention\">\\n        <span class=\"puceCouleur\" style=\"background: #8d447e\">\\n        </span>\\n        Manutention\\n       </a>\\n      </li>\\n      <li>\\n       <a href=\"/catalogue/11/garde-meubles-caisse-export\">\\n        <span class=\"puceCouleur\" style=\"background: #204c2a\">\\n        </span>\\n        Garde-meubles, caisse export\\n       </a>\\n      </li>\\n      <li>\\n       <a href=\"/catalogue/12/etiquettes-materiels-divers\">\\n        <span class=\"puceCouleur\" style=\"background: #c32a84\">\\n        </span>\\n        Étiquettes, matériels divers\\n       </a>\\n      </li>\\n      <li>\\n       <a href=\"/catalogue/13/imprimes\">\\n        <span class=\"puceCouleur\" style=\"background: #e2ac35\">\\n        </span>\\n        Imprimés\\n       </a>\\n      </li>\\n      <li>\\n       <a href=\"/catalogue/14/self-stockage\">\\n        <span class=\"puceCouleur\" style=\"background: #201d50\">\\n        </span>\\n        Self-stockage\\n       </a>\\n      </li>\\n      <li>\\n       <a href=\"/catalogue/17/kits-demenagement\">\\n        <span class=\"puceCouleur\" style=\"background: #8faaba\">\\n        </span>\\n        Kits déménagement\\n       </a>\\n      </li>\\n      <li>\\n       <a href=\"/catalogue-vetements.php\">\\n        <span class=\"puceCouleur\" style=\"background: #1c4d91\">\\n        </span>\\n        Vêtements\\n       </a>\\n      </li>\\n     </ul>\\n     <div class=\"text-center\">\\n      <a href=\"/FMD-Catalogue_General-2021-2022_BD.pdf\">\\n       <img class=\"img-responsive\" src=\"/img/catalogue-FMD.jpg?v=2021\"/>\\n      </a>\\n      <br/>\\n      <a class=\"btn btn-default\" href=\"/FMD-Catalogue_General-2021-2022_BD.pdf\">\\n       <i class=\"fa fa-download\">\\n       </i>\\n       CATALOGUE 2021-2022\\n      </a>\\n     </div>\\n    </div>\\n    <!-- #cat-nav -->\\n    <div class=\"col-sm-9\" id=\"content\">\\n     <nav class=\"hidden-xs nolead\" id=\"menu\">\\n      <ul>\\n       <li class=\"home\">\\n        <a href=\"/\">\\n         <i class=\"fa fa-lg fa-home\">\\n         </i>\\n         <span class=\"visible-xs-inline\">\\n          ACCUEIL\\n         </span>\\n        </a>\\n       </li>\\n       <li>\\n        <a href=\"/presentation.php\">\\n         PRESENTATION\\n        </a>\\n       </li>\\n       <li class=\"visible-xs-block\">\\n        <a data-target=\"#modal-cat\" data-toggle=\"modal\" href=\"#modal-cat\">\\n         CATALOGUE\\n        </a>\\n       </li>\\n       <li>\\n        <a href=\"/conseils.php\">\\n         CONSEILS\\n        </a>\\n       </li>\\n       <!-- \\t\\t\\t\\t\\t<li><a href=\"#modal-promo\" data-toggle=\"modal\" data-target=\"#modal-promo\">PROMO</a></li> -->\\n       <li>\\n        <a href=\"/catalogue/16/location\">\\n         LOCATION\\n        </a>\\n       </li>\\n       <li>\\n        <a href=\"https://boutique.fmd-sa.com\" onclick=\"window.open(this.href); return false;\">\\n         BOUTIQUE\\n        </a>\\n       </li>\\n       <li>\\n        <a href=\"/carton-line.php\">\\n         CARTON-LINE\\n        </a>\\n       </li>\\n       <li>\\n        <a href=\"/contact.php\">\\n         CONTACT\\n        </a>\\n       </li>\\n      </ul>\\n     </nav>\\n     <nav class=\"row visible-xs-block\" id=\"menu-xs\">\\n      <div class=\"col-xs-6\">\\n       <button class=\"btn btn-lg\" data-target=\"#modal-cat\" data-toggle=\"modal\">\\n        CATALOGUE\\n       </button>\\n      </div>\\n      <div class=\"col-xs-6\">\\n       <button class=\"btn btn-lg btn-menu\" data-target=\"#modal-menu\" data-toggle=\"modal\">\\n        MENU\\n       </button>\\n      </div>\\n     </nav>\\n     <div class=\"clearfix\">\\n     </div>\\n     <!-- Breadcrumb -->\\n     <ol class=\"breadcrumb\" itemscope=\"\" itemtype=\"http://schema.org/BreadcrumbList\">\\n      <li itemprop=\"itemListElement\" itemscope=\"\" itemtype=\"http://schema.org/ListItem\">\\n       <strong itemprop=\"item\">\\n        <span itemprop=\"name\">\\n         Catalogue\\n        </span>\\n       </strong>\\n       <meta content=\"1\" itemprop=\"position\">\\n       </meta>\\n      </li>\\n      <li class=\"active\" itemprop=\"itemListElement\" itemscope=\"\" itemtype=\"http://schema.org/ListItem\">\\n       <a href=\"/catalogue/1/cartons-demenagement\" itemprop=\"item\">\\n        <span itemprop=\"name\">\\n         Cartons déménagement\\n        </span>\\n       </a>\\n       <meta content=\"2\" itemprop=\"position\">\\n       </meta>\\n      </li>\\n     </ol>\\n     <!-- /Breadcrumb -->\\n     <div id=\"ficheProduit\">\\n     </div>\\n     <div id=\"gammeProduits\" style=\"background: #575e62\">\\n      <h1 class=\"title\">\\n       CARTONS DÉMÉNAGEMENT\\n      </h1>\\n      <div class=\"imageflow hidden-print\" id=\"imageflow\">\\n       <img alt=\"CARTON STANDARD RENFORCÉ\" height=\"178\" longdesc=\"41\" src=\"/upload/images/41_tn.jpg\" width=\"256\"/>\\n       <img alt=\"CARTON STANDARD RENFORCÉ ++\" height=\"180\" longdesc=\"42\" src=\"/upload/images/42_tn.jpg\" width=\"256\"/>\\n       <img alt=\"CARTON SUPERDEM\" height=\"189\" longdesc=\"43\" src=\"/upload/images/43_tn.jpg\" width=\"256\"/>\\n       <img alt=\"CARTON LIVRES\" height=\"237\" longdesc=\"44\" src=\"/upload/images/44_tn.jpg\" width=\"256\"/>\\n       <img alt=\"CARTON INFORMATIQUE - Grand Modèle\" height=\"269\" longdesc=\"71\" src=\"/upload/images/71_tn.jpg\" width=\"256\"/>\\n       <img alt=\"CARTON INFORMATIQUE - Petit Modèle\" height=\"232\" longdesc=\"72\" src=\"/upload/images/72_tn.jpg\" width=\"256\"/>\\n       <img alt=\"CARTON ABAT-JOUR\" height=\"201\" longdesc=\"66\" src=\"/upload/images/66_tn.jpg\" width=\"256\"/>\\n       <img alt=\"CARTON HALOGÈNE\" height=\"256\" longdesc=\"67\" src=\"/upload/images/67_tn.jpg\" width=\"256\"/>\\n       <img alt=\"CARTON TABLEAU TÉLESCOPIQUE\" height=\"256\" longdesc=\"65\" src=\"/upload/images/65_tn.jpg\" width=\"256\"/>\\n       <img alt=\"CARTON BOUTEILLE\" height=\"258\" longdesc=\"46\" src=\"/upload/images/46_tn.jpg\" width=\"256\"/>\\n       <img alt=\"CARTON POUR KIT ISOTHERME\" height=\"242\" longdesc=\"68\" src=\"/upload/images/68_tn.jpg\" width=\"256\"/>\\n       <img alt=\"KIT ISOTHERME SANS CARTON\" height=\"256\" longdesc=\"69\" src=\"/upload/images/69_tn.jpg\" width=\"256\"/>\\n       <img alt=\"BARREL PETIT MODELE\" height=\"263\" longdesc=\"216\" src=\"/upload/images/216_tn.jpg\" width=\"256\"/>\\n       <img alt=\"BARREL GRAND MODELE\" height=\"310\" longdesc=\"220\" src=\"/upload/images/220_tn.jpg\" width=\"256\"/>\\n       <img alt=\"PACK CROISILLONS BARREL ASSIETTE\" height=\"256\" longdesc=\"62\" src=\"/upload/images/62_tn.jpg\" width=\"256\"/>\\n       <img alt=\"PACK CROISILLONS BARREL VERRE\" height=\"256\" longdesc=\"61\" src=\"/upload/images/61_tn.jpg\" width=\"256\"/>\\n       <img alt=\"PENDERIE CONFECTION\" height=\"371\" longdesc=\"238\" src=\"/upload/images/238_tn.jpg\" width=\"256\"/>\\n       <img alt=\"PENDERIE \" height=\"342\" longdesc=\"49\" src=\"/upload/images/49_tn.jpg\" width=\"256\"/>\\n       <img alt=\"TRINGLE POUR CARTON PENDERIE\" height=\"113\" longdesc=\"50\" src=\"/upload/images/50_tn.jpg\" width=\"256\"/>\\n       <img alt=\"CONTENEUR ARCHIVES\" height=\"179\" longdesc=\"235\" src=\"/upload/images/235_tn.jpg\" width=\"256\"/>\\n       <img alt=\"KIT DE DÉPANNAGE\" height=\"232\" longdesc=\"45\" src=\"/upload/images/45_tn.jpg\" width=\"256\"/>\\n       <img alt=\"CORNIÈRE À TABLEAU\" height=\"221\" longdesc=\"63\" src=\"/upload/images/63_tn.jpg\" width=\"256\"/>\\n       <img alt=\"CORNIÈRE DE PROTECTION EN CARTON\" height=\"145\" longdesc=\"74\" src=\"/upload/images/74_tn.jpg\" width=\"256\"/>\\n       <img alt=\"CONTENEUR EXPORT - Modèle C.09\" height=\"187\" longdesc=\"75\" src=\"/upload/images/75_tn.jpg\" width=\"256\"/>\\n       <img alt=\"CONTENEUR EXPORT - Modèle GMC\" height=\"208\" longdesc=\"76\" src=\"/upload/images/76_tn.jpg\" width=\"256\"/>\\n       <img alt=\"CONTENEUR EXPORT - Modèle CXC\" height=\"214\" longdesc=\"77\" src=\"/upload/images/77_tn.jpg\" width=\"256\"/>\\n       <img alt=\"CONTENEUR EXPORT - Modèle 580\" height=\"251\" longdesc=\"78\" src=\"/upload/images/78_tn.jpg\" width=\"256\"/>\\n      </div>\\n     </div>\\n     <a class=\"btn btn-sm btn-primary pull-right\" href=\"https://boutique.fmd-sa.com\" onclick=\"window.open(this.href); return false;\" style=\"margin-top: 20px\">\\n      ACCÉDER AU SITE BOUTIQUE\\n      <i class=\"fa fa-lg fa-shopping-cart\">\\n      </i>\\n     </a>\\n     <h3>\\n      Produits de la gamme\\n     </h3>\\n     <hr/>\\n     <div class=\"row\" id=\"listeProduits\">\\n      <div class=\"col-sm-4\">\\n       <ul class=\"nav nav-pills nav-stacked\">\\n        <li id=\"li41\">\\n         <a href=\"/catalogue/1/cartons-demenagement/41/carton-demenagement\" onclick=\"chargementFicheProduit(41); return false;\">\\n          CARTON STANDARD RENFORCÉ\\n         </a>\\n        </li>\\n        <li id=\"li42\">\\n         <a href=\"/catalogue/1/cartons-demenagement/42/carton-demenagement-tres-resistant\" onclick=\"chargementFicheProduit(42); return false;\">\\n          CARTON STANDARD RENFORCÉ ++\\n         </a>\\n        </li>\\n        <li id=\"li43\">\\n         <a href=\"/catalogue/1/cartons-demenagement/43/carton-garde-meuble-export\" onclick=\"chargementFicheProduit(43); return false;\">\\n          CARTON SUPERDEM\\n         </a>\\n        </li>\\n        <li id=\"li44\">\\n         <a href=\"/catalogue/1/cartons-demenagement/44/carton-demenagement-objets-lourds\" onclick=\"chargementFicheProduit(44); return false;\">\\n          CARTON LIVRES\\n         </a>\\n        </li>\\n        <li id=\"li71\">\\n         <a href=\"/catalogue/1/cartons-demenagement/71/carton-informatique-grand-modele\" onclick=\"chargementFicheProduit(71); return false;\">\\n          CARTON INFORMATIQUE - Grand Modèle\\n         </a>\\n        </li>\\n        <li id=\"li72\">\\n         <a href=\"/catalogue/1/cartons-demenagement/72/carton-informatique-petit-modele\" onclick=\"chargementFicheProduit(72); return false;\">\\n          CARTON INFORMATIQUE - Petit Modèle\\n         </a>\\n        </li>\\n        <li id=\"li66\">\\n         <a href=\"/catalogue/1/cartons-demenagement/66/carton-abat-jour\" onclick=\"chargementFicheProduit(66); return false;\">\\n          CARTON ABAT-JOUR\\n         </a>\\n        </li>\\n        <li id=\"li67\">\\n         <a href=\"/catalogue/1/cartons-demenagement/67/carton-halogene\" onclick=\"chargementFicheProduit(67); return false;\">\\n          CARTON HALOGÈNE\\n         </a>\\n        </li>\\n        <li id=\"li65\">\\n         <a href=\"/catalogue/1/cartons-demenagement/65/carton-tableau-telescopique\" onclick=\"chargementFicheProduit(65); return false;\">\\n          CARTON TABLEAU TÉLESCOPIQUE\\n         </a>\\n        </li>\\n       </ul>\\n      </div>\\n      <div class=\"col-sm-4\">\\n       <ul class=\"nav nav-pills nav-stacked\">\\n        <li id=\"li46\">\\n         <a href=\"/catalogue/1/cartons-demenagement/46/carton-bouteille\" onclick=\"chargementFicheProduit(46); return false;\">\\n          CARTON BOUTEILLE\\n         </a>\\n        </li>\\n        <li id=\"li68\">\\n         <a href=\"/catalogue/1/cartons-demenagement/68/carton-pour-kit-isotherme\" onclick=\"chargementFicheProduit(68); return false;\">\\n          CARTON POUR KIT ISOTHERME\\n         </a>\\n        </li>\\n        <li id=\"li69\">\\n         <a href=\"/catalogue/1/cartons-demenagement/69/kit-isotherme-sans-carton\" onclick=\"chargementFicheProduit(69); return false;\">\\n          KIT ISOTHERME SANS CARTON\\n         </a>\\n        </li>\\n        <li id=\"li216\">\\n         <a href=\"/catalogue/1/cartons-demenagement/216/carton-demenagement-vaisselle\" onclick=\"chargementFicheProduit(216); return false;\">\\n          BARREL PETIT MODELE\\n         </a>\\n        </li>\\n        <li id=\"li220\">\\n         <a href=\"/catalogue/1/cartons-demenagement/220/carton-demenagement-vaisselle-et-verres\" onclick=\"chargementFicheProduit(220); return false;\">\\n          BARREL GRAND MODELE\\n         </a>\\n        </li>\\n        <li id=\"li62\">\\n         <a href=\"/catalogue/1/cartons-demenagement/62/intercalaires-assiettes-carton-vaisselle\" onclick=\"chargementFicheProduit(62); return false;\">\\n          PACK CROISILLONS BARREL ASSIETTE\\n         </a>\\n        </li>\\n        <li id=\"li61\">\\n         <a href=\"/catalogue/1/cartons-demenagement/61/intercalaires-verres-carton-vaisselle\" onclick=\"chargementFicheProduit(61); return false;\">\\n          PACK CROISILLONS BARREL VERRE\\n         </a>\\n        </li>\\n        <li id=\"li238\">\\n         <a href=\"/catalogue/1/cartons-demenagement/238/penderie-confection\" onclick=\"chargementFicheProduit(238); return false;\">\\n          PENDERIE CONFECTION\\n         </a>\\n        </li>\\n        <li id=\"li49\">\\n         <a href=\"/catalogue/1/cartons-demenagement/49/carton-penderie-basse\" onclick=\"chargementFicheProduit(49); return false;\">\\n          PENDERIE\\n         </a>\\n        </li>\\n       </ul>\\n      </div>\\n      <div class=\"col-sm-4\">\\n       <ul class=\"nav nav-pills nav-stacked\">\\n        <li id=\"li50\">\\n         <a href=\"/catalogue/1/cartons-demenagement/50/barre-porte-cintres\" onclick=\"chargementFicheProduit(50); return false;\">\\n          TRINGLE POUR CARTON PENDERIE\\n         </a>\\n        </li>\\n        <li id=\"li235\">\\n         <a href=\"/catalogue/1/cartons-demenagement/235/conteneur-archives\" onclick=\"chargementFicheProduit(235); return false;\">\\n          CONTENEUR ARCHIVES\\n         </a>\\n        </li>\\n        <li id=\"li45\">\\n         <a href=\"/catalogue/1/cartons-demenagement/45/pack-cartons-demenagement-et-adhesif\" onclick=\"chargementFicheProduit(45); return false;\">\\n          KIT DE DÉPANNAGE\\n         </a>\\n        </li>\\n        <li id=\"li63\">\\n         <a href=\"/catalogue/1/cartons-demenagement/63/carton-de-protection-tableaux-et-cadres\" onclick=\"chargementFicheProduit(63); return false;\">\\n          CORNIÈRE À TABLEAU\\n         </a>\\n        </li>\\n        <li id=\"li74\">\\n         <a href=\"/catalogue/1/cartons-demenagement/74/corniere-de-protection-en-carton\" onclick=\"chargementFicheProduit(74); return false;\">\\n          CORNIÈRE DE PROTECTION EN CARTON\\n         </a>\\n        </li>\\n        <li id=\"li75\">\\n         <a href=\"/catalogue/1/cartons-demenagement/75/conteneur-export-modele-c-09\" onclick=\"chargementFicheProduit(75); return false;\">\\n          CONTENEUR EXPORT - Modèle C.09\\n         </a>\\n        </li>\\n        <li id=\"li76\">\\n         <a href=\"/catalogue/1/cartons-demenagement/76/conteneur-export-modele-gmc\" onclick=\"chargementFicheProduit(76); return false;\">\\n          CONTENEUR EXPORT - Modèle GMC\\n         </a>\\n        </li>\\n        <li id=\"li77\">\\n         <a href=\"/catalogue/1/cartons-demenagement/77/conteneur-export-modele-cxc\" onclick=\"chargementFicheProduit(77); return false;\">\\n          CONTENEUR EXPORT - Modèle CXC\\n         </a>\\n        </li>\\n        <li id=\"li78\">\\n         <a href=\"/catalogue/1/cartons-demenagement/78/conteneur-export-modele-580\" onclick=\"chargementFicheProduit(78); return false;\">\\n          CONTENEUR EXPORT - Modèle 580\\n         </a>\\n        </li>\\n       </ul>\\n      </div>\\n      <!-- .row #listeProduits -->\\n     </div>\\n    </div>\\n    <!-- #content -->\\n   </div>\\n   <!-- .row -->\\n   <hr/>\\n   <footer class=\"row\">\\n    <div class=\"col-sm-12\">\\n     <p>\\n      © 2020 FMD SA -\\n      <a href=\"/catalogue/1/cartons-demenagement\">\\n       Carton demenagement\\n      </a>\\n      -\\n      <a href=\"/carton-demenagement-paris.php\">\\n       Paris\\n      </a>\\n      -\\n      <a href=\"/carton-demenagement-lyon.php\">\\n       Lyon\\n      </a>\\n      -\\n      <a href=\"/carton-demenagement-marseille.php\">\\n       Marseille\\n      </a>\\n      -\\n      <a href=\"/carton-demenagement-bordeaux.php\">\\n       Bordeaux\\n      </a>\\n      -\\n      <a href=\"/conseils.php\">\\n       Conseils\\n      </a>\\n      -\\n      <a href=\"/mentions-legales.php\">\\n       Mentions légales\\n      </a>\\n      - Photos non contractuelles\\n     </p>\\n    </div>\\n   </footer>\\n  </div>\\n  <!-- .container -->\\n  <div class=\"modal fade\" id=\"modal-menu\">\\n   <div class=\"modal-dialog\">\\n    <div class=\"modal-content\">\\n     <div class=\"modal-header\">\\n      <button aria-label=\"Close\" class=\"close\" data-dismiss=\"modal\" type=\"button\">\\n       <span aria-hidden=\"true\" class=\"fa fa-lg fa-remove\">\\n       </span>\\n      </button>\\n      <h4 class=\"modal-title\">\\n       MENU\\n      </h4>\\n     </div>\\n     <div class=\"modal-body\">\\n     </div>\\n     <div class=\"clearfix\">\\n     </div>\\n    </div>\\n    <!-- /.modal-content -->\\n   </div>\\n   <!-- /.modal-dialog -->\\n  </div>\\n  <!-- /.modal -->\\n  <div class=\"modal fade\" id=\"modal-cat\">\\n   <div class=\"modal-dialog\">\\n    <div class=\"modal-content\">\\n     <div class=\"modal-header\">\\n      <button aria-label=\"Close\" class=\"close\" data-dismiss=\"modal\" type=\"button\">\\n       <span aria-hidden=\"true\" class=\"fa fa-lg fa-remove\">\\n       </span>\\n      </button>\\n      <h4 class=\"modal-title\">\\n       CATALOGUE\\n      </h4>\\n     </div>\\n     <div class=\"modal-body\">\\n     </div>\\n     <div class=\"clearfix\">\\n     </div>\\n    </div>\\n    <!-- /.modal-content -->\\n   </div>\\n   <!-- /.modal-dialog -->\\n  </div>\\n  <!-- /.modal -->\\n  <div class=\"modal fade\" id=\"modal-promo\">\\n   <div class=\"modal-dialog\">\\n    <div class=\"modal-content\">\\n     <div class=\"modal-header\">\\n      <button aria-label=\"Close\" class=\"close\" data-dismiss=\"modal\" type=\"button\">\\n       <span aria-hidden=\"true\" class=\"fa fa-lg fa-remove\">\\n       </span>\\n      </button>\\n      <h4 class=\"modal-title\">\\n       PROMOTIONS\\n      </h4>\\n     </div>\\n     <div class=\"modal-body\">\\n      <ul>\\n       <li class=\"text-danger\">\\n        Aucune promotion en cours.\\n       </li>\\n      </ul>\\n     </div>\\n     <div class=\"clearfix\">\\n     </div>\\n    </div>\\n    <!-- /.modal-content -->\\n   </div>\\n   <!-- /.modal-dialog -->\\n  </div>\\n  <!-- /.modal -->\\n  <script src=\"/js/jquery.min.js\">\\n  </script>\\n  <script src=\"/js/bootstrap.min.js\">\\n  </script>\\n  <script src=\"/js/bootstrap-select.min.js\">\\n  </script>\\n  <script src=\"/js/fastclick.min.js\">\\n  </script>\\n  <script src=\"/js/imageflow.js\">\\n  </script>\\n  <script src=\"/js/hammer.min.js\">\\n  </script>\\n  <script src=\"/js/featherlight.min.js\">\\n  </script>\\n  <script src=\"/js/fmd.js\">\\n  </script>\\n  <script type=\"text/javascript\">\\n   var currentProd = \\'\\';\\n\\tvar imageflow = \\'\\';\\n\\t\\n\\tfunction chargementFicheProduit(id) {\\n\\t\\tif(!id) id = \\'\\';\\n\\t\\t$(\"#ficheProduit\").load(\\'/ficheproduit.php?idRubrique=1&idProduit=\\' + id, function() {\\n\\t\\t\\t$(\\'html,body\\').animate({scrollTop: 0}, 500);\\n\\t\\t\\t$(\\'#listeProduits li.active\\').removeClass(\\'active\\');\\n\\t\\t\\t$(\\'#li\\'+id).addClass(\\'active\\');\\n\\t\\t\\tif(id != \\'\\') location.href = \\'#\\' + id;\\n\\t\\t\\telse location.hash = \\'\\';\\n\\t\\t\\tcurrentProd = id;\\n\\t\\t});\\t\\t\\n\\t}\\n\\t\\n\\tfunction checkHistoryNav(){\\n\\t\\tvar id = location.hash;\\n\\t\\tvar regId = /[0-9]+/;\\n\\t\\tid = id.replace(/#/, \\'\\');\\n\\t\\tif(id.match(regId) && id != currentProd) chargementFicheProduit(id);\\n\\t\\telse if (!id && currentProd != \\'\\') chargementFicheProduit();\\n\\t}\\n\\tsetInterval(\"checkHistoryNav()\", 100);\\n\\t\\t\\t\\n\\t$(document).ready(function(){\\n\\t\\t\\n\\t\\t// Gestion imageflow\\n\\t\\timageflow = new ImageFlow();\\n\\t\\timageflow.init({\\n\\t\\t    reflectionGET: \\'&bgc=575e62\\',\\n\\t\\t    startID: 1,\\t\\n\\t\\t    onClick: function() {\\n\\t\\t    \\tchargementFicheProduit(this.url);\\n\\t\\t    }\\n\\t\\t});\\n\\t\\t\\n\\t\\t\\n\\t\\tvar element = document.getElementById(\\'imageflow\\');\\n\\t\\tvar hammertime = Hammer(element).on(\"swipe\", function(event) {\\n        if(event.direction == Hammer.DIRECTION_LEFT) imageflow.MouseWheel.handle(-1);\\n        else if(event.direction == Hammer.DIRECTION_RIGHT) imageflow.MouseWheel.handle(1);\\n    });\\n    \\n});\\n  </script>\\n </body>\\n</html>'"
      ]
     },
     "execution_count": 19,
     "metadata": {},
     "output_type": "execute_result"
    }
   ],
   "source": [
    "soup = BeautifulSoup ( response.content , \"html.parser\" )\n",
    "soup.prettify()"
   ]
  },
  {
   "cell_type": "code",
   "execution_count": 23,
   "metadata": {},
   "outputs": [
    {
     "data": {
      "text/plain": [
       "['html',\n",
       " '\\n',\n",
       " <html lang=\"fr\">\n",
       " <head>\n",
       " <meta charset=\"utf-8\"/>\n",
       " <meta content=\"IE=edge\" http-equiv=\"X-UA-Compatible\"/>\n",
       " <meta content=\"width=device-width, initial-scale=1\" name=\"viewport\"/>\n",
       " <title>Cartons déménagement - FMD</title>\n",
       " <link href=\"/apple-touch-icon.png\" rel=\"icon\" sizes=\"192x192\"/>\n",
       " <link href=\"/css/bootstrap.min.css\" rel=\"stylesheet\">\n",
       " <link href=\"/css/font-awesome.min.css\" rel=\"stylesheet\"/>\n",
       " <link href=\"/css/imageflow.css\" rel=\"stylesheet\" type=\"text/css\"/>\n",
       " <link href=\"/css/featherlight.min.css\" rel=\"stylesheet\" type=\"text/css\"/>\n",
       " <link href=\"/css/flag-icon.min.css\" rel=\"stylesheet\"/>\n",
       " <link href=\"/css/bootstrap-select.min.css\" rel=\"stylesheet\"/>\n",
       " <link href=\"/css/fmd.css\" media=\"all\" rel=\"stylesheet\" type=\"text/css\"/>\n",
       " <link href=\"https://www.fmd-sa.com/catalogue/1/cartons-demenagement\" rel=\"canonical\"/>\n",
       " <!-- HTML5 shim and Respond.js for IE8 support of HTML5 elements and media queries -->\n",
       " <!--[if lt IE 9]>\n",
       " \t  <script src=\"https://oss.maxcdn.com/html5shiv/3.7.2/html5shiv.min.js\"></script>\n",
       " \t  <script src=\"/js/respond.min.js\"></script>\n",
       " \t<![endif]-->\n",
       " <script>\n",
       " \t  (function(i,s,o,g,r,a,m){i['GoogleAnalyticsObject']=r;i[r]=i[r]||function(){\n",
       " \t  (i[r].q=i[r].q||[]).push(arguments)},i[r].l=1*new Date();a=s.createElement(o),\n",
       " \t  m=s.getElementsByTagName(o)[0];a.async=1;a.src=g;m.parentNode.insertBefore(a,m)\n",
       " \t  })(window,document,'script','//www.google-analytics.com/analytics.js','ga');\n",
       " \t\n",
       " \t  ga('create', 'UA-211761-60', 'auto');\n",
       " \t  ga('send', 'pageview');\n",
       " \t\n",
       " \t</script>\n",
       " </link></head>\n",
       " <body>\n",
       " <div class=\"container\">\n",
       " <header class=\"row\">\n",
       " <div class=\"col-sm-4 col-xs-8\">\n",
       " <div class=\"h1\"><a href=\"https://www.fmd-sa.com\">FMD - Cartons, Fournitures et Matériels de Déménagement</a></div>\n",
       " <a href=\"https://www.fmd-sa.com\" title=\"FMD - Cartons, Fournitures et Matériels de Déménagement\"><img alt=\"FMD - Cartons, Fournitures et Matériels de Déménagement\" class=\"img-responsive\" id=\"logo\" src=\"/img/2014/logo-fmd.png\"/></a>\n",
       " </div>\n",
       " <div class=\"col-sm-8 col-xs-4 text-right\" id=\"frise\">\n",
       " </div>\n",
       " </header>\n",
       " <div class=\"row\">\n",
       " <div class=\"col-sm-3 hidden-xs hidden-print\" id=\"cat-nav\">\n",
       " <h3 id=\"cat-title\">NOTRE CATALOGUE</h3>\n",
       " <ul class=\"cat-nav\" id=\"catalogue\">\n",
       " <li><a href=\"/catalogue/1/cartons-demenagement\"><span class=\"puceCouleur\" style=\"background: #575e62\"></span>Cartons déménagement</a></li>\n",
       " <li><a href=\"/catalogue/2/adhesif-devidoirs-films-etirables\"><span class=\"puceCouleur\" style=\"background: #88cde6\"></span>Adhésif, dévidoirs, films étirables</a></li>\n",
       " <li><a href=\"/catalogue/3/bulles-polyethylene-bulkraft-ecokraft\"><span class=\"puceCouleur\" style=\"background: #e79538\"></span>Bulles polyéthylène, bulkraft, écokraft</a></li>\n",
       " <li><a href=\"/catalogue/4/housses-pochettes-sacs-polyethylene\"><span class=\"puceCouleur\" style=\"background: #d400e7\"></span>Housses pochettes, sacs polyéthylène</a></li>\n",
       " <li><a href=\"/catalogue/5/housses-de-protection\"><span class=\"puceCouleur\" style=\"background: #d30930\"></span>Housses de protection</a></li>\n",
       " <li><a href=\"/catalogue/6/couvertures-bracelets-caoutchouc\"><span class=\"puceCouleur\" style=\"background: #77be48\"></span>Couvertures, bracelets caoutchouc</a></li>\n",
       " <li><a href=\"/catalogue/7/emballage-papier-sangles-bricoles-ficelles\"><span class=\"puceCouleur\" style=\"background: #00a3d8\"></span>Emballage papier, sangles, bricoles, ficelles</a></li>\n",
       " <li><a href=\"/catalogue/9/bacs-valises-demecrin-penderies-plastique\"><span class=\"puceCouleur\" style=\"background: #39789e\"></span>Bacs, valises démécrin, penderies plastique</a></li>\n",
       " <li><a href=\"/catalogue/10/manutention\"><span class=\"puceCouleur\" style=\"background: #8d447e\"></span>Manutention</a></li>\n",
       " <li><a href=\"/catalogue/11/garde-meubles-caisse-export\"><span class=\"puceCouleur\" style=\"background: #204c2a\"></span>Garde-meubles, caisse export</a></li>\n",
       " <li><a href=\"/catalogue/12/etiquettes-materiels-divers\"><span class=\"puceCouleur\" style=\"background: #c32a84\"></span>Étiquettes, matériels divers</a></li>\n",
       " <li><a href=\"/catalogue/13/imprimes\"><span class=\"puceCouleur\" style=\"background: #e2ac35\"></span>Imprimés</a></li>\n",
       " <li><a href=\"/catalogue/14/self-stockage\"><span class=\"puceCouleur\" style=\"background: #201d50\"></span>Self-stockage</a></li>\n",
       " <li><a href=\"/catalogue/17/kits-demenagement\"><span class=\"puceCouleur\" style=\"background: #8faaba\"></span>Kits déménagement</a></li>\n",
       " <li><a href=\"/catalogue-vetements.php\"><span class=\"puceCouleur\" style=\"background: #1c4d91\"></span>Vêtements</a></li>\n",
       " </ul>\n",
       " <div class=\"text-center\">\n",
       " <a href=\"/FMD-Catalogue_General-2021-2022_BD.pdf\"><img class=\"img-responsive\" src=\"/img/catalogue-FMD.jpg?v=2021\"/></a><br/>\n",
       " <a class=\"btn btn-default\" href=\"/FMD-Catalogue_General-2021-2022_BD.pdf\"><i class=\"fa fa-download\"></i> CATALOGUE 2021-2022</a>\n",
       " </div>\n",
       " </div><!-- #cat-nav -->\n",
       " <div class=\"col-sm-9\" id=\"content\">\n",
       " <nav class=\"hidden-xs nolead\" id=\"menu\">\n",
       " <ul>\n",
       " <li class=\"home\"><a href=\"/\"><i class=\"fa fa-lg fa-home\"></i><span class=\"visible-xs-inline\"> ACCUEIL</span></a></li>\n",
       " <li><a href=\"/presentation.php\">PRESENTATION</a></li>\n",
       " <li class=\"visible-xs-block\"><a data-target=\"#modal-cat\" data-toggle=\"modal\" href=\"#modal-cat\">CATALOGUE</a></li>\n",
       " <li><a href=\"/conseils.php\">CONSEILS</a></li>\n",
       " <!-- \t\t\t\t\t<li><a href=\"#modal-promo\" data-toggle=\"modal\" data-target=\"#modal-promo\">PROMO</a></li> -->\n",
       " <li><a href=\"/catalogue/16/location\">LOCATION</a></li>\n",
       " <li><a href=\"https://boutique.fmd-sa.com\" onclick=\"window.open(this.href); return false;\">BOUTIQUE</a></li>\n",
       " <li><a href=\"/carton-line.php\">CARTON-LINE</a></li>\n",
       " <li><a href=\"/contact.php\">CONTACT</a></li>\n",
       " </ul>\n",
       " </nav>\n",
       " <nav class=\"row visible-xs-block\" id=\"menu-xs\">\n",
       " <div class=\"col-xs-6\"><button class=\"btn btn-lg\" data-target=\"#modal-cat\" data-toggle=\"modal\">CATALOGUE</button></div>\n",
       " <div class=\"col-xs-6\"><button class=\"btn btn-lg btn-menu\" data-target=\"#modal-menu\" data-toggle=\"modal\">MENU</button></div>\n",
       " </nav>\n",
       " <div class=\"clearfix\"></div>\n",
       " <!-- Breadcrumb -->\n",
       " <ol class=\"breadcrumb\" itemscope=\"\" itemtype=\"http://schema.org/BreadcrumbList\">\n",
       " <li itemprop=\"itemListElement\" itemscope=\"\" itemtype=\"http://schema.org/ListItem\">\n",
       " <strong itemprop=\"item\">\n",
       " <span itemprop=\"name\">Catalogue</span>\n",
       " </strong>\n",
       " <meta content=\"1\" itemprop=\"position\">\n",
       " </meta></li>\n",
       " <li class=\"active\" itemprop=\"itemListElement\" itemscope=\"\" itemtype=\"http://schema.org/ListItem\">\n",
       " <a href=\"/catalogue/1/cartons-demenagement\" itemprop=\"item\">\n",
       " <span itemprop=\"name\">Cartons déménagement</span>\n",
       " </a>\n",
       " <meta content=\"2\" itemprop=\"position\">\n",
       " </meta></li>\n",
       " </ol>\n",
       " <!-- /Breadcrumb -->\n",
       " <div id=\"ficheProduit\">\n",
       " </div>\n",
       " <div id=\"gammeProduits\" style=\"background: #575e62\">\n",
       " <h1 class=\"title\">CARTONS DÉMÉNAGEMENT</h1>\n",
       " <div class=\"imageflow hidden-print\" id=\"imageflow\">\n",
       " <img alt=\"CARTON STANDARD RENFORCÉ\" height=\"178\" longdesc=\"41\" src=\"/upload/images/41_tn.jpg\" width=\"256\"/>\n",
       " <img alt=\"CARTON STANDARD RENFORCÉ ++\" height=\"180\" longdesc=\"42\" src=\"/upload/images/42_tn.jpg\" width=\"256\"/>\n",
       " <img alt=\"CARTON SUPERDEM\" height=\"189\" longdesc=\"43\" src=\"/upload/images/43_tn.jpg\" width=\"256\"/>\n",
       " <img alt=\"CARTON LIVRES\" height=\"237\" longdesc=\"44\" src=\"/upload/images/44_tn.jpg\" width=\"256\"/>\n",
       " <img alt=\"CARTON INFORMATIQUE - Grand Modèle\" height=\"269\" longdesc=\"71\" src=\"/upload/images/71_tn.jpg\" width=\"256\"/>\n",
       " <img alt=\"CARTON INFORMATIQUE - Petit Modèle\" height=\"232\" longdesc=\"72\" src=\"/upload/images/72_tn.jpg\" width=\"256\"/>\n",
       " <img alt=\"CARTON ABAT-JOUR\" height=\"201\" longdesc=\"66\" src=\"/upload/images/66_tn.jpg\" width=\"256\"/>\n",
       " <img alt=\"CARTON HALOGÈNE\" height=\"256\" longdesc=\"67\" src=\"/upload/images/67_tn.jpg\" width=\"256\"/>\n",
       " <img alt=\"CARTON TABLEAU TÉLESCOPIQUE\" height=\"256\" longdesc=\"65\" src=\"/upload/images/65_tn.jpg\" width=\"256\"/>\n",
       " <img alt=\"CARTON BOUTEILLE\" height=\"258\" longdesc=\"46\" src=\"/upload/images/46_tn.jpg\" width=\"256\"/>\n",
       " <img alt=\"CARTON POUR KIT ISOTHERME\" height=\"242\" longdesc=\"68\" src=\"/upload/images/68_tn.jpg\" width=\"256\"/>\n",
       " <img alt=\"KIT ISOTHERME SANS CARTON\" height=\"256\" longdesc=\"69\" src=\"/upload/images/69_tn.jpg\" width=\"256\"/>\n",
       " <img alt=\"BARREL PETIT MODELE\" height=\"263\" longdesc=\"216\" src=\"/upload/images/216_tn.jpg\" width=\"256\"/>\n",
       " <img alt=\"BARREL GRAND MODELE\" height=\"310\" longdesc=\"220\" src=\"/upload/images/220_tn.jpg\" width=\"256\"/>\n",
       " <img alt=\"PACK CROISILLONS BARREL ASSIETTE\" height=\"256\" longdesc=\"62\" src=\"/upload/images/62_tn.jpg\" width=\"256\"/>\n",
       " <img alt=\"PACK CROISILLONS BARREL VERRE\" height=\"256\" longdesc=\"61\" src=\"/upload/images/61_tn.jpg\" width=\"256\"/>\n",
       " <img alt=\"PENDERIE CONFECTION\" height=\"371\" longdesc=\"238\" src=\"/upload/images/238_tn.jpg\" width=\"256\"/>\n",
       " <img alt=\"PENDERIE \" height=\"342\" longdesc=\"49\" src=\"/upload/images/49_tn.jpg\" width=\"256\"/>\n",
       " <img alt=\"TRINGLE POUR CARTON PENDERIE\" height=\"113\" longdesc=\"50\" src=\"/upload/images/50_tn.jpg\" width=\"256\"/>\n",
       " <img alt=\"CONTENEUR ARCHIVES\" height=\"179\" longdesc=\"235\" src=\"/upload/images/235_tn.jpg\" width=\"256\"/>\n",
       " <img alt=\"KIT DE DÉPANNAGE\" height=\"232\" longdesc=\"45\" src=\"/upload/images/45_tn.jpg\" width=\"256\"/>\n",
       " <img alt=\"CORNIÈRE À TABLEAU\" height=\"221\" longdesc=\"63\" src=\"/upload/images/63_tn.jpg\" width=\"256\"/>\n",
       " <img alt=\"CORNIÈRE DE PROTECTION EN CARTON\" height=\"145\" longdesc=\"74\" src=\"/upload/images/74_tn.jpg\" width=\"256\"/>\n",
       " <img alt=\"CONTENEUR EXPORT - Modèle C.09\" height=\"187\" longdesc=\"75\" src=\"/upload/images/75_tn.jpg\" width=\"256\"/>\n",
       " <img alt=\"CONTENEUR EXPORT - Modèle GMC\" height=\"208\" longdesc=\"76\" src=\"/upload/images/76_tn.jpg\" width=\"256\"/>\n",
       " <img alt=\"CONTENEUR EXPORT - Modèle CXC\" height=\"214\" longdesc=\"77\" src=\"/upload/images/77_tn.jpg\" width=\"256\"/>\n",
       " <img alt=\"CONTENEUR EXPORT - Modèle 580\" height=\"251\" longdesc=\"78\" src=\"/upload/images/78_tn.jpg\" width=\"256\"/>\n",
       " </div>\n",
       " </div>\n",
       " <a class=\"btn btn-sm btn-primary pull-right\" href=\"https://boutique.fmd-sa.com\" onclick=\"window.open(this.href); return false;\" style=\"margin-top: 20px\">ACCÉDER AU SITE BOUTIQUE <i class=\"fa fa-lg fa-shopping-cart\"></i></a>\n",
       " <h3>Produits de la gamme</h3>\n",
       " <hr/>\n",
       " <div class=\"row\" id=\"listeProduits\">\n",
       " <div class=\"col-sm-4\">\n",
       " <ul class=\"nav nav-pills nav-stacked\">\n",
       " <li id=\"li41\"><a href=\"/catalogue/1/cartons-demenagement/41/carton-demenagement\" onclick=\"chargementFicheProduit(41); return false;\">CARTON STANDARD RENFORCÉ</a></li>\n",
       " <li id=\"li42\"><a href=\"/catalogue/1/cartons-demenagement/42/carton-demenagement-tres-resistant\" onclick=\"chargementFicheProduit(42); return false;\">CARTON STANDARD RENFORCÉ ++</a></li>\n",
       " <li id=\"li43\"><a href=\"/catalogue/1/cartons-demenagement/43/carton-garde-meuble-export\" onclick=\"chargementFicheProduit(43); return false;\">CARTON SUPERDEM</a></li>\n",
       " <li id=\"li44\"><a href=\"/catalogue/1/cartons-demenagement/44/carton-demenagement-objets-lourds\" onclick=\"chargementFicheProduit(44); return false;\">CARTON LIVRES</a></li>\n",
       " <li id=\"li71\"><a href=\"/catalogue/1/cartons-demenagement/71/carton-informatique-grand-modele\" onclick=\"chargementFicheProduit(71); return false;\">CARTON INFORMATIQUE - Grand Modèle</a></li>\n",
       " <li id=\"li72\"><a href=\"/catalogue/1/cartons-demenagement/72/carton-informatique-petit-modele\" onclick=\"chargementFicheProduit(72); return false;\">CARTON INFORMATIQUE - Petit Modèle</a></li>\n",
       " <li id=\"li66\"><a href=\"/catalogue/1/cartons-demenagement/66/carton-abat-jour\" onclick=\"chargementFicheProduit(66); return false;\">CARTON ABAT-JOUR</a></li>\n",
       " <li id=\"li67\"><a href=\"/catalogue/1/cartons-demenagement/67/carton-halogene\" onclick=\"chargementFicheProduit(67); return false;\">CARTON HALOGÈNE</a></li>\n",
       " <li id=\"li65\"><a href=\"/catalogue/1/cartons-demenagement/65/carton-tableau-telescopique\" onclick=\"chargementFicheProduit(65); return false;\">CARTON TABLEAU TÉLESCOPIQUE</a></li>\n",
       " </ul>\n",
       " </div>\n",
       " <div class=\"col-sm-4\">\n",
       " <ul class=\"nav nav-pills nav-stacked\">\n",
       " <li id=\"li46\"><a href=\"/catalogue/1/cartons-demenagement/46/carton-bouteille\" onclick=\"chargementFicheProduit(46); return false;\">CARTON BOUTEILLE</a></li>\n",
       " <li id=\"li68\"><a href=\"/catalogue/1/cartons-demenagement/68/carton-pour-kit-isotherme\" onclick=\"chargementFicheProduit(68); return false;\">CARTON POUR KIT ISOTHERME</a></li>\n",
       " <li id=\"li69\"><a href=\"/catalogue/1/cartons-demenagement/69/kit-isotherme-sans-carton\" onclick=\"chargementFicheProduit(69); return false;\">KIT ISOTHERME SANS CARTON</a></li>\n",
       " <li id=\"li216\"><a href=\"/catalogue/1/cartons-demenagement/216/carton-demenagement-vaisselle\" onclick=\"chargementFicheProduit(216); return false;\">BARREL PETIT MODELE</a></li>\n",
       " <li id=\"li220\"><a href=\"/catalogue/1/cartons-demenagement/220/carton-demenagement-vaisselle-et-verres\" onclick=\"chargementFicheProduit(220); return false;\">BARREL GRAND MODELE</a></li>\n",
       " <li id=\"li62\"><a href=\"/catalogue/1/cartons-demenagement/62/intercalaires-assiettes-carton-vaisselle\" onclick=\"chargementFicheProduit(62); return false;\">PACK CROISILLONS BARREL ASSIETTE</a></li>\n",
       " <li id=\"li61\"><a href=\"/catalogue/1/cartons-demenagement/61/intercalaires-verres-carton-vaisselle\" onclick=\"chargementFicheProduit(61); return false;\">PACK CROISILLONS BARREL VERRE</a></li>\n",
       " <li id=\"li238\"><a href=\"/catalogue/1/cartons-demenagement/238/penderie-confection\" onclick=\"chargementFicheProduit(238); return false;\">PENDERIE CONFECTION</a></li>\n",
       " <li id=\"li49\"><a href=\"/catalogue/1/cartons-demenagement/49/carton-penderie-basse\" onclick=\"chargementFicheProduit(49); return false;\">PENDERIE </a></li>\n",
       " </ul>\n",
       " </div>\n",
       " <div class=\"col-sm-4\">\n",
       " <ul class=\"nav nav-pills nav-stacked\">\n",
       " <li id=\"li50\"><a href=\"/catalogue/1/cartons-demenagement/50/barre-porte-cintres\" onclick=\"chargementFicheProduit(50); return false;\">TRINGLE POUR CARTON PENDERIE</a></li>\n",
       " <li id=\"li235\"><a href=\"/catalogue/1/cartons-demenagement/235/conteneur-archives\" onclick=\"chargementFicheProduit(235); return false;\">CONTENEUR ARCHIVES</a></li>\n",
       " <li id=\"li45\"><a href=\"/catalogue/1/cartons-demenagement/45/pack-cartons-demenagement-et-adhesif\" onclick=\"chargementFicheProduit(45); return false;\">KIT DE DÉPANNAGE</a></li>\n",
       " <li id=\"li63\"><a href=\"/catalogue/1/cartons-demenagement/63/carton-de-protection-tableaux-et-cadres\" onclick=\"chargementFicheProduit(63); return false;\">CORNIÈRE À TABLEAU</a></li>\n",
       " <li id=\"li74\"><a href=\"/catalogue/1/cartons-demenagement/74/corniere-de-protection-en-carton\" onclick=\"chargementFicheProduit(74); return false;\">CORNIÈRE DE PROTECTION EN CARTON</a></li>\n",
       " <li id=\"li75\"><a href=\"/catalogue/1/cartons-demenagement/75/conteneur-export-modele-c-09\" onclick=\"chargementFicheProduit(75); return false;\">CONTENEUR EXPORT - Modèle C.09</a></li>\n",
       " <li id=\"li76\"><a href=\"/catalogue/1/cartons-demenagement/76/conteneur-export-modele-gmc\" onclick=\"chargementFicheProduit(76); return false;\">CONTENEUR EXPORT - Modèle GMC</a></li>\n",
       " <li id=\"li77\"><a href=\"/catalogue/1/cartons-demenagement/77/conteneur-export-modele-cxc\" onclick=\"chargementFicheProduit(77); return false;\">CONTENEUR EXPORT - Modèle CXC</a></li>\n",
       " <li id=\"li78\"><a href=\"/catalogue/1/cartons-demenagement/78/conteneur-export-modele-580\" onclick=\"chargementFicheProduit(78); return false;\">CONTENEUR EXPORT - Modèle 580</a></li>\n",
       " </ul>\n",
       " </div><!-- .row #listeProduits -->\n",
       " </div>\n",
       " </div><!-- #content -->\n",
       " </div><!-- .row -->\n",
       " <hr/>\n",
       " <footer class=\"row\">\n",
       " <div class=\"col-sm-12\">\n",
       " <p>© 2020 FMD SA - <a href=\"/catalogue/1/cartons-demenagement\">Carton demenagement</a> - <a href=\"/carton-demenagement-paris.php\">Paris</a> - <a href=\"/carton-demenagement-lyon.php\">Lyon</a> - <a href=\"/carton-demenagement-marseille.php\">Marseille</a> - <a href=\"/carton-demenagement-bordeaux.php\">Bordeaux</a> - <a href=\"/conseils.php\">Conseils</a> - <a href=\"/mentions-legales.php\">Mentions légales</a> - Photos non contractuelles</p>\n",
       " </div>\n",
       " </footer>\n",
       " </div><!-- .container -->\n",
       " <div class=\"modal fade\" id=\"modal-menu\">\n",
       " <div class=\"modal-dialog\">\n",
       " <div class=\"modal-content\">\n",
       " <div class=\"modal-header\">\n",
       " <button aria-label=\"Close\" class=\"close\" data-dismiss=\"modal\" type=\"button\"><span aria-hidden=\"true\" class=\"fa fa-lg fa-remove\"></span></button>\n",
       " <h4 class=\"modal-title\">MENU</h4>\n",
       " </div>\n",
       " <div class=\"modal-body\">\n",
       " </div>\n",
       " <div class=\"clearfix\"></div>\n",
       " </div><!-- /.modal-content -->\n",
       " </div><!-- /.modal-dialog -->\n",
       " </div><!-- /.modal -->\n",
       " <div class=\"modal fade\" id=\"modal-cat\">\n",
       " <div class=\"modal-dialog\">\n",
       " <div class=\"modal-content\">\n",
       " <div class=\"modal-header\">\n",
       " <button aria-label=\"Close\" class=\"close\" data-dismiss=\"modal\" type=\"button\"><span aria-hidden=\"true\" class=\"fa fa-lg fa-remove\"></span></button>\n",
       " <h4 class=\"modal-title\">CATALOGUE</h4>\n",
       " </div>\n",
       " <div class=\"modal-body\">\n",
       " </div>\n",
       " <div class=\"clearfix\"></div>\n",
       " </div><!-- /.modal-content -->\n",
       " </div><!-- /.modal-dialog -->\n",
       " </div><!-- /.modal -->\n",
       " <div class=\"modal fade\" id=\"modal-promo\">\n",
       " <div class=\"modal-dialog\">\n",
       " <div class=\"modal-content\">\n",
       " <div class=\"modal-header\">\n",
       " <button aria-label=\"Close\" class=\"close\" data-dismiss=\"modal\" type=\"button\"><span aria-hidden=\"true\" class=\"fa fa-lg fa-remove\"></span></button>\n",
       " <h4 class=\"modal-title\">PROMOTIONS</h4>\n",
       " </div>\n",
       " <div class=\"modal-body\">\n",
       " <ul>\n",
       " <li class=\"text-danger\">Aucune promotion en cours.</li> </ul>\n",
       " </div>\n",
       " <div class=\"clearfix\"></div>\n",
       " </div><!-- /.modal-content -->\n",
       " </div><!-- /.modal-dialog -->\n",
       " </div><!-- /.modal -->\n",
       " <script src=\"/js/jquery.min.js\"></script>\n",
       " <script src=\"/js/bootstrap.min.js\"></script>\n",
       " <script src=\"/js/bootstrap-select.min.js\"></script>\n",
       " <script src=\"/js/fastclick.min.js\"></script>\n",
       " <script src=\"/js/imageflow.js\"></script>\n",
       " <script src=\"/js/hammer.min.js\"></script>\n",
       " <script src=\"/js/featherlight.min.js\"></script>\n",
       " <script src=\"/js/fmd.js\"></script><script type=\"text/javascript\">\n",
       " \t\t\n",
       " \tvar currentProd = '';\n",
       " \tvar imageflow = '';\n",
       " \t\n",
       " \tfunction chargementFicheProduit(id) {\n",
       " \t\tif(!id) id = '';\n",
       " \t\t$(\"#ficheProduit\").load('/ficheproduit.php?idRubrique=1&idProduit=' + id, function() {\n",
       " \t\t\t$('html,body').animate({scrollTop: 0}, 500);\n",
       " \t\t\t$('#listeProduits li.active').removeClass('active');\n",
       " \t\t\t$('#li'+id).addClass('active');\n",
       " \t\t\tif(id != '') location.href = '#' + id;\n",
       " \t\t\telse location.hash = '';\n",
       " \t\t\tcurrentProd = id;\n",
       " \t\t});\t\t\n",
       " \t}\n",
       " \t\n",
       " \tfunction checkHistoryNav(){\n",
       " \t\tvar id = location.hash;\n",
       " \t\tvar regId = /[0-9]+/;\n",
       " \t\tid = id.replace(/#/, '');\n",
       " \t\tif(id.match(regId) && id != currentProd) chargementFicheProduit(id);\n",
       " \t\telse if (!id && currentProd != '') chargementFicheProduit();\n",
       " \t}\n",
       " \tsetInterval(\"checkHistoryNav()\", 100);\n",
       " \t\t\t\n",
       " \t$(document).ready(function(){\n",
       " \t\t\n",
       " \t\t// Gestion imageflow\n",
       " \t\timageflow = new ImageFlow();\n",
       " \t\timageflow.init({\n",
       " \t\t    reflectionGET: '&bgc=575e62',\n",
       " \t\t    startID: 1,\t\n",
       " \t\t    onClick: function() {\n",
       " \t\t    \tchargementFicheProduit(this.url);\n",
       " \t\t    }\n",
       " \t\t});\n",
       " \t\t\n",
       " \t\t\n",
       " \t\tvar element = document.getElementById('imageflow');\n",
       " \t\tvar hammertime = Hammer(element).on(\"swipe\", function(event) {\n",
       "         if(event.direction == Hammer.DIRECTION_LEFT) imageflow.MouseWheel.handle(-1);\n",
       "         else if(event.direction == Hammer.DIRECTION_RIGHT) imageflow.MouseWheel.handle(1);\n",
       "     });\n",
       "     \n",
       " });\t\t\t\n",
       " </script>\n",
       " </body>\n",
       " </html>]"
      ]
     },
     "execution_count": 23,
     "metadata": {},
     "output_type": "execute_result"
    }
   ],
   "source": [
    "children = list(soup.children)\n",
    "children"
   ]
  },
  {
   "cell_type": "code",
   "execution_count": 16,
   "metadata": {},
   "outputs": [],
   "source": [
    "# contenu article\n",
    "dimensions = children.find('col-sm-9', attrs={'id' :\"content\"})"
   ]
  },
  {
   "cell_type": "code",
   "execution_count": 18,
   "metadata": {},
   "outputs": [
    {
     "ename": "AttributeError",
     "evalue": "'NoneType' object has no attribute 'text'",
     "output_type": "error",
     "traceback": [
      "\u001b[1;31m---------------------------------------------------------------------------\u001b[0m",
      "\u001b[1;31mAttributeError\u001b[0m                            Traceback (most recent call last)",
      "\u001b[1;32mc:\\Users\\cathe\\Documents\\WCS-2022-2023\\VS_code\\Wild-Data-Engineer-2022-2023\\Titre CDA v2\\01_Scrap_data.ipynb Cellule 13\u001b[0m in \u001b[0;36m<cell line: 1>\u001b[1;34m()\u001b[0m\n\u001b[1;32m----> <a href='vscode-notebook-cell:/c%3A/Users/cathe/Documents/WCS-2022-2023/VS_code/Wild-Data-Engineer-2022-2023/Titre%20CDA%20v2/01_Scrap_data.ipynb#X16sZmlsZQ%3D%3D?line=0'>1</a>\u001b[0m description\u001b[39m.\u001b[39;49mtext\n",
      "\u001b[1;31mAttributeError\u001b[0m: 'NoneType' object has no attribute 'text'"
     ]
    }
   ],
   "source": [
    "description.text"
   ]
  },
  {
   "cell_type": "code",
   "execution_count": null,
   "metadata": {},
   "outputs": [],
   "source": []
  }
 ],
 "metadata": {
  "kernelspec": {
   "display_name": "base",
   "language": "python",
   "name": "python3"
  },
  "language_info": {
   "codemirror_mode": {
    "name": "ipython",
    "version": 3
   },
   "file_extension": ".py",
   "mimetype": "text/x-python",
   "name": "python",
   "nbconvert_exporter": "python",
   "pygments_lexer": "ipython3",
   "version": "3.8.13"
  },
  "orig_nbformat": 4,
  "vscode": {
   "interpreter": {
    "hash": "d3755b735588d4303beb95518f2ab4e1c49ea1461d509c805a65d62cd2a8f700"
   }
  }
 },
 "nbformat": 4,
 "nbformat_minor": 2
}
