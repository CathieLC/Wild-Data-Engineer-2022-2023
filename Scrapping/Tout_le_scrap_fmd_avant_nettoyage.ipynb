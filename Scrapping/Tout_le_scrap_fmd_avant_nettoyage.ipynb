{
 "cells": [
  {
   "attachments": {},
   "cell_type": "markdown",
   "metadata": {},
   "source": [
    "Avant de passer au web scraping proprement dit, découvrons les propriétés classet id.  \n",
    "Ces propriétés spéciales donnent des noms aux éléments HTML et facilitent leur interaction lors du scrapp.  \n",
    "Un élément peut avoir plusieurs classes et une classe peut être partagée entre des éléments. Chaque élément ne peut avoir qu'un seul identifiant, et un identifiant ne peut être utilisé qu'une seule fois sur une page.  \n",
    "Les classes et les identifiants sont facultatifs et tous les éléments n'en auront pas."
   ]
  },
  {
   "cell_type": "code",
   "execution_count": 1,
   "metadata": {},
   "outputs": [
    {
     "data": {
      "text/plain": [
       "200"
      ]
     },
     "execution_count": 1,
     "metadata": {},
     "output_type": "execute_result"
    }
   ],
   "source": [
    "import requests\n",
    "page = requests.get(\"https://www.fmd-sa.com/catalogue/1/cartons-demenagement\")\n",
    "page.status_code\n"
   ]
  },
  {
   "cell_type": "code",
   "execution_count": null,
   "metadata": {},
   "outputs": [],
   "source": [
    "# Nous pouvons imprimer le contenu HTML de la page en utilisant la content propriété :\n",
    "page.content\n"
   ]
  },
  {
   "attachments": {},
   "cell_type": "markdown",
   "metadata": {},
   "source": [
    "Analyser une page avec BeautifulSoup  \n",
    "Nous pouvons utiliser la bibliothèque BeautifulSoup pour analyser ce document et extraire le texte de la p balise.  \n",
    "Nous devons d'abord importer la bibliothèque et créer une instance de la BeautifulSoup classe pour analyser notre document :"
   ]
  },
  {
   "cell_type": "code",
   "execution_count": 3,
   "metadata": {},
   "outputs": [],
   "source": [
    "from bs4 import BeautifulSoup\n",
    "soup = BeautifulSoup(page.content, 'html.parser')"
   ]
  },
  {
   "attachments": {},
   "cell_type": "markdown",
   "metadata": {},
   "source": [
    "Nous pouvons maintenant imprimer le contenu HTML de la page, bien formaté, en utilisant la méthode prettify sur le BeautifulSoup objet."
   ]
  },
  {
   "cell_type": "code",
   "execution_count": null,
   "metadata": {},
   "outputs": [],
   "source": [
    "print(soup.prettify())"
   ]
  },
  {
   "attachments": {},
   "cell_type": "markdown",
   "metadata": {},
   "source": [
    "Cette étape n'est pas strictement nécessaire, et nous ne nous en soucierons pas toujours, mais il peut être utile de regarder du HTML embelli pour rendre la structure des balises et où sont imbriquées plus facile à voir.  \n",
    "Comme toutes les balises sont imbriquées, nous pouvons parcourir la structure d'un niveau à la fois.  \n",
    "Nous pouvons d'abord sélectionner tous les éléments au niveau supérieur de la page en utilisant la children propriété de soup.\n",
    "\n",
    "Notez que children renvoie un générateur de liste, nous devons donc appeler la list fonction dessus :"
   ]
  },
  {
   "cell_type": "code",
   "execution_count": null,
   "metadata": {},
   "outputs": [],
   "source": [
    "list(soup.children)"
   ]
  },
  {
   "attachments": {},
   "cell_type": "markdown",
   "metadata": {},
   "source": [
    "Ce qui précède nous indique qu'il y a deux balises au niveau supérieur de la page  \n",
    "la \"!DOCTYPE html\" balise initiale et la \"html\" balise.  \n",
    "Il y a aussi un caractère de retour à la ligne ( n) dans la liste.  \n",
    "Voyons quel est le type de chaque élément de la liste :"
   ]
  },
  {
   "cell_type": "code",
   "execution_count": 6,
   "metadata": {},
   "outputs": [
    {
     "data": {
      "text/plain": [
       "[bs4.element.Doctype, bs4.element.NavigableString, bs4.element.Tag]"
      ]
     },
     "execution_count": 6,
     "metadata": {},
     "output_type": "execute_result"
    }
   ],
   "source": [
    "[type(item) for item in list(soup.children)]"
   ]
  },
  {
   "attachments": {},
   "cell_type": "markdown",
   "metadata": {},
   "source": [
    "[bs4.element.Doctype, bs4.element.NavigableString, bs4.element.Tag]  \n",
    "Comme nous pouvons le voir, tous les éléments sont des BeautifulSoupobjets :  \n",
    "\n",
    "Le premier est un Doctypeobjet, qui contient des informations sur le type du document.\n",
    "Le second est un NavigableString, qui représente le texte trouvé dans le document HTML.\n",
    "L'élément final est un Tagobjet, qui contient d'autres balises imbriquées.\n",
    "Le type d'objet le plus important, et celui dont nous traiterons le plus souvent, est l' Tagobjet.  \n",
    "\n",
    "L' Tagobjet nous permet de naviguer dans un document HTML et d'extraire d'autres balises et du texte. Vous pouvez en savoir plus sur les différents BeautifulSoupobjets ici ."
   ]
  },
  {
   "cell_type": "code",
   "execution_count": null,
   "metadata": {},
   "outputs": [],
   "source": [
    "# Chaque élément de la liste renvoyée par la childrenpropriété est également un BeautifulSoupobjet, nous pouvons donc également appeler la childrenméthode sur html.\n",
    "# Maintenant, nous pouvons trouver les enfants à l'intérieur de la html balise :\n",
    "\n",
    "html = list(soup.children)[2]\n",
    "list(html.children)"
   ]
  },
  {
   "cell_type": "code",
   "execution_count": null,
   "metadata": {},
   "outputs": [],
   "source": [
    "# Comme nous pouvons le voir ci-dessus, il y a deux balises ici head, et body. \n",
    "# Nous voulons extraire le texte à l'intérieur de la pbalise, nous allons donc plonger dans le corps :\n",
    "body = list(html.children)[3]\n",
    "body"
   ]
  },
  {
   "cell_type": "code",
   "execution_count": null,
   "metadata": {},
   "outputs": [],
   "source": [
    "# Maintenant, nous pouvons obtenir la pbalise en trouvant les enfants de la balise body :\n",
    "list(body.children)"
   ]
  },
  {
   "cell_type": "code",
   "execution_count": null,
   "metadata": {},
   "outputs": [],
   "source": [
    "# isoler la balise p\n",
    "p = list(body.children)[1]\n",
    "p"
   ]
  },
  {
   "cell_type": "code",
   "execution_count": null,
   "metadata": {},
   "outputs": [],
   "source": [
    "# Une fois que nous avons isolé la balise, nous pouvons utiliser la get_textméthode pour extraire tout le texte à l'intérieur de la balise :\n",
    "p.get_text()"
   ]
  },
  {
   "attachments": {},
   "cell_type": "markdown",
   "metadata": {},
   "source": [
    "### Trouver toutes les instances d'une balise à la fois  \n",
    "Ce que nous avons fait ci-dessus était utile pour comprendre comment naviguer dans une page, mais il fallait beaucoup de commandes pour faire quelque chose d'assez simple.  \n",
    "Si nous voulons extraire une seule balise, nous pouvons plutôt utiliser la find_allméthode , qui trouvera toutes les instances d'une balise sur une page."
   ]
  },
  {
   "cell_type": "code",
   "execution_count": 12,
   "metadata": {},
   "outputs": [
    {
     "data": {
      "text/plain": [
       "[<p>© 2020 FMD SA - <a href=\"/catalogue/1/cartons-demenagement\">Carton demenagement</a> - <a href=\"/carton-demenagement-paris.php\">Paris</a> - <a href=\"/carton-demenagement-lyon.php\">Lyon</a> - <a href=\"/carton-demenagement-marseille.php\">Marseille</a> - <a href=\"/carton-demenagement-bordeaux.php\">Bordeaux</a> - <a href=\"/conseils.php\">Conseils</a> - <a href=\"/mentions-legales.php\">Mentions légales</a> - Photos non contractuelles</p>]"
      ]
     },
     "execution_count": 12,
     "metadata": {},
     "output_type": "execute_result"
    }
   ],
   "source": [
    "soup = BeautifulSoup(page.content, 'html.parser')\n",
    "soup.find_all('p')"
   ]
  },
  {
   "attachments": {},
   "cell_type": "markdown",
   "metadata": {},
   "source": [
    "Notez que find_all renvoie une liste, nous devrons donc la parcourir ou utiliser l'indexation de liste pour extraire le texte :"
   ]
  },
  {
   "cell_type": "code",
   "execution_count": 13,
   "metadata": {},
   "outputs": [
    {
     "data": {
      "text/plain": [
       "'© 2020 FMD SA - Carton demenagement - Paris - Lyon - Marseille - Bordeaux - Conseils - Mentions légales - Photos non contractuelles'"
      ]
     },
     "execution_count": 13,
     "metadata": {},
     "output_type": "execute_result"
    }
   ],
   "source": [
    "soup.find_all('p')[0].get_text()"
   ]
  },
  {
   "attachments": {},
   "cell_type": "markdown",
   "metadata": {},
   "source": [
    "### Recherche de balises par classe et identifiant  \n",
    "\n",
    "Nous avons introduit les classes et les identifiants plus tôt, mais nous ne savions probablement pas pourquoi ils étaient utiles.  \n",
    "\n",
    "Les classes et les identifiants sont utilisés par CSS pour déterminer à quels éléments HTML appliquer certains styles. Mais quand on scrape, on peut aussi les utiliser pour spécifier les éléments qu'on veut scraper.  \n",
    "\n",
    "Pour illustrer ce principe, nous allons travailler avec la page suivante :  https://dataquestio.github.io/web-scraping-pages/ids_and_classes.html."
   ]
  },
  {
   "cell_type": "code",
   "execution_count": null,
   "metadata": {},
   "outputs": [],
   "source": [
    "page = requests.get(\"https://www.fmd-sa.com/catalogue/1/cartons-demenagement\")\n",
    "soup = BeautifulSoup(page.content, 'html.parser')\n",
    "soup"
   ]
  },
  {
   "attachments": {},
   "cell_type": "markdown",
   "metadata": {},
   "source": [
    "Dans l'exemple ci-dessous, nous allons chercher n'importe quel tag qui a la classe col-sm-4:"
   ]
  },
  {
   "cell_type": "code",
   "execution_count": null,
   "metadata": {},
   "outputs": [],
   "source": [
    "# j'ai la donnée de mes 3 rangées de cartons sur FMD\n",
    "\n",
    "soup1 = soup.find_all(class_=\"col-sm-4\")[1]\n",
    "soup2 = soup.find_all(class_=\"col-sm-4\")[2]\n",
    "soup3 = soup.find_all(class_=\"col-sm-4\")[3]\n",
    "soup3"
   ]
  },
  {
   "cell_type": "code",
   "execution_count": null,
   "metadata": {},
   "outputs": [],
   "source": [
    "rangee3 = soup3.find_all(class_=\"nav nav-pills nav-stacked\")\n",
    "rangee3"
   ]
  },
  {
   "attachments": {},
   "cell_type": "markdown",
   "metadata": {},
   "source": [
    "## Utilisation des sélecteurs CSS  \n",
    "Nous pouvons également rechercher des éléments à l'aide de sélecteurs CSS .  \n",
    "Ces sélecteurs permettent au langage CSS de spécifier aux développeurs des balises HTML à styliser.  \n",
    "\n",
    "Voici quelques exemples:\n",
    "\n",
    "    p a — trouve toutes les a balises à l'intérieur d'une p balise.\n",
    "    body p a — trouve toutes les abalises à l'intérieur d'une pbalise à l'intérieur d'une bodybalise.\n",
    "    html body — trouve toutes les body balises à l'intérieur d'une html balise.\n",
    "    p.outer-text — trouve toutes les p balises avec une classe de outer-text.\n",
    "    p#first — trouve toutes les p balises avec un identifiant de first.\n",
    "    body p.outer-text — trouve toutes les p balises avec une classe outer-text à l'intérieur d'une body balise.  \n",
    "\n",
    "Les objets  BeautifulSoup prennent en charge la recherche d'une page via des sélecteurs CSS à l'aide de la select méthode.  \n",
    "Nous pouvons utiliser des sélecteurs CSS pour trouver toutes les p balises de notre page qui se trouvent à l'intérieur d'un div comme ceci :"
   ]
  },
  {
   "cell_type": "code",
   "execution_count": null,
   "metadata": {},
   "outputs": [],
   "source": [
    "nom_carton = soup.select(\"div div div div div li\")\n",
    "print(len(nom_carton))\n",
    "print(nom_carton)\n",
    "\n",
    "#itemprop = span.find_all(itemprop=\"name\")"
   ]
  },
  {
   "attachments": {},
   "cell_type": "markdown",
   "metadata": {},
   "source": [
    "Notez que la select méthode ci-dessus renvoie une liste d' BeautifulSoup objets, tout comme find et find_all."
   ]
  },
  {
   "cell_type": "code",
   "execution_count": null,
   "metadata": {},
   "outputs": [],
   "source": [
    "# récupérer le nom des articles\n",
    "\n",
    "page = requests.get(\"https://www.fmd-sa.com/catalogue/1/cartons-demenagement\")\n",
    "#print(page.status_code)\n",
    "soup = BeautifulSoup(page.content, 'html.parser')\n",
    "\n",
    "listProduits= soup.find(id=\"listeProduits\")\n",
    "\n",
    "nav_pills = listProduits.find_all(class_=\"nav nav-pills nav-stacked\")\n",
    "\n",
    "link_rangee = []\n",
    "\n",
    "for r in range(len(nav_pills)):\n",
    "    rangee = nav_pills[r]\n",
    "    link_rangee.append(rangee)\n",
    "print(link_rangee)\n",
    "print(len(link_rangee))\n",
    "\n",
    "\n"
   ]
  },
  {
   "cell_type": "code",
   "execution_count": 19,
   "metadata": {},
   "outputs": [
    {
     "name": "stdout",
     "output_type": "stream",
     "text": [
      "3\n"
     ]
    }
   ],
   "source": [
    "li = []\n",
    "for nb_rangee in range((len(link_rangee))) :\n",
    "    li.append(link_rangee[nb_rangee].find_all(\"li\"))\n",
    "\n",
    "print(len(li))"
   ]
  },
  {
   "cell_type": "code",
   "execution_count": 20,
   "metadata": {},
   "outputs": [
    {
     "name": "stdout",
     "output_type": "stream",
     "text": [
      "[9, 9, 9]\n"
     ]
    }
   ],
   "source": [
    "# count item par rangée :\n",
    "\n",
    "item_par_rangee = []\n",
    "for i in range(len(li)) :\n",
    "    item_par_rangee.append(len(li[i]))\n",
    "\n",
    "print(item_par_rangee)"
   ]
  },
  {
   "cell_type": "code",
   "execution_count": 21,
   "metadata": {},
   "outputs": [
    {
     "name": "stdout",
     "output_type": "stream",
     "text": [
      "['CARTON STANDARD RENFORCÉ', 'CARTON STANDARD RENFORCÉ ++', 'CARTON SUPERDEM', 'CARTON LIVRES', 'CARTON INFORMATIQUE - Grand Modèle', 'CARTON INFORMATIQUE - Petit Modèle', 'CARTON ABAT-JOUR', 'CARTON HALOGÈNE', 'CARTON TABLEAU TÉLESCOPIQUE', 'CARTON BOUTEILLE', 'CARTON POUR KIT ISOTHERME', 'KIT ISOTHERME SANS CARTON', 'BARREL PETIT MODELE', 'BARREL GRAND MODELE', 'PACK CROISILLONS BARREL ASSIETTE', 'PACK CROISILLONS BARREL VERRE', 'PENDERIE CONFECTION', 'PENDERIE ', 'TRINGLE POUR CARTON PENDERIE', 'CONTENEUR ARCHIVES', 'KIT DE DÉPANNAGE', 'CORNIÈRE À TABLEAU', 'CORNIÈRE DE PROTECTION EN CARTON', 'CONTENEUR EXPORT - Modèle C.09', 'CONTENEUR EXPORT - Modèle GMC', 'CONTENEUR EXPORT - Modèle CXC', 'CONTENEUR EXPORT - Modèle 580']\n",
      "27\n"
     ]
    }
   ],
   "source": [
    "# récupérer le nom de tous les articles du site\n",
    "\n",
    "article = []\n",
    "\n",
    "for bloc in range(len(li)) : # =3\n",
    "\n",
    "    item_rangee = item_par_rangee[i] # =9\n",
    "\n",
    "    for line in range(0,item_rangee) :\n",
    "        article.append(li[bloc][line].get_text())\n",
    "\n",
    "print(article)\n",
    "print(len(article)) # = normalement 27\n"
   ]
  },
  {
   "cell_type": "code",
   "execution_count": 22,
   "metadata": {},
   "outputs": [
    {
     "name": "stdout",
     "output_type": "stream",
     "text": [
      "['https://www.fmd-sa.com', 'https://www.fmd-sa.com', '/catalogue/1/cartons-demenagement', '/catalogue/2/adhesif-devidoirs-films-etirables', '/catalogue/3/bulles-polyethylene-bulkraft-ecokraft', '/catalogue/4/housses-pochettes-sacs-polyethylene', '/catalogue/5/housses-de-protection', '/catalogue/6/couvertures-bracelets-caoutchouc', '/catalogue/7/emballage-papier-sangles-bricoles-ficelles', '/catalogue/9/bacs-valises-demecrin-penderies-plastique', '/catalogue/10/manutention', '/catalogue/11/garde-meubles-caisse-export', '/catalogue/12/etiquettes-materiels-divers', '/catalogue/13/imprimes', '/catalogue/14/self-stockage', '/catalogue/17/kits-demenagement', '/catalogue-vetements.php', '/FMD-Catalogue_General-2021-2022_BD.pdf', '/FMD-Catalogue_General-2021-2022_BD.pdf', '/', '/presentation.php', '#modal-cat', '/conseils.php', '/catalogue/16/location', 'https://boutique.fmd-sa.com', '/carton-line.php', '/contact.php', '/catalogue/1/cartons-demenagement', 'https://boutique.fmd-sa.com', '/catalogue/1/cartons-demenagement/41/carton-demenagement', '/catalogue/1/cartons-demenagement/42/carton-demenagement-tres-resistant', '/catalogue/1/cartons-demenagement/43/carton-garde-meuble-export', '/catalogue/1/cartons-demenagement/44/carton-demenagement-objets-lourds', '/catalogue/1/cartons-demenagement/71/carton-informatique-grand-modele', '/catalogue/1/cartons-demenagement/72/carton-informatique-petit-modele', '/catalogue/1/cartons-demenagement/66/carton-abat-jour', '/catalogue/1/cartons-demenagement/67/carton-halogene', '/catalogue/1/cartons-demenagement/65/carton-tableau-telescopique', '/catalogue/1/cartons-demenagement/46/carton-bouteille', '/catalogue/1/cartons-demenagement/68/carton-pour-kit-isotherme', '/catalogue/1/cartons-demenagement/69/kit-isotherme-sans-carton', '/catalogue/1/cartons-demenagement/216/carton-demenagement-vaisselle', '/catalogue/1/cartons-demenagement/220/carton-demenagement-vaisselle-et-verres', '/catalogue/1/cartons-demenagement/62/intercalaires-assiettes-carton-vaisselle', '/catalogue/1/cartons-demenagement/61/intercalaires-verres-carton-vaisselle', '/catalogue/1/cartons-demenagement/238/penderie-confection', '/catalogue/1/cartons-demenagement/49/carton-penderie-basse', '/catalogue/1/cartons-demenagement/50/barre-porte-cintres', '/catalogue/1/cartons-demenagement/235/conteneur-archives', '/catalogue/1/cartons-demenagement/45/pack-cartons-demenagement-et-adhesif', '/catalogue/1/cartons-demenagement/63/carton-de-protection-tableaux-et-cadres', '/catalogue/1/cartons-demenagement/74/corniere-de-protection-en-carton', '/catalogue/1/cartons-demenagement/75/conteneur-export-modele-c-09', '/catalogue/1/cartons-demenagement/76/conteneur-export-modele-gmc', '/catalogue/1/cartons-demenagement/77/conteneur-export-modele-cxc', '/catalogue/1/cartons-demenagement/78/conteneur-export-modele-580', '/catalogue/1/cartons-demenagement', '/carton-demenagement-paris.php', '/carton-demenagement-lyon.php', '/carton-demenagement-marseille.php', '/carton-demenagement-bordeaux.php', '/conseils.php', '/mentions-legales.php']\n"
     ]
    }
   ],
   "source": [
    "from bs4 import BeautifulSoup\n",
    "import urllib.request\n",
    "\n",
    "parser = 'html.parser'  # or 'lxml' (preferred) or 'html5lib', if installed\n",
    "resp = urllib.request.urlopen(\"https://www.fmd-sa.com/catalogue/1/cartons-demenagement\")\n",
    "soup2 = BeautifulSoup(resp, parser, from_encoding=resp.info().get_param('charset'))\n",
    "\n",
    "links = []\n",
    "for link in soup2.find_all('a', href=True):\n",
    "    links.append(link['href'])\n",
    "\n",
    "print(links)\n"
   ]
  },
  {
   "cell_type": "code",
   "execution_count": 23,
   "metadata": {},
   "outputs": [
    {
     "name": "stdout",
     "output_type": "stream",
     "text": [
      "https://www.fmd-sa.com\n",
      "/catalogue/1/cartons-demenagement/41/carton-demenagement\n",
      "/catalogue/1/cartons-demenagement/46/carton-bouteille\n",
      "/catalogue/1/cartons-demenagement/50/barre-porte-cintres\n"
     ]
    }
   ],
   "source": [
    "# là je n'obtiens que les premiers liens de la colonne concernant la class col sm 4\n",
    "productDivs = soup.findAll('div', attrs={'class' : 'col-sm-4'})\n",
    "for div in productDivs:\n",
    "    print(div.find('a')['href'])"
   ]
  },
  {
   "cell_type": "code",
   "execution_count": 24,
   "metadata": {},
   "outputs": [
    {
     "name": "stdout",
     "output_type": "stream",
     "text": [
      "/catalogue/1/cartons-demenagement/41/carton-demenagement\n",
      "/catalogue/1/cartons-demenagement/46/carton-bouteille\n",
      "/catalogue/1/cartons-demenagement/50/barre-porte-cintres\n"
     ]
    }
   ],
   "source": [
    "productDivs2 = soup.findAll('ul', attrs={'class' : 'nav nav-pills nav-stacked'})\n",
    "for div in productDivs2:\n",
    "    print(div.find('a')['href'])"
   ]
  },
  {
   "cell_type": "code",
   "execution_count": 25,
   "metadata": {},
   "outputs": [
    {
     "name": "stdout",
     "output_type": "stream",
     "text": [
      "14\n"
     ]
    }
   ],
   "source": [
    "\n",
    "link_colonne = soup.findAll('div', attrs={'class' : 'col-sm-4'})\n",
    "len(link_colonne) #= 4\n",
    "\n",
    "number_link = 0\n",
    "\n",
    "for i in range(len(link_colonne)) :\n",
    "\n",
    "    number_link += len(link_colonne[i])\n",
    "\n",
    "print(number_link)\n",
    "\n",
    "# je suis censée en avoir 27 !\n",
    "\n"
   ]
  },
  {
   "cell_type": "code",
   "execution_count": 26,
   "metadata": {},
   "outputs": [
    {
     "name": "stdout",
     "output_type": "stream",
     "text": [
      "<div class=\"col-sm-4 col-xs-8\">\n",
      "<div class=\"h1\"><a href=\"https://www.fmd-sa.com\">FMD - Cartons, Fournitures et Matériels de Déménagement</a></div>\n",
      "<a href=\"https://www.fmd-sa.com\" title=\"FMD - Cartons, Fournitures et Matériels de Déménagement\"><img alt=\"FMD - Cartons, Fournitures et Matériels de Déménagement\" class=\"img-responsive\" id=\"logo\" src=\"/img/2014/logo-fmd.png\"/></a>\n",
      "</div>\n"
     ]
    }
   ],
   "source": [
    "tableau = soup.find_all(class_='col-sm-4')\n",
    "tableau1 = tableau[1] # il faut le tablaeau 1,2,3\n",
    "tableau0 = tableau[0] # pas besoin\n",
    "print(tableau0)\n"
   ]
  },
  {
   "cell_type": "code",
   "execution_count": 27,
   "metadata": {},
   "outputs": [
    {
     "name": "stdout",
     "output_type": "stream",
     "text": [
      "['CARTON STANDARD RENFORCÉ', 'CARTON STANDARD RENFORCÉ ++', 'CARTON SUPERDEM', 'CARTON LIVRES', 'CARTON INFORMATIQUE - Grand Modèle', 'CARTON INFORMATIQUE - Petit Modèle', 'CARTON ABAT-JOUR', 'CARTON HALOGÈNE', 'CARTON TABLEAU TÉLESCOPIQUE']\n"
     ]
    }
   ],
   "source": [
    "Objets = []\n",
    "\n",
    "for i in tableau1.find_all('li') :\n",
    "    #print(i)\n",
    "    Objets.append(i.text)\n",
    "\n",
    "print(Objets)"
   ]
  },
  {
   "cell_type": "code",
   "execution_count": 28,
   "metadata": {},
   "outputs": [
    {
     "name": "stdout",
     "output_type": "stream",
     "text": [
      "['CARTON STANDARD RENFORCÉ', 'CARTON STANDARD RENFORCÉ ++', 'CARTON SUPERDEM', 'CARTON LIVRES', 'CARTON INFORMATIQUE - Grand Modèle', 'CARTON INFORMATIQUE - Petit Modèle', 'CARTON ABAT-JOUR', 'CARTON HALOGÈNE', 'CARTON TABLEAU TÉLESCOPIQUE', 'CARTON BOUTEILLE', 'CARTON POUR KIT ISOTHERME', 'KIT ISOTHERME SANS CARTON', 'BARREL PETIT MODELE', 'BARREL GRAND MODELE', 'PACK CROISILLONS BARREL ASSIETTE', 'PACK CROISILLONS BARREL VERRE', 'PENDERIE CONFECTION', 'PENDERIE ', 'TRINGLE POUR CARTON PENDERIE', 'CONTENEUR ARCHIVES', 'KIT DE DÉPANNAGE', 'CORNIÈRE À TABLEAU', 'CORNIÈRE DE PROTECTION EN CARTON', 'CONTENEUR EXPORT - Modèle C.09', 'CONTENEUR EXPORT - Modèle GMC', 'CONTENEUR EXPORT - Modèle CXC', 'CONTENEUR EXPORT - Modèle 580']\n",
      "27\n"
     ]
    }
   ],
   "source": [
    "article = []\n",
    "\n",
    "for i in range(len(tableau)) :\n",
    "    #bloc_objet = []\n",
    "    for j in tableau[i].find_all('li') :\n",
    "        #bloc_objet.append(j.text)\n",
    "        article.append(j.text)\n",
    "\n",
    "print(article)\n",
    "print(len(article))"
   ]
  },
  {
   "cell_type": "code",
   "execution_count": 29,
   "metadata": {},
   "outputs": [
    {
     "name": "stdout",
     "output_type": "stream",
     "text": [
      "https://www.fmd-sa.com//catalogue/1/cartons-demenagement/41/carton-demenagement\n",
      "27\n"
     ]
    }
   ],
   "source": [
    "url = []\n",
    "\n",
    "tableau = soup.find_all(class_='col-sm-4')\n",
    "\n",
    "for t in range(1,4) :\n",
    "\n",
    "    for l in tableau[t].find_all('a'):\n",
    "        url.append('https://www.fmd-sa.com/' + l.get('href'))\n",
    "\n",
    "print(url[0])\n",
    "print(len(url))"
   ]
  },
  {
   "cell_type": "code",
   "execution_count": 50,
   "metadata": {},
   "outputs": [
    {
     "name": "stdout",
     "output_type": "stream",
     "text": [
      "['https://www.fmd-sa.com//catalogue/1/cartons-demenagement/41/carton-demenagement', 'https://www.fmd-sa.com//catalogue/1/cartons-demenagement/42/carton-demenagement-tres-resistant', 'https://www.fmd-sa.com//catalogue/1/cartons-demenagement/43/carton-garde-meuble-export', 'https://www.fmd-sa.com//catalogue/1/cartons-demenagement/44/carton-demenagement-objets-lourds', 'https://www.fmd-sa.com//catalogue/1/cartons-demenagement/71/carton-informatique-grand-modele', 'https://www.fmd-sa.com//catalogue/1/cartons-demenagement/72/carton-informatique-petit-modele', 'https://www.fmd-sa.com//catalogue/1/cartons-demenagement/66/carton-abat-jour', 'https://www.fmd-sa.com//catalogue/1/cartons-demenagement/67/carton-halogene', 'https://www.fmd-sa.com//catalogue/1/cartons-demenagement/65/carton-tableau-telescopique', 'https://www.fmd-sa.com//catalogue/1/cartons-demenagement/46/carton-bouteille', 'https://www.fmd-sa.com//catalogue/1/cartons-demenagement/68/carton-pour-kit-isotherme', 'https://www.fmd-sa.com//catalogue/1/cartons-demenagement/69/kit-isotherme-sans-carton', 'https://www.fmd-sa.com//catalogue/1/cartons-demenagement/216/carton-demenagement-vaisselle', 'https://www.fmd-sa.com//catalogue/1/cartons-demenagement/220/carton-demenagement-vaisselle-et-verres', 'https://www.fmd-sa.com//catalogue/1/cartons-demenagement/62/intercalaires-assiettes-carton-vaisselle', 'https://www.fmd-sa.com//catalogue/1/cartons-demenagement/61/intercalaires-verres-carton-vaisselle', 'https://www.fmd-sa.com//catalogue/1/cartons-demenagement/238/penderie-confection', 'https://www.fmd-sa.com//catalogue/1/cartons-demenagement/49/carton-penderie-basse', 'https://www.fmd-sa.com//catalogue/1/cartons-demenagement/50/barre-porte-cintres', 'https://www.fmd-sa.com//catalogue/1/cartons-demenagement/235/conteneur-archives', 'https://www.fmd-sa.com//catalogue/1/cartons-demenagement/45/pack-cartons-demenagement-et-adhesif', 'https://www.fmd-sa.com//catalogue/1/cartons-demenagement/63/carton-de-protection-tableaux-et-cadres', 'https://www.fmd-sa.com//catalogue/1/cartons-demenagement/74/corniere-de-protection-en-carton', 'https://www.fmd-sa.com//catalogue/1/cartons-demenagement/75/conteneur-export-modele-c-09', 'https://www.fmd-sa.com//catalogue/1/cartons-demenagement/76/conteneur-export-modele-gmc', 'https://www.fmd-sa.com//catalogue/1/cartons-demenagement/77/conteneur-export-modele-cxc', 'https://www.fmd-sa.com//catalogue/1/cartons-demenagement/78/conteneur-export-modele-580']\n"
     ]
    }
   ],
   "source": [
    "print(url)"
   ]
  },
  {
   "cell_type": "code",
   "execution_count": 30,
   "metadata": {},
   "outputs": [
    {
     "name": "stdout",
     "output_type": "stream",
     "text": [
      "[['550', '350', '300', '20'], ['1', '1'], ['550', '350', '330', '40'], ['350', '275', '300', '20'], ['550', '465', '610', '40'], ['525', '425', '470', '40'], ['700', '700', '500', '30'], ['2000', '350', '350', '40'], ['1000', '150', '900', '40'], ['339', '253', '330', '20', '12', '85', '85', '330', '12'], ['350', '350', '465', '24'], [], ['450', '450', '565', '75'], ['450', '450', '735', '100'], ['24', '1', '2'], ['100', '534', '3', '75', '543', '2'], ['500', '500', '1200', '40'], ['500', '500', '820', '40', '09', '580'], ['500'], ['530', '360', '270', '20'], ['30', '2'], ['820', '90', '565', '30'], ['75', '75', '200', '100'], ['1190', '990', '830', '0', '98', '3', '500', '9'], ['15', '1520', '1220', '1529', '1447', '1123', '1390', '2', '20', '3', '38'], ['15', '2100', '1375', '1554', '2023', '1270', '1415', '3', '63', '3', '55'], ['15', '2210', '1185', '2210', '2154', '1107', '2042', '4', '87', '3', '82']]\n"
     ]
    }
   ],
   "source": [
    "# récupération de tous les nombres dans la description de chaque article \n",
    "\n",
    "import re\n",
    "\n",
    "number_in_description = []\n",
    "\n",
    "for i in range(len(url)) :\n",
    "    \n",
    "    page_article = requests.get(f'{url[i]}')\n",
    "\n",
    "    soup_article = BeautifulSoup(page_article.content, 'html.parser')\n",
    "\n",
    "    descriptif = soup_article.find_all(class_='descriptif', itemprop='description')[0].get_text()\n",
    "    \n",
    "    regex = re.findall('\\d+', descriptif)\n",
    "    number_in_description.append(regex)\n",
    "\n",
    "\n",
    "print(number_in_description)\n",
    "\n"
   ]
  },
  {
   "cell_type": "code",
   "execution_count": 31,
   "metadata": {},
   "outputs": [],
   "source": [
    "rangee1 = number_in_description[0:9]\n",
    "rangee2 = number_in_description[9:18]\n",
    "rangee3 = number_in_description[18:27]\n"
   ]
  },
  {
   "cell_type": "code",
   "execution_count": 32,
   "metadata": {},
   "outputs": [
    {
     "name": "stdout",
     "output_type": "stream",
     "text": [
      "[['550', '350', '300', '20'], ['1', '1'], ['550', '350', '330', '40'], ['350', '275', '300', '20'], ['550', '465', '610', '40'], ['525', '425', '470', '40'], ['700', '700', '500', '30'], ['2000', '350', '350', '40'], ['1000', '150', '900', '40']]\n",
      "[['339', '253', '330', '20', '12', '85', '85', '330', '12'], ['350', '350', '465', '24'], [], ['450', '450', '565', '75'], ['450', '450', '735', '100'], ['24', '1', '2'], ['100', '534', '3', '75', '543', '2'], ['500', '500', '1200', '40'], ['500', '500', '820', '40', '09', '580']]\n",
      "[['500'], ['530', '360', '270', '20'], ['30', '2'], ['820', '90', '565', '30'], ['75', '75', '200', '100'], ['1190', '990', '830', '0', '98', '3', '500', '9'], ['15', '1520', '1220', '1529', '1447', '1123', '1390', '2', '20', '3', '38'], ['15', '2100', '1375', '1554', '2023', '1270', '1415', '3', '63', '3', '55'], ['15', '2210', '1185', '2210', '2154', '1107', '2042', '4', '87', '3', '82']]\n"
     ]
    }
   ],
   "source": [
    "rangee1_test = rangee1.copy()\n",
    "print(rangee1_test)\n",
    "\n",
    "rangee2_test = rangee2.copy()\n",
    "print(rangee2_test)\n",
    "\n",
    "rangee3_test = rangee3.copy()\n",
    "print(rangee3_test)"
   ]
  },
  {
   "cell_type": "code",
   "execution_count": 33,
   "metadata": {},
   "outputs": [
    {
     "name": "stdout",
     "output_type": "stream",
     "text": [
      "4\n",
      "2\n",
      "4\n",
      "4\n",
      "4\n",
      "4\n",
      "4\n",
      "4\n",
      "4\n"
     ]
    }
   ],
   "source": [
    "for i in range(len(rangee1_test)) :\n",
    "    print(len(rangee1_test[i]))"
   ]
  },
  {
   "cell_type": "code",
   "execution_count": 34,
   "metadata": {},
   "outputs": [
    {
     "name": "stdout",
     "output_type": "stream",
     "text": [
      "[['550', '350', '300', '20'], ['550', '350', '300', '20'], ['550', '350', '330', '40'], ['350', '275', '300', '20'], ['550', '465', '610', '40'], ['525', '425', '470', '40'], ['700', '700', '500', '30'], ['2000', '350', '350', '40'], ['1000', '150', '900', '40']]\n",
      "[['339', '253', '330', '20', '12', '85', '85', '330', '12'], ['350', '350', '465', '24'], ['350', '350', '465', '24'], ['450', '450', '565', '75'], ['450', '450', '735', '100'], ['24', '1', '2'], ['100', '534', '3', '75', '543', '2'], ['500', '500', '1200', '40'], ['500', '500', '820', '40', '09', '580']]\n"
     ]
    }
   ],
   "source": [
    "for i in range(len(rangee1_test)) :\n",
    "    if (len(rangee1_test[i])) < 3 :\n",
    "        rangee1_test[i] = rangee1_test[i-1]\n",
    "    elif (len(rangee2_test[i])) < 3 :\n",
    "        rangee2_test[i] = rangee2_test[i-1]\n",
    "print(rangee1_test)\n",
    "print(rangee2_test)\n",
    "    \n",
    "\n"
   ]
  },
  {
   "cell_type": "code",
   "execution_count": 35,
   "metadata": {},
   "outputs": [
    {
     "name": "stdout",
     "output_type": "stream",
     "text": [
      "[['550', '350', '300'], ['550', '350', '300'], ['550', '350', '330'], ['350', '275', '300'], ['550', '465', '610'], ['525', '425', '470'], ['700', '700', '500'], ['2000', '350', '350'], ['1000', '150', '900']]\n"
     ]
    }
   ],
   "source": [
    "# récupérer les dimensions largeur X hauteur x prof pour la rangée 1/3\n",
    "\n",
    "for iteration in range(len(rangee1_test)) : # 9 itérations\n",
    "\n",
    "    for number in range(len(rangee1_test[iteration])): \n",
    "        if len(rangee1_test[iteration]) == 4 :\n",
    "            rangee1_test[iteration].remove(rangee1_test[iteration][3])\n",
    "\n",
    "        elif len(rangee1_test[iteration]) < 4 or len(rangee1_test[iteration]) > 4 :   \n",
    "            pass      \n",
    "\n",
    "\n",
    "print(rangee1_test)"
   ]
  },
  {
   "cell_type": "code",
   "execution_count": 36,
   "metadata": {},
   "outputs": [
    {
     "name": "stdout",
     "output_type": "stream",
     "text": [
      "[['550', '350', '300'], ['550', '350', '300'], ['550', '350', '330'], ['350', '275', '300'], ['550', '465', '610'], ['525', '425', '470'], ['700', '700', '500'], ['2000', '350', '350'], ['1000', '150', '900']]\n"
     ]
    }
   ],
   "source": [
    "for iteration in range(len(rangee2_test)) : # 9 itérations\n",
    "\n",
    "    for number in range(len(rangee1_test[iteration])): \n",
    "        \n",
    "        if len(rangee1_test[iteration]) == 4 :\n",
    "            rangee1_test[iteration].remove(rangee1_test[iteration][3])\n",
    "\n",
    "        elif len(rangee1_test[iteration]) < 4 or len(rangee1_test[iteration]) > 4 :   \n",
    "            pass      \n",
    "\n",
    "\n",
    "print(rangee1_test)"
   ]
  },
  {
   "cell_type": "code",
   "execution_count": 37,
   "metadata": {},
   "outputs": [],
   "source": [
    "test = rangee2_test.copy()"
   ]
  },
  {
   "cell_type": "code",
   "execution_count": 38,
   "metadata": {},
   "outputs": [
    {
     "name": "stdout",
     "output_type": "stream",
     "text": [
      "['500', '500', '820', '40', '09', '580']\n",
      "['500', '500', '820']\n"
     ]
    }
   ],
   "source": [
    "if len(test[-1]) > 4 :\n",
    "    print(test[-1])\n",
    "    print(test[-1][0:3])\n",
    "else :\n",
    "    print('non concerné')"
   ]
  },
  {
   "cell_type": "code",
   "execution_count": 39,
   "metadata": {},
   "outputs": [
    {
     "name": "stdout",
     "output_type": "stream",
     "text": [
      "['339', '253', '330', '20', '12', '85', '85', '330', '12']\n",
      "['339', '253', '330']\n"
     ]
    }
   ],
   "source": [
    "if len(test[0]) > 4 :\n",
    "    print(test[0])\n",
    "    print(test[0][0:3])\n",
    "else :\n",
    "    print('non concerné')"
   ]
  },
  {
   "cell_type": "code",
   "execution_count": 40,
   "metadata": {},
   "outputs": [
    {
     "name": "stdout",
     "output_type": "stream",
     "text": [
      "['339', '253', '330', '20', '12', '85', '85', '330', '12']\n",
      "['350', '350', '465', '24']\n",
      "['350', '350', '465']\n",
      "['450', '450', '565', '75']\n",
      "['450', '450', '735', '100']\n",
      "['24', '1', '2']\n",
      "['100', '534', '3', '75', '543', '2']\n",
      "['500', '500', '1200', '40']\n",
      "['500', '500', '820', '40', '09', '580']\n",
      "9\n"
     ]
    }
   ],
   "source": [
    "# dimensions, une fois dans l'url\n",
    "# Dimension ext. : 2210 x 1185 x 2210 mm largeur X hauteur x prof\n",
    "# Dimension int. : 2154 x 1107 x 2042 mm\n",
    "# Volume utile : 4,87 m3\n",
    "# Tare : 82 Kg\n",
    "\n",
    "#longueur_tringle = rangee3_test[0]\n",
    "\n",
    "#rangee1_2 = rangee1_test + rangee2_test\n",
    "#print(len(rangee1_2))\n",
    "\n",
    "for iteration in range(len(test)) : # 9 itérations\n",
    "\n",
    "    if len(test[iteration]) > 4 : \n",
    "        print(test[iteration])\n",
    "        test[iteration] == test[iteration][0:3]\n",
    "    \n",
    "    elif len(test[iteration]) == 4 :\n",
    "        print(test[iteration])\n",
    "        test[iteration].remove(test[iteration][3])\n",
    "\n",
    "    elif len(test[iteration]) < 4  :\n",
    "        print(test[iteration])   \n",
    "        pass   \n",
    "\n",
    "\n",
    "#print(test)\n",
    "print(len(test[0]))\n",
    "\n"
   ]
  },
  {
   "cell_type": "code",
   "execution_count": 41,
   "metadata": {},
   "outputs": [
    {
     "name": "stdout",
     "output_type": "stream",
     "text": [
      "C'est la liste suivante : ['339', '253', '330', '20', '12', '85', '85', '330', '12']\n",
      "Il y a 9 itérations\n",
      "c'est l'itération n° 0\n",
      "C'est la liste suivante : ['100', '534', '3', '75', '543', '2']\n",
      "Il y a 6 itérations\n",
      "c'est l'itération n° 6\n",
      "C'est la liste suivante : ['500', '500', '820', '40', '09', '580']\n",
      "Il y a 6 itérations\n",
      "c'est l'itération n° 8\n"
     ]
    }
   ],
   "source": [
    "for iteration in range(len(test)) : # 9 itérations\n",
    "\n",
    "    if len(test[iteration]) > 4 :\n",
    "        print(f\"C'est la liste suivante : {test[iteration]}\")\n",
    "        print(f\"Il y a {len(test[iteration])} itérations\")\n",
    "        print(f\"c'est l'itération n° {iteration}\")\n",
    "        test[iteration] == test[iteration][0:3]\n",
    "\n",
    "\n",
    "\n"
   ]
  },
  {
   "cell_type": "code",
   "execution_count": 42,
   "metadata": {},
   "outputs": [
    {
     "ename": "AttributeError",
     "evalue": "'list' object has no attribute 'replace'",
     "output_type": "error",
     "traceback": [
      "\u001b[1;31m---------------------------------------------------------------------------\u001b[0m",
      "\u001b[1;31mAttributeError\u001b[0m                            Traceback (most recent call last)",
      "\u001b[1;32mc:\\Users\\cathe\\Documents\\WCS-2022-2023\\VS_code\\Wild-Data-Engineer-2022-2023\\Titre CDA v2\\01_Recuperation data_fmd.ipynb Cellule 54\u001b[0m in \u001b[0;36m<cell line: 1>\u001b[1;34m()\u001b[0m\n\u001b[1;32m----> <a href='vscode-notebook-cell:/c%3A/Users/cathe/Documents/WCS-2022-2023/VS_code/Wild-Data-Engineer-2022-2023/Titre%20CDA%20v2/01_Recuperation%20data_fmd.ipynb#Y104sZmlsZQ%3D%3D?line=0'>1</a>\u001b[0m test[\u001b[39m0\u001b[39m] \u001b[39m==\u001b[39m test[\u001b[39m0\u001b[39;49m]\u001b[39m.\u001b[39;49mreplace(test[\u001b[39m0\u001b[39m], test[\u001b[39m0\u001b[39m][\u001b[39m0\u001b[39m:\u001b[39m3\u001b[39m]) \n\u001b[0;32m      <a href='vscode-notebook-cell:/c%3A/Users/cathe/Documents/WCS-2022-2023/VS_code/Wild-Data-Engineer-2022-2023/Titre%20CDA%20v2/01_Recuperation%20data_fmd.ipynb#Y104sZmlsZQ%3D%3D?line=1'>2</a>\u001b[0m \u001b[39mprint\u001b[39m(test[\u001b[39m0\u001b[39m])\n",
      "\u001b[1;31mAttributeError\u001b[0m: 'list' object has no attribute 'replace'"
     ]
    }
   ],
   "source": [
    "test[0] == test[0].replace(test[0], test[0][0:3]) \n",
    "print(test[0])"
   ]
  },
  {
   "cell_type": "code",
   "execution_count": null,
   "metadata": {},
   "outputs": [
    {
     "name": "stdout",
     "output_type": "stream",
     "text": [
      "['100', '534', '3', '543', '2']\n",
      "2\n",
      "['100', '534', '543', '2']\n"
     ]
    }
   ],
   "source": [
    "print(rangee1_2[15])\n",
    "print(len(rangee1_2[15])-3)\n",
    "rangee1_2[15].remove(rangee1_2[15][-3])\n",
    "print(rangee1_2[15])"
   ]
  },
  {
   "cell_type": "code",
   "execution_count": null,
   "metadata": {},
   "outputs": [
    {
     "name": "stdout",
     "output_type": "stream",
     "text": [
      "3\n",
      "3\n",
      "3\n",
      "3\n",
      "3\n",
      "3\n",
      "3\n",
      "3\n",
      "3\n",
      "9\n",
      "9\n",
      "9\n",
      "4\n",
      "4\n",
      "3\n",
      "6\n",
      "4\n",
      "6\n"
     ]
    }
   ],
   "source": [
    "for i in range(len(rangee1_2)) :\n",
    "    print(len(rangee1_2[i]))"
   ]
  },
  {
   "cell_type": "code",
   "execution_count": null,
   "metadata": {},
   "outputs": [
    {
     "name": "stdout",
     "output_type": "stream",
     "text": [
      "['339', '253', '330', '20', '12', '85', '85', '330', '12']\n",
      "['20', '12', '85', '85', '330']\n"
     ]
    }
   ],
   "source": [
    "print(rangee1_2[10])\n",
    "print(rangee1_2[10][3:-1])\n"
   ]
  },
  {
   "attachments": {},
   "cell_type": "markdown",
   "metadata": {},
   "source": [
    "## Combiner nos données dans une Dataframe Pandas  \n",
    "Nous pouvons maintenant combiner les données dans un Pandas DataFrame et les analyser. Un DataFrame est un objet qui peut stocker des données tabulaires, ce qui facilite l'analyse des données. Si vous voulez en savoir plus sur les pandas, consultez notre cours gratuit pour commencer ici .\n",
    "Pour ce faire, nous appellerons la classe DataFrame et transmettrons chaque liste d'éléments que nous avons. Nous les transmettons dans le cadre d'un dictionnaire.\n",
    "Chaque clé de dictionnaire deviendra une colonne dans le DataFrame, et chaque liste deviendra les valeurs de la colonne :"
   ]
  },
  {
   "cell_type": "code",
   "execution_count": null,
   "metadata": {},
   "outputs": [
    {
     "ename": "ValueError",
     "evalue": "All arrays must be of the same length",
     "output_type": "error",
     "traceback": [
      "\u001b[1;31m---------------------------------------------------------------------------\u001b[0m",
      "\u001b[1;31mValueError\u001b[0m                                Traceback (most recent call last)",
      "\u001b[1;32mc:\\Users\\cathe\\Documents\\WCS-2022-2023\\VS_code\\Wild-Data-Engineer-2022-2023\\Titre CDA v2\\02_test_page_fmd.ipynb Cellule 51\u001b[0m in \u001b[0;36m<cell line: 3>\u001b[1;34m()\u001b[0m\n\u001b[0;32m      <a href='vscode-notebook-cell:/c%3A/Users/cathe/Documents/WCS-2022-2023/VS_code/Wild-Data-Engineer-2022-2023/Titre%20CDA%20v2/02_test_page_fmd.ipynb#X62sZmlsZQ%3D%3D?line=0'>1</a>\u001b[0m \u001b[39mimport\u001b[39;00m \u001b[39mpandas\u001b[39;00m \u001b[39mas\u001b[39;00m \u001b[39mpd\u001b[39;00m\n\u001b[1;32m----> <a href='vscode-notebook-cell:/c%3A/Users/cathe/Documents/WCS-2022-2023/VS_code/Wild-Data-Engineer-2022-2023/Titre%20CDA%20v2/02_test_page_fmd.ipynb#X62sZmlsZQ%3D%3D?line=2'>3</a>\u001b[0m produits_FMD \u001b[39m=\u001b[39m pd\u001b[39m.\u001b[39;49mDataFrame({\n\u001b[0;32m      <a href='vscode-notebook-cell:/c%3A/Users/cathe/Documents/WCS-2022-2023/VS_code/Wild-Data-Engineer-2022-2023/Titre%20CDA%20v2/02_test_page_fmd.ipynb#X62sZmlsZQ%3D%3D?line=3'>4</a>\u001b[0m     \u001b[39m\"\u001b[39;49m\u001b[39marticles\u001b[39;49m\u001b[39m\"\u001b[39;49m: article,\n\u001b[0;32m      <a href='vscode-notebook-cell:/c%3A/Users/cathe/Documents/WCS-2022-2023/VS_code/Wild-Data-Engineer-2022-2023/Titre%20CDA%20v2/02_test_page_fmd.ipynb#X62sZmlsZQ%3D%3D?line=4'>5</a>\u001b[0m     \u001b[39m\"\u001b[39;49m\u001b[39murl\u001b[39;49m\u001b[39m\"\u001b[39;49m : url,\n\u001b[0;32m      <a href='vscode-notebook-cell:/c%3A/Users/cathe/Documents/WCS-2022-2023/VS_code/Wild-Data-Engineer-2022-2023/Titre%20CDA%20v2/02_test_page_fmd.ipynb#X62sZmlsZQ%3D%3D?line=5'>6</a>\u001b[0m     \u001b[39m\"\u001b[39;49m\u001b[39mlargeur\u001b[39;49m\u001b[39m\"\u001b[39;49m : Largeur\n\u001b[0;32m      <a href='vscode-notebook-cell:/c%3A/Users/cathe/Documents/WCS-2022-2023/VS_code/Wild-Data-Engineer-2022-2023/Titre%20CDA%20v2/02_test_page_fmd.ipynb#X62sZmlsZQ%3D%3D?line=6'>7</a>\u001b[0m })\n\u001b[0;32m      <a href='vscode-notebook-cell:/c%3A/Users/cathe/Documents/WCS-2022-2023/VS_code/Wild-Data-Engineer-2022-2023/Titre%20CDA%20v2/02_test_page_fmd.ipynb#X62sZmlsZQ%3D%3D?line=7'>8</a>\u001b[0m produits_FMD\n",
      "File \u001b[1;32mc:\\Users\\cathe\\anaconda3\\lib\\site-packages\\pandas\\core\\frame.py:636\u001b[0m, in \u001b[0;36mDataFrame.__init__\u001b[1;34m(self, data, index, columns, dtype, copy)\u001b[0m\n\u001b[0;32m    630\u001b[0m     mgr \u001b[39m=\u001b[39m \u001b[39mself\u001b[39m\u001b[39m.\u001b[39m_init_mgr(\n\u001b[0;32m    631\u001b[0m         data, axes\u001b[39m=\u001b[39m{\u001b[39m\"\u001b[39m\u001b[39mindex\u001b[39m\u001b[39m\"\u001b[39m: index, \u001b[39m\"\u001b[39m\u001b[39mcolumns\u001b[39m\u001b[39m\"\u001b[39m: columns}, dtype\u001b[39m=\u001b[39mdtype, copy\u001b[39m=\u001b[39mcopy\n\u001b[0;32m    632\u001b[0m     )\n\u001b[0;32m    634\u001b[0m \u001b[39melif\u001b[39;00m \u001b[39misinstance\u001b[39m(data, \u001b[39mdict\u001b[39m):\n\u001b[0;32m    635\u001b[0m     \u001b[39m# GH#38939 de facto copy defaults to False only in non-dict cases\u001b[39;00m\n\u001b[1;32m--> 636\u001b[0m     mgr \u001b[39m=\u001b[39m dict_to_mgr(data, index, columns, dtype\u001b[39m=\u001b[39;49mdtype, copy\u001b[39m=\u001b[39;49mcopy, typ\u001b[39m=\u001b[39;49mmanager)\n\u001b[0;32m    637\u001b[0m \u001b[39melif\u001b[39;00m \u001b[39misinstance\u001b[39m(data, ma\u001b[39m.\u001b[39mMaskedArray):\n\u001b[0;32m    638\u001b[0m     \u001b[39mimport\u001b[39;00m \u001b[39mnumpy\u001b[39;00m\u001b[39m.\u001b[39;00m\u001b[39mma\u001b[39;00m\u001b[39m.\u001b[39;00m\u001b[39mmrecords\u001b[39;00m \u001b[39mas\u001b[39;00m \u001b[39mmrecords\u001b[39;00m\n",
      "File \u001b[1;32mc:\\Users\\cathe\\anaconda3\\lib\\site-packages\\pandas\\core\\internals\\construction.py:502\u001b[0m, in \u001b[0;36mdict_to_mgr\u001b[1;34m(data, index, columns, dtype, typ, copy)\u001b[0m\n\u001b[0;32m    494\u001b[0m     arrays \u001b[39m=\u001b[39m [\n\u001b[0;32m    495\u001b[0m         x\n\u001b[0;32m    496\u001b[0m         \u001b[39mif\u001b[39;00m \u001b[39mnot\u001b[39;00m \u001b[39mhasattr\u001b[39m(x, \u001b[39m\"\u001b[39m\u001b[39mdtype\u001b[39m\u001b[39m\"\u001b[39m) \u001b[39mor\u001b[39;00m \u001b[39mnot\u001b[39;00m \u001b[39misinstance\u001b[39m(x\u001b[39m.\u001b[39mdtype, ExtensionDtype)\n\u001b[0;32m    497\u001b[0m         \u001b[39melse\u001b[39;00m x\u001b[39m.\u001b[39mcopy()\n\u001b[0;32m    498\u001b[0m         \u001b[39mfor\u001b[39;00m x \u001b[39min\u001b[39;00m arrays\n\u001b[0;32m    499\u001b[0m     ]\n\u001b[0;32m    500\u001b[0m     \u001b[39m# TODO: can we get rid of the dt64tz special case above?\u001b[39;00m\n\u001b[1;32m--> 502\u001b[0m \u001b[39mreturn\u001b[39;00m arrays_to_mgr(arrays, columns, index, dtype\u001b[39m=\u001b[39;49mdtype, typ\u001b[39m=\u001b[39;49mtyp, consolidate\u001b[39m=\u001b[39;49mcopy)\n",
      "File \u001b[1;32mc:\\Users\\cathe\\anaconda3\\lib\\site-packages\\pandas\\core\\internals\\construction.py:120\u001b[0m, in \u001b[0;36marrays_to_mgr\u001b[1;34m(arrays, columns, index, dtype, verify_integrity, typ, consolidate)\u001b[0m\n\u001b[0;32m    117\u001b[0m \u001b[39mif\u001b[39;00m verify_integrity:\n\u001b[0;32m    118\u001b[0m     \u001b[39m# figure out the index, if necessary\u001b[39;00m\n\u001b[0;32m    119\u001b[0m     \u001b[39mif\u001b[39;00m index \u001b[39mis\u001b[39;00m \u001b[39mNone\u001b[39;00m:\n\u001b[1;32m--> 120\u001b[0m         index \u001b[39m=\u001b[39m _extract_index(arrays)\n\u001b[0;32m    121\u001b[0m     \u001b[39melse\u001b[39;00m:\n\u001b[0;32m    122\u001b[0m         index \u001b[39m=\u001b[39m ensure_index(index)\n",
      "File \u001b[1;32mc:\\Users\\cathe\\anaconda3\\lib\\site-packages\\pandas\\core\\internals\\construction.py:674\u001b[0m, in \u001b[0;36m_extract_index\u001b[1;34m(data)\u001b[0m\n\u001b[0;32m    672\u001b[0m lengths \u001b[39m=\u001b[39m \u001b[39mlist\u001b[39m(\u001b[39mset\u001b[39m(raw_lengths))\n\u001b[0;32m    673\u001b[0m \u001b[39mif\u001b[39;00m \u001b[39mlen\u001b[39m(lengths) \u001b[39m>\u001b[39m \u001b[39m1\u001b[39m:\n\u001b[1;32m--> 674\u001b[0m     \u001b[39mraise\u001b[39;00m \u001b[39mValueError\u001b[39;00m(\u001b[39m\"\u001b[39m\u001b[39mAll arrays must be of the same length\u001b[39m\u001b[39m\"\u001b[39m)\n\u001b[0;32m    676\u001b[0m \u001b[39mif\u001b[39;00m have_dicts:\n\u001b[0;32m    677\u001b[0m     \u001b[39mraise\u001b[39;00m \u001b[39mValueError\u001b[39;00m(\n\u001b[0;32m    678\u001b[0m         \u001b[39m\"\u001b[39m\u001b[39mMixing dicts with non-Series may lead to ambiguous ordering.\u001b[39m\u001b[39m\"\u001b[39m\n\u001b[0;32m    679\u001b[0m     )\n",
      "\u001b[1;31mValueError\u001b[0m: All arrays must be of the same length"
     ]
    }
   ],
   "source": [
    "import pandas as pd\n",
    "\n",
    "produits_FMD = pd.DataFrame({\n",
    "    \"articles\": article,\n",
    "    \"url\" : url,\n",
    "    \"largeur\" : Largeur\n",
    "})\n",
    "produits_FMD"
   ]
  },
  {
   "cell_type": "code",
   "execution_count": null,
   "metadata": {},
   "outputs": [],
   "source": []
  }
 ],
 "metadata": {
  "kernelspec": {
   "display_name": "base",
   "language": "python",
   "name": "python3"
  },
  "language_info": {
   "codemirror_mode": {
    "name": "ipython",
    "version": 3
   },
   "file_extension": ".py",
   "mimetype": "text/x-python",
   "name": "python",
   "nbconvert_exporter": "python",
   "pygments_lexer": "ipython3",
   "version": "3.8.13 (default, Mar 28 2022, 06:59:08) [MSC v.1916 64 bit (AMD64)]"
  },
  "orig_nbformat": 4,
  "vscode": {
   "interpreter": {
    "hash": "d3755b735588d4303beb95518f2ab4e1c49ea1461d509c805a65d62cd2a8f700"
   }
  }
 },
 "nbformat": 4,
 "nbformat_minor": 2
}
