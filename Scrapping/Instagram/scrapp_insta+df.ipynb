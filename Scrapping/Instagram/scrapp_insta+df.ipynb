{
 "cells": [
  {
   "cell_type": "code",
   "execution_count": 4,
   "metadata": {},
   "outputs": [],
   "source": [
    "import requests\n",
    "from bs4 import BeautifulSoup\n",
    "import json\n",
    "import re\n",
    "import pandas as pd"
   ]
  },
  {
   "cell_type": "code",
   "execution_count": 5,
   "metadata": {},
   "outputs": [],
   "source": [
    "url = 'https://www.instagram.com/wearelikewise/'\n"
   ]
  },
  {
   "cell_type": "code",
   "execution_count": 6,
   "metadata": {},
   "outputs": [],
   "source": [
    "response = requests.get(url)"
   ]
  },
  {
   "cell_type": "code",
   "execution_count": 13,
   "metadata": {},
   "outputs": [],
   "source": [
    "soup = BeautifulSoup(response.text, 'html')"
   ]
  },
  {
   "cell_type": "code",
   "execution_count": null,
   "metadata": {},
   "outputs": [],
   "source": [
    "print(soup)"
   ]
  },
  {
   "cell_type": "code",
   "execution_count": null,
   "metadata": {},
   "outputs": [],
   "source": [
    "# on va récupérer des infos de base, comme le nombre d'abonnés, le nombre d'abonnement...\n",
    "\n",
    "#Essayons de récupérer les scripts, mais ça me donne rien que je comprends !!!\n",
    "\n",
    "scripts = soup.find_all('script', {'type' : 'application/json'})\n",
    "print(len(scripts))                                                         #=> On en obtient 27\n",
    "print(scripts)\n",
    "\n",
    "\n",
    "#Pour rappel le json c'est l'équivalent d'un dictionnaire, c'est structuré de la même manière en python"
   ]
  },
  {
   "cell_type": "code",
   "execution_count": 16,
   "metadata": {},
   "outputs": [
    {
     "name": "stdout",
     "output_type": "stream",
     "text": [
      "1\n",
      "[<meta content=\"264K Followers, 81 Following, 2,685 Posts - See Instagram photos and videos from L I K E W I S E (@wearelikewise)\" property=\"og:description\"/>]\n"
     ]
    }
   ],
   "source": [
    "#ici, j'obtiens, le nombre de followers, le nombre de posts, le nom de la page, et ça j'ai trouvé toute seule :)\n",
    "meta = soup.find_all('meta', {'property' : 'og:description'})\n",
    "print(len(meta))                                                         \n",
    "print(meta)"
   ]
  },
  {
   "cell_type": "code",
   "execution_count": 17,
   "metadata": {},
   "outputs": [
    {
     "data": {
      "text/plain": [
       "['L', 'I']"
      ]
     },
     "execution_count": 17,
     "metadata": {},
     "output_type": "execute_result"
    }
   ],
   "source": [
    "title =soup.title.text\n",
    "title_split = title.split()\n",
    "liste_names = [title_split[0],title_split[1].replace('(','').replace(')','')]\n",
    "liste_names"
   ]
  },
  {
   "cell_type": "code",
   "execution_count": 18,
   "metadata": {},
   "outputs": [
    {
     "name": "stdout",
     "output_type": "stream",
     "text": [
      "['@wearelikewise']\n",
      "['L']\n"
     ]
    }
   ],
   "source": [
    "titre_complet_insta = re.findall(r'[@]\\w+', title) #me donne le mot commençant par @\n",
    "print(titre_complet_insta)\n",
    "\n",
    "nom_artiste = re.findall('^\\w+', title) #me donne le premier mot\n",
    "print(nom_artiste)\n"
   ]
  },
  {
   "cell_type": "code",
   "execution_count": 19,
   "metadata": {},
   "outputs": [
    {
     "name": "stdout",
     "output_type": "stream",
     "text": [
      "<bound method PageElement.get_text of <meta content=\"264K Followers, 81 Following, 2,685 Posts - See Instagram photos and videos from L I K E W I S E (@wearelikewise)\" property=\"og:description\"/>>\n"
     ]
    }
   ],
   "source": [
    "#comme je n'ai qu'une réponse, je vais supprimer fin_all et garder que le texte sans les balises\n",
    "meta_text = soup.find('meta', {'property' : 'og:description'}).get_text                                       \n",
    "print(str(meta_text))"
   ]
  },
  {
   "cell_type": "code",
   "execution_count": 20,
   "metadata": {},
   "outputs": [
    {
     "data": {
      "text/plain": [
       "'<bound method PageElement.get_text of <meta content=\"264K Followers, 81 Following, 2,685 Posts - See Instagram photos and videos from L I K E W I S E (@wearelikewise)\" property=\"og:description\"/>>'"
      ]
     },
     "execution_count": 20,
     "metadata": {},
     "output_type": "execute_result"
    }
   ],
   "source": [
    "#je transforme mon résultat en string\n",
    "\n",
    "meta_texte_str = str(meta_text)\n",
    "meta_texte_str"
   ]
  },
  {
   "cell_type": "code",
   "execution_count": 21,
   "metadata": {},
   "outputs": [
    {
     "name": "stdout",
     "output_type": "stream",
     "text": [
      "<bound method PageElement.get_text of <meta content=\"264K Followers, 81 Following, 2,685 Posts - See Instagram photos and videos from L I K E W I S E (@wearelikewise)\" property=\"og:description\"/>>\n"
     ]
    },
    {
     "data": {
      "text/plain": [
       "['264K', '81', '2,685']"
      ]
     },
     "execution_count": 21,
     "metadata": {},
     "output_type": "execute_result"
    }
   ],
   "source": [
    "#ma regex ci-dessus est pas top car si jamais mon délimiteur change à cause de la langue je devrais gérer tous les cas\n",
    "\n",
    "print(meta_texte_str)\n",
    "\n",
    "#j'essaie de rendre la virgule optionnelle, CAD que s'il y a une virgule il l'a prend en compte dans la regex\n",
    "numbers = re.findall(r'\\d+,?\\d+K?', meta_texte_str) #prends ts les chiffres, suivis d'une virgule ou non, et le K de milliers s'il y est.\n",
    "numbers\n"
   ]
  },
  {
   "cell_type": "code",
   "execution_count": 22,
   "metadata": {},
   "outputs": [
    {
     "name": "stdout",
     "output_type": "stream",
     "text": [
      "['PageElement', 'Posts']\n",
      "['Posts', 'Post']\n"
     ]
    }
   ],
   "source": [
    "#récupérer le mots Post\n",
    "post = re.findall(r\"[P]\\w+\", meta_texte_str)\n",
    "print(post)\n",
    "\n",
    "meta_texte_str_test = 'ext of <meta content=\"257K Followers, 82 Following, 2,681 Posts - See Insta Post posts post'\n",
    "post2 = re.findall(r\"Pos.?s|Po.?t\", meta_texte_str_test)\n",
    "print(post2)"
   ]
  },
  {
   "cell_type": "code",
   "execution_count": 25,
   "metadata": {},
   "outputs": [
    {
     "name": "stdout",
     "output_type": "stream",
     "text": [
      "<class 'str'>\n"
     ]
    }
   ],
   "source": [
    "#soup\n",
    "name_of_insta = input(str('Write the name of person who interest you :'))\n",
    "url = ('https://www.instagram.com/' + name_of_insta + '/')\n",
    "response = requests.get(url)\n",
    "soup = BeautifulSoup(response.text, 'html')\n",
    "meta = str(soup.find('meta', {'property' : 'og:description'}).get_text)\n",
    "print(type(meta))"
   ]
  },
  {
   "cell_type": "code",
   "execution_count": 27,
   "metadata": {},
   "outputs": [
    {
     "name": "stdout",
     "output_type": "stream",
     "text": [
      "https://www.instagram.com/mb14beatbox/\n",
      "['324K', '1,235', '155', '14', '14']\n",
      "['Followers', 'Following', 'Posts']\n"
     ]
    },
    {
     "data": {
      "text/html": [
       "<div>\n",
       "<style scoped>\n",
       "    .dataframe tbody tr th:only-of-type {\n",
       "        vertical-align: middle;\n",
       "    }\n",
       "\n",
       "    .dataframe tbody tr th {\n",
       "        vertical-align: top;\n",
       "    }\n",
       "\n",
       "    .dataframe thead tr th {\n",
       "        text-align: left;\n",
       "    }\n",
       "</style>\n",
       "<table border=\"1\" class=\"dataframe\">\n",
       "  <thead>\n",
       "    <tr>\n",
       "      <th></th>\n",
       "      <th>Name_of_insta</th>\n",
       "      <th>Adress_insta</th>\n",
       "      <th>count</th>\n",
       "      <th>types</th>\n",
       "    </tr>\n",
       "  </thead>\n",
       "  <tbody>\n",
       "    <tr>\n",
       "      <th>0</th>\n",
       "      <td>mb14beatbox</td>\n",
       "      <td>https://www.instagram.com/mb14beatbox/</td>\n",
       "      <td>324K</td>\n",
       "      <td>Followers</td>\n",
       "    </tr>\n",
       "    <tr>\n",
       "      <th>1</th>\n",
       "      <td>mb14beatbox</td>\n",
       "      <td>https://www.instagram.com/mb14beatbox/</td>\n",
       "      <td>1,235</td>\n",
       "      <td>Following</td>\n",
       "    </tr>\n",
       "    <tr>\n",
       "      <th>2</th>\n",
       "      <td>mb14beatbox</td>\n",
       "      <td>https://www.instagram.com/mb14beatbox/</td>\n",
       "      <td>155</td>\n",
       "      <td>Posts</td>\n",
       "    </tr>\n",
       "  </tbody>\n",
       "</table>\n",
       "</div>"
      ],
      "text/plain": [
       "  Name_of_insta                            Adress_insta  count      types\n",
       "0   mb14beatbox  https://www.instagram.com/mb14beatbox/   324K  Followers\n",
       "1   mb14beatbox  https://www.instagram.com/mb14beatbox/  1,235  Following\n",
       "2   mb14beatbox  https://www.instagram.com/mb14beatbox/    155      Posts"
      ]
     },
     "execution_count": 27,
     "metadata": {},
     "output_type": "execute_result"
    }
   ],
   "source": [
    "#insta : wearelikewise ou mb14beatbox ou johannamartins___\n",
    "\n",
    "#soup\n",
    "name_of_insta = input(str('Write the insta-name of person who interest you :'))\n",
    "url = ('https://www.instagram.com/' + name_of_insta + '/')\n",
    "response = requests.get(url)\n",
    "soup = BeautifulSoup(response.text, 'html')\n",
    "meta = str(soup.find('meta', {'property' : 'og:description'}).get_text)\n",
    "\n",
    "\n",
    "#regex number\n",
    "numbers = re.findall(r'\\d+,?\\d+K?', meta)   \n",
    "\n",
    "#regex texte\n",
    "foll = re.findall(r\"[F]\\w+\", meta)\n",
    "post = re.findall(r\"Pos.?s|Po.?t\", meta)\n",
    "\n",
    "#listes vides\n",
    "cles = []\n",
    "valeurs = []\n",
    "\n",
    "\n",
    "\n",
    "for n in range(len(numbers)) :\n",
    "    #print(i)\n",
    "    valeur = numbers[n]\n",
    "    #print(valeur)\n",
    "    valeurs.append(valeur) \n",
    "\n",
    "for f in range(len(foll)) :\n",
    "    #print(v)\n",
    "    cle_f = foll[f]\n",
    "    #print(cle)\n",
    "    cles.append(cle_f) \n",
    "\n",
    "for p in range(len(post)) :\n",
    "    #print(p)\n",
    "    cle_p = post[p]\n",
    "    #print(cle2)\n",
    "    cles.append(cle_p)\n",
    "\n",
    "\n",
    "print(url)\n",
    "print(valeurs)\n",
    "print(cles)\n",
    "\n",
    "# je rentre mes données dans un df\n",
    "\n",
    "\n",
    "name_of_columns = ['Name_of_insta','Adress_insta', 'count', 'types']\n",
    "\n",
    "\n",
    "for v in range(len(name_of_columns)) :\n",
    "\n",
    "    try :\n",
    "        lien_insta = [url] * len(valeurs)\n",
    "        name_insta = [name_of_insta]* len(valeurs)\n",
    "\n",
    "        df_insta_1 = pd.DataFrame(list(zip([name_insta][v], \n",
    "                                         [lien_insta][v],\n",
    "                                         [valeurs][v],\n",
    "                                         [cles][v])),\n",
    "                                        columns =[name_of_columns])\n",
    "    except IndexError :\n",
    "        pass\n",
    "\n",
    "        \n",
    "df_insta_1\n",
    "\n"
   ]
  },
  {
   "cell_type": "code",
   "execution_count": 30,
   "metadata": {},
   "outputs": [
    {
     "data": {
      "text/html": [
       "<div>\n",
       "<style scoped>\n",
       "    .dataframe tbody tr th:only-of-type {\n",
       "        vertical-align: middle;\n",
       "    }\n",
       "\n",
       "    .dataframe tbody tr th {\n",
       "        vertical-align: top;\n",
       "    }\n",
       "\n",
       "    .dataframe thead tr th {\n",
       "        text-align: left;\n",
       "    }\n",
       "</style>\n",
       "<table border=\"1\" class=\"dataframe\">\n",
       "  <thead>\n",
       "    <tr>\n",
       "      <th></th>\n",
       "      <th>Name_of_insta</th>\n",
       "      <th>Adress_insta</th>\n",
       "      <th>count</th>\n",
       "      <th>types</th>\n",
       "    </tr>\n",
       "  </thead>\n",
       "  <tbody>\n",
       "    <tr>\n",
       "      <th>0</th>\n",
       "      <td>johannamartins</td>\n",
       "      <td>https://www.instagram.com/johannamartins/</td>\n",
       "      <td>1,263</td>\n",
       "      <td>Followers</td>\n",
       "    </tr>\n",
       "    <tr>\n",
       "      <th>1</th>\n",
       "      <td>johannamartins</td>\n",
       "      <td>https://www.instagram.com/johannamartins/</td>\n",
       "      <td>767</td>\n",
       "      <td>Following</td>\n",
       "    </tr>\n",
       "    <tr>\n",
       "      <th>2</th>\n",
       "      <td>johannamartins</td>\n",
       "      <td>https://www.instagram.com/johannamartins/</td>\n",
       "      <td>147</td>\n",
       "      <td>Posts</td>\n",
       "    </tr>\n",
       "  </tbody>\n",
       "</table>\n",
       "</div>"
      ],
      "text/plain": [
       "    Name_of_insta                               Adress_insta  count      types\n",
       "0  johannamartins  https://www.instagram.com/johannamartins/  1,263  Followers\n",
       "1  johannamartins  https://www.instagram.com/johannamartins/    767  Following\n",
       "2  johannamartins  https://www.instagram.com/johannamartins/    147      Posts"
      ]
     },
     "execution_count": 30,
     "metadata": {},
     "output_type": "execute_result"
    }
   ],
   "source": [
    "#insta : wearelikewise ou mb14beatbox ou johannamartins___\n",
    "\n",
    "#soup\n",
    "name_of_insta2 = input(str('Write the insta-name of person who interest you :'))\n",
    "url2 = ('https://www.instagram.com/' + name_of_insta2 + '/')\n",
    "response = requests.get(url2)\n",
    "soup = BeautifulSoup(response.text, 'html')\n",
    "meta = str(soup.find('meta', {'property' : 'og:description'}).get_text)\n",
    "\n",
    "\n",
    "#regex number\n",
    "numbers = re.findall(r'\\d+,?\\d+K?', meta)   \n",
    "\n",
    "#regex texte\n",
    "foll = re.findall(r\"[F]\\w+\", meta)\n",
    "post = re.findall(r\"Pos.?s|Po.?t\", meta)\n",
    "\n",
    "#listes vides\n",
    "cles = []\n",
    "valeurs = []\n",
    "\n",
    "\n",
    "\n",
    "for n in range(len(numbers)) :\n",
    "    #print(i)\n",
    "    valeur = numbers[n]\n",
    "    #print(valeur)\n",
    "    valeurs.append(valeur) \n",
    "\n",
    "for f in range(len(foll)) :\n",
    "    #print(v)\n",
    "    cle_f = foll[f]\n",
    "    #print(cle)\n",
    "    cles.append(cle_f) \n",
    "\n",
    "for p in range(len(post)) :\n",
    "    #print(p)\n",
    "    cle_p = post[p]\n",
    "    #print(cle2)\n",
    "    cles.append(cle_p)\n",
    "\n",
    "\n",
    "name_of_columns = ['Name_of_insta','Adress_insta', 'count', 'types']\n",
    "\n",
    "\n",
    "for v in range(len(name_of_columns)) :\n",
    "\n",
    "    try :\n",
    "        lien_insta = [url2] * len(valeurs)\n",
    "        name_insta = [name_of_insta2]* len(valeurs)\n",
    "\n",
    "        df_insta_2 = pd.DataFrame(list(zip([name_insta][v], \n",
    "                                         [lien_insta][v],\n",
    "                                         [valeurs][v],\n",
    "                                         [cles][v])),\n",
    "                                        columns =[name_of_columns])\n",
    "    except IndexError :\n",
    "        pass\n",
    "\n",
    "        \n",
    "df_insta_2"
   ]
  },
  {
   "cell_type": "code",
   "execution_count": 31,
   "metadata": {},
   "outputs": [
    {
     "data": {
      "text/html": [
       "<div>\n",
       "<style scoped>\n",
       "    .dataframe tbody tr th:only-of-type {\n",
       "        vertical-align: middle;\n",
       "    }\n",
       "\n",
       "    .dataframe tbody tr th {\n",
       "        vertical-align: top;\n",
       "    }\n",
       "\n",
       "    .dataframe thead tr th {\n",
       "        text-align: left;\n",
       "    }\n",
       "</style>\n",
       "<table border=\"1\" class=\"dataframe\">\n",
       "  <thead>\n",
       "    <tr>\n",
       "      <th></th>\n",
       "      <th>Name_of_insta</th>\n",
       "      <th>Adress_insta</th>\n",
       "      <th>count</th>\n",
       "      <th>types</th>\n",
       "    </tr>\n",
       "  </thead>\n",
       "  <tbody>\n",
       "    <tr>\n",
       "      <th>0</th>\n",
       "      <td>mb14beatbox</td>\n",
       "      <td>https://www.instagram.com/mb14beatbox/</td>\n",
       "      <td>324K</td>\n",
       "      <td>Followers</td>\n",
       "    </tr>\n",
       "    <tr>\n",
       "      <th>1</th>\n",
       "      <td>mb14beatbox</td>\n",
       "      <td>https://www.instagram.com/mb14beatbox/</td>\n",
       "      <td>1,235</td>\n",
       "      <td>Following</td>\n",
       "    </tr>\n",
       "    <tr>\n",
       "      <th>2</th>\n",
       "      <td>mb14beatbox</td>\n",
       "      <td>https://www.instagram.com/mb14beatbox/</td>\n",
       "      <td>155</td>\n",
       "      <td>Posts</td>\n",
       "    </tr>\n",
       "    <tr>\n",
       "      <th>0</th>\n",
       "      <td>johannamartins</td>\n",
       "      <td>https://www.instagram.com/johannamartins/</td>\n",
       "      <td>1,263</td>\n",
       "      <td>Followers</td>\n",
       "    </tr>\n",
       "    <tr>\n",
       "      <th>1</th>\n",
       "      <td>johannamartins</td>\n",
       "      <td>https://www.instagram.com/johannamartins/</td>\n",
       "      <td>767</td>\n",
       "      <td>Following</td>\n",
       "    </tr>\n",
       "    <tr>\n",
       "      <th>2</th>\n",
       "      <td>johannamartins</td>\n",
       "      <td>https://www.instagram.com/johannamartins/</td>\n",
       "      <td>147</td>\n",
       "      <td>Posts</td>\n",
       "    </tr>\n",
       "  </tbody>\n",
       "</table>\n",
       "</div>"
      ],
      "text/plain": [
       "    Name_of_insta                               Adress_insta  count      types\n",
       "0     mb14beatbox     https://www.instagram.com/mb14beatbox/   324K  Followers\n",
       "1     mb14beatbox     https://www.instagram.com/mb14beatbox/  1,235  Following\n",
       "2     mb14beatbox     https://www.instagram.com/mb14beatbox/    155      Posts\n",
       "0  johannamartins  https://www.instagram.com/johannamartins/  1,263  Followers\n",
       "1  johannamartins  https://www.instagram.com/johannamartins/    767  Following\n",
       "2  johannamartins  https://www.instagram.com/johannamartins/    147      Posts"
      ]
     },
     "execution_count": 31,
     "metadata": {},
     "output_type": "execute_result"
    }
   ],
   "source": [
    "df_final = pd.concat([df_insta_1,df_insta_2])\n",
    "df_final"
   ]
  }
 ],
 "metadata": {
  "kernelspec": {
   "display_name": "Python 3.10.8 64-bit",
   "language": "python",
   "name": "python3"
  },
  "language_info": {
   "codemirror_mode": {
    "name": "ipython",
    "version": 3
   },
   "file_extension": ".py",
   "mimetype": "text/x-python",
   "name": "python",
   "nbconvert_exporter": "python",
   "pygments_lexer": "ipython3",
   "version": "3.10.8"
  },
  "orig_nbformat": 4,
  "vscode": {
   "interpreter": {
    "hash": "e508339166cd24270504bfad218d6344e0f37ab05e2021fb2dc9a6946ffa91c0"
   }
  }
 },
 "nbformat": 4,
 "nbformat_minor": 2
}
