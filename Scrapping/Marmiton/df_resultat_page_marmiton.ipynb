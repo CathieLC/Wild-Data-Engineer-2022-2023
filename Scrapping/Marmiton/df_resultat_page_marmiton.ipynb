{
 "cells": [
  {
   "cell_type": "code",
   "execution_count": 5,
   "metadata": {},
   "outputs": [],
   "source": [
    "import requests\n",
    "from bs4 import BeautifulSoup\n",
    "import pandas as pd\n",
    "import csv"
   ]
  },
  {
   "cell_type": "code",
   "execution_count": 3,
   "metadata": {},
   "outputs": [],
   "source": [
    "url = 'https://www.marmiton.org/recettes/recette_tartiflette_10514.aspx'\n"
   ]
  },
  {
   "cell_type": "code",
   "execution_count": 6,
   "metadata": {},
   "outputs": [
    {
     "name": "stdout",
     "output_type": "stream",
     "text": [
      "Tout va bien\n"
     ]
    }
   ],
   "source": [
    "#effectuer une requête\n",
    "response = requests.get(url)\n",
    "\n",
    "# si ok tout va bien :)\n",
    "if response.ok :\n",
    "    print('Tout va bien')\n",
    "else :\n",
    "    print (\"il y a un problème bichette !\")\n",
    "\n",
    "#code 200 = tout va bien !"
   ]
  },
  {
   "cell_type": "code",
   "execution_count": 7,
   "metadata": {},
   "outputs": [
    {
     "name": "stdout",
     "output_type": "stream",
     "text": [
      "Tartiflette : recette de Tartiflette\n"
     ]
    }
   ],
   "source": [
    "# si on veut le contenu sans les balises, très simple il suffit de lui indiquer dans le print\n",
    "\n",
    "if response.ok :\n",
    "    soup = BeautifulSoup(response.text, 'lxml')\n",
    "    title = soup.find('title') #on met juste le nom de la balise\n",
    "    print(title.text)\n"
   ]
  },
  {
   "cell_type": "code",
   "execution_count": 6,
   "metadata": {},
   "outputs": [
    {
     "name": "stdout",
     "output_type": "stream",
     "text": [
      "['reblochon', 'pomme de terre', 'oignon', 'sel', 'poivre', 'jambon fumé', 'Apremont']\n"
     ]
    }
   ],
   "source": [
    "#recherche de la liste des ingrédients\n",
    "\n",
    "liste_ingredients = []\n",
    "\n",
    "\n",
    "if response.ok :\n",
    "    soup = BeautifulSoup(response.text, 'html.parser')\n",
    "\n",
    "    for i in soup.findAll('span', {'class' : 'SHRD__sc-10plygc-0 kWuxfa'}) :\n",
    "        try :\n",
    "            liste_ingredients.append((i.find('span',{'class' : \"RCP__sc-8cqrvd-3 itCXhd\"})).text) \n",
    "            \n",
    "\n",
    "        except AttributeError:\n",
    "            liste_ingredients.append((i.find('span',{'class' : \"RCP__sc-8cqrvd-3 cDbUWZ\"})).text) \n",
    "            pass\n",
    "    \n",
    "    print(liste_ingredients) \n"
   ]
  },
  {
   "cell_type": "code",
   "execution_count": 7,
   "metadata": {},
   "outputs": [
    {
     "name": "stdout",
     "output_type": "stream",
     "text": [
      "['1.5', '1 kg', '500 g', '1 pincée', '1 pincée', '1 tranche', '40 cl']\n"
     ]
    }
   ],
   "source": [
    "#recherche des quantités\n",
    "\n",
    "quantity = []\n",
    "\n",
    "if response.ok :\n",
    "    soup = BeautifulSoup(response.text, 'html.parser')\n",
    "\n",
    "    for i in soup.findAll('div', {'class' : 'RCP__sc-8cqrvd-0 hSorOY'}) :\n",
    "        quantite = i.find('span',{'class' : \"SHRD__sc-10plygc-0 epviYI\"}).text.replace('\\xa0',' ')\n",
    "        \n",
    "        quantity.append(quantite) \n",
    "            \n",
    "   \n",
    "print(quantity)"
   ]
  },
  {
   "cell_type": "code",
   "execution_count": 8,
   "metadata": {},
   "outputs": [
    {
     "data": {
      "text/plain": [
       "{'reblochon': '1.5',\n",
       " 'pomme de terre': '1 kg',\n",
       " 'oignon': '500 g',\n",
       " 'sel': '1 pincée',\n",
       " 'poivre': '1 pincée',\n",
       " 'jambon fumé': '1 tranche',\n",
       " 'Apremont': '40 cl'}"
      ]
     },
     "execution_count": 8,
     "metadata": {},
     "output_type": "execute_result"
    }
   ],
   "source": [
    "#create dictionnary with 2 lists\n",
    "\n",
    "value = liste_ingredients\n",
    "ingredients_complets = dict(zip(value, quantity))\n",
    "\n",
    "ingredients_complets"
   ]
  },
  {
   "cell_type": "markdown",
   "metadata": {},
   "source": [
    "__Plus simple, création d'un dictionnaire avec ingredient + valeur en une seule fois__\n"
   ]
  },
  {
   "cell_type": "code",
   "execution_count": 14,
   "metadata": {},
   "outputs": [
    {
     "data": {
      "text/plain": [
       "{'reblochon': '1.5',\n",
       " 'pomme de terre': '1 kg',\n",
       " 'oignon': '500 g',\n",
       " 'sel': '1 pincée',\n",
       " 'poivre': '1 pincée',\n",
       " 'jambon fumé': '1 tranche',\n",
       " 'Apremont': '40 cl'}"
      ]
     },
     "execution_count": 14,
     "metadata": {},
     "output_type": "execute_result"
    }
   ],
   "source": [
    "#plus simple, création d'un dictionnaire avec ingredient + valeur\n",
    "\n",
    "liste_ingredients = []\n",
    "quantity = []\n",
    "\n",
    "\n",
    "if response.ok :\n",
    "    soup = BeautifulSoup(response.text, 'html.parser')\n",
    "\n",
    "    for i in soup.findAll('span', {'class' : 'SHRD__sc-10plygc-0 kWuxfa'}) :\n",
    "        try :\n",
    "            liste_ingredients.append((i.find('span',{'class' : \"RCP__sc-8cqrvd-3 itCXhd\"})).text) \n",
    "            \n",
    "\n",
    "        except AttributeError:\n",
    "            liste_ingredients.append((i.find('span',{'class' : \"RCP__sc-8cqrvd-3 cDbUWZ\"})).text) \n",
    "            pass\n",
    "    \n",
    "    for i in soup.findAll('div', {'class' : 'RCP__sc-8cqrvd-0 hSorOY'}) :\n",
    "        quantite = i.find('span',{'class' : \"SHRD__sc-10plygc-0 epviYI\"}).text.replace('\\xa0',' ')\n",
    "        quantity.append(quantite) \n",
    "    \n",
    "    \n",
    "\n",
    "ingredients_complets = dict(zip(liste_ingredients, quantity))\n",
    "\n",
    "ingredients_complets  "
   ]
  },
  {
   "cell_type": "markdown",
   "metadata": {},
   "source": [
    "__Création d'un df que nous exporterons ensuite dans un excel ou csv__"
   ]
  },
  {
   "cell_type": "code",
   "execution_count": 68,
   "metadata": {},
   "outputs": [
    {
     "data": {
      "text/html": [
       "<div>\n",
       "<style scoped>\n",
       "    .dataframe tbody tr th:only-of-type {\n",
       "        vertical-align: middle;\n",
       "    }\n",
       "\n",
       "    .dataframe tbody tr th {\n",
       "        vertical-align: top;\n",
       "    }\n",
       "\n",
       "    .dataframe thead th {\n",
       "        text-align: right;\n",
       "    }\n",
       "</style>\n",
       "<table border=\"1\" class=\"dataframe\">\n",
       "  <thead>\n",
       "    <tr style=\"text-align: right;\">\n",
       "      <th></th>\n",
       "      <th>Ingrédients</th>\n",
       "      <th>Quantité</th>\n",
       "      <th>Unité</th>\n",
       "    </tr>\n",
       "  </thead>\n",
       "  <tbody>\n",
       "    <tr>\n",
       "      <th>0</th>\n",
       "      <td>reblochon</td>\n",
       "      <td>1.5</td>\n",
       "      <td>pièce</td>\n",
       "    </tr>\n",
       "    <tr>\n",
       "      <th>1</th>\n",
       "      <td>pomme de terre</td>\n",
       "      <td>1</td>\n",
       "      <td>kg</td>\n",
       "    </tr>\n",
       "    <tr>\n",
       "      <th>2</th>\n",
       "      <td>oignon</td>\n",
       "      <td>500</td>\n",
       "      <td>g</td>\n",
       "    </tr>\n",
       "    <tr>\n",
       "      <th>3</th>\n",
       "      <td>sel</td>\n",
       "      <td>1</td>\n",
       "      <td>pincée</td>\n",
       "    </tr>\n",
       "    <tr>\n",
       "      <th>4</th>\n",
       "      <td>poivre</td>\n",
       "      <td>1</td>\n",
       "      <td>pincée</td>\n",
       "    </tr>\n",
       "    <tr>\n",
       "      <th>5</th>\n",
       "      <td>jambon fumé</td>\n",
       "      <td>1</td>\n",
       "      <td>tranche</td>\n",
       "    </tr>\n",
       "    <tr>\n",
       "      <th>6</th>\n",
       "      <td>Apremont</td>\n",
       "      <td>40</td>\n",
       "      <td>cl</td>\n",
       "    </tr>\n",
       "  </tbody>\n",
       "</table>\n",
       "</div>"
      ],
      "text/plain": [
       "      Ingrédients Quantité    Unité\n",
       "0       reblochon      1.5    pièce\n",
       "1  pomme de terre        1       kg\n",
       "2          oignon      500        g\n",
       "3             sel        1   pincée\n",
       "4          poivre        1   pincée\n",
       "5     jambon fumé        1  tranche\n",
       "6        Apremont       40       cl"
      ]
     },
     "execution_count": 68,
     "metadata": {},
     "output_type": "execute_result"
    }
   ],
   "source": [
    "df = pd.DataFrame.from_dict(ingredients_complets, orient='index')                           #creation du df\n",
    "df = df.reset_index(drop=False).rename(columns={\"index\": \"Ingrédients\", 0: \"Quantité\"})     #reset index, rename colonne\n",
    "df[['Quantité','Unité']] = df['Quantité'].str.split(expand=True)                            #split des quantités pour avoir les unités à part\n",
    "df['Unité'] = df['Unité'].replace({None :'pièce'})                                          # remplacement des valeurs 'none' par 'pièce'\n",
    "df\n"
   ]
  },
  {
   "cell_type": "markdown",
   "metadata": {},
   "source": [
    "#### <span style=\"color: #99CCFF\"> **Création d'un fichier csv**</span>"
   ]
  },
  {
   "cell_type": "code",
   "execution_count": 81,
   "metadata": {},
   "outputs": [],
   "source": [
    "df.to_csv('table_de_la_recette.csv',columns=['Ingrédients', 'Quantité','Unité'],index=False)\n"
   ]
  },
  {
   "cell_type": "code",
   "execution_count": null,
   "metadata": {},
   "outputs": [],
   "source": []
  }
 ],
 "metadata": {
  "kernelspec": {
   "display_name": "Python 3.8.13 ('base')",
   "language": "python",
   "name": "python3"
  },
  "language_info": {
   "codemirror_mode": {
    "name": "ipython",
    "version": 3
   },
   "file_extension": ".py",
   "mimetype": "text/x-python",
   "name": "python",
   "nbconvert_exporter": "python",
   "pygments_lexer": "ipython3",
   "version": "3.8.13 (default, Mar 28 2022, 06:59:08) [MSC v.1916 64 bit (AMD64)]"
  },
  "orig_nbformat": 4,
  "vscode": {
   "interpreter": {
    "hash": "d3755b735588d4303beb95518f2ab4e1c49ea1461d509c805a65d62cd2a8f700"
   }
  }
 },
 "nbformat": 4,
 "nbformat_minor": 2
}
