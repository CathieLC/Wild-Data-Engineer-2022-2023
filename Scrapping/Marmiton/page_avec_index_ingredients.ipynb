{
 "cells": [
  {
   "cell_type": "code",
   "execution_count": 4,
   "metadata": {},
   "outputs": [],
   "source": [
    "import requests\n",
    "from bs4 import BeautifulSoup\n",
    "import pandas as pd"
   ]
  },
  {
   "cell_type": "code",
   "execution_count": 2,
   "metadata": {},
   "outputs": [],
   "source": [
    "url = 'https://www.marmiton.org/recettes/index/ingredient'\n"
   ]
  },
  {
   "cell_type": "code",
   "execution_count": 5,
   "metadata": {},
   "outputs": [
    {
     "name": "stdout",
     "output_type": "stream",
     "text": [
      "<Response [200]>\n"
     ]
    }
   ],
   "source": [
    "\n",
    "response = requests.get(url)\n",
    "\n",
    "if response.ok :\n",
    "    print(response)\n",
    "else :\n",
    "    print (\"il y a un problème bichette !\")\n"
   ]
  },
  {
   "cell_type": "code",
   "execution_count": 6,
   "metadata": {},
   "outputs": [],
   "source": [
    "# c'est cool mais on en fait quoi ? On peut utiliser beautifulsoup par exemple\n",
    "if response.ok :\n",
    "    soup = BeautifulSoup(response.text)\n",
    "\n",
    "#concrètement il ne se passe rien, j'ai toujours mon code htlm, la différence c'est que maintenant je vais pouvoir le parser\n",
    "#parser = Analyser\n"
   ]
  },
  {
   "cell_type": "code",
   "execution_count": 7,
   "metadata": {},
   "outputs": [
    {
     "name": "stdout",
     "output_type": "stream",
     "text": [
      "Index ingrédients - Lettre a\n"
     ]
    }
   ],
   "source": [
    "# Il se peut qu'il nous demande quel parser utiliser, si on ne précise pas il en prend un par défaut (en général lxml). \n",
    "# Si on est embêté, il suffit de préciser le parser comme argument dans la fonction\n",
    "\n",
    "if response.ok :\n",
    "    soup = BeautifulSoup(response.text, 'html.parser')\n",
    "    title = soup.find('title') #on met juste le nom de la balise\n",
    "    print(title.text)"
   ]
  },
  {
   "cell_type": "code",
   "execution_count": 8,
   "metadata": {},
   "outputs": [
    {
     "name": "stdout",
     "output_type": "stream",
     "text": [
      "103\n"
     ]
    }
   ],
   "source": [
    "# pour sélectionner plusieurs éléments nous allons utiliser findAll et pour connaitre le nombre de cellule\n",
    "\n",
    "if response.ok :\n",
    "    soup = BeautifulSoup(response.text, 'html.parser')\n",
    "    a = soup.findAll('a') \n",
    "    print(len(a))\n"
   ]
  },
  {
   "cell_type": "code",
   "execution_count": 27,
   "metadata": {},
   "outputs": [
    {
     "name": "stdout",
     "output_type": "stream",
     "text": [
      "<a aria-label=\"Page d'accueil\" href=\"/\"><svg class=\"MRTN__sc-11duill-7 eiZuJc\" height=\"48\" viewbox=\"0 0 309 48\" width=\"309\" xmlns=\"http://www.w3.org/2000/svg\" xmlns:xlink=\"http://www.w3.org/1999/xlink\"><defs><path d=\"M0 .458h56.009V47H0z\" id=\"a\"></path></defs><g fill=\"none\" fill-rule=\"evenodd\"><path d=\"M276.04 26.615c0 5.934-3.97 10.078-9.654 10.078-5.685 0-9.655-4.144-9.655-10.078 0-5.935 3.97-10.08 9.655-10.08 5.684 0 9.654 4.145 9.654 10.08m-9.654-14.78c-8.318 0-14.355 6.216-14.355 14.78 0 8.563 6.037 14.778 14.355 14.778 8.317 0 14.354-6.215 14.354-14.778 0-8.564-6.037-14.78-14.354-14.78m-40.257.637h-1.303c-.937 0-1.7.763-1.7 1.7v24.94c0 .935.763 1.698 1.7 1.698h1.303c.937 0 1.7-.763 1.7-1.699V14.172c0-.937-.763-1.7-1.7-1.7m-.675-10.55c-2.123 0-3.664 1.344-3.664 3.195 0 1.885 1.541 3.253 3.664 3.253 2.089 0 3.604-1.368 3.604-3.253 0-1.85-1.515-3.195-3.604-3.195m-18.009 9.913c-3.84 0-7.406 1.813-9.678 4.883a12.005 12.005 0 0 0-9.678-4.883c-2.494 0-5.06 1.165-7.332 3.304l.001-.966c0-.938-.763-1.7-1.7-1.7h-1.302a1.7 1.7 0 0 0-1.7 1.698v24.94c0 .937.762 1.7 1.7 1.7h1.31c.937 0 1.7-.764 1.7-1.7V23.818c0-4.01 3.284-7.271 7.323-7.271 4.038 0 7.323 3.261 7.323 7.27v15.294c0 .937.762 1.7 1.7 1.7h1.311c.936 0 1.7-.764 1.7-1.7V23.818c0-4.01 3.284-7.271 7.322-7.271 4.04 0 7.324 3.261 7.324 7.27v15.294c0 .937.763 1.7 1.7 1.7h1.31c.937 0 1.7-.764 1.7-1.7V23.818c0-6.608-5.398-11.983-12.034-11.983m88.77 0c-2.493 0-5.061 1.165-7.332 3.304v-.966c0-.938-.762-1.7-1.7-1.7h-1.301a1.7 1.7 0 0 0-1.7 1.698v24.94c0 .937.762 1.7 1.7 1.7h1.31c.937 0 1.7-.764 1.7-1.7V23.818c0-4.01 3.285-7.271 7.323-7.271s7.323 3.261 7.323 7.27v15.294c0 .937.763 1.7 1.7 1.7h1.31c.938 0 1.7-.764 1.7-1.7V23.818c0-6.608-5.398-11.983-12.033-11.983M149.04 26.615c0 5.934-3.97 10.078-9.654 10.078-5.684 0-9.655-4.144-9.655-10.078 0-5.935 3.971-10.08 9.655-10.08 5.684 0 9.654 4.145 9.654 10.08m3.003-14.143h-1.302a1.698 1.698 0 0 0-1.701 1.702v2.154c-2.77-2.907-6.157-4.492-9.654-4.492-8.318 0-14.355 6.215-14.355 14.779 0 8.563 6.037 14.778 14.355 14.778 3.497 0 6.884-1.586 9.656-4.495l-.002 2.212c0 .454.177.88.498 1.202.321.322.75.498 1.203.498h1.302c.937 0 1.7-.762 1.7-1.7V14.173c0-.937-.763-1.7-1.7-1.7m-42.597-.638a12.006 12.006 0 0 0-9.678 4.883 12.01 12.01 0 0 0-9.68-4.883c-2.492 0-5.06 1.165-7.33 3.304v-.965c0-.455-.176-.883-.498-1.204a1.685 1.685 0 0 0-1.202-.498h-1.302c-.937 0-1.7.763-1.7 1.7V39.11c0 .938.763 1.7 1.7 1.7h1.31c.937 0 1.7-.763 1.7-1.7V23.818c0-4.009 3.285-7.27 7.323-7.27s7.324 3.261 7.324 7.27v15.294c0 .937.762 1.7 1.7 1.7h1.31c.937 0 1.7-.764 1.7-1.7V23.818c0-4.01 3.285-7.271 7.323-7.271s7.324 3.261 7.324 7.27v15.294c0 .937.762 1.7 1.699 1.7h1.31c.938 0 1.7-.764 1.7-1.7V23.818c0-6.608-5.398-11.983-12.033-11.983m61.31.681c-3.2.236-6.05 1.445-8.312 3.512v-1.854a1.676 1.676 0 0 0-.496-1.203 1.684 1.684 0 0 0-1.202-.499h-1.303c-.937 0-1.7.763-1.7 1.7v24.94c0 .935.763 1.698 1.7 1.698h1.304c.937 0 1.699-.763 1.699-1.699V27.18c.03-5.496 3.498-9.498 8.628-9.96a1.699 1.699 0 0 0 1.524-1.687v-1.315a1.715 1.715 0 0 0-1.842-1.701m77.902 19.154h-1.3c-.936 0-1.699.763-1.699 1.7v.496a2.805 2.805 0 0 1-2.802 2.801 2.804 2.804 0 0 1-2.8-2.8V16.601h6.937c.937 0 1.7-.763 1.7-1.7v-.73c0-.938-.763-1.7-1.7-1.7h-6.937V5.798a1.7 1.7 0 0 0-1.699-1.7h-1.304c-.937 0-1.7.762-1.7 1.7v6.674h-2.629c-.937 0-1.7.762-1.7 1.7v.73c0 .937.763 1.7 1.7 1.7h2.63V33.89c0 3.047 1.804 5.813 4.49 6.885a8.16 8.16 0 0 0 3.018.592 7.42 7.42 0 0 0 4.193-1.287 7.498 7.498 0 0 0 3.301-6.213v-.497c0-.936-.762-1.699-1.699-1.699\" fill=\"#FE6F5F\"></path><g transform=\"translate(0 .542)\"><mask fill=\"#fff\" id=\"b\"><use xlink:href=\"#a\"></use></mask><path d=\"M51.705 42.743c-.707.707-1.096.771-1.141.755-.4-.165-1.069-1.416-1.345-3.411 2.003.277 3.128.961 3.289 1.35.057.139-.111.614-.803 1.306zm-6.358-6.526H13.534C8.277 36.217 4 31.94 4 26.683c0-5.258 4.277-9.535 9.534-9.535h7.669c.936.018 2.381.095 3.53.326a2 2 0 0 0 .793-3.92c-.341-.07-.693-.126-1.045-.174-1.257-1.95-3.065-5.55-2.511-7.507.106-.375.336-.85 1.18-1.205 1.46-.617 2.443.33 5.067 3.897 2.667 3.622 6.319 8.583 13.033 8.583l4.097-.003v19.072zM55.735 40.1c-.891-2.154-3.622-3.19-6.388-3.514V17.148c0-2.205-1.795-4-4-4H41.25c-4.692 0-7.295-3.535-9.811-6.954-2.465-3.349-5.258-7.146-9.843-5.212-1.784.752-2.986 2.069-3.476 3.808-.767 2.72.413 5.987 1.616 8.358h-6.202C6.071 13.149 0 19.22 0 26.684c0 7.462 6.071 13.534 13.534 13.534H45.72c.326 2.763 1.36 5.62 3.507 6.508.382.16.841.276 1.364.276.994 0 2.22-.422 3.584-1.786 2.263-2.265 1.949-4.176 1.56-5.115z\" fill=\"#FE6F5F\" mask=\"url(#b)\"></path></g><path d=\"M38.853 21.69v11.068a1.747 1.747 0 1 0 3.493 0V21.69a1.747 1.747 0 1 0-3.493 0\" fill=\"#FE6F5F\"></path></g></svg></a>\n"
     ]
    }
   ],
   "source": [
    "if response.ok :\n",
    "    soup = BeautifulSoup(response.text, 'html.parser')\n",
    "    a = soup.find('a') \n",
    "    print(a)\n"
   ]
  },
  {
   "cell_type": "code",
   "execution_count": 39,
   "metadata": {},
   "outputs": [
    {
     "ename": "TypeError",
     "evalue": "'ResultSet' object is not callable",
     "output_type": "error",
     "traceback": [
      "\u001b[1;31m---------------------------------------------------------------------------\u001b[0m",
      "\u001b[1;31mTypeError\u001b[0m                                 Traceback (most recent call last)",
      "\u001b[1;32mc:\\Users\\cathe\\Documents\\Data Engineer 2022-2023 WCS\\VS_code\\Wild-Data-Engineer-2022-2023\\Scrapping\\Marmiton\\page_avec_index_ingredients.ipynb Cellule 8\u001b[0m in \u001b[0;36m<cell line: 3>\u001b[1;34m()\u001b[0m\n\u001b[0;32m      <a href='vscode-notebook-cell:/c%3A/Users/cathe/Documents/Data%20Engineer%202022-2023%20WCS/VS_code/Wild-Data-Engineer-2022-2023/Scrapping/Marmiton/page_avec_index_ingredients.ipynb#X10sZmlsZQ%3D%3D?line=3'>4</a>\u001b[0m soup \u001b[39m=\u001b[39m BeautifulSoup(response\u001b[39m.\u001b[39mtext, \u001b[39m'\u001b[39m\u001b[39mlxml\u001b[39m\u001b[39m'\u001b[39m)\n\u001b[0;32m      <a href='vscode-notebook-cell:/c%3A/Users/cathe/Documents/Data%20Engineer%202022-2023%20WCS/VS_code/Wild-Data-Engineer-2022-2023/Scrapping/Marmiton/page_avec_index_ingredients.ipynb#X10sZmlsZQ%3D%3D?line=4'>5</a>\u001b[0m ul \u001b[39m=\u001b[39m soup\u001b[39m.\u001b[39mfindAll(\u001b[39m'\u001b[39m\u001b[39mul\u001b[39m\u001b[39m'\u001b[39m) \n\u001b[1;32m----> <a href='vscode-notebook-cell:/c%3A/Users/cathe/Documents/Data%20Engineer%202022-2023%20WCS/VS_code/Wild-Data-Engineer-2022-2023/Scrapping/Marmiton/page_avec_index_ingredients.ipynb#X10sZmlsZQ%3D%3D?line=6'>7</a>\u001b[0m \u001b[39mfor\u001b[39;00m i \u001b[39min\u001b[39;00m ul(\u001b[39m'\u001b[39;49m\u001b[39mdiv\u001b[39;49m\u001b[39m'\u001b[39;49m, {\u001b[39m'\u001b[39;49m\u001b[39mclass\u001b[39;49m\u001b[39m'\u001b[39;49m : \u001b[39m'\u001b[39;49m\u001b[39mcenter-text\u001b[39;49m\u001b[39m'\u001b[39;49m})  :    \n\u001b[0;32m      <a href='vscode-notebook-cell:/c%3A/Users/cathe/Documents/Data%20Engineer%202022-2023%20WCS/VS_code/Wild-Data-Engineer-2022-2023/Scrapping/Marmiton/page_avec_index_ingredients.ipynb#X10sZmlsZQ%3D%3D?line=7'>8</a>\u001b[0m     item \u001b[39m=\u001b[39m i\u001b[39m.\u001b[39mfind(\u001b[39m'\u001b[39m\u001b[39mul\u001b[39m\u001b[39m'\u001b[39m, {\u001b[39m'\u001b[39m\u001b[39mclass\u001b[39m\u001b[39m'\u001b[39m : \u001b[39m'\u001b[39m\u001b[39mletters-list\u001b[39m\u001b[39m'\u001b[39m}) \n\u001b[0;32m      <a href='vscode-notebook-cell:/c%3A/Users/cathe/Documents/Data%20Engineer%202022-2023%20WCS/VS_code/Wild-Data-Engineer-2022-2023/Scrapping/Marmiton/page_avec_index_ingredients.ipynb#X10sZmlsZQ%3D%3D?line=8'>9</a>\u001b[0m     \u001b[39mprint\u001b[39m(item)\n",
      "\u001b[1;31mTypeError\u001b[0m: 'ResultSet' object is not callable"
     ]
    }
   ],
   "source": [
    "#avec une boucle :)\n",
    "\n",
    "if response.ok :\n",
    "    soup = BeautifulSoup(response.text, 'lxml')\n",
    "    ul = soup.findAll('ul') \n",
    "\n",
    "    for i in ul('div', {'class' : 'center-text'})  :    \n",
    "        item = i.find('ul', {'class' : 'letters-list'}) \n",
    "        print(item)\n",
    "\n",
    "#ou en list comprehension\n",
    "    #[print(str(i) + '\\n\\n' ) for i in a]\n"
   ]
  }
 ],
 "metadata": {
  "kernelspec": {
   "display_name": "Python 3.8.13 ('base')",
   "language": "python",
   "name": "python3"
  },
  "language_info": {
   "codemirror_mode": {
    "name": "ipython",
    "version": 3
   },
   "file_extension": ".py",
   "mimetype": "text/x-python",
   "name": "python",
   "nbconvert_exporter": "python",
   "pygments_lexer": "ipython3",
   "version": "3.8.13"
  },
  "orig_nbformat": 4,
  "vscode": {
   "interpreter": {
    "hash": "d3755b735588d4303beb95518f2ab4e1c49ea1461d509c805a65d62cd2a8f700"
   }
  }
 },
 "nbformat": 4,
 "nbformat_minor": 2
}
