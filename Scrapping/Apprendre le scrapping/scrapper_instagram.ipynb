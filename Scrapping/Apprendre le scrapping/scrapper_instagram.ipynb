{
 "cells": [
  {
   "cell_type": "code",
   "execution_count": 1,
   "metadata": {},
   "outputs": [],
   "source": [
    "import requests\n",
    "from bs4 import BeautifulSoup"
   ]
  },
  {
   "cell_type": "code",
   "execution_count": 2,
   "metadata": {},
   "outputs": [],
   "source": [
    "url = 'https://www.instagram.com/wearelikewise/'"
   ]
  },
  {
   "cell_type": "code",
   "execution_count": 3,
   "metadata": {},
   "outputs": [],
   "source": [
    "response = requests.get(url)"
   ]
  },
  {
   "cell_type": "code",
   "execution_count": 4,
   "metadata": {},
   "outputs": [],
   "source": [
    "soup = BeautifulSoup(response.text)"
   ]
  },
  {
   "cell_type": "code",
   "execution_count": null,
   "metadata": {},
   "outputs": [],
   "source": [
    "print(soup)"
   ]
  },
  {
   "cell_type": "code",
   "execution_count": null,
   "metadata": {},
   "outputs": [],
   "source": [
    "# on va récupérer des infos de base, comme le nombre d'abonnés, le nombre d'abonnement...\n",
    "\n",
    "#En recherchant \"followers\" dans inspecter l'élément nous avons 27 éléments.\n",
    "#Essayons de récupérer les scripts, mais ça me donne rien que je comprends !!!\n",
    "\n",
    "scripts = soup.find_all('script', {'type' : 'application/json'})\n",
    "print(len(scripts))                                                         #=> On en obtient 27\n",
    "print(scripts)\n",
    "\n",
    "\n",
    "#Pour rappel le json c'est l'équivalent d'un dictionnaire, c'est structuré de la même manière en python"
   ]
  },
  {
   "cell_type": "code",
   "execution_count": 28,
   "metadata": {},
   "outputs": [
    {
     "name": "stdout",
     "output_type": "stream",
     "text": [
      "1\n",
      "[<meta content=\"257K Followers, 82 Following, 2,681 Posts - See Instagram photos and videos from L I K E W I S E (@wearelikewise)\" property=\"og:description\"/>]\n"
     ]
    }
   ],
   "source": [
    "#ici, j'obtiens, le nombre de followers, le nombre de posts, le nom de la page, et ça j'ai trouvé toute seule :)\n",
    "meta = soup.find_all('meta', {'property' : 'og:description'})\n",
    "print(len(meta))                                                         \n",
    "print(meta)"
   ]
  },
  {
   "cell_type": "code",
   "execution_count": 29,
   "metadata": {},
   "outputs": [
    {
     "name": "stdout",
     "output_type": "stream",
     "text": [
      "<bound method PageElement.get_text of <meta content=\"257K Followers, 82 Following, 2,681 Posts - See Instagram photos and videos from L I K E W I S E (@wearelikewise)\" property=\"og:description\"/>>\n"
     ]
    }
   ],
   "source": [
    "#comme je n'ai qu'une réponse, je vais supprimer fin_all et garder que le texte sans les balises\n",
    "meta_text = soup.find('meta', {'property' : 'og:description'}).get_text                                          \n",
    "print(meta_text)"
   ]
  },
  {
   "cell_type": "code",
   "execution_count": 30,
   "metadata": {},
   "outputs": [
    {
     "ename": "AttributeError",
     "evalue": "'function' object has no attribute 'replace'",
     "output_type": "error",
     "traceback": [
      "\u001b[1;31m---------------------------------------------------------------------------\u001b[0m",
      "\u001b[1;31mAttributeError\u001b[0m                            Traceback (most recent call last)",
      "\u001b[1;32mc:\\Users\\cathe\\Documents\\Data Engineer 2022-2023 WCS\\VS_code\\Wild-Data-Engineer-2022-2023\\Scrapping\\Apprendre le scrapping\\scrapper_instagram.ipynb Cellule 9\u001b[0m in \u001b[0;36m<cell line: 1>\u001b[1;34m()\u001b[0m\n\u001b[1;32m----> <a href='vscode-notebook-cell:/c%3A/Users/cathe/Documents/Data%20Engineer%202022-2023%20WCS/VS_code/Wild-Data-Engineer-2022-2023/Scrapping/Apprendre%20le%20scrapping/scrapper_instagram.ipynb#X13sZmlsZQ%3D%3D?line=0'>1</a>\u001b[0m clean \u001b[39m=\u001b[39m meta_text\u001b[39m.\u001b[39;49mreplace(\u001b[39m'\u001b[39m\u001b[39m<bound method PageElement.get_text of <meta content=\u001b[39m\u001b[39m'\u001b[39m, \u001b[39m'\u001b[39m\u001b[39m'\u001b[39m)\n",
      "\u001b[1;31mAttributeError\u001b[0m: 'function' object has no attribute 'replace'"
     ]
    }
   ],
   "source": []
  },
  {
   "cell_type": "code",
   "execution_count": null,
   "metadata": {},
   "outputs": [],
   "source": []
  }
 ],
 "metadata": {
  "kernelspec": {
   "display_name": "Python 3.8.13 ('base')",
   "language": "python",
   "name": "python3"
  },
  "language_info": {
   "codemirror_mode": {
    "name": "ipython",
    "version": 3
   },
   "file_extension": ".py",
   "mimetype": "text/x-python",
   "name": "python",
   "nbconvert_exporter": "python",
   "pygments_lexer": "ipython3",
   "version": "3.8.13"
  },
  "orig_nbformat": 4,
  "vscode": {
   "interpreter": {
    "hash": "d3755b735588d4303beb95518f2ab4e1c49ea1461d509c805a65d62cd2a8f700"
   }
  }
 },
 "nbformat": 4,
 "nbformat_minor": 2
}
