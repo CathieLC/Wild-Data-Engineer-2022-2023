{
 "cells": [
  {
   "cell_type": "markdown",
   "metadata": {},
   "source": [
    "- https://www.youtube.com/watch?v=DznteGdeJoA&ab_channel=AcreationX\n",
    "\n",
    "**Download**  \n",
    "- Anaconda \n",
    "- Java jdk \n",
    "- Apache spark \n",
    "- Winutils https://github.com/cdarlint/winutils\n",
    "\n",
    "_Installer les logiciels à la suite_\n",
    "\n",
    "1. Copier le dossier apache spark dans user/nom_utilisateur\n",
    "2. Le renommer SPARKHOME\n",
    "\n",
    "3. VARIABLES UTILISATEURS  \n",
    "a. créer une variable d'environnement qui mène vers ce dossier  \n",
    "b. créer une autre variable appelée HADOOPHOME qui mène vers ce dossier également  \n",
    "c. créer une variable d'environnement appelé JAVAHOME qui mène vers le dossier où est installé JAVA8 (dans c:\\programmes files...)  \n",
    "\n",
    "4. VARIABLE SYSTEME  \n",
    "a. MODIFIER la variable systeme PATH  \n",
    "b. faire NOUVEAU et rajouter le chemin vers le dossier bin de SPARKHOME (C:\\Users\\cathe\\programmes_installes\\SPARKHOME\\bin)  \n",
    "\n",
    "5. VALIDER TOUT et faire le test dans un notebook (jupyter ou VS CODE en utilisant bien la version python de conda"
   ]
  },
  {
   "cell_type": "code",
   "execution_count": 1,
   "metadata": {},
   "outputs": [],
   "source": [
    "import findspark\n",
    "findspark.init()"
   ]
  },
  {
   "cell_type": "code",
   "execution_count": 2,
   "metadata": {},
   "outputs": [],
   "source": [
    "import pyspark\n",
    "\n",
    "from pyspark.sql import SparkSession"
   ]
  },
  {
   "cell_type": "code",
   "execution_count": 3,
   "metadata": {},
   "outputs": [
    {
     "name": "stdout",
     "output_type": "stream",
     "text": [
      "+-----+\n",
      "|hello|\n",
      "+-----+\n",
      "|spark|\n",
      "+-----+\n",
      "\n"
     ]
    }
   ],
   "source": [
    "spark = SparkSession.builder.getOrCreate()\n",
    "\n",
    "df = spark.sql(\"select 'spark' as hello \")\n",
    "df.show()"
   ]
  }
 ],
 "metadata": {
  "kernelspec": {
   "display_name": "Python 3.9.13 ('base')",
   "language": "python",
   "name": "python3"
  },
  "language_info": {
   "codemirror_mode": {
    "name": "ipython",
    "version": 3
   },
   "file_extension": ".py",
   "mimetype": "text/x-python",
   "name": "python",
   "nbconvert_exporter": "python",
   "pygments_lexer": "ipython3",
   "version": "3.9.13"
  },
  "orig_nbformat": 4,
  "vscode": {
   "interpreter": {
    "hash": "970c74304049820dbd77dadbde2872b3fd6a1dce4290da5b72d541fc5c2186ad"
   }
  }
 },
 "nbformat": 4,
 "nbformat_minor": 2
}
