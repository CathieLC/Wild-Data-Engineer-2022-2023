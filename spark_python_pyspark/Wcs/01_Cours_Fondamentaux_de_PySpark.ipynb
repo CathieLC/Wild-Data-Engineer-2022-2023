{
 "cells": [
  {
   "cell_type": "code",
   "execution_count": 1,
   "metadata": {},
   "outputs": [],
   "source": [
    "from pyspark import SparkConf, SparkContext\n",
    "from pyspark.sql import SparkSession"
   ]
  },
  {
   "cell_type": "code",
   "execution_count": 2,
   "metadata": {},
   "outputs": [],
   "source": [
    "#setMaster => définir le nom du cluster\n",
    "configuration = SparkConf().setMaster('local').setAppName('User_Info')"
   ]
  },
  {
   "cell_type": "code",
   "execution_count": 3,
   "metadata": {},
   "outputs": [],
   "source": [
    "sc = SparkContext(conf=configuration)"
   ]
  },
  {
   "cell_type": "code",
   "execution_count": 4,
   "metadata": {},
   "outputs": [
    {
     "name": "stdout",
     "output_type": "stream",
     "text": [
      "u_data.txt MapPartitionsRDD[1] at textFile at <unknown>:0\n",
      "PythonRDD[2] at RDD at PythonRDD.scala:53\n"
     ]
    }
   ],
   "source": [
    "lines = sc.textFile('u_data.txt')\n",
    "print(lines)\n",
    "fields = lines.map(lambda x: x.split(\" \"))\n",
    "print(fields)\n"
   ]
  },
  {
   "cell_type": "code",
   "execution_count": 6,
   "metadata": {},
   "outputs": [],
   "source": [
    "spark = SparkSession.builder.appName('Basics').getOrCreate()"
   ]
  },
  {
   "cell_type": "code",
   "execution_count": 11,
   "metadata": {},
   "outputs": [
    {
     "name": "stdout",
     "output_type": "stream",
     "text": [
      "+--------------------+\n",
      "|               value|\n",
      "+--------------------+\n",
      "|196\\t242\\t3\\t8812...|\n",
      "|186\\t302\\t3\\t8917...|\n",
      "|22\\t377\\t1\\t87888...|\n",
      "|244\\t51\\t2\\t88060...|\n",
      "|166\\t346\\t1\\t8863...|\n",
      "|298\\t474\\t4\\t8841...|\n",
      "|115\\t265\\t2\\t8811...|\n",
      "|253\\t465\\t5\\t8916...|\n",
      "|305\\t451\\t3\\t8863...|\n",
      "| 6\\t86\\t3\\t883603013|\n",
      "|62\\t257\\t2\\t87937...|\n",
      "|286\\t1014\\t5\\t879...|\n",
      "|200\\t222\\t5\\t8760...|\n",
      "|210\\t40\\t3\\t89103...|\n",
      "|224\\t29\\t3\\t88810...|\n",
      "|303\\t785\\t3\\t8794...|\n",
      "|122\\t387\\t5\\t8792...|\n",
      "|194\\t274\\t2\\t8795...|\n",
      "|291\\t1042\\t4\\t874...|\n",
      "|234\\t1184\\t2\\t892...|\n",
      "+--------------------+\n",
      "only showing top 20 rows\n",
      "\n"
     ]
    }
   ],
   "source": [
    "df = spark.read.text('u_data')\n",
    "df.show()"
   ]
  }
 ],
 "metadata": {
  "kernelspec": {
   "display_name": "Python 3.8.13 ('base')",
   "language": "python",
   "name": "python3"
  },
  "language_info": {
   "codemirror_mode": {
    "name": "ipython",
    "version": 3
   },
   "file_extension": ".py",
   "mimetype": "text/x-python",
   "name": "python",
   "nbconvert_exporter": "python",
   "pygments_lexer": "ipython3",
   "version": "3.8.13"
  },
  "orig_nbformat": 4,
  "vscode": {
   "interpreter": {
    "hash": "d3755b735588d4303beb95518f2ab4e1c49ea1461d509c805a65d62cd2a8f700"
   }
  }
 },
 "nbformat": 4,
 "nbformat_minor": 2
}
