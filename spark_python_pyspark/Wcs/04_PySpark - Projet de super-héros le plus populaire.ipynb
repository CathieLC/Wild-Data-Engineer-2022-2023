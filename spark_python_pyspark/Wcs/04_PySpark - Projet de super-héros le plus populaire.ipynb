{
 "cells": [
  {
   "cell_type": "markdown",
   "metadata": {},
   "source": [
    "- Qui est le super-héros Marvel le plus populaire ?\n",
    "- Basé sur le nombre d'autres amis super-héros\n",
    "- S'ils apparaissent dans la même bande dessinée, ils sont censés être \"amis\""
   ]
  },
  {
   "cell_type": "code",
   "execution_count": 1,
   "metadata": {},
   "outputs": [],
   "source": [
    "from pyspark.sql import SparkSession\n",
    "from pyspark.sql.types import StructType, StructField, IntegerType"
   ]
  },
  {
   "cell_type": "code",
   "execution_count": 2,
   "metadata": {},
   "outputs": [],
   "source": [
    "spark = SparkSession.builder.appName('quete').getOrCreate()"
   ]
  },
  {
   "cell_type": "code",
   "execution_count": 6,
   "metadata": {},
   "outputs": [
    {
     "name": "stdout",
     "output_type": "stream",
     "text": [
      "+----+----+----+----+----+----+----+----+----+----+----+----+----+----+----+----+----+----+----+----+----+----+----+----+----+----+----+----+----+----+----+----+----+----+----+----+----+----+----+----+----+----+----+----+----+----+----+----+----+----+\n",
      "| _c0| _c1| _c2| _c3| _c4| _c5| _c6| _c7| _c8| _c9|_c10|_c11|_c12|_c13|_c14|_c15|_c16|_c17|_c18|_c19|_c20|_c21|_c22|_c23|_c24|_c25|_c26|_c27|_c28|_c29|_c30|_c31|_c32|_c33|_c34|_c35|_c36|_c37|_c38|_c39|_c40|_c41|_c42|_c43|_c44|_c45|_c46|_c47|_c48|_c49|\n",
      "+----+----+----+----+----+----+----+----+----+----+----+----+----+----+----+----+----+----+----+----+----+----+----+----+----+----+----+----+----+----+----+----+----+----+----+----+----+----+----+----+----+----+----+----+----+----+----+----+----+----+\n",
      "|5988| 748|1722|3752|4655|5743|1872|3413|5527|6368|6085|4319|4728|1636|2397|3364|4001|1614|1819|1585| 732|2660|3952|2507|3891|2070|2239|2602| 612|1352|5447|4548|1596|5488|1605|5517|  11| 479|2554|2043|  17| 865|4292|6312| 473| 534|1479|6375|4456|null|\n",
      "|5989|4080|4264|4446|3779|2430|2297|6169|3530|3272|4282|6432|2548|4140| 185| 105|3878|2429|1334|4595|2767|3956|3877|4776|4946|3407| 128| 269|5775|5121| 481|5516|4758|4053|1044|1602|3889|1535|6038| 533|3986|null|null|null|null|null|null|null|null|null|\n",
      "|5982| 217| 595|1194|3308|2940|1815| 794|1503|5197| 859|5096|6039|2664| 651|2244| 528| 284|1449|1097|1172|1092| 108|3405|5204| 387|4607|4545|3705|4930|1805|4712|4404| 247|4754|4427|1845| 536|5795|5978| 533|3984|6056|null|null|null|null|null|null|null|\n",
      "|5983|1165|3836|4361|1282| 716|4289|4646|6300|5084|2397|4454|1913|5861|5485|null|null|null|null|null|null|null|null|null|null|null|null|null|null|null|null|null|null|null|null|null|null|null|null|null|null|null|null|null|null|null|null|null|null|null|\n",
      "|5980|2731|3712|1587|6084|2472|2546|6313| 875| 859| 323|2664|1469| 522|2506|2919|2423|3624|5736|5046|1787|5776|3245|3840|2399|null|null|null|null|null|null|null|null|null|null|null|null|null|null|null|null|null|null|null|null|null|null|null|null|null|\n",
      "|5981|3569|5353|4087|2653|2058|2218|5354|5306|3135|4088|4869|2958|2959|5732|4076|4155| 291|null|null|null|null|null|null|null|null|null|null|null|null|null|null|null|null|null|null|null|null|null|null|null|null|null|null|null|null|null|null|null|null|\n",
      "|5986|2658|3712|2650|1265| 133|4024|6313|3120|6066|3546| 403| 545|4860|4337|2295|5467| 128|2399|5999|5516|5309|4731|2557|5013|4132|5306|5615|2397| 945| 533|5694| 824|1383|3771| 592|5017| 704|3778|1127|1480| 274|5768|6148|4204|5250|4804|1715|2069|2548|\n",
      "|5987|2614|5716|1765|1818|2909|6436|1587|6451|5661|4069|1962|  66|6084|6148|2051|4045|6005|6419|6432|3626|2119|6417|5707|2987|3388|6438|2666|1380|6066| 725|1469|2508|5905|5332|6059|2107| 197|6057|3762|2467|2723|2810|5099|3935| 208|2422| 611| 713|1331|\n",
      "|5984| 590|4898| 745|3805|2650|2430|3757|4756|5744|4650|2093|3079| 491|2201|2204|6112|4827| 874| 859|2664|2623|1314|3956|2589|6066|4629|4839|1805|4933|2557|5716|6295|2310|5306|2311|6313|4454|6296|6030|2354|2399|null|null|null|null|null|null|null|null|\n",
      "|5985|3233|2254| 212|2023|2728|2557|3805|5716|2650|1265|3594|4654|6359|4454|2249|5874|2184|4236| 505|null|null|null|null|null|null|null|null|null|null|null|null|null|null|null|null|null|null|null|null|null|null|null|null|null|null|null|null|null|null|\n",
      "|6294|4898|1127|3220| 859|2664|5736| 533|4454|6066|4601|5652|4603|2399|null|null|null|null|null|null|null|null|null|null|null|null|null|null|null|null|null|null|null|null|null|null|null|null|null|null|null|null|null|null|null|null|null|null|null|null|\n",
      "| 270|2658|3003|3805|3861|2650|2842| 132|4898|3146| 921|5529|6148| 491| 154| 977|4516| 859|2481|3971|2664|5868| 736|3087|6306|5064|3584|3585|3586|5535|6066|1499|1082|3509|6273|6274|2557|5716|4395|5306|5408| 824|2008|null|null|null|null|null|null|null|\n",
      "| 271|4935|5716|4309|3829|5794|3405|4929|1449|2940|null|null|null|null|null|null|null|null|null|null|null|null|null|null|null|null|null|null|null|null|null|null|null|null|null|null|null|null|null|null|null|null|null|null|null|null|null|null|null|null|\n",
      "| 272|2717|4363|4088|3254|6121|6380|5885|4106|6160|5358|6166|1858|4705|4704|5352|4383|6105|1967|5234|2221|5846|5907|4090| 678|2603| 712|3484|3135|1545|3522|2959|2921|5732|5308|1595|5360|3547|4747|1727|2218|5306| 829|5082|5970|4415|null|null|null|null|\n",
      "| 273|1165|5013|5110|5113|3949|3889|5294|5438| 274|4109|3329|1628|6229|1892|3214|4925|2544|1582|6286|2328|6269|6206|1527| 340| 650|6241|4860|6306|2159|2465|3914|4210|1155| 672|2588|1991| 247|5303|3919|1498|2309|1959|4398| 424|3994|4171|2273|1189|1602|\n",
      "| 274|3920|5310|4024|5986|5653| 340|3998|3995|3994|3990|2919|3331|1496|1498|5309|4731|4736|2318|5306|1129| 592| 595|4324| 193|1127| 273|4650| 279|3670|3385|2544|2548|3388| 524|4477| 522| 523|6174|1402|1400|5002|1231|4213|2449|5776|4812|6273|2040|2041|\n",
      "| 275|4366|3373|1587| 133|4400|4898| 274|5138|6269|5491|2052|1634|2544|5705|6286|2548| 859|5657|3697|6066| 403|6241|4860|6306|2159|4210|1350|5616|3331|5013| 489|5046|6242|1881|4398|3428|4171|5719|2557|5716|1289|3507|6140|5876|3989| 684|2354|null|null|\n",
      "| 276|2277|5251|4806|2602|2397| 612|5016|3499|4401|1809|6312| 748|4864|6243|3991|null|null|null|null|null|null|null|null|null|null|null|null|null|null|null|null|null|null|null|null|null|null|null|null|null|null|null|null|null|null|null|null|null|null|\n",
      "| 277|1068|3495|6194|3636|5326| 576|4240| 710|1472| 929| 123| 403|5059|1361|4366|5525|null|null|null|null|null|null|null|null|null|null|null|null|null|null|null|null|null|null|null|null|null|null|null|null|null|null|null|null|null|null|null|null|null|\n",
      "| 278|1145| 667|2650| 767|1265|1787|5740|5741|6084|4781|4147| 211|6066|4980|4983| 545|1675|2246|3994|3245|2466|1097|4033|6445|2557|5306|4978| 920|6252|3949|3829| 111|5600|5768|5602|5760|4045|5411|5412|5419|   3|2937|6316|5002|2449|5099|3950| 824|4542|\n",
      "+----+----+----+----+----+----+----+----+----+----+----+----+----+----+----+----+----+----+----+----+----+----+----+----+----+----+----+----+----+----+----+----+----+----+----+----+----+----+----+----+----+----+----+----+----+----+----+----+----+----+\n",
      "only showing top 20 rows\n",
      "\n"
     ]
    }
   ],
   "source": [
    "# cf inferSchema = True\n",
    "df_marvel_graph = spark.read.option('delimiter', ' ').csv('Marvel+Graph.txt', inferSchema = True)\n",
    "df_marvel_graph.show()"
   ]
  },
  {
   "cell_type": "code",
   "execution_count": 5,
   "metadata": {},
   "outputs": [
    {
     "name": "stdout",
     "output_type": "stream",
     "text": [
      "+---+--------------------+\n",
      "|_c0|                 _c1|\n",
      "+---+--------------------+\n",
      "|  1|24-HOUR MAN/EMMANUEL|\n",
      "|  2|3-D MAN/CHARLES CHAN|\n",
      "|  3|    4-D MAN/MERCURIO|\n",
      "|  4|             8-BALL/|\n",
      "|  5|                   A|\n",
      "|  6|               A'YIN|\n",
      "|  7|        ABBOTT, JACK|\n",
      "|  8|             ABCISSA|\n",
      "|  9|                ABEL|\n",
      "| 10|ABOMINATION/EMIL BLO|\n",
      "| 11|ABOMINATION | MUTANT|\n",
      "| 12|         ABOMINATRIX|\n",
      "| 13|             ABRAXAS|\n",
      "| 14|          ADAM 3,031|\n",
      "| 15|             ABSALOM|\n",
      "| 16|ABSORBING MAN/CARL C|\n",
      "| 17|ABSORBING MAN | MUTA|\n",
      "| 18|                ACBA|\n",
      "| 19|ACHEBE, REVEREND DOC|\n",
      "| 20|            ACHILLES|\n",
      "+---+--------------------+\n",
      "only showing top 20 rows\n",
      "\n"
     ]
    }
   ],
   "source": [
    "df_marvel_names = spark.read.option('delimiter', ' ').csv('Marvel+Names.txt', inferSchema = True)\n",
    "df_marvel_names.show()"
   ]
  },
  {
   "cell_type": "code",
   "execution_count": 7,
   "metadata": {},
   "outputs": [
    {
     "name": "stdout",
     "output_type": "stream",
     "text": [
      "root\n",
      " |-- _c0: integer (nullable = true)\n",
      " |-- _c1: string (nullable = true)\n",
      "\n",
      "root\n",
      " |-- _c0: integer (nullable = true)\n",
      " |-- _c1: integer (nullable = true)\n",
      " |-- _c2: integer (nullable = true)\n",
      " |-- _c3: integer (nullable = true)\n",
      " |-- _c4: integer (nullable = true)\n",
      " |-- _c5: integer (nullable = true)\n",
      " |-- _c6: integer (nullable = true)\n",
      " |-- _c7: integer (nullable = true)\n",
      " |-- _c8: integer (nullable = true)\n",
      " |-- _c9: integer (nullable = true)\n",
      " |-- _c10: integer (nullable = true)\n",
      " |-- _c11: integer (nullable = true)\n",
      " |-- _c12: integer (nullable = true)\n",
      " |-- _c13: integer (nullable = true)\n",
      " |-- _c14: integer (nullable = true)\n",
      " |-- _c15: integer (nullable = true)\n",
      " |-- _c16: integer (nullable = true)\n",
      " |-- _c17: integer (nullable = true)\n",
      " |-- _c18: integer (nullable = true)\n",
      " |-- _c19: integer (nullable = true)\n",
      " |-- _c20: integer (nullable = true)\n",
      " |-- _c21: integer (nullable = true)\n",
      " |-- _c22: integer (nullable = true)\n",
      " |-- _c23: integer (nullable = true)\n",
      " |-- _c24: integer (nullable = true)\n",
      " |-- _c25: integer (nullable = true)\n",
      " |-- _c26: integer (nullable = true)\n",
      " |-- _c27: integer (nullable = true)\n",
      " |-- _c28: integer (nullable = true)\n",
      " |-- _c29: integer (nullable = true)\n",
      " |-- _c30: integer (nullable = true)\n",
      " |-- _c31: integer (nullable = true)\n",
      " |-- _c32: integer (nullable = true)\n",
      " |-- _c33: integer (nullable = true)\n",
      " |-- _c34: integer (nullable = true)\n",
      " |-- _c35: integer (nullable = true)\n",
      " |-- _c36: integer (nullable = true)\n",
      " |-- _c37: integer (nullable = true)\n",
      " |-- _c38: integer (nullable = true)\n",
      " |-- _c39: integer (nullable = true)\n",
      " |-- _c40: integer (nullable = true)\n",
      " |-- _c41: integer (nullable = true)\n",
      " |-- _c42: integer (nullable = true)\n",
      " |-- _c43: integer (nullable = true)\n",
      " |-- _c44: integer (nullable = true)\n",
      " |-- _c45: integer (nullable = true)\n",
      " |-- _c46: integer (nullable = true)\n",
      " |-- _c47: integer (nullable = true)\n",
      " |-- _c48: integer (nullable = true)\n",
      " |-- _c49: integer (nullable = true)\n",
      "\n"
     ]
    }
   ],
   "source": [
    "df_marvel_names.printSchema()\n",
    "df_marvel_graph.printSchema()"
   ]
  }
 ],
 "metadata": {
  "kernelspec": {
   "display_name": "Python 3.8.13 ('base')",
   "language": "python",
   "name": "python3"
  },
  "language_info": {
   "codemirror_mode": {
    "name": "ipython",
    "version": 3
   },
   "file_extension": ".py",
   "mimetype": "text/x-python",
   "name": "python",
   "nbconvert_exporter": "python",
   "pygments_lexer": "ipython3",
   "version": "3.8.13"
  },
  "orig_nbformat": 4,
  "vscode": {
   "interpreter": {
    "hash": "d3755b735588d4303beb95518f2ab4e1c49ea1461d509c805a65d62cd2a8f700"
   }
  }
 },
 "nbformat": 4,
 "nbformat_minor": 2
}
