{
 "cells": [
  {
   "cell_type": "code",
   "execution_count": 1,
   "metadata": {},
   "outputs": [
    {
     "ename": "ModuleNotFoundError",
     "evalue": "No module named 'awsglue'",
     "output_type": "error",
     "traceback": [
      "\u001b[1;31m---------------------------------------------------------------------------\u001b[0m",
      "\u001b[1;31mModuleNotFoundError\u001b[0m                       Traceback (most recent call last)",
      "\u001b[1;32mc:\\Users\\cathe\\Documents\\WCS-2022-2023\\VS_code\\Wild-Data-Engineer-2022-2023\\spark_python_pyspark\\Wcs\\AWS\\AWS_Glue_ETL_partie3.ipynb Cellule 1\u001b[0m in \u001b[0;36m<cell line: 2>\u001b[1;34m()\u001b[0m\n\u001b[0;32m      <a href='vscode-notebook-cell:/c%3A/Users/cathe/Documents/WCS-2022-2023/VS_code/Wild-Data-Engineer-2022-2023/spark_python_pyspark/Wcs/AWS/AWS_Glue_ETL_partie3.ipynb#W0sZmlsZQ%3D%3D?line=0'>1</a>\u001b[0m \u001b[39mimport\u001b[39;00m \u001b[39msys\u001b[39;00m\n\u001b[1;32m----> <a href='vscode-notebook-cell:/c%3A/Users/cathe/Documents/WCS-2022-2023/VS_code/Wild-Data-Engineer-2022-2023/spark_python_pyspark/Wcs/AWS/AWS_Glue_ETL_partie3.ipynb#W0sZmlsZQ%3D%3D?line=1'>2</a>\u001b[0m \u001b[39mfrom\u001b[39;00m \u001b[39mawsglue\u001b[39;00m\u001b[39m.\u001b[39;00m\u001b[39mtransforms\u001b[39;00m \u001b[39mimport\u001b[39;00m \u001b[39m*\u001b[39m\n\u001b[0;32m      <a href='vscode-notebook-cell:/c%3A/Users/cathe/Documents/WCS-2022-2023/VS_code/Wild-Data-Engineer-2022-2023/spark_python_pyspark/Wcs/AWS/AWS_Glue_ETL_partie3.ipynb#W0sZmlsZQ%3D%3D?line=2'>3</a>\u001b[0m \u001b[39mfrom\u001b[39;00m \u001b[39mawsglue\u001b[39;00m\u001b[39m.\u001b[39;00m\u001b[39mutils\u001b[39;00m \u001b[39mimport\u001b[39;00m getResolvedOptions\n\u001b[0;32m      <a href='vscode-notebook-cell:/c%3A/Users/cathe/Documents/WCS-2022-2023/VS_code/Wild-Data-Engineer-2022-2023/spark_python_pyspark/Wcs/AWS/AWS_Glue_ETL_partie3.ipynb#W0sZmlsZQ%3D%3D?line=3'>4</a>\u001b[0m \u001b[39mfrom\u001b[39;00m \u001b[39mpyspark\u001b[39;00m\u001b[39m.\u001b[39;00m\u001b[39mcontext\u001b[39;00m \u001b[39mimport\u001b[39;00m SparkContext\n",
      "\u001b[1;31mModuleNotFoundError\u001b[0m: No module named 'awsglue'"
     ]
    }
   ],
   "source": [
    "import sys\n",
    "from awsglue.transforms import *\n",
    "from awsglue.utils import getResolvedOptions\n",
    "from pyspark.context import SparkContext\n",
    "from awsglue.context import GlueContext\n",
    "from awsglue.dynamicframe import DynamicFrame\n",
    "from pyspark.sql import functions as F\n",
    "from pyspark.sql.types import IntegerType\n",
    "from awsglue.job import Job\n",
    "\n",
    "# Copiez le code suivant afin de calculer la puissance d'attaque moyenne des Pokémon \n",
    "# et le nombre de Pokémon par type. \n",
    "# Veuillez noter que j'ai mis s3://bucket-glue-example-output comme compartiment de sortie :\n",
    "\n",
    "sc = SparkContext()\n",
    "glue_context = GlueContext(sc)\n",
    "\n",
    "pokemons = glue_context.create_dynamic_frame.from_catalog(database=\"dataengineering-db\",\n",
    "table_name=\"bucke_glue_example\")\n",
    "\n",
    "#Convert dynamic frame to data frame\n",
    "pokemons_data_frame = pokemons.toDF()\n",
    "\n",
    "# Cast Attack field to integer type\n",
    "pokemons_data_frame = pokemons_data_frame.withColumn(\"attack\", pokemons_data_frame[\"attack\"].cast(IntegerType()))\n",
    "\n",
    "#Group data by type 1 and compure average Attack for each Group\n",
    "grouped_dataframe = pokemons_data_frame.groupBy(\"type1\").agg(F.mean('attack'), F.count('id'))\n",
    "\n",
    "#Print result to see intermediary results\n",
    "grouped_dataframe.show(5)\n",
    "\n",
    "#Time to load the results into S3\n",
    "#Reduce partionionning because we work on one dataset only\n",
    "\n",
    "grouped_dataframe = grouped_dataframe.repartition(1)\n",
    "\n",
    "#Convert back to dynamic frame\n",
    "dynamic_frame_write = DynamicFrame.fromDF(grouped_dataframe, glue_context, \"dynamic_frame_write\")\n",
    "\n",
    "#Write data back to S3\n",
    "glue_context.write_dynamic_frame.from_options(\n",
    "frame = dynamic_frame_write,\n",
    "connection_type = \"s3\",\n",
    "connection_options = {\n",
    "\"path\": \"s3://bucket-glue-example-output\",\n",
    "},\n",
    "format = \"csv\"\n",
    ")"
   ]
  },
  {
   "cell_type": "code",
   "execution_count": null,
   "metadata": {},
   "outputs": [],
   "source": [
    "# Copiez le code suivant afin de calculer la puissance d'attaque moyenne des Pokémon \n",
    "# et le nombre de Pokémon par type. \n",
    "# Veuillez noter que j'ai mis s3://bucket-glue-example-output comme compartiment de sortie :\n",
    "\n",
    "sc = SparkContext()\n",
    "glue_context = GlueContext(sc)\n",
    "\n",
    "pokemons = glue_context.create_dynamic_frame.from_catalog(database=\"dataengineering-db\",\n",
    "table_name=\"catherine-bucket-glue\")\n",
    "\n",
    "#Convert dynamic frame to data frame\n",
    "pokemons_data_frame = pokemons.toDF()\n",
    "\n",
    "# Cast Attack field to integer type\n",
    "pokemons_data_frame = pokemons_data_frame.withColumn(\"attack\", pokemons_data_frame[\"attack\"].cast(IntegerType()))\n",
    "\n",
    "#Group data by type 1 and compure average Attack for each Group\n",
    "grouped_dataframe = pokemons_data_frame.groupBy(\"type1\").agg(F.mean('attack'), F.count('id'))\n",
    "\n",
    "#Print result to see intermediary results\n",
    "grouped_dataframe.show(5)\n",
    "\n",
    "#Time to load the results into S3\n",
    "#Reduce partionionning because we work on one dataset only\n",
    "\n",
    "grouped_dataframe = grouped_dataframe.repartition(1)\n",
    "\n",
    "#Convert back to dynamic frame\n",
    "dynamic_frame_write = DynamicFrame.fromDF(grouped_dataframe, glue_context, \"dynamic_frame_write\")\n",
    "\n",
    "#Write data back to S3\n",
    "glue_context.write_dynamic_frame.from_options(\n",
    "frame = dynamic_frame_write,\n",
    "connection_type = \"s3\",\n",
    "connection_options = {\n",
    "\"path\": \"s3://bucket-glue-example-output\",\n",
    "},\n",
    "format = \"csv\""
   ]
  }
 ],
 "metadata": {
  "kernelspec": {
   "display_name": "Python 3.8.13 ('base')",
   "language": "python",
   "name": "python3"
  },
  "language_info": {
   "codemirror_mode": {
    "name": "ipython",
    "version": 3
   },
   "file_extension": ".py",
   "mimetype": "text/x-python",
   "name": "python",
   "nbconvert_exporter": "python",
   "pygments_lexer": "ipython3",
   "version": "3.8.13"
  },
  "orig_nbformat": 4,
  "vscode": {
   "interpreter": {
    "hash": "d3755b735588d4303beb95518f2ab4e1c49ea1461d509c805a65d62cd2a8f700"
   }
  }
 },
 "nbformat": 4,
 "nbformat_minor": 2
}
