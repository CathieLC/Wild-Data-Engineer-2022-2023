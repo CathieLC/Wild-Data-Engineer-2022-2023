{
 "cells": [
  {
   "cell_type": "markdown",
   "metadata": {},
   "source": [
    "### Sujet\n",
    "Dans cette quête, vous utiliserez à nouveau l'ensemble de données u.data de la quête précédente.\n",
    "Cette fois, votre mission est la suivante :\n",
    "- écrivez une fonction PySpark, qui renvoie des informations sur le nombre de classements de films sur 4 . \n",
    "- Utilisez la fonction de filtre pour cette tâche. "
   ]
  },
  {
   "cell_type": "code",
   "execution_count": 4,
   "metadata": {},
   "outputs": [],
   "source": [
    "from pyspark.sql import SparkSession\n",
    "from pyspark.sql.types import StructType, StructField, IntegerType"
   ]
  },
  {
   "cell_type": "code",
   "execution_count": 2,
   "metadata": {},
   "outputs": [],
   "source": [
    "spark = SparkSession.builder.appName('udata').getOrCreate()"
   ]
  },
  {
   "cell_type": "code",
   "execution_count": 5,
   "metadata": {},
   "outputs": [
    {
     "name": "stdout",
     "output_type": "stream",
     "text": [
      "+-------+-------+------+---------+\n",
      "|user_id|item_id|rating|timestamp|\n",
      "+-------+-------+------+---------+\n",
      "|    196|    242|     3|881250949|\n",
      "|    186|    302|     3|891717742|\n",
      "|     22|    377|     1|878887116|\n",
      "|    244|     51|     2|880606923|\n",
      "|    166|    346|     1|886397596|\n",
      "|    298|    474|     4|884182806|\n",
      "|    115|    265|     2|881171488|\n",
      "|    253|    465|     5|891628467|\n",
      "|    305|    451|     3|886324817|\n",
      "|      6|     86|     3|883603013|\n",
      "|     62|    257|     2|879372434|\n",
      "|    286|   1014|     5|879781125|\n",
      "|    200|    222|     5|876042340|\n",
      "|    210|     40|     3|891035994|\n",
      "|    224|     29|     3|888104457|\n",
      "|    303|    785|     3|879485318|\n",
      "|    122|    387|     5|879270459|\n",
      "|    194|    274|     2|879539794|\n",
      "|    291|   1042|     4|874834944|\n",
      "|    234|   1184|     2|892079237|\n",
      "+-------+-------+------+---------+\n",
      "only showing top 20 rows\n",
      "\n"
     ]
    }
   ],
   "source": [
    "# user id | item id | rating | timestamp\n",
    "\n",
    "my_schema = StructType([\n",
    "    StructField('user_id', IntegerType(), False),\n",
    "    StructField('item_id', IntegerType(), False),\n",
    "    StructField('rating', IntegerType(), False),\n",
    "    StructField('timestamp', IntegerType(), False),\n",
    "    ]\n",
    ")\n",
    "\n",
    "# cf inferSchema = True\n",
    "df = spark.read.option('delimiter', '\\\\t').csv('u-data', schema = my_schema)\n",
    "df.show()"
   ]
  },
  {
   "cell_type": "code",
   "execution_count": 7,
   "metadata": {},
   "outputs": [
    {
     "name": "stdout",
     "output_type": "stream",
     "text": [
      "root\n",
      " |-- user_id: integer (nullable = true)\n",
      " |-- item_id: integer (nullable = true)\n",
      " |-- rating: integer (nullable = true)\n",
      " |-- timestamp: integer (nullable = true)\n",
      "\n"
     ]
    }
   ],
   "source": [
    "df.printSchema()"
   ]
  },
  {
   "cell_type": "code",
   "execution_count": 22,
   "metadata": {},
   "outputs": [
    {
     "name": "stdout",
     "output_type": "stream",
     "text": [
      "+-------+-------+------+---------+\n",
      "|user_id|item_id|rating|timestamp|\n",
      "+-------+-------+------+---------+\n",
      "|    253|    465|     5|891628467|\n",
      "|    286|   1014|     5|879781125|\n",
      "|    200|    222|     5|876042340|\n",
      "|    122|    387|     5|879270459|\n",
      "|     38|     95|     5|892430094|\n",
      "|    160|    234|     5|876861185|\n",
      "|    278|    603|     5|891295330|\n",
      "|    287|    327|     5|875333916|\n",
      "|    246|    201|     5|884921594|\n",
      "|    242|   1137|     5|879741196|\n",
      "|    249|    241|     5|879641194|\n",
      "|     99|      4|     5|886519097|\n",
      "|     25|    181|     5|885853415|\n",
      "|     59|    196|     5|888205088|\n",
      "|    290|    143|     5|880474293|\n",
      "|     42|    423|     5|881107687|\n",
      "|    138|     26|     5|879024232|\n",
      "|     60|    427|     5|883326620|\n",
      "|     57|    304|     5|883698581|\n",
      "|    127|    229|     5|884364867|\n",
      "+-------+-------+------+---------+\n",
      "only showing top 20 rows\n",
      "\n"
     ]
    }
   ],
   "source": [
    "#écrivez une fonction PySpark, qui renvoie des informations sur le nombre de classements de films qui obtiennt plus de 4 . \n",
    "#Utilisez la fonction de filtre pour cette tâche. \n",
    "\n",
    "df.filter(df.rating > 4) \\\n",
    "    .show()"
   ]
  }
 ],
 "metadata": {
  "kernelspec": {
   "display_name": "Python 3.8.13 ('base')",
   "language": "python",
   "name": "python3"
  },
  "language_info": {
   "codemirror_mode": {
    "name": "ipython",
    "version": 3
   },
   "file_extension": ".py",
   "mimetype": "text/x-python",
   "name": "python",
   "nbconvert_exporter": "python",
   "pygments_lexer": "ipython3",
   "version": "3.8.13"
  },
  "orig_nbformat": 4,
  "vscode": {
   "interpreter": {
    "hash": "d3755b735588d4303beb95518f2ab4e1c49ea1461d509c805a65d62cd2a8f700"
   }
  }
 },
 "nbformat": 4,
 "nbformat_minor": 2
}
