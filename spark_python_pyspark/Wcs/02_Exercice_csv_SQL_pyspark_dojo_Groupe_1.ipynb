{
 "cells": [
  {
   "cell_type": "code",
   "execution_count": 10,
   "id": "6aa97d88-cfab-4e64-b232-9296f61ded67",
   "metadata": {
    "execution": {
     "iopub.execute_input": "2022-11-03T08:41:58.311426Z",
     "iopub.status.busy": "2022-11-03T08:41:58.311103Z",
     "iopub.status.idle": "2022-11-03T08:42:29.190584Z",
     "shell.execute_reply": "2022-11-03T08:42:29.189821Z",
     "shell.execute_reply.started": "2022-11-03T08:41:58.311385Z"
    },
    "tags": []
   },
   "outputs": [],
   "source": [
    "from pyspark.sql import SparkSession\n",
    "import pandas as pd\n",
    "\n",
    "#2- Import StructField, StructType, StringType, IntegerType, FloatType\n",
    "from pyspark.sql.types import (StructField, StringType, IntegerType, StructType, FloatType)\n",
    "\n",
    "8# controle s'il reste des valeurs nulles\n",
    "from pyspark.sql.functions import col,isnan,when,count"
   ]
  },
  {
   "cell_type": "code",
   "execution_count": 7,
   "id": "97433b42-8804-433f-9480-569b7a1429a3",
   "metadata": {
    "execution": {
     "iopub.execute_input": "2022-11-03T09:32:16.892161Z",
     "iopub.status.busy": "2022-11-03T09:32:16.891927Z",
     "iopub.status.idle": "2022-11-03T09:32:16.951987Z",
     "shell.execute_reply": "2022-11-03T09:32:16.951358Z",
     "shell.execute_reply.started": "2022-11-03T09:32:16.892137Z"
    },
    "tags": []
   },
   "outputs": [],
   "source": [
    "schema = StructType([ \n",
    "    StructField(\"mpg\",FloatType(),True), \n",
    "    StructField(\"cylinders\",IntegerType(),True), \n",
    "    StructField(\"displacement\",FloatType(),True), \n",
    "    StructField(\"horsepower\", IntegerType(), True), \n",
    "    StructField(\"weight\", IntegerType(), True), \n",
    "    StructField(\"acceleration\", FloatType(), True), \n",
    "    StructField(\"model year\", IntegerType(), True), \n",
    "    StructField(\"origin\", IntegerType(), True), \n",
    "    StructField(\"car name\", StringType(), True) \n",
    "  ])"
   ]
  },
  {
   "cell_type": "code",
   "execution_count": 8,
   "id": "185a00f9-32f2-446b-84be-0a378df96e99",
   "metadata": {
    "execution": {
     "iopub.execute_input": "2022-11-03T08:47:19.578856Z",
     "iopub.status.busy": "2022-11-03T08:47:19.578613Z",
     "iopub.status.idle": "2022-11-03T08:47:20.390004Z",
     "shell.execute_reply": "2022-11-03T08:47:20.389223Z",
     "shell.execute_reply.started": "2022-11-03T08:47:19.578830Z"
    },
    "tags": []
   },
   "outputs": [],
   "source": [
    "#Create a spark session and declare it in spark variable\n",
    "\n",
    "spark = SparkSession.builder.appName('Basics').getOrCreate()"
   ]
  },
  {
   "cell_type": "code",
   "execution_count": null,
   "id": "733753d1-a24c-4489-a5e3-5c0da53d7f28",
   "metadata": {
    "execution": {
     "iopub.execute_input": "2022-11-03T09:32:43.129253Z",
     "iopub.status.busy": "2022-11-03T09:32:43.129027Z",
     "iopub.status.idle": "2022-11-03T09:32:50.424373Z",
     "shell.execute_reply": "2022-11-03T09:32:50.423797Z",
     "shell.execute_reply.started": "2022-11-03T09:32:43.129229Z"
    },
    "tags": []
   },
   "outputs": [],
   "source": [
    "#4- Import data from this path s3://dataset-pyspark/auto-mpg.csv and using a pre-defined schema\n",
    "#5- Print the Dataframe\n",
    "\n",
    "link = \"02_dojo_auto-mpg.csv\"\n",
    "\n",
    "df = spark.read.csv(link, header = True, schema=schema)\n",
    "df.show()"
   ]
  },
  {
   "cell_type": "code",
   "execution_count": 14,
   "id": "f423dc00-6328-4fdf-94bf-bb085b488773",
   "metadata": {
    "execution": {
     "iopub.execute_input": "2022-11-03T09:32:55.802644Z",
     "iopub.status.busy": "2022-11-03T09:32:55.802423Z",
     "iopub.status.idle": "2022-11-03T09:32:55.866845Z",
     "shell.execute_reply": "2022-11-03T09:32:55.866263Z",
     "shell.execute_reply.started": "2022-11-03T09:32:55.802620Z"
    },
    "tags": []
   },
   "outputs": [
    {
     "name": "stdout",
     "output_type": "stream",
     "text": [
      "root\n",
      " |-- mpg: float (nullable = true)\n",
      " |-- cylinders: integer (nullable = true)\n",
      " |-- displacement: float (nullable = true)\n",
      " |-- horsepower: integer (nullable = true)\n",
      " |-- weight: integer (nullable = true)\n",
      " |-- acceleration: float (nullable = true)\n",
      " |-- model year: integer (nullable = true)\n",
      " |-- origin: integer (nullable = true)\n",
      " |-- car name: string (nullable = true)\n",
      "\n"
     ]
    },
    {
     "data": {
      "text/plain": [
       "(None,\n",
       " ['mpg',\n",
       "  'cylinders',\n",
       "  'displacement',\n",
       "  'horsepower',\n",
       "  'weight',\n",
       "  'acceleration',\n",
       "  'model year',\n",
       "  'origin',\n",
       "  'car name'])"
      ]
     },
     "execution_count": 14,
     "metadata": {},
     "output_type": "execute_result"
    }
   ],
   "source": [
    "#6- Print the dataframe columns\n",
    "#7- Print the dataframe schema\n",
    "\n",
    "df.printSchema(),df.columns"
   ]
  },
  {
   "cell_type": "code",
   "execution_count": null,
   "id": "d0205989-f457-44c2-bdd5-e3270ed8a6d8",
   "metadata": {
    "execution": {
     "iopub.execute_input": "2022-11-03T09:34:08.822275Z",
     "iopub.status.busy": "2022-11-03T09:34:08.822038Z",
     "iopub.status.idle": "2022-11-03T09:34:09.594590Z",
     "shell.execute_reply": "2022-11-03T09:34:09.593999Z",
     "shell.execute_reply.started": "2022-11-03T09:34:08.822251Z"
    },
    "tags": []
   },
   "outputs": [],
   "source": [
    "#8- Drop NAs\n",
    "\n",
    "df = df.dropna()\n",
    "df.show()\n"
   ]
  },
  {
   "cell_type": "code",
   "execution_count": 16,
   "id": "7e94660d-592d-4c72-b825-2ffcf6378233",
   "metadata": {
    "execution": {
     "iopub.execute_input": "2022-11-03T09:34:22.113998Z",
     "iopub.status.busy": "2022-11-03T09:34:22.113619Z",
     "iopub.status.idle": "2022-11-03T09:34:22.927098Z",
     "shell.execute_reply": "2022-11-03T09:34:22.926293Z",
     "shell.execute_reply.started": "2022-11-03T09:34:22.113955Z"
    },
    "tags": []
   },
   "outputs": [
    {
     "name": "stdout",
     "output_type": "stream",
     "text": [
      "+---+---------+------------+----------+------+------------+----------+------+--------+\n",
      "|mpg|cylinders|displacement|horsepower|weight|acceleration|model year|origin|car name|\n",
      "+---+---------+------------+----------+------+------------+----------+------+--------+\n",
      "|  0|        0|           0|         0|     0|           0|         0|     0|       0|\n",
      "+---+---------+------------+----------+------+------------+----------+------+--------+\n",
      "\n"
     ]
    }
   ],
   "source": [
    "# controle s'il reste des valeurs nulles\n",
    "\n",
    "\n",
    "df.select([count(when(isnan(c), c)).alias(c) for c in df.columns]).show()\n"
   ]
  },
  {
   "cell_type": "code",
   "execution_count": null,
   "id": "bd5904be-95bc-47cf-8de3-e112382ea57a",
   "metadata": {
    "execution": {
     "iopub.execute_input": "2022-11-03T09:34:25.114978Z",
     "iopub.status.busy": "2022-11-03T09:34:25.114634Z",
     "iopub.status.idle": "2022-11-03T09:34:25.910879Z",
     "shell.execute_reply": "2022-11-03T09:34:25.910202Z",
     "shell.execute_reply.started": "2022-11-03T09:34:25.114939Z"
    },
    "tags": []
   },
   "outputs": [],
   "source": [
    "#9- Rename columns df = \"model year\" to \"model_year\" and \"car name\" to \"car_name\"\n",
    "# 10- Print the Dataframe\n",
    "\n",
    "df = df.withColumnRenamed('model year','model_year').withColumnRenamed('car name','car_name')\n",
    "df.show()"
   ]
  },
  {
   "cell_type": "code",
   "execution_count": null,
   "id": "3c797e9b-cbfa-4cec-b70f-8edf1635a39e",
   "metadata": {
    "execution": {
     "iopub.execute_input": "2022-11-03T09:34:28.001890Z",
     "iopub.status.busy": "2022-11-03T09:34:28.001502Z",
     "iopub.status.idle": "2022-11-03T09:34:28.797777Z",
     "shell.execute_reply": "2022-11-03T09:34:28.796951Z",
     "shell.execute_reply.started": "2022-11-03T09:34:28.001850Z"
    },
    "tags": []
   },
   "outputs": [],
   "source": [
    "# 11- Show filtred data on mpg > 20\n",
    "\n",
    "df.filter( 'mpg > 20').show()\n"
   ]
  },
  {
   "cell_type": "code",
   "execution_count": 19,
   "id": "8efbe713-48d3-42cc-abe2-b458ab4d246b",
   "metadata": {
    "execution": {
     "iopub.execute_input": "2022-11-03T09:35:45.596271Z",
     "iopub.status.busy": "2022-11-03T09:35:45.596040Z"
    },
    "tags": []
   },
   "outputs": [
    {
     "name": "stdout",
     "output_type": "stream",
     "text": [
      "+--------------------+----+\n",
      "|            car_name| mpg|\n",
      "+--------------------+----+\n",
      "|oldsmobile cutlas...|38.0|\n",
      "|datsun 510 hatchback|37.0|\n",
      "|    nissan stanza xe|36.0|\n",
      "|   dodge charger 2.2|36.0|\n",
      "|   triumph tr7 coupe|35.0|\n",
      "|chevrolet cavalie...|34.0|\n",
      "|      dodge colt m/m|33.5|\n",
      "|     pontiac phoenix|33.5|\n",
      "|        datsun 200sx|32.9|\n",
      "|       datsun 280-zx|32.7|\n",
      "|       dodge rampage|32.0|\n",
      "|    toyota celica gt|32.0|\n",
      "|pontiac j2000 se ...|31.0|\n",
      "|          chevy s-10|31.0|\n",
      "|    plymouth reliant|30.0|\n",
      "|toyota corona lif...|29.8|\n",
      "|            audi fox|29.0|\n",
      "|      dodge aries se|29.0|\n",
      "|  chevrolet citation|28.8|\n",
      "|buick skylark lim...|28.4|\n",
      "+--------------------+----+\n",
      "only showing top 20 rows\n",
      "\n"
     ]
    }
   ],
   "source": [
    "# 12- Show filtered data on df.horsepower > 80 \n",
    "#and df.weight > 1500 \n",
    "#and select only car_name \n",
    "#ad mpg \n",
    "#and finally order by descending mpg\n",
    "\n",
    "df.filter( (df.horsepower > 80) & (df.weight > 1500) )\\\n",
    "    .select(['car_name', 'mpg']) \\\n",
    "    .orderBy('mpg', ascending = False) \\\n",
    "    .show()\n",
    "    \n"
   ]
  },
  {
   "cell_type": "code",
   "execution_count": 20,
   "id": "2921e6ab-c47d-4e4a-9419-e7786d4624a9",
   "metadata": {
    "execution": {
     "iopub.execute_input": "2022-11-03T09:43:53.871293Z",
     "iopub.status.busy": "2022-11-03T09:43:53.871067Z",
     "iopub.status.idle": "2022-11-03T09:43:54.657243Z",
     "shell.execute_reply": "2022-11-03T09:43:54.656538Z",
     "shell.execute_reply.started": "2022-11-03T09:43:53.871270Z"
    },
    "tags": []
   },
   "outputs": [
    {
     "name": "stdout",
     "output_type": "stream",
     "text": [
      "+----+---------+------------+----------+------+------------+----------+------+--------------------+\n",
      "| mpg|cylinders|displacement|horsepower|weight|acceleration|model_year|origin|            car_name|\n",
      "+----+---------+------------+----------+------+------------+----------+------+--------------------+\n",
      "|34.0|        4|       112.0|        88|  2395|        18.0|        82|     1|chevrolet cavalie...|\n",
      "|32.1|        4|        98.0|        70|  2120|        15.5|        80|     1|  chevrolet chevette|\n",
      "|30.5|        4|        98.0|        63|  2051|        17.0|        77|     1|  chevrolet chevette|\n",
      "|30.0|        4|        98.0|        68|  2155|        16.5|        78|     1|  chevrolet chevette|\n",
      "|29.0|        4|        85.0|        52|  2035|        22.2|        76|     1|  chevrolet chevette|\n",
      "|28.8|        6|       173.0|       115|  2595|        11.3|        79|     1|  chevrolet citation|\n",
      "|28.0|        4|       112.0|        88|  2605|        19.6|        82|     1|  chevrolet cavalier|\n",
      "|28.0|        4|       151.0|        90|  2678|        16.5|        80|     1|  chevrolet citation|\n",
      "|28.0|        4|       140.0|        90|  2264|        15.5|        71|     1| chevrolet vega 2300|\n",
      "|27.0|        4|       112.0|        88|  2640|        18.6|        82|     1|chevrolet cavalie...|\n",
      "|27.0|        4|       151.0|        90|  2950|        17.3|        82|     1|    chevrolet camaro|\n",
      "|25.0|        4|       140.0|        75|  2542|        17.0|        74|     1|      chevrolet vega|\n",
      "|24.5|        4|        98.0|        60|  2164|        22.1|        76|     1|     chevrolet woody|\n",
      "|23.5|        6|       173.0|       110|  2725|        12.6|        81|     1|  chevrolet citation|\n",
      "|22.0|        4|       140.0|        72|  2408|        19.0|        71|     1| chevrolet vega (sw)|\n",
      "|22.0|        6|       250.0|       105|  3353|        14.5|        76|     1|      chevrolet nova|\n",
      "|21.0|        4|       140.0|        72|  2401|        19.5|        73|     1|      chevrolet vega|\n",
      "|20.5|        6|       200.0|        95|  3155|        18.2|        78|     1|    chevrolet malibu|\n",
      "|20.0|        4|       140.0|        90|  2408|        19.5|        72|     1|      chevrolet vega|\n",
      "|20.0|        8|       262.0|       110|  3221|        13.5|        75|     1| chevrolet monza 2+2|\n",
      "+----+---------+------------+----------+------+------------+----------+------+--------------------+\n",
      "only showing top 20 rows\n",
      "\n"
     ]
    }
   ],
   "source": [
    "#13- Show filtered data on car_name containing \"chevrolet\" and order by horsepower and acceleration both on descending order\n",
    "\n",
    "df.filter(df.car_name.contains(\"chevrolet\")) \\\n",
    "    .orderBy(col(\"mpg\"),col(\"acceleration\"), ascending = False).show()\n"
   ]
  },
  {
   "cell_type": "code",
   "execution_count": 21,
   "id": "feea5c85-3694-440a-961f-5b05f0c4d47c",
   "metadata": {
    "execution": {
     "iopub.execute_input": "2022-11-03T09:58:01.667386Z",
     "iopub.status.busy": "2022-11-03T09:58:01.667163Z",
     "iopub.status.idle": "2022-11-03T10:00:33.325063Z",
     "shell.execute_reply": "2022-11-03T10:00:33.324391Z",
     "shell.execute_reply.started": "2022-11-03T09:58:01.667362Z"
    },
    "tags": []
   },
   "outputs": [
    {
     "name": "stdout",
     "output_type": "stream",
     "text": [
      "+----+---------+------------+----------+------+------------+----------+------+--------------------+----------+\n",
      "| mpg|cylinders|displacement|horsepower|weight|acceleration|model_year|origin|            car_name|     brand|\n",
      "+----+---------+------------+----------+------+------------+----------+------+--------------------+----------+\n",
      "|18.0|        8|       307.0|       130|  3504|        12.0|        70|     1|chevrolet chevell...| chevrolet|\n",
      "|15.0|        8|       350.0|       165|  3693|        11.5|        70|     1|   buick skylark 320|     buick|\n",
      "|18.0|        8|       318.0|       150|  3436|        11.0|        70|     1|  plymouth satellite|  plymouth|\n",
      "|16.0|        8|       304.0|       150|  3433|        12.0|        70|     1|       amc rebel sst|       amc|\n",
      "|17.0|        8|       302.0|       140|  3449|        10.5|        70|     1|         ford torino|      ford|\n",
      "|15.0|        8|       429.0|       198|  4341|        10.0|        70|     1|    ford galaxie 500|      ford|\n",
      "|14.0|        8|       454.0|       220|  4354|         9.0|        70|     1|    chevrolet impala| chevrolet|\n",
      "|14.0|        8|       440.0|       215|  4312|         8.5|        70|     1|   plymouth fury iii|  plymouth|\n",
      "|14.0|        8|       455.0|       225|  4425|        10.0|        70|     1|    pontiac catalina|   pontiac|\n",
      "|15.0|        8|       390.0|       190|  3850|         8.5|        70|     1|  amc ambassador dpl|       amc|\n",
      "|15.0|        8|       383.0|       170|  3563|        10.0|        70|     1| dodge challenger se|     dodge|\n",
      "|14.0|        8|       340.0|       160|  3609|         8.0|        70|     1|  plymouth 'cuda 340|  plymouth|\n",
      "|15.0|        8|       400.0|       150|  3761|         9.5|        70|     1|chevrolet monte c...| chevrolet|\n",
      "|14.0|        8|       455.0|       225|  3086|        10.0|        70|     1|buick estate wago...|     buick|\n",
      "|24.0|        4|       113.0|        95|  2372|        15.0|        70|     3|toyota corona mar...|    toyota|\n",
      "|22.0|        6|       198.0|        95|  2833|        15.5|        70|     1|     plymouth duster|  plymouth|\n",
      "|18.0|        6|       199.0|        97|  2774|        15.5|        70|     1|          amc hornet|       amc|\n",
      "|21.0|        6|       200.0|        85|  2587|        16.0|        70|     1|       ford maverick|      ford|\n",
      "|27.0|        4|        97.0|        88|  2130|        14.5|        70|     3|        datsun pl510|    datsun|\n",
      "|26.0|        4|        97.0|        46|  1835|        20.5|        70|     2|volkswagen 1131 d...|volkswagen|\n",
      "+----+---------+------------+----------+------+------------+----------+------+--------------------+----------+\n",
      "only showing top 20 rows\n",
      "\n"
     ]
    }
   ],
   "source": [
    "#14- Create a new column called \"brand\" which contains only the first word of \"car_name\" column\n",
    "\n",
    "import pyspark\n",
    "\n",
    "split_col = pyspark.sql.functions.split(df['car_name'], ' ')\n",
    "\n",
    "df = df.withColumn('brand', split_col.getItem(0))\n",
    "df.show()\n"
   ]
  },
  {
   "cell_type": "code",
   "execution_count": 33,
   "id": "0ecd1e0f-36bb-4434-a403-e93ce922218a",
   "metadata": {
    "execution": {
     "iopub.execute_input": "2022-11-03T10:04:18.469426Z",
     "iopub.status.busy": "2022-11-03T10:04:18.469194Z",
     "iopub.status.idle": "2022-11-03T10:16:29.412909Z",
     "shell.execute_reply": "2022-11-03T10:16:29.412315Z",
     "shell.execute_reply.started": "2022-11-03T10:04:18.469402Z"
    },
    "tags": []
   },
   "outputs": [
    {
     "name": "stdout",
     "output_type": "stream",
     "text": [
      "+---------+------------------+\n",
      "|    brand|    avg_horsepower|\n",
      "+---------+------------------+\n",
      "|    buick|136.41176470588235|\n",
      "|  pontiac|          136.9375|\n",
      "| mercedes|              77.0|\n",
      "|   toyota|             83.44|\n",
      "|     saab|            108.75|\n",
      "|      amc|114.70370370370371|\n",
      "|       vw|60.833333333333336|\n",
      "|  peugeot|              88.0|\n",
      "| chrysler|153.66666666666666|\n",
      "| plymouth|111.41935483870968|\n",
      "|vokswagen|              62.0|\n",
      "|    chevy|142.33333333333334|\n",
      "|     audi| 86.71428571428571|\n",
      "|   datsun| 83.82608695652173|\n",
      "|      bmw|             111.5|\n",
      "|    dodge|117.17857142857143|\n",
      "|     ford|112.22916666666667|\n",
      "|  toyouta|              97.0|\n",
      "|    capri|              92.0|\n",
      "| cadillac|             152.5|\n",
      "+---------+------------------+\n",
      "only showing top 20 rows\n",
      "\n"
     ]
    }
   ],
   "source": [
    "#15- Group data by brand and compute horsepower mean\n",
    "\n",
    "df_mean = df.groupby('brand').mean('horsepower').withColumnRenamed('avg(horsepower)','avg_horsepower')\n",
    "df_mean.show()\n"
   ]
  },
  {
   "cell_type": "code",
   "execution_count": 34,
   "id": "9c8d27e7-2120-452e-86e2-098cd1f88d5a",
   "metadata": {
    "execution": {
     "iopub.execute_input": "2022-11-03T10:26:56.601583Z",
     "iopub.status.busy": "2022-11-03T10:26:56.601351Z",
     "iopub.status.idle": "2022-11-03T10:26:56.863244Z",
     "shell.execute_reply": "2022-11-03T10:26:56.862604Z",
     "shell.execute_reply.started": "2022-11-03T10:26:56.601559Z"
    },
    "tags": []
   },
   "outputs": [],
   "source": [
    "#16 - Create a SQL view called \"autodata\"\n",
    "\n",
    "df_mean.createOrReplaceTempView('autodata')"
   ]
  },
  {
   "cell_type": "code",
   "execution_count": 35,
   "id": "5de9bd82-58da-4583-8272-524193612a91",
   "metadata": {
    "execution": {
     "iopub.execute_input": "2022-11-03T10:27:00.386574Z",
     "iopub.status.busy": "2022-11-03T10:27:00.386354Z",
     "iopub.status.idle": "2022-11-03T10:27:01.172006Z",
     "shell.execute_reply": "2022-11-03T10:27:01.171260Z",
     "shell.execute_reply.started": "2022-11-03T10:27:00.386551Z"
    },
    "tags": []
   },
   "outputs": [
    {
     "name": "stdout",
     "output_type": "stream",
     "text": [
      "+---------+------------------+\n",
      "|    brand|    avg_horsepower|\n",
      "+---------+------------------+\n",
      "|    buick|136.41176470588235|\n",
      "|  pontiac|          136.9375|\n",
      "| mercedes|              77.0|\n",
      "|   toyota|             83.44|\n",
      "|     saab|            108.75|\n",
      "|      amc|114.70370370370371|\n",
      "|       vw|60.833333333333336|\n",
      "|  peugeot|              88.0|\n",
      "| chrysler|153.66666666666666|\n",
      "| plymouth|111.41935483870968|\n",
      "|vokswagen|              62.0|\n",
      "|    chevy|142.33333333333334|\n",
      "|     audi| 86.71428571428571|\n",
      "|   datsun| 83.82608695652173|\n",
      "|      bmw|             111.5|\n",
      "|    dodge|117.17857142857143|\n",
      "|     ford|112.22916666666667|\n",
      "|  toyouta|              97.0|\n",
      "|    capri|              92.0|\n",
      "| cadillac|             152.5|\n",
      "+---------+------------------+\n",
      "only showing top 20 rows\n",
      "\n"
     ]
    }
   ],
   "source": [
    "#17- declare variable called result equals Select all from autodata view\n",
    "\n",
    "result = spark.sql(\"SELECT * FROM autodata\")\n",
    "result.show()"
   ]
  },
  {
   "cell_type": "code",
   "execution_count": 36,
   "id": "5abee9ce-f6fd-4bdd-b8a6-0a063dac37ac",
   "metadata": {
    "execution": {
     "iopub.execute_input": "2022-11-03T10:27:36.634517Z",
     "iopub.status.busy": "2022-11-03T10:27:36.634289Z",
     "iopub.status.idle": "2022-11-03T10:27:37.397086Z",
     "shell.execute_reply": "2022-11-03T10:27:37.396350Z",
     "shell.execute_reply.started": "2022-11-03T10:27:36.634494Z"
    },
    "tags": []
   },
   "outputs": [
    {
     "name": "stdout",
     "output_type": "stream",
     "text": [
      "+--------+------------------+\n",
      "|   brand|    avg_horsepower|\n",
      "+--------+------------------+\n",
      "|chrysler|153.66666666666666|\n",
      "|cadillac|             152.5|\n",
      "|      hi|             193.0|\n",
      "+--------+------------------+\n",
      "\n"
     ]
    }
   ],
   "source": [
    "#18- Run a new request by selecting only the raws where hosepower is greater than 150\n",
    "\n",
    "new_results = spark.sql (\"SELECT * FROM autodata WHERE avg_horsepower > 150\")\n",
    "new_results.show()"
   ]
  }
 ],
 "metadata": {
  "kernelspec": {
   "display_name": "Python 3.8.13 ('base')",
   "language": "python",
   "name": "python3"
  },
  "language_info": {
   "codemirror_mode": {
    "name": "ipython",
    "version": 3
   },
   "file_extension": ".py",
   "mimetype": "text/x-python",
   "name": "python",
   "nbconvert_exporter": "python",
   "pygments_lexer": "ipython3",
   "version": "3.8.13"
  },
  "vscode": {
   "interpreter": {
    "hash": "d3755b735588d4303beb95518f2ab4e1c49ea1461d509c805a65d62cd2a8f700"
   }
  }
 },
 "nbformat": 4,
 "nbformat_minor": 5
}
