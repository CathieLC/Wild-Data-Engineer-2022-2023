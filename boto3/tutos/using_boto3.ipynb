{
 "cells": [
  {
   "attachments": {},
   "cell_type": "markdown",
   "metadata": {},
   "source": [
    "Pour utiliser Boto3, vous devez d'abord l'importer et indiquer quel(s) service(s) vous allez utiliser :"
   ]
  },
  {
   "cell_type": "code",
   "execution_count": 8,
   "metadata": {},
   "outputs": [],
   "source": [
    "import boto3"
   ]
  },
  {
   "attachments": {},
   "cell_type": "markdown",
   "metadata": {},
   "source": [
    "Maintenant que vous disposez d'une s3 ressource, vous pouvez envoyer des requêtes au service.  \n",
    "Le code suivant utilise la buckets collection pour imprimer tous les noms de bucket :"
   ]
  },
  {
   "cell_type": "code",
   "execution_count": 9,
   "metadata": {},
   "outputs": [
    {
     "name": "stdout",
     "output_type": "stream",
     "text": [
      "formation-snowflake-udemy\n",
      "formation-snowflake-udemy-suite\n",
      "mynewbucketfortuto\n",
      "vs-code-my-bucket\n"
     ]
    }
   ],
   "source": [
    "# Let's use Amazon S3\n",
    "s3 = boto3.resource('s3')\n",
    "\n",
    "# Print out bucket names\n",
    "for bucket in s3.buckets.all():\n",
    "    print(bucket.name)"
   ]
  },
  {
   "cell_type": "code",
   "execution_count": 12,
   "metadata": {},
   "outputs": [
    {
     "data": {
      "text/plain": [
       "{'ResponseMetadata': {'RequestId': 'PKBRAYTYB1G4KRY2',\n",
       "  'HostId': '2gkwh56vlXlQPD+PBlS64rpkoDtgg+OGQeO+2d1nR3E673vpa4iiXS75nH+L86iAjTwD1gucezY=',\n",
       "  'HTTPStatusCode': 200,\n",
       "  'HTTPHeaders': {'x-amz-id-2': '2gkwh56vlXlQPD+PBlS64rpkoDtgg+OGQeO+2d1nR3E673vpa4iiXS75nH+L86iAjTwD1gucezY=',\n",
       "   'x-amz-request-id': 'PKBRAYTYB1G4KRY2',\n",
       "   'date': 'Thu, 08 Dec 2022 11:07:03 GMT',\n",
       "   'content-type': 'application/xml',\n",
       "   'transfer-encoding': 'chunked',\n",
       "   'server': 'AmazonS3'},\n",
       "  'RetryAttempts': 0},\n",
       " 'Buckets': [{'Name': 'formation-snowflake-udemy',\n",
       "   'CreationDate': datetime.datetime(2022, 10, 26, 13, 36, 9, tzinfo=tzutc())},\n",
       "  {'Name': 'formation-snowflake-udemy-suite',\n",
       "   'CreationDate': datetime.datetime(2022, 10, 27, 14, 7, 55, tzinfo=tzutc())},\n",
       "  {'Name': 'vs-code-my-bucket',\n",
       "   'CreationDate': datetime.datetime(2022, 12, 8, 11, 1, 2, tzinfo=tzutc())}],\n",
       " 'Owner': {'DisplayName': 'catherinelecalve58',\n",
       "  'ID': '36860dc81b91d0ceef43487d3e18bcdd2b486ec5b7f7668cb90c375697b9b89c'}}"
      ]
     },
     "execution_count": 12,
     "metadata": {},
     "output_type": "execute_result"
    }
   ],
   "source": [
    "# Récupérer la liste des buckets existants \n",
    "s3 = boto3.client('s3')\n",
    "response = s3.list_buckets()\n",
    "response"
   ]
  },
  {
   "attachments": {},
   "cell_type": "markdown",
   "metadata": {},
   "source": [
    "Vous pouvez également charger et télécharger des données binaires.  \n",
    "Par exemple, ce qui suit charge un nouveau fichier sur S3, en supposant que le bucket my-bucketexiste déjà :"
   ]
  },
  {
   "cell_type": "code",
   "execution_count": 7,
   "metadata": {},
   "outputs": [
    {
     "data": {
      "text/plain": [
       "s3.Object(bucket_name='vs-code-my-bucket', key='affiche_gaston_lalicorne_2018.jpg')"
      ]
     },
     "execution_count": 7,
     "metadata": {},
     "output_type": "execute_result"
    }
   ],
   "source": [
    "# Upload a new file\n",
    "data = open('affiche_gaston_lalicorne_2018.jpg', 'rb')\n",
    "s3.Bucket('vs-code-my-bucket').put_object(Key='affiche_gaston_lalicorne_2018.jpg', Body=data)"
   ]
  },
  {
   "attachments": {},
   "cell_type": "markdown",
   "metadata": {},
   "source": [
    "Créer un bucket"
   ]
  },
  {
   "cell_type": "code",
   "execution_count": 2,
   "metadata": {},
   "outputs": [],
   "source": [
    "import logging\n",
    "import boto3\n",
    "from botocore.exceptions import ClientError\n",
    "\n",
    "\n",
    "def create_bucket(vscodecreatemybucket, region=None):\n",
    "    \"\"\"Create an S3 bucket in a specified region\n",
    "\n",
    "    If a region is not specified, the bucket is created in the S3 default\n",
    "    region (us-east-1).\n",
    "\n",
    "    :param bucket_name: Bucket to create\n",
    "    :param region: String region to create bucket in, e.g., 'us-west-2'\n",
    "    :return: True if bucket created, else False\n",
    "    \"\"\"\n",
    "\n",
    "    # Create bucket\n",
    "    try:\n",
    "        if region is None:\n",
    "            s3_client = boto3.client('s3')\n",
    "            s3_client.create_bucket(Bucket=vscodecreatemybucket)\n",
    "        else:\n",
    "            s3_client = boto3.client('s3', region_name=region)\n",
    "            location = {'LocationConstraint': region}\n",
    "            s3_client.create_bucket(Bucket=vscodecreatemybucket,\n",
    "                                    CreateBucketConfiguration=location)\n",
    "    except ClientError as e:\n",
    "        logging.error(e)\n",
    "        return False\n",
    "    return True"
   ]
  },
  {
   "cell_type": "code",
   "execution_count": 3,
   "metadata": {},
   "outputs": [
    {
     "data": {
      "text/plain": [
       "True"
      ]
     },
     "execution_count": 3,
     "metadata": {},
     "output_type": "execute_result"
    }
   ],
   "source": [
    "create_bucket(\"mynewbucketfortuto\")"
   ]
  },
  {
   "attachments": {},
   "cell_type": "markdown",
   "metadata": {},
   "source": [
    "Uploading files"
   ]
  },
  {
   "cell_type": "code",
   "execution_count": null,
   "metadata": {},
   "outputs": [],
   "source": []
  },
  {
   "cell_type": "markdown",
   "metadata": {},
   "source": []
  }
 ],
 "metadata": {
  "kernelspec": {
   "display_name": "Python 3.8.13 ('base')",
   "language": "python",
   "name": "python3"
  },
  "language_info": {
   "codemirror_mode": {
    "name": "ipython",
    "version": 3
   },
   "file_extension": ".py",
   "mimetype": "text/x-python",
   "name": "python",
   "nbconvert_exporter": "python",
   "pygments_lexer": "ipython3",
   "version": "3.8.13 (default, Mar 28 2022, 06:59:08) [MSC v.1916 64 bit (AMD64)]"
  },
  "orig_nbformat": 4,
  "vscode": {
   "interpreter": {
    "hash": "d3755b735588d4303beb95518f2ab4e1c49ea1461d509c805a65d62cd2a8f700"
   }
  }
 },
 "nbformat": 4,
 "nbformat_minor": 2
}
