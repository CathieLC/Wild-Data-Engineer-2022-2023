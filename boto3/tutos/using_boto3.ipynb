{
 "cells": [
  {
   "attachments": {},
   "cell_type": "markdown",
   "metadata": {},
   "source": [
    "Pour utiliser Boto3, vous devez d'abord l'importer et indiquer quel(s) service(s) vous allez utiliser :"
   ]
  },
  {
   "cell_type": "code",
   "execution_count": 7,
   "metadata": {},
   "outputs": [],
   "source": [
    "import boto3"
   ]
  },
  {
   "attachments": {},
   "cell_type": "markdown",
   "metadata": {},
   "source": [
    "Maintenant que vous disposez d'une s3 ressource, vous pouvez envoyer des requêtes au service.  \n",
    "Le code suivant utilise la buckets collection pour imprimer tous les noms de bucket :"
   ]
  },
  {
   "cell_type": "code",
   "execution_count": 9,
   "metadata": {},
   "outputs": [
    {
     "name": "stdout",
     "output_type": "stream",
     "text": [
      "formation-snowflake-udemy\n",
      "formation-snowflake-udemy-suite\n",
      "musicbrainz-wild-project-cathie\n",
      "mynewbucketfortuto\n",
      "vs-code-my-bucket\n"
     ]
    }
   ],
   "source": [
    "# Let's use Amazon S3\n",
    "s3 = boto3.resource('s3')\n",
    "\n",
    "# Print out bucket names\n",
    "for bucket in s3.buckets.all():\n",
    "    print(bucket.name)"
   ]
  },
  {
   "cell_type": "code",
   "execution_count": 10,
   "metadata": {},
   "outputs": [
    {
     "data": {
      "text/plain": [
       "{'ResponseMetadata': {'RequestId': 'J5D3QMZ6E513VSNN',\n",
       "  'HostId': 'As+GOp3g4UAGGSr9oOu7IvbpEFSqj9tB+Z2KnWssVPbpmgwYaify87palY34HUVTz8bxnkE6pl8=',\n",
       "  'HTTPStatusCode': 200,\n",
       "  'HTTPHeaders': {'x-amz-id-2': 'As+GOp3g4UAGGSr9oOu7IvbpEFSqj9tB+Z2KnWssVPbpmgwYaify87palY34HUVTz8bxnkE6pl8=',\n",
       "   'x-amz-request-id': 'J5D3QMZ6E513VSNN',\n",
       "   'date': 'Tue, 10 Jan 2023 15:25:09 GMT',\n",
       "   'content-type': 'application/xml',\n",
       "   'transfer-encoding': 'chunked',\n",
       "   'server': 'AmazonS3'},\n",
       "  'RetryAttempts': 0},\n",
       " 'Buckets': [{'Name': 'formation-snowflake-udemy',\n",
       "   'CreationDate': datetime.datetime(2022, 10, 26, 13, 36, 9, tzinfo=tzutc())},\n",
       "  {'Name': 'formation-snowflake-udemy-suite',\n",
       "   'CreationDate': datetime.datetime(2022, 10, 27, 14, 7, 55, tzinfo=tzutc())},\n",
       "  {'Name': 'musicbrainz-wild-project-cathie',\n",
       "   'CreationDate': datetime.datetime(2023, 1, 10, 15, 22, 57, tzinfo=tzutc())},\n",
       "  {'Name': 'mynewbucketfortuto',\n",
       "   'CreationDate': datetime.datetime(2022, 12, 8, 11, 10, 54, tzinfo=tzutc())},\n",
       "  {'Name': 'vs-code-my-bucket',\n",
       "   'CreationDate': datetime.datetime(2022, 12, 8, 11, 1, 2, tzinfo=tzutc())}],\n",
       " 'Owner': {'DisplayName': 'catherinelecalve58',\n",
       "  'ID': '36860dc81b91d0ceef43487d3e18bcdd2b486ec5b7f7668cb90c375697b9b89c'}}"
      ]
     },
     "execution_count": 10,
     "metadata": {},
     "output_type": "execute_result"
    }
   ],
   "source": [
    "# Récupérer la liste des buckets existants \n",
    "s3 = boto3.client('s3')\n",
    "response = s3.list_buckets()\n",
    "response"
   ]
  },
  {
   "attachments": {},
   "cell_type": "markdown",
   "metadata": {},
   "source": [
    "Vous pouvez également charger et télécharger des données binaires.  \n",
    "Par exemple, ce qui suit charge un nouveau fichier sur S3, en supposant que le bucket my-bucketexiste déjà :"
   ]
  },
  {
   "cell_type": "code",
   "execution_count": 11,
   "metadata": {},
   "outputs": [
    {
     "ename": "AttributeError",
     "evalue": "'S3' object has no attribute 'Bucket'",
     "output_type": "error",
     "traceback": [
      "\u001b[1;31m---------------------------------------------------------------------------\u001b[0m",
      "\u001b[1;31mAttributeError\u001b[0m                            Traceback (most recent call last)",
      "\u001b[1;32mc:\\Users\\cathe\\Documents\\WCS-2022-2023\\VS_code\\Wild-Data-Engineer-2022-2023\\boto3\\tutos\\using_boto3.ipynb Cellule 7\u001b[0m in \u001b[0;36m<cell line: 3>\u001b[1;34m()\u001b[0m\n\u001b[0;32m      <a href='vscode-notebook-cell:/c%3A/Users/cathe/Documents/WCS-2022-2023/VS_code/Wild-Data-Engineer-2022-2023/boto3/tutos/using_boto3.ipynb#W6sZmlsZQ%3D%3D?line=0'>1</a>\u001b[0m \u001b[39m# Upload a new file\u001b[39;00m\n\u001b[0;32m      <a href='vscode-notebook-cell:/c%3A/Users/cathe/Documents/WCS-2022-2023/VS_code/Wild-Data-Engineer-2022-2023/boto3/tutos/using_boto3.ipynb#W6sZmlsZQ%3D%3D?line=1'>2</a>\u001b[0m data \u001b[39m=\u001b[39m \u001b[39mopen\u001b[39m(\u001b[39m'\u001b[39m\u001b[39maffiche_gaston_lalicorne_2018.jpg\u001b[39m\u001b[39m'\u001b[39m, \u001b[39m'\u001b[39m\u001b[39mrb\u001b[39m\u001b[39m'\u001b[39m)\n\u001b[1;32m----> <a href='vscode-notebook-cell:/c%3A/Users/cathe/Documents/WCS-2022-2023/VS_code/Wild-Data-Engineer-2022-2023/boto3/tutos/using_boto3.ipynb#W6sZmlsZQ%3D%3D?line=2'>3</a>\u001b[0m s3\u001b[39m.\u001b[39;49mBucket(\u001b[39m'\u001b[39m\u001b[39mvs-code-my-bucket\u001b[39m\u001b[39m'\u001b[39m)\u001b[39m.\u001b[39mput_object(Key\u001b[39m=\u001b[39m\u001b[39m'\u001b[39m\u001b[39maffiche_gaston_lalicorne_2018.jpg\u001b[39m\u001b[39m'\u001b[39m, Body\u001b[39m=\u001b[39mdata)\n",
      "File \u001b[1;32mc:\\Users\\cathe\\anaconda3\\lib\\site-packages\\botocore\\client.py:876\u001b[0m, in \u001b[0;36mBaseClient.__getattr__\u001b[1;34m(self, item)\u001b[0m\n\u001b[0;32m    873\u001b[0m \u001b[39mif\u001b[39;00m event_response \u001b[39mis\u001b[39;00m \u001b[39mnot\u001b[39;00m \u001b[39mNone\u001b[39;00m:\n\u001b[0;32m    874\u001b[0m     \u001b[39mreturn\u001b[39;00m event_response\n\u001b[1;32m--> 876\u001b[0m \u001b[39mraise\u001b[39;00m \u001b[39mAttributeError\u001b[39;00m(\n\u001b[0;32m    877\u001b[0m     \u001b[39mf\u001b[39m\u001b[39m\"\u001b[39m\u001b[39m'\u001b[39m\u001b[39m{\u001b[39;00m\u001b[39mself\u001b[39m\u001b[39m.\u001b[39m\u001b[39m__class__\u001b[39m\u001b[39m.\u001b[39m\u001b[39m__name__\u001b[39m\u001b[39m}\u001b[39;00m\u001b[39m'\u001b[39m\u001b[39m object has no attribute \u001b[39m\u001b[39m'\u001b[39m\u001b[39m{\u001b[39;00mitem\u001b[39m}\u001b[39;00m\u001b[39m'\u001b[39m\u001b[39m\"\u001b[39m\n\u001b[0;32m    878\u001b[0m )\n",
      "\u001b[1;31mAttributeError\u001b[0m: 'S3' object has no attribute 'Bucket'"
     ]
    }
   ],
   "source": [
    "# Upload a new file\n",
    "data = open('affiche_gaston_lalicorne_2018.jpg', 'rb')\n",
    "s3.Bucket('vs-code-my-bucket').put_object(Key='affiche_gaston_lalicorne_2018.jpg', Body=data)"
   ]
  },
  {
   "attachments": {},
   "cell_type": "markdown",
   "metadata": {},
   "source": [
    "Créer un bucket"
   ]
  },
  {
   "cell_type": "code",
   "execution_count": null,
   "metadata": {},
   "outputs": [],
   "source": [
    "import logging\n",
    "import boto3\n",
    "from botocore.exceptions import ClientError\n",
    "\n",
    "\n",
    "def create_bucket(vscodecreatemybucket, region=None):\n",
    "    \"\"\"Create an S3 bucket in a specified region\n",
    "\n",
    "    If a region is not specified, the bucket is created in the S3 default\n",
    "    region (us-east-1).\n",
    "\n",
    "    :param bucket_name: Bucket to create\n",
    "    :param region: String region to create bucket in, e.g., 'us-west-2'\n",
    "    :return: True if bucket created, else False\n",
    "    \"\"\"\n",
    "\n",
    "    # Create bucket\n",
    "    try:\n",
    "        if region is None:\n",
    "            s3_client = boto3.client('s3')\n",
    "            s3_client.create_bucket(Bucket=vscodecreatemybucket)\n",
    "        else:\n",
    "            s3_client = boto3.client('s3', region_name=region)\n",
    "            location = {'LocationConstraint': region}\n",
    "            s3_client.create_bucket(Bucket=vscodecreatemybucket,\n",
    "                                    CreateBucketConfiguration=location)\n",
    "    except ClientError as e:\n",
    "        logging.error(e)\n",
    "        return False\n",
    "    return True"
   ]
  },
  {
   "cell_type": "code",
   "execution_count": null,
   "metadata": {},
   "outputs": [
    {
     "data": {
      "text/plain": [
       "True"
      ]
     },
     "execution_count": 3,
     "metadata": {},
     "output_type": "execute_result"
    }
   ],
   "source": [
    "create_bucket(\"mynewbucketfortuto\")"
   ]
  },
  {
   "attachments": {},
   "cell_type": "markdown",
   "metadata": {},
   "source": [
    "Uploading files"
   ]
  },
  {
   "cell_type": "code",
   "execution_count": null,
   "metadata": {},
   "outputs": [],
   "source": []
  },
  {
   "cell_type": "markdown",
   "metadata": {},
   "source": []
  }
 ],
 "metadata": {
  "kernelspec": {
   "display_name": "Python 3.8.13 ('base')",
   "language": "python",
   "name": "python3"
  },
  "language_info": {
   "codemirror_mode": {
    "name": "ipython",
    "version": 3
   },
   "file_extension": ".py",
   "mimetype": "text/x-python",
   "name": "python",
   "nbconvert_exporter": "python",
   "pygments_lexer": "ipython3",
   "version": "3.8.13"
  },
  "orig_nbformat": 4,
  "vscode": {
   "interpreter": {
    "hash": "d3755b735588d4303beb95518f2ab4e1c49ea1461d509c805a65d62cd2a8f700"
   }
  }
 },
 "nbformat": 4,
 "nbformat_minor": 2
}
