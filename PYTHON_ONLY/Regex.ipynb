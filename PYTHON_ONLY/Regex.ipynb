{
  "cells": [
    {
      "cell_type": "markdown",
      "metadata": {
        "colab_type": "text",
        "id": "view-in-github"
      },
      "source": [
        "<a href=\"https://colab.research.google.com/github/CathieLC/Wild_notebook_2021-2022/blob/main/Regex.ipynb\" target=\"_parent\"><img src=\"https://colab.research.google.com/assets/colab-badge.svg\" alt=\"Open In Colab\"/></a>"
      ]
    },
    {
      "cell_type": "code",
      "execution_count": 2,
      "metadata": {
        "id": "x_shcL9I3Rbz"
      },
      "outputs": [],
      "source": [
        "import re\n"
      ]
    },
    {
      "cell_type": "markdown",
      "metadata": {
        "id": "HdEYWh631-Pk"
      },
      "source": [
        "##### Pour valider ce challenge, tu dois répondre aux questions ci-dessous en trouvant la Regex qui te permet d'obtenir le résultat attendu."
      ]
    },
    {
      "cell_type": "markdown",
      "metadata": {
        "id": "-hK3f5OA934q"
      },
      "source": [
        "Texte à utiliser pour ce challenge :\n",
        "\n",
        "\"Matrix (31/03/1999) - 130 minutes. IMDB note 9/10 (https://www.imdb.com/title/tt0133093). Thomas A. Anderson (Keanu Reeves), un jeune informaticien connu dans le monde du hacking sous le pseudonyme de Neo, est contacté via son ordinateur par ce qu’il pense être un groupe de hackers. Ils lui font découvrir que le monde dans lequel il vit n’est qu’un monde virtuel, la matrice, dans lequel les êtres humains sont gardés sous contrôle. Morpheus (Laurence Fishburne), le capitaine du Nebuchadnezzar, contacte Neo et pense que celui-ci est l’Élu qui peut libérer les êtres humains du joug des machines et prendre le contrôle de la matrice\""
      ]
    },
    {
      "cell_type": "markdown",
      "metadata": {
        "id": "7ypmXLUO9_3u"
      },
      "source": [
        "Copie le texte ci-dessus affecte le à une variable appelée 'texte'. Tu as vu quelques fonctions du module re dans la quête, et pour répondre aux questions ci-dessous, tu utiliseras la fonctions findall()"
      ]
    },
    {
      "cell_type": "code",
      "execution_count": null,
      "metadata": {
        "id": "aEshEWo_AlGo"
      },
      "outputs": [],
      "source": [
        "texte = \"Matrix (31/03/1999) - 130 minutes. IMDB note 9/10 (https://www.imdb.com/title/tt0133093). Thomas A. Anderson (Keanu Reeves), un jeune informaticien connu dans le monde du hacking sous le pseudonyme de Neo, est contacté via son ordinateur par ce qu’il pense être un groupe de hackers. Ils lui font découvrir que le monde dans lequel il vit n’est qu’un monde virtuel, la matrice, dans lequel les êtres humains sont gardés sous contrôle. Morpheus (Laurence Fishburne), le capitaine du Nebuchadnezzar, contacte Neo et pense que celui-ci est l’Élu qui peut libérer les êtres humains du joug des machines et prendre le contrôle de la matrice\"\n"
      ]
    },
    {
      "cell_type": "code",
      "execution_count": null,
      "metadata": {
        "colab": {
          "base_uri": "https://localhost:8080/"
        },
        "id": "46a6Cna87K5R",
        "outputId": "59db5d4f-16be-4e07-eaba-8591fd17603b"
      },
      "outputs": [
        {
          "data": {
            "text/plain": [
              "['31', '03', '1999', '130', '9', '10', '0133093']"
            ]
          },
          "execution_count": 4,
          "metadata": {},
          "output_type": "execute_result"
        }
      ],
      "source": [
        "# Exemple : je recherche toutes les suites de chiffres ('31', '03', '1999', '130', '9', '10', '0133093') contenues dans le texte\n",
        "\n",
        "re.findall('\\d+', texte)"
      ]
    },
    {
      "cell_type": "markdown",
      "metadata": {
        "id": "Y29t2o8G05fl"
      },
      "source": [
        "1. Trouve l'expression régulière qui cherche la seule occurrence du deuxième prénom de Néo (soit le A. de \"Thomas A. Anderson)."
      ]
    },
    {
      "cell_type": "code",
      "execution_count": null,
      "metadata": {
        "colab": {
          "base_uri": "https://localhost:8080/",
          "height": 35
        },
        "id": "NP2M31zXILjD",
        "outputId": "adafb42a-02ca-47ff-99a4-d7f9cfd70345"
      },
      "outputs": [
        {
          "data": {
            "application/vnd.google.colaboratory.intrinsic+json": {
              "type": "string"
            },
            "text/plain": [
              "'A.'"
            ]
          },
          "execution_count": 5,
          "metadata": {},
          "output_type": "execute_result"
        }
      ],
      "source": [
        "# search permet de renvoyer un objet s'il y a une occurence du motif dans le texte\n",
        "re.search(\"A.{1}\", texte).group()"
      ]
    },
    {
      "cell_type": "markdown",
      "metadata": {
        "id": "u3WCnUokAjKH"
      },
      "source": [
        "2. Trouve l'expression régulière qui cherche la date contenue dans le document."
      ]
    },
    {
      "cell_type": "code",
      "execution_count": null,
      "metadata": {
        "colab": {
          "base_uri": "https://localhost:8080/",
          "height": 35
        },
        "id": "JMB8jDUqIM7-",
        "outputId": "3ba56048-d135-4fd3-e6b5-4279ed351a0d"
      },
      "outputs": [
        {
          "data": {
            "application/vnd.google.colaboratory.intrinsic+json": {
              "type": "string"
            },
            "text/plain": [
              "'1999'"
            ]
          },
          "execution_count": 6,
          "metadata": {},
          "output_type": "execute_result"
        }
      ],
      "source": [
        "# search pour une seule occurence et multiple de \\d+ pour autant de chiffre qui compose mon nombre\n",
        "re.search(\"\\d\\d\\d\\d\", texte).group()\n"
      ]
    },
    {
      "cell_type": "markdown",
      "metadata": {
        "id": "SrLTfLE-BTLG"
      },
      "source": [
        "3. Trouve l'expression qui cherche la note contenue dans le texte, sans pour autant sélectionner une partie de la date (tu peux t'aider du caractère espace avant la note)"
      ]
    },
    {
      "cell_type": "code",
      "execution_count": null,
      "metadata": {
        "colab": {
          "base_uri": "https://localhost:8080/",
          "height": 35
        },
        "id": "B45gxTdpIOEp",
        "outputId": "a4cbaa18-de58-4979-eef1-b5147871a520"
      },
      "outputs": [
        {
          "data": {
            "application/vnd.google.colaboratory.intrinsic+json": {
              "type": "string"
            },
            "text/plain": [
              "' 9/10'"
            ]
          },
          "execution_count": 7,
          "metadata": {},
          "output_type": "execute_result"
        }
      ],
      "source": [
        "re.search(' \\d/\\d\\d+', texte).group()"
      ]
    },
    {
      "cell_type": "markdown",
      "metadata": {
        "id": "_aOfPMjhDtfe"
      },
      "source": [
        "4. Trouve l'expression régulière qui renvoie les mots ayant au moins 14 caractères (tu devrais trouver l'age du capitaine, à moins que ça ne soit son vaisseau !)"
      ]
    },
    {
      "cell_type": "code",
      "execution_count": null,
      "metadata": {
        "colab": {
          "base_uri": "https://localhost:8080/"
        },
        "id": "iTl4CVwkIPEE",
        "outputId": "d2e499b5-053f-4bdc-da5e-77c0bd07eab1"
      },
      "outputs": [
        {
          "data": {
            "text/plain": [
              "['Nebuchadnezzar']"
            ]
          },
          "execution_count": 8,
          "metadata": {},
          "output_type": "execute_result"
        }
      ],
      "source": [
        "re.findall('\\w{14}', texte)\n"
      ]
    },
    {
      "cell_type": "markdown",
      "metadata": {
        "id": "UhC4JFKFEHig"
      },
      "source": [
        "5. Trouve l'expression régulière qui correspond à l'url de la fiche du film sur IMDB https://www.imdb.com/title/tt0133093 (attention à ne pas sélectionner les parenthèses)"
      ]
    },
    {
      "cell_type": "code",
      "execution_count": null,
      "metadata": {
        "colab": {
          "base_uri": "https://localhost:8080/",
          "height": 35
        },
        "id": "MrmyRNCbIQuM",
        "outputId": "c36afd1e-49de-4ccb-99ac-5dd28287b520"
      },
      "outputs": [
        {
          "data": {
            "application/vnd.google.colaboratory.intrinsic+json": {
              "type": "string"
            },
            "text/plain": [
              "'https://www.imdb.com/title/tt0133093'"
            ]
          },
          "execution_count": 9,
          "metadata": {},
          "output_type": "execute_result"
        }
      ],
      "source": [
        "re.search('((http|https)\\:\\/\\/)?[a-zA-Z0-9\\.\\/\\?\\:@\\-_=#]+\\.([a-zA-Z]){2,6}([a-zA-Z0-9\\.\\&\\/\\?\\:@\\-_=#])*', texte).group()"
      ]
    },
    {
      "cell_type": "markdown",
      "metadata": {},
      "source": [
        "### petit rappel Regex\n"
      ]
    },
    {
      "cell_type": "code",
      "execution_count": 14,
      "metadata": {
        "id": "_TWWb5k5L3j4"
      },
      "outputs": [
        {
          "name": "stdout",
          "output_type": "stream",
          "text": [
            "['bound', 'method', 'PageElement', 'get_text', 'of', 'meta', 'content', '257K', 'Followers', '82', 'Following', '2', '681', 'Posts', 'See', 'Instagram', 'photos', 'and', 'videos', 'from', 'L', 'I', 'K', 'E', 'W', 'I', 'S', 'E', 'wearelikewise', 'property', 'og', 'description']\n",
            "['bound', 'method', 'PageElement', 'get_text', 'of', 'meta', 'content', '257K', 'Followers', '82', 'Following', '2', '681', 'Posts', 'See', 'Instagram', 'photos', 'and', 'videos', 'from', 'L', 'I', 'K', 'E', 'W', 'I', 'S', 'E', 'wearelikewise', 'property', 'og', 'description']\n",
            "['Pag', 'Following', 'Instag', 'og']\n",
            "['Followers', 'Following']\n",
            "['ound', 'od', 'of', 'ontent', 'ollowers', 'ollowing', 'osts', 'otos', 'os', 'om', 'operty', 'og', 'on']\n",
            "['ollow', 'ollow']\n",
            "['257', '82', '2', '681']\n",
            "257\n",
            "681\n",
            "['Followers', 'Following']\n",
            "Followers\n",
            "['257', '82', '2', '681']\n",
            "681\n",
            "<bound method PageElement.get_text of <meta content=\"257 mille Followers, 82 Following, 2,681 Posts - See Instagram photos and videos from L I  mille E W I S E (@wearelikewise)\" property=\"og:description\"/>>\n",
            "['257K', '82', '2,681']\n"
          ]
        }
      ],
      "source": [
        "\n",
        "meta_texte_str ='<bound method PageElement.get_text of <meta content=\"257K Followers, 82 Following, 2,681 Posts - See Instagram photos and videos from L I K E W I S E (@wearelikewise)\" property=\"og:description\"/>>'\n",
        "\n",
        "\n",
        "#\\w me donne toutes les lettres, ; \n",
        "print(re.findall(r\"\\w+\", meta_texte_str))\n",
        "\n",
        "#\\w+ me donne tous les mots\n",
        "print(re.findall(r\"\\w+\", meta_texte_str))\n",
        "\n",
        "#[crochet avec une lettre après le \\me donne tous les mots finissant par ladite lettre]\n",
        "print(re.findall(r\"\\w+[g]\", meta_texte_str))\n",
        "\n",
        "#[crochet avec une lettre avant le \\ me donne tous les mots commençant par ladite lettre]\n",
        "print(re.findall(r\"[F]\\w+\", meta_texte_str))\n",
        "\n",
        "#[crochet avec * et une lettre avant le \\ me donne tous les mots contenant ladite lettre]\n",
        "print(re.findall(r\"[*o]\\w+\", meta_texte_str))\n",
        "\n",
        "#[crochet avec * et une lettre avant le \\ me donne tous les mots contenant ladite lettre\n",
        "# et le *w de la fin me donne tous les mots contenant 'o' et s'arrêtant à la lettre w de ceux qui contiennent la lettre w\n",
        "print(re.findall(r\"[*o]\\w+[*w]\", meta_texte_str))\n",
        "\n",
        "#je recherche toutes les suites de chiffres contenues dans le texte\n",
        "print(re.findall('\\d+', meta_texte_str))\n",
        "\n",
        "#je récupère le premier\n",
        "print(re.findall('\\d+', meta_texte_str)[0])\n",
        "\n",
        "#Avec une regex, je récupère le dernier nombre\n",
        "print(re.findall(r'\\d+', meta_texte_str)[-1])\n",
        "\n",
        "#je cherche les mots commençant par F majuscule\n",
        "print(re.findall(r\"[F]\\w+\", meta_texte_str))\n",
        "\n",
        "#je cherche le premier mot commençant par F majuscule\n",
        "print(re.findall(r\"[F]\\w+\", meta_texte_str)[0])\n",
        "\n",
        "#Avec une regex, je récupère tous les nombres\n",
        "print(re.findall('\\d+', meta_texte_str))\n",
        "\n",
        "#Avec une regex, je récupère le dernier nombre\n",
        "print(re.findall(r'\\d+', meta_texte_str)[-1])\n",
        "\n",
        "#remplacer un caractère (le pb c'est que ça m'a remplacé le K de LIKEWISE par mille)\n",
        "print(re.sub('K',' mille', meta_texte_str))\n",
        "\n",
        "#permet de conserver le chiffre entier s'il comprend une virgule et de conserver le K de mille s'il apparaît après un nombre\n",
        "print(re.findall(r'\\d+,?\\d+K?', meta_texte_str))"
      ]
    },
    {
      "cell_type": "code",
      "execution_count": null,
      "metadata": {},
      "outputs": [],
      "source": []
    }
  ],
  "metadata": {
    "colab": {
      "collapsed_sections": [],
      "include_colab_link": true,
      "name": "Python - Expressions régulières (Regex).ipynb",
      "provenance": []
    },
    "kernelspec": {
      "display_name": "Python 3.8.13 ('base')",
      "language": "python",
      "name": "python3"
    },
    "language_info": {
      "codemirror_mode": {
        "name": "ipython",
        "version": 3
      },
      "file_extension": ".py",
      "mimetype": "text/x-python",
      "name": "python",
      "nbconvert_exporter": "python",
      "pygments_lexer": "ipython3",
      "version": "3.8.13"
    },
    "vscode": {
      "interpreter": {
        "hash": "d3755b735588d4303beb95518f2ab4e1c49ea1461d509c805a65d62cd2a8f700"
      }
    }
  },
  "nbformat": 4,
  "nbformat_minor": 0
}
