{
 "cells": [
  {
   "cell_type": "code",
   "execution_count": 3,
   "metadata": {},
   "outputs": [],
   "source": [
    "import pymongo"
   ]
  },
  {
   "cell_type": "code",
   "execution_count": 4,
   "metadata": {},
   "outputs": [],
   "source": [
    "# connetion localhost mongodb\n",
    "client = pymongo.MongoClient()"
   ]
  },
  {
   "cell_type": "code",
   "execution_count": 5,
   "metadata": {},
   "outputs": [],
   "source": [
    "# create a database (elle ne sera visible sur compasse que si nous avons créé une collection à l'intérieur)\n",
    "mydb = client[\"mydb\"]"
   ]
  },
  {
   "cell_type": "code",
   "execution_count": 6,
   "metadata": {},
   "outputs": [
    {
     "data": {
      "text/plain": [
       "<pymongo.results.InsertOneResult at 0x1eb5e9d5600>"
      ]
     },
     "execution_count": 6,
     "metadata": {},
     "output_type": "execute_result"
    }
   ],
   "source": [
    "# créons une collection\n",
    "mycol = mydb[\"people\"]\n",
    "\n",
    "data = {'name' : 'John', 'age' : 30}\n",
    "\n",
    "mycol.insert_one(data)\n",
    "\n",
    "# A ce stade votre db apparaît dans MongoDb Compass"
   ]
  },
  {
   "cell_type": "code",
   "execution_count": 7,
   "metadata": {},
   "outputs": [
    {
     "data": {
      "text/plain": [
       "<pymongo.results.InsertManyResult at 0x1eb5ec16c80>"
      ]
     },
     "execution_count": 7,
     "metadata": {},
     "output_type": "execute_result"
    }
   ],
   "source": [
    "datalist = [{'name' : 'Jane', 'age' : 40},{'name' : 'Mark'}]\n",
    "mycol.insert_many(datalist)\n"
   ]
  },
  {
   "cell_type": "code",
   "execution_count": 8,
   "metadata": {},
   "outputs": [
    {
     "name": "stdout",
     "output_type": "stream",
     "text": [
      "['admin', 'config', 'local', 'mabdd', 'mongodbVSCodePlaygroundDB', 'mydb']\n"
     ]
    }
   ],
   "source": [
    "# voir les databases existantes\n",
    "\n",
    "print(client.list_database_names())"
   ]
  },
  {
   "cell_type": "code",
   "execution_count": 9,
   "metadata": {},
   "outputs": [],
   "source": [
    "# selectionner une db\n",
    "mydb2 = client['mabdd']"
   ]
  },
  {
   "cell_type": "code",
   "execution_count": 10,
   "metadata": {},
   "outputs": [
    {
     "name": "stdout",
     "output_type": "stream",
     "text": [
      "['restaurants', 'macollection']\n"
     ]
    }
   ],
   "source": [
    "# selectionner une collection\n",
    "\n",
    "print(mydb2.list_collection_names())"
   ]
  },
  {
   "cell_type": "code",
   "execution_count": 11,
   "metadata": {},
   "outputs": [],
   "source": [
    "mycol2 = mydb2['restaurants']"
   ]
  },
  {
   "cell_type": "code",
   "execution_count": null,
   "metadata": {},
   "outputs": [],
   "source": [
    "# ecrire une requête (filter)\n",
    "\n",
    "for x in mycol2.find() :\n",
    "    print(x)"
   ]
  },
  {
   "cell_type": "code",
   "execution_count": null,
   "metadata": {},
   "outputs": [],
   "source": [
    "# ma requête sans le count\n",
    "for x in mycol2.find({'grades.grade': 'A'}) :\n",
    "    print(x)"
   ]
  },
  {
   "cell_type": "code",
   "execution_count": 14,
   "metadata": {},
   "outputs": [
    {
     "name": "stdout",
     "output_type": "stream",
     "text": [
      "{'_id': 'Manhattan', 'count': 10258}\n",
      "{'_id': 'Bronx', 'count': 2338}\n",
      "{'_id': 'Missing', 'count': 51}\n",
      "{'_id': 'Staten Island', 'count': 969}\n",
      "{'_id': 'Queens', 'count': 5656}\n",
      "{'_id': 'Brooklyn', 'count': 6085}\n"
     ]
    }
   ],
   "source": [
    "# Compter le nombre de client dans chaque ville\n",
    "\n",
    "from pymongo import MongoClient\n",
    "import pymongo\n",
    "\n",
    "client = MongoClient(host='localhost', port=27017)\n",
    "\n",
    "mycol = client.mabdd\n",
    "\n",
    "pipe = [{'$group' : {'_id': '$borough', \"count\" : {'$sum' : 1 } }}] # Fonction group de borough, count sum 1, je rajoute 1 à chaque fois qu'une ligne est trouvée\n",
    "\n",
    "result = mycol.restaurants.aggregate(pipe)\n",
    "\n",
    "for x in result :\n",
    "    print(x)"
   ]
  },
  {
   "cell_type": "code",
   "execution_count": null,
   "metadata": {},
   "outputs": [],
   "source": []
  }
 ],
 "metadata": {
  "kernelspec": {
   "display_name": "base",
   "language": "python",
   "name": "python3"
  },
  "language_info": {
   "codemirror_mode": {
    "name": "ipython",
    "version": 3
   },
   "file_extension": ".py",
   "mimetype": "text/x-python",
   "name": "python",
   "nbconvert_exporter": "python",
   "pygments_lexer": "ipython3",
   "version": "3.8.13 (default, Mar 28 2022, 06:59:08) [MSC v.1916 64 bit (AMD64)]"
  },
  "orig_nbformat": 4,
  "vscode": {
   "interpreter": {
    "hash": "d3755b735588d4303beb95518f2ab4e1c49ea1461d509c805a65d62cd2a8f700"
   }
  }
 },
 "nbformat": 4,
 "nbformat_minor": 2
}
