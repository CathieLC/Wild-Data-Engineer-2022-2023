{
 "cells": [
  {
   "cell_type": "code",
   "execution_count": 1,
   "metadata": {},
   "outputs": [],
   "source": [
    "import pymongo\n",
    "\n",
    "# connetion localhost mongodb\n",
    "client = pymongo.MongoClient()"
   ]
  },
  {
   "cell_type": "code",
   "execution_count": 2,
   "metadata": {},
   "outputs": [],
   "source": [
    "# selectionner une db\n",
    "mydb = client['mabdd']\n",
    "mycol = mydb['restaurants']\n"
   ]
  },
  {
   "cell_type": "code",
   "execution_count": 3,
   "metadata": {},
   "outputs": [
    {
     "name": "stdout",
     "output_type": "stream",
     "text": [
      "Il y a 23439 grades A dans ma DB restaurants\n"
     ]
    }
   ],
   "source": [
    "# Ecris une requête qui compte le nombre de restaurants avec un grade A\n",
    "\n",
    "find = {'grades.grade': 'A'}\n",
    "count_grade_A = mycol.count_documents(find)\n",
    "print(f'Il y a {count_grade_A} grades A dans ma DB restaurants')"
   ]
  },
  {
   "cell_type": "code",
   "execution_count": null,
   "metadata": {},
   "outputs": [],
   "source": [
    "# Ecris une requête qui trie tous les différents scores de restaurants en ordre décroissant\n",
    "\n",
    "results = mycol.find().sort(\"grades.score\",pymongo.DESCENDING)  \n",
    "for x in results :\n",
    "    print(x['grades'])"
   ]
  },
  {
   "cell_type": "code",
   "execution_count": 5,
   "metadata": {},
   "outputs": [
    {
     "data": {
      "text/plain": [
       "{'_id': ObjectId('61f130c7c5275d78594bd3a7'),\n",
       " 'address': {'building': '1007',\n",
       "  'coord': {'type': 'Point', 'coordinates': [-73.856077, 40.848447]},\n",
       "  'street': 'Morris Park Ave',\n",
       "  'zipcode': '10462'},\n",
       " 'borough': 'Bronx',\n",
       " 'cuisine': 'Bakery',\n",
       " 'grades': [{'date': datetime.datetime(2014, 3, 3, 0, 0),\n",
       "   'grade': 'A',\n",
       "   'score': 2},\n",
       "  {'date': datetime.datetime(2013, 9, 11, 0, 0), 'grade': 'A', 'score': 6},\n",
       "  {'date': datetime.datetime(2013, 1, 24, 0, 0), 'grade': 'A', 'score': 10},\n",
       "  {'date': datetime.datetime(2011, 11, 23, 0, 0), 'grade': 'A', 'score': 9},\n",
       "  {'date': datetime.datetime(2011, 3, 10, 0, 0), 'grade': 'B', 'score': 14}],\n",
       " 'name': 'Morris Park Bake Shop',\n",
       " 'restaurant_id': '30075445'}"
      ]
     },
     "execution_count": 5,
     "metadata": {},
     "output_type": "execute_result"
    }
   ],
   "source": [
    "mycol.find_one()"
   ]
  },
  {
   "cell_type": "code",
   "execution_count": 6,
   "metadata": {},
   "outputs": [
    {
     "name": "stdout",
     "output_type": "stream",
     "text": [
      "['Bronx', 'Brooklyn']\n"
     ]
    }
   ],
   "source": [
    "# Ecris une requête qui trouve tous les restaurants dans lesquels les noms des villes commencent par la lettre “B”, “C” ou “D”, ou se terminent par une voyelle sauf “y”\n",
    "\n",
    "result = mycol.find()\n",
    "\n",
    "villes = []\n",
    "\n",
    "for x in result :\n",
    "    villes.append(x['borough'])\n",
    "\n",
    "villes_2 = list(set(villes))\n",
    "\n",
    "liste_villes_BCD = []\n",
    "\n",
    "for x in range(len(villes_2)) :\n",
    "    if villes_2[x][0] == \"B\" :\n",
    "        liste_villes_BCD.append(villes_2[x])\n",
    "    elif villes_2[x][0] == \"C\" :\n",
    "        liste_villes_BCD.append(villes_2[x])\n",
    "    elif villes_2[x][0] == \"D\" :\n",
    "        liste_villes_BCD.append(villes_2[x])\n",
    "\n",
    "\n",
    "print (liste_villes_BCD)\n"
   ]
  },
  {
   "cell_type": "code",
   "execution_count": 1,
   "metadata": {},
   "outputs": [
    {
     "ename": "SyntaxError",
     "evalue": "invalid syntax (3315909599.py, line 1)",
     "output_type": "error",
     "traceback": [
      "\u001b[1;36m  Input \u001b[1;32mIn [1]\u001b[1;36m\u001b[0m\n\u001b[1;33m    mycol.find{'_id' : 'cuisine'}\u001b[0m\n\u001b[1;37m              ^\u001b[0m\n\u001b[1;31mSyntaxError\u001b[0m\u001b[1;31m:\u001b[0m invalid syntax\n"
     ]
    }
   ],
   "source": [
    "mycol.find{'_id' : 'cuisine'}"
   ]
  },
  {
   "cell_type": "code",
   "execution_count": null,
   "metadata": {},
   "outputs": [
    {
     "name": "stdout",
     "output_type": "stream",
     "text": [
      "{'_id': 'Queens', 'count': 5656}\n",
      "{'_id': 'Bronx', 'count': 2338}\n",
      "{'_id': 'Staten Island', 'count': 969}\n",
      "{'_id': 'Manhattan', 'count': 10258}\n",
      "{'_id': 'Brooklyn', 'count': 6085}\n",
      "{'_id': 'Missing', 'count': 51}\n"
     ]
    }
   ],
   "source": [
    "pipe = [{'$group' : {'_id': '$borough', \"count\" : {'$sum' : 1 } }}]\n",
    "\n",
    "result = mycol.aggregate(pipe)\n",
    "\n",
    "for x in result :\n",
    "    print(x)\n"
   ]
  },
  {
   "cell_type": "code",
   "execution_count": null,
   "metadata": {},
   "outputs": [],
   "source": [
    "# Ecris une requête qui affiche tous les restaurants si et seulement si le score est inférieur à 20 ou égale à 25, 30, 35 et 40 (n’oubliez pas de préciser que la vérification se fasse sur chaque instance)\n",
    "\n"
   ]
  },
  {
   "cell_type": "code",
   "execution_count": null,
   "metadata": {},
   "outputs": [],
   "source": [
    "# Ecris une requête qui fait la somme du nombre de restaurants par type de cuisine\n",
    "\n",
    "# Ecris une requête qui ajoute le commentaire “Je gère le NoSQL” pour les boroughs dont le nom commence par “B”\n",
    "\n",
    "# Ecris une requête qui supprime la clé “adress” des restaurants qui ont un score supérieur à 25\n",
    "\n",
    "# Ecris une requête qui supprime tous les restaurants dont le nom de quartier est “Queens”"
   ]
  },
  {
   "cell_type": "code",
   "execution_count": null,
   "metadata": {},
   "outputs": [
    {
     "name": "stdout",
     "output_type": "stream",
     "text": [
      "{'_id': 'Queens', 'moyenne': 11.634865110930088}\n",
      "{'_id': 'Brooklyn', 'moyenne': 11.447723132969035}\n",
      "{'_id': 'Manhattan', 'moyenne': 11.41823125728344}\n",
      "{'_id': 'Staten Island', 'moyenne': 11.370957711442786}\n",
      "{'_id': 'Bronx', 'moyenne': 11.036186099942562}\n",
      "{'_id': 'Missing', 'moyenne': 9.632911392405063}\n"
     ]
    }
   ],
   "source": [
    "varUnwind = {'$unwind' : \"$grades\"}\n",
    "varGroup4 = { '$group': {\"_id\" : \"$borough\", \"moyenne\" : {'$avg' : \"$grades.score\"} } }\n",
    "varSort2 = {'$sort' : { \"moyenne\" : -1 } }\n",
    "\n",
    "result_4 = mycol.aggregate( [ varUnwind, varGroup4, varSort2 ] )\n",
    "\n",
    "for i in result_4:\n",
    "    print(i)"
   ]
  },
  {
   "attachments": {},
   "cell_type": "markdown",
   "metadata": {},
   "source": [
    "*varUnwind* : Sur la variable grades  \n",
    "*varGroup4* : groupe par id et borough, fait la moyenne des scores  \n",
    "*varSort2* : Trie dans l'ordre décroissant\n",
    "\n",
    "*result_4* : Calcul\n",
    "\n",
    "*boucle for* : Affichage des résultats"
   ]
  }
 ],
 "metadata": {
  "kernelspec": {
   "display_name": "base",
   "language": "python",
   "name": "python3"
  },
  "language_info": {
   "codemirror_mode": {
    "name": "ipython",
    "version": 3
   },
   "file_extension": ".py",
   "mimetype": "text/x-python",
   "name": "python",
   "nbconvert_exporter": "python",
   "pygments_lexer": "ipython3",
   "version": "3.8.13 (default, Mar 28 2022, 06:59:08) [MSC v.1916 64 bit (AMD64)]"
  },
  "orig_nbformat": 4,
  "vscode": {
   "interpreter": {
    "hash": "d3755b735588d4303beb95518f2ab4e1c49ea1461d509c805a65d62cd2a8f700"
   }
  }
 },
 "nbformat": 4,
 "nbformat_minor": 2
}
