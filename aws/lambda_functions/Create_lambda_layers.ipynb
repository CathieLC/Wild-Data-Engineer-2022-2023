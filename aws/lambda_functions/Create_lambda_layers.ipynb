{
 "cells": [
  {
   "attachments": {},
   "cell_type": "markdown",
   "metadata": {},
   "source": [
    "01 - Télécharger le fichier CSV  ✔️  \n",
    "02 - Créez des couches Lambda pour les pandas et pour les bibliothèques numpy python.  \n",
    "036 - Créez une fonction Lambda, censée se déclencher chaque fois qu'un nouveau fichier csv est téléchargé  \n",
    "(Pour simplifier, nous n'avons plus besoin d'un test spécial, si le fichier est vraiment un fichier csv. Vous pouvez cependant, si vous le souhaitez, implémenter, que la fonction ne s'exécute que si le fichier téléchargé est vraiment un fichier csv)  \n",
    "\n",
    "04 - Chargez le fichier de test dans votre compartiment S3 et créez un événement de test avec ce fichier  \n",
    "05 - Écrivez une fonction Lambda, qui obtient les informations sur le nombre de lignes dans le fichier csv.\n",
    "06 - Écrire une fonction de journalisation"
   ]
  },
  {
   "cell_type": "code",
   "execution_count": null,
   "metadata": {},
   "outputs": [],
   "source": [
    "import pandas as pd\n",
    "import boto3\n",
    "from urllib.parse import unquote_plus\n",
    "import traceback\n",
    "\n",
    "s3_client= boto3.client('s3')\n",
    "\n",
    "def lambda_handler(event, context):\n",
    "    try:\n",
    "        source_bucket = event['Records'][0]['s3']['bucket']['name']\n",
    "        s3_file_name = unquote_plus(event['Records'][0]['s3']['object']['key'])\n",
    "        resp = s3_client.get_object(Bucket=source_bucket, Key=s3_file_name)\n",
    "        \n",
    "        df = pd.read_csv(resp[\"Body\"], sep=\",\", encoding=\"utf-8\")\n",
    "        \n",
    "        df = df.replace(to_replace=\"None\", value=None)\n",
    "        \n",
    "        print(df.info())\n",
    "\n",
    "        print(f'Le fichier « {source_bucket} » a {df.shape[0]} lignes')\n",
    "\n",
    "    except Exception:\n",
    "        print(\"============================== ERROR ==============================\")\n",
    "        print(traceback.print_exc())"
   ]
  },
  {
   "cell_type": "code",
   "execution_count": null,
   "metadata": {},
   "outputs": [],
   "source": [
    "import pandas as pd\n",
    "import boto3\n",
    "from urllib.parse import unquote_plus\n",
    "import traceback\n",
    "\n",
    "s3_client= boto3.client('s3')\n",
    "\n",
    "def lambda_handler(event, context):\n",
    "    try:\n",
    "        source_bucket = event['Records'][0]['s3']['bucket']['name']\n",
    "        s3_file_name = unquote_plus(event['Records'][0]['s3']['object']['key'])\n",
    "        resp = s3_client.get_object(Bucket=source_bucket, Key=s3_file_name)\n",
    "        \n",
    "        df = pd.read_csv(resp[\"Body\"], sep = \",\", encoding = \"utf-8\")\n",
    "        \n",
    "        print(df.head(5))\n",
    "        \n",
    "        #decoded_resp = resp[\"Body\"].read().decode('utf-8').splitlines()\n",
    "        #df = pd.DataFrame(decoded_resp[1:]) #,columns=decoded_resp[0:1])\n",
    "        #print(df.head(5))\n",
    "        \n",
    "        \n",
    "        print(df.shape)\n",
    "\n",
    "    except Exception:\n",
    "        print(\"============================== ERROR ==============================\")\n",
    "        print(traceback.print_exc())"
   ]
  },
  {
   "cell_type": "code",
   "execution_count": null,
   "metadata": {},
   "outputs": [],
   "source": [
    "import boto3\n",
    "import os\n",
    "import sys\n",
    "import uuid\n",
    "from urllib.parse import unquote_plus\n",
    "import pandas as import pd\n",
    "import numpy as np\n",
    "from pathlib import Path\n",
    "\n",
    "\n",
    "s3_client = boto3.client('s3')\n",
    "\n",
    "def lambda_handler(event, context):\n",
    "    \n",
    "    source_bucket = event['Records'][0]['s3']['bucket']['name']\n",
    "    #target_bucket = 'yellow-lambda-target-cathie/layers/'\n",
    "    key = unquote_plus(event['Records'][0]['s3']['object']['key'])\n",
    "    copy_source = {'Bucket': source_bucket, 'Key': key}\n",
    "    \n",
    "    \n",
    "    #prendre uniquement les fichiers csv :\n",
    "    for file_csv in source_bucket.glob(\"*.csv\") :\n",
    "        number_lines = len(pd.read_csv(f)) #condition de calcul des lignes\n",
    "\n",
    "    return number_lines\n",
    "        \n"
   ]
  },
  {
   "cell_type": "code",
   "execution_count": 1,
   "metadata": {},
   "outputs": [
    {
     "name": "stdout",
     "output_type": "stream",
     "text": [
      "C:\\Users\\cathe\\Downloads\n",
      "p.suffix : \n"
     ]
    }
   ],
   "source": [
    "from pathlib import Path\n",
    "\n",
    "p = Path(\"C:/Users/cathe/Downloads\")\n",
    "print(p)\n",
    "print(f'p.suffix : {p.suffix}')"
   ]
  },
  {
   "cell_type": "code",
   "execution_count": 9,
   "metadata": {},
   "outputs": [
    {
     "data": {
      "text/plain": [
       "34992"
      ]
     },
     "execution_count": 9,
     "metadata": {},
     "output_type": "execute_result"
    }
   ],
   "source": [
    "import pandas as pd\n",
    "\n",
    "for f in p.glob(\"*.csv\") :\n",
    "    results = len(pd.read_csv(f))\n",
    "    #resultat = len(results)\n",
    "\n",
    "results  "
   ]
  },
  {
   "cell_type": "code",
   "execution_count": 13,
   "metadata": {},
   "outputs": [],
   "source": [
    "\n",
    "\n",
    "\n",
    "def lambda_handler():\n",
    "    \n",
    "    source_bucket = Path(\"C:/Users/cathe/Downloads\")\n",
    "    #target_bucket = 'yellow-lambda-target-cathie/layers/'\n",
    "\n",
    "    \n",
    "    \n",
    "    #prendre uniquement les fichiers csv :\n",
    "    for file_csv in source_bucket.glob(\"*.csv\") :\n",
    "        number_lines = len(pd.read_csv(file_csv)) #condition de calcul des lignes\n",
    "\n",
    "    return number_lines"
   ]
  },
  {
   "cell_type": "code",
   "execution_count": 14,
   "metadata": {},
   "outputs": [
    {
     "data": {
      "text/plain": [
       "34992"
      ]
     },
     "execution_count": 14,
     "metadata": {},
     "output_type": "execute_result"
    }
   ],
   "source": [
    "lambda_handler()"
   ]
  },
  {
   "cell_type": "code",
   "execution_count": null,
   "metadata": {},
   "outputs": [],
   "source": []
  }
 ],
 "metadata": {
  "kernelspec": {
   "display_name": "base",
   "language": "python",
   "name": "python3"
  },
  "language_info": {
   "codemirror_mode": {
    "name": "ipython",
    "version": 3
   },
   "file_extension": ".py",
   "mimetype": "text/x-python",
   "name": "python",
   "nbconvert_exporter": "python",
   "pygments_lexer": "ipython3",
   "version": "3.9.16"
  },
  "orig_nbformat": 4,
  "vscode": {
   "interpreter": {
    "hash": "d3755b735588d4303beb95518f2ab4e1c49ea1461d509c805a65d62cd2a8f700"
   }
  }
 },
 "nbformat": 4,
 "nbformat_minor": 2
}
